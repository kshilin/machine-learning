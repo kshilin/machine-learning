{
 "cells": [
  {
   "cell_type": "markdown",
   "metadata": {},
   "source": [
    "# Бостон датасет"
   ]
  },
  {
   "cell_type": "code",
   "execution_count": 3,
   "metadata": {},
   "outputs": [
    {
     "name": "stdout",
     "output_type": "stream",
     "text": [
      "1.1.2\n"
     ]
    }
   ],
   "source": [
    "import numpy as np\n",
    "import pandas as pd\n",
    "import matplotlib.pyplot as plt\n",
    "import seaborn as sns\n",
    "\n",
    "from IPython.display import display\n",
    "from sklearn.datasets import load_iris\n",
    "\n",
    "from sklearn.pipeline import make_pipeline, Pipeline\n",
    "\n",
    "from sklearn.preprocessing import MinMaxScaler, StandardScaler\n",
    "from sklearn.preprocessing import RobustScaler, Normalizer\n",
    "\n",
    "from sklearn.model_selection import train_test_split, cross_val_score  \n",
    "from sklearn.model_selection import GridSearchCV, KFold, StratifiedShuffleSplit\n",
    "\n",
    "from sklearn.metrics import mean_squared_error, mean_absolute_error, mean_absolute_percentage_error\n",
    "\n",
    "from sklearn.linear_model import Ridge, Lasso, ElasticNet, Lars, OrthogonalMatchingPursuit, SGDRegressor\n",
    "\n",
    "from sklearn.metrics import classification_report\n",
    "\n",
    "import sklearn\n",
    "print(sklearn.__version__)\n"
   ]
  },
  {
   "cell_type": "markdown",
   "metadata": {},
   "source": [
    "### Датасет бостонские дома \n",
    "\n",
    "CRIM – уровень преступности\\\n",
    "ZN – доля земель под жилую застройку\\\n",
    "INDUS – доля акров, не связанных с розничной торговлей в расчете на город\\\n",
    "CHAS – 1, если граничит с рекой\\\n",
    "NOX – концентрация оксида азота\\\n",
    "RM – среднее количество комнат на доме\\\n",
    "AGE – доля жилых домов, построенных до 1940 года\\\n",
    "DIS – взвешенные расстояния до пяти бостонских центров занятости\\\n",
    "RAD – индекс доступности магистралей\\\n",
    "TAX – полная ставка налога на имущество\\\n",
    "PTRATIO – соотношение учеников и учителей по городам\\\n",
    "B – доля лиц афроамериканского происхождения\\\n",
    "LSTAT – процент населения с более низким статусом\\\n",
    "MEDV – медианная стоимость домов (в тыс. долларов)\\\n",
    "\n",
    "[Исходный файл](http://lib.stat.cmu.edu/datasets/boston)\n",
    "\n",
    "Можно использовать датасет sklearn.datasets.load_boston пока он там есть :)\n",
    "\n",
    "Задача спрогнозироать цену MEDV."
   ]
  },
  {
   "cell_type": "code",
   "execution_count": null,
   "metadata": {},
   "outputs": [],
   "source": []
  }
 ],
 "metadata": {
  "kernelspec": {
   "display_name": "Python 3 (ipykernel)",
   "language": "python",
   "name": "python3"
  },
  "language_info": {
   "codemirror_mode": {
    "name": "ipython",
    "version": 3
   },
   "file_extension": ".py",
   "mimetype": "text/x-python",
   "name": "python",
   "nbconvert_exporter": "python",
   "pygments_lexer": "ipython3",
   "version": "3.9.13"
  }
 },
 "nbformat": 4,
 "nbformat_minor": 2
}
