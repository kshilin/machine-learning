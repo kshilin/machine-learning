{
 "cells": [
  {
   "cell_type": "markdown",
   "metadata": {},
   "source": [
    "# Метрики регрессии"
   ]
  },
  {
   "cell_type": "code",
   "execution_count": 3,
   "metadata": {},
   "outputs": [
    {
     "name": "stdout",
     "output_type": "stream",
     "text": [
      "1.1.2\n"
     ]
    }
   ],
   "source": [
    "import numpy as np\n",
    "import pandas as pd\n",
    "import matplotlib.pyplot as plt\n",
    "import seaborn as sns\n",
    "\n",
    "from IPython.display import display\n",
    "from sklearn.datasets import load_iris\n",
    "\n",
    "from sklearn.pipeline import make_pipeline, Pipeline\n",
    "\n",
    "from sklearn.preprocessing import MinMaxScaler, StandardScaler\n",
    "from sklearn.preprocessing import RobustScaler, Normalizer\n",
    "\n",
    "from sklearn.model_selection import train_test_split, cross_val_score  \n",
    "from sklearn.model_selection import GridSearchCV, KFold, StratifiedShuffleSplit\n",
    "\n",
    "from sklearn.metrics import mean_squared_error, mean_absolute_error, mean_absolute_percentage_error\n",
    "\n",
    "from sklearn.linear_model import Ridge, Lasso, ElasticNet, Lars, OrthogonalMatchingPursuit, SGDRegressor\n",
    "\n",
    "from sklearn.metrics import classification_report\n",
    "\n",
    "import sklearn\n",
    "print(sklearn.__version__)\n"
   ]
  },
  {
   "cell_type": "markdown",
   "metadata": {},
   "source": [
    "# Базовые метрики регрессии\n",
    "\n",
    "Основными и наиболее известными мертиками регрессии являются:\n",
    "\n",
    "**Абсолютные метрики**\n",
    "\n",
    "1. MSE - одна из самых популярных метрик в задаче регрессии (входит в сотав большого количества функций потерь)\n",
    "$$ MSE(y_{true},y_ {pred}) = \\frac{1}{n}\\sum_{i=1}^{n}(y_i−f(x_i))^2$$\n",
    "Важный коментарий функция потерь позволяет оценить какая модель лучше, а метрика регрессии как мы ошибаемся по сравнению с истинными значениями, на конкретной модели.\\\n",
    "MSE неограничен сверху, и может быть нелегко понять, насколько “хорошим” или “плохим” является то или иное его значение.\\\n",
    "MSE квадратично штрафует за большие ошибки на объектах. Если большие ошибки для нас действительно неприемлемы, то квадратичный штраф за них - очень полезное свойство (и его даже можно усиливать, повышая степень, в которую мы возводим ошибку на объекте). \\\n",
    "\n",
    "Однако если в наших тестовых данных присутствуют выбросы, то нам будет сложно объективно сравнить модели между собой: **ошибки на выбросах будет маскировать различия в ошибках на основном множестве объектов**.\\\n",
    "Таким образом, если мы будем сравнивать две модели при помощи MSE, у нас будет выигрывать та модель, у которой меньше ошибка на объектах-выбросах, а это, скорее всего, не то, чего требует от нас наша бизнес-задача.\n",
    "\n",
    "2. MAE - (mean absolute error) абсалютная ошибка. \n",
    "$$ MAE(y_{true},y_{pred}) = \\frac{1}{n}\\sum_{i=1}^{n}|y_i−f(x_i)|$$\n",
    "Применение данной метрики позволяет избежать квадратичного штрафа выбросов.\n",
    "\n",
    "**Когда речь заходит об относительных ошибках, сразу возникает вопрос: что мы будем ставить в знаменатель?**\n",
    "\n",
    "3. $R^2$ - показывает, какая доля дисперсии таргетов (знаменатель) объяснена моделью.\n",
    "$$R^2 = 1 - \\frac{\\sum_{i=1}^{n}(y_i−f(x_i))^2}{\\sum_{i=1}^{n}(y_i−\\hat{y})}$$\n",
    "где $\\hat{y}$ - среднее арифметическое значение $y$. \\\n",
    "У идеального решающего правила $R^2$ равен 1, у наилучшего константного предсказания он равен 0\n",
    " на обучающей выборке.\n",
    " \n",
    "4. MAPE (mean absolute percentage error) - средняя абсолютная ошибка в процентах\n",
    "$$MAPE(y_{true},y_ {pred}) = \\frac{1}{n}\\sum_{i=1}^{n}\\frac{|y_i−f(x_i)|}{|y_i|}$$\n",
    "Чувствительна к искажениям числового ряда.\n",
    "\n",
    "5. WAPE (weighted average percentage error) - взвешенная абсолютная процентная ошибка прогнозирования:\n",
    "$$ WAPE(y_{true},y_ {pred}) = \\frac{\\sum_{i=1}^{n}|y_i−f(x_i)|}{\\sum_{i=1}^{n}|y_i|} $$\n",
    "Данная ошибка прогнозирования является симметричной и наименее чувствительна к искажениям числового ряда. К сожалению непосредственно не вычисляется в нашей библиотеке.\n",
    "|     | Понедельник  | Вторник  |  Среда | \n",
    "|:---:|:---:|:---:|:---:|\n",
    "| Прогноз  |  55 |  2 |  50 |  \n",
    "| Продажи |  50 | 1  | 50  |  \n",
    "| MAPE |  0.1 | 1  | 0  |  \\\n",
    "MAPE = 0.367, а WAPE = 0.059"
   ]
  },
  {
   "cell_type": "code",
   "execution_count": null,
   "metadata": {},
   "outputs": [],
   "source": []
  }
 ],
 "metadata": {
  "kernelspec": {
   "display_name": "Python 3 (ipykernel)",
   "language": "python",
   "name": "python3"
  },
  "language_info": {
   "codemirror_mode": {
    "name": "ipython",
    "version": 3
   },
   "file_extension": ".py",
   "mimetype": "text/x-python",
   "name": "python",
   "nbconvert_exporter": "python",
   "pygments_lexer": "ipython3",
   "version": "3.9.13"
  }
 },
 "nbformat": 4,
 "nbformat_minor": 2
}
