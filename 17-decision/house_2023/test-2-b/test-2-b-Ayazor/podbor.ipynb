{
 "cells": [
  {
   "cell_type": "code",
   "execution_count": 1,
   "id": "3c7a4daa-2cad-4729-a491-7989128f6431",
   "metadata": {
    "execution": {
     "iopub.execute_input": "2023-12-21T11:07:35.231702Z",
     "iopub.status.busy": "2023-12-21T11:07:35.229706Z",
     "iopub.status.idle": "2023-12-21T11:07:38.004021Z",
     "shell.execute_reply": "2023-12-21T11:07:38.003002Z",
     "shell.execute_reply.started": "2023-12-21T11:07:35.231702Z"
    }
   },
   "outputs": [],
   "source": [
    "import category_encoders as ce\n",
    "import numpy as np\n",
    "import matplotlib.pyplot as plt\n",
    "from sklearn.metrics import mean_absolute_percentage_error\n",
    "import pandas as pd\n",
    "from sklearn.model_selection import KFold, cross_val_score, train_test_split\n",
    "from sklearn.ensemble import RandomForestClassifier, GradientBoostingClassifier\n",
    "from sklearn.neighbors import KNeighborsRegressor\n",
    "from sklearn.compose import TransformedTargetRegressor\n",
    "import matplotlib.pyplot as plt\n",
    "from sklearn.preprocessing import OneHotEncoder, PowerTransformer\n",
    "from category_encoders import TargetEncoder\n",
    "import seaborn as sns\n",
    "from sklearn.metrics import recall_score, precision_score, f1_score\n",
    "from sklearn.model_selection import train_test_split, cross_val_score, GridSearchCV, KFold \n",
    "from sklearn.pipeline import Pipeline, make_pipeline\n",
    "from sklearn.preprocessing import MinMaxScaler, StandardScaler, RobustScaler, Normalizer\n",
    "from sklearn.neighbors import KNeighborsClassifier \n",
    "from sklearn.linear_model import LogisticRegression\n",
    "from sklearn.metrics import roc_auc_score\n",
    "from sklearn.metrics import classification_report\n",
    "from sklearn.naive_bayes import GaussianNB \n",
    "from sklearn.model_selection import cross_val_predict\n",
    "from sklearn.linear_model import Lasso\n",
    "from sklearn.model_selection import StratifiedKFold, cross_val_score\n",
    "import pandas as pd\n",
    "from sklearn.model_selection import train_test_split\n",
    "from sklearn.linear_model import Ridge\n",
    "from sklearn.svm import SVR\n",
    "from sklearn.preprocessing import KBinsDiscretizer\n",
    "from sklearn.metrics import mean_absolute_error\n",
    "from sklearn.compose import ColumnTransformer\n",
    "from sklearn.preprocessing import OneHotEncoder\n",
    "from sklearn.pipeline import Pipeline\n",
    "from sklearn.preprocessing import StandardScaler\n",
    "from sklearn.compose import ColumnTransformer\n",
    "from sklearn.linear_model import Ridge\n",
    "from sklearn.metrics import mean_squared_error\n",
    "from sklearn.preprocessing import PolynomialFeatures, StandardScaler, QuantileTransformer\n",
    "from sklearn.preprocessing import PowerTransformer\n",
    "from sklearn.metrics import mean_absolute_percentage_error\n",
    "from sklearn.tree import DecisionTreeRegressor\n",
    "from sklearn.ensemble import BaggingRegressor, GradientBoostingRegressor\n",
    "import matplotlib.pyplot as plt\n",
    "from sklearn.svm import SVC\n",
    "from sklearn.model_selection import StratifiedKFold\n",
    "from sklearn.feature_selection import RFECV\n",
    "from sklearn.datasets import make_classification\n",
    "\n",
    "from sklearn.model_selection import train_test_split\n",
    "from sklearn.ensemble import GradientBoostingClassifier, RandomForestClassifier,RandomForestRegressor\n",
    "from sklearn.inspection import permutation_importance\n",
    "from sklearn.metrics import accuracy_score\n",
    "from sklearn.metrics import confusion_matrix, ConfusionMatrixDisplay\n",
    "from IPython.display import display\n",
    "\n",
    "import matplotlib.pyplot as plt\n",
    "from sklearn.svm import SVC\n",
    "from sklearn.model_selection import StratifiedKFold\n",
    "from sklearn.feature_selection import RFECV\n",
    "from sklearn.datasets import make_classification\n",
    "\n",
    "from IPython.display import display\n",
    "from sklearn.feature_selection import RFECV\n",
    "from sklearn.model_selection import train_test_split\n",
    "from sklearn.linear_model import Ridge\n",
    "from sklearn.ensemble import RandomForestClassifier\n",
    "from sklearn.feature_selection import VarianceThreshold\n",
    "from sklearn.feature_selection import SelectPercentile\n",
    "\n",
    "from sklearn.preprocessing import PowerTransformer\n",
    "\n",
    "from sklearn.datasets import load_breast_cancer\n",
    "\n",
    "from sklearn.model_selection import GridSearchCV, KFold, StratifiedShuffleSplit"
   ]
  },
  {
   "cell_type": "code",
   "execution_count": 2,
   "id": "232e1484-0b17-4652-9273-9498969eb6e8",
   "metadata": {
    "execution": {
     "iopub.execute_input": "2023-12-21T11:08:00.556663Z",
     "iopub.status.busy": "2023-12-21T11:08:00.555650Z",
     "iopub.status.idle": "2023-12-21T11:08:00.575513Z",
     "shell.execute_reply": "2023-12-21T11:08:00.574497Z",
     "shell.execute_reply.started": "2023-12-21T11:08:00.556663Z"
    }
   },
   "outputs": [],
   "source": [
    "data = pd.read_csv('train_house_B.csv')"
   ]
  },
  {
   "cell_type": "code",
   "execution_count": 3,
   "id": "e356912f-ae17-4ceb-ab97-7b42cb8aab63",
   "metadata": {
    "execution": {
     "iopub.execute_input": "2023-12-21T11:08:21.729054Z",
     "iopub.status.busy": "2023-12-21T11:08:21.728040Z",
     "iopub.status.idle": "2023-12-21T11:08:21.736950Z",
     "shell.execute_reply": "2023-12-21T11:08:21.735918Z",
     "shell.execute_reply.started": "2023-12-21T11:08:21.729054Z"
    }
   },
   "outputs": [],
   "source": [
    "data = data[[col for col in data.columns if col != 'price'] + ['price']]"
   ]
  },
  {
   "cell_type": "code",
   "execution_count": 128,
   "id": "5fdaa71c-3d50-490b-85d3-229833557f20",
   "metadata": {
    "execution": {
     "iopub.execute_input": "2023-12-21T11:22:27.008846Z",
     "iopub.status.busy": "2023-12-21T11:22:27.006843Z",
     "iopub.status.idle": "2023-12-21T11:22:27.041418Z",
     "shell.execute_reply": "2023-12-21T11:22:27.040388Z",
     "shell.execute_reply.started": "2023-12-21T11:22:27.008846Z"
    }
   },
   "outputs": [
    {
     "data": {
      "text/html": [
       "<div>\n",
       "<style scoped>\n",
       "    .dataframe tbody tr th:only-of-type {\n",
       "        vertical-align: middle;\n",
       "    }\n",
       "\n",
       "    .dataframe tbody tr th {\n",
       "        vertical-align: top;\n",
       "    }\n",
       "\n",
       "    .dataframe thead th {\n",
       "        text-align: right;\n",
       "    }\n",
       "</style>\n",
       "<table border=\"1\" class=\"dataframe\">\n",
       "  <thead>\n",
       "    <tr style=\"text-align: right;\">\n",
       "      <th></th>\n",
       "      <th>0</th>\n",
       "      <th>1</th>\n",
       "      <th>2</th>\n",
       "      <th>3</th>\n",
       "      <th>4</th>\n",
       "      <th>5</th>\n",
       "      <th>6</th>\n",
       "      <th>7</th>\n",
       "      <th>8</th>\n",
       "      <th>9</th>\n",
       "      <th>...</th>\n",
       "      <th>20</th>\n",
       "      <th>21</th>\n",
       "      <th>22</th>\n",
       "      <th>23</th>\n",
       "      <th>24</th>\n",
       "      <th>25</th>\n",
       "      <th>26</th>\n",
       "      <th>27</th>\n",
       "      <th>28</th>\n",
       "      <th>price</th>\n",
       "    </tr>\n",
       "  </thead>\n",
       "  <tbody>\n",
       "    <tr>\n",
       "      <th>0</th>\n",
       "      <td>1.222962</td>\n",
       "      <td>0.047686</td>\n",
       "      <td>-1.033389</td>\n",
       "      <td>-2.465344</td>\n",
       "      <td>0.831065</td>\n",
       "      <td>0.802990</td>\n",
       "      <td>1.590989</td>\n",
       "      <td>0.727946</td>\n",
       "      <td>0.893957</td>\n",
       "      <td>-1.503143</td>\n",
       "      <td>...</td>\n",
       "      <td>-0.554035</td>\n",
       "      <td>-1.308863</td>\n",
       "      <td>-0.570187</td>\n",
       "      <td>-0.882735</td>\n",
       "      <td>-0.805741</td>\n",
       "      <td>-0.929397</td>\n",
       "      <td>0.232557</td>\n",
       "      <td>-0.679063</td>\n",
       "      <td>1.307431</td>\n",
       "      <td>2604000</td>\n",
       "    </tr>\n",
       "    <tr>\n",
       "      <th>1</th>\n",
       "      <td>-0.091662</td>\n",
       "      <td>-0.356325</td>\n",
       "      <td>-0.486840</td>\n",
       "      <td>-2.465344</td>\n",
       "      <td>-0.126718</td>\n",
       "      <td>-0.024866</td>\n",
       "      <td>-0.323972</td>\n",
       "      <td>1.658337</td>\n",
       "      <td>1.751428</td>\n",
       "      <td>-1.573310</td>\n",
       "      <td>...</td>\n",
       "      <td>-0.554035</td>\n",
       "      <td>0.047278</td>\n",
       "      <td>-0.570187</td>\n",
       "      <td>-0.897850</td>\n",
       "      <td>-0.805741</td>\n",
       "      <td>0.224410</td>\n",
       "      <td>0.864016</td>\n",
       "      <td>1.472618</td>\n",
       "      <td>-0.478408</td>\n",
       "      <td>4900000</td>\n",
       "    </tr>\n",
       "    <tr>\n",
       "      <th>2</th>\n",
       "      <td>1.222962</td>\n",
       "      <td>-1.064819</td>\n",
       "      <td>0.338749</td>\n",
       "      <td>0.405623</td>\n",
       "      <td>-0.854973</td>\n",
       "      <td>-0.654330</td>\n",
       "      <td>0.525426</td>\n",
       "      <td>0.585866</td>\n",
       "      <td>-1.661101</td>\n",
       "      <td>1.007304</td>\n",
       "      <td>...</td>\n",
       "      <td>-0.554035</td>\n",
       "      <td>-1.308863</td>\n",
       "      <td>-0.570187</td>\n",
       "      <td>-0.491114</td>\n",
       "      <td>0.355976</td>\n",
       "      <td>-0.929397</td>\n",
       "      <td>1.118967</td>\n",
       "      <td>1.472618</td>\n",
       "      <td>1.307431</td>\n",
       "      <td>4480000</td>\n",
       "    </tr>\n",
       "    <tr>\n",
       "      <th>3</th>\n",
       "      <td>1.222962</td>\n",
       "      <td>-1.570692</td>\n",
       "      <td>-0.696696</td>\n",
       "      <td>0.405623</td>\n",
       "      <td>-0.670784</td>\n",
       "      <td>-0.024866</td>\n",
       "      <td>0.557116</td>\n",
       "      <td>-1.280083</td>\n",
       "      <td>1.273040</td>\n",
       "      <td>-1.163932</td>\n",
       "      <td>...</td>\n",
       "      <td>-0.554035</td>\n",
       "      <td>1.403419</td>\n",
       "      <td>-0.570187</td>\n",
       "      <td>-0.724485</td>\n",
       "      <td>-0.805741</td>\n",
       "      <td>0.224410</td>\n",
       "      <td>0.924687</td>\n",
       "      <td>-0.679063</td>\n",
       "      <td>-0.478408</td>\n",
       "      <td>3234000</td>\n",
       "    </tr>\n",
       "    <tr>\n",
       "      <th>4</th>\n",
       "      <td>-1.406286</td>\n",
       "      <td>-1.563680</td>\n",
       "      <td>-1.058295</td>\n",
       "      <td>0.405623</td>\n",
       "      <td>-0.126718</td>\n",
       "      <td>-0.879174</td>\n",
       "      <td>-1.649281</td>\n",
       "      <td>0.496669</td>\n",
       "      <td>0.255596</td>\n",
       "      <td>0.928381</td>\n",
       "      <td>...</td>\n",
       "      <td>1.804941</td>\n",
       "      <td>0.047278</td>\n",
       "      <td>-0.570187</td>\n",
       "      <td>-0.306965</td>\n",
       "      <td>-0.805741</td>\n",
       "      <td>1.378217</td>\n",
       "      <td>0.170486</td>\n",
       "      <td>-0.679063</td>\n",
       "      <td>-0.478408</td>\n",
       "      <td>3780000</td>\n",
       "    </tr>\n",
       "    <tr>\n",
       "      <th>...</th>\n",
       "      <td>...</td>\n",
       "      <td>...</td>\n",
       "      <td>...</td>\n",
       "      <td>...</td>\n",
       "      <td>...</td>\n",
       "      <td>...</td>\n",
       "      <td>...</td>\n",
       "      <td>...</td>\n",
       "      <td>...</td>\n",
       "      <td>...</td>\n",
       "      <td>...</td>\n",
       "      <td>...</td>\n",
       "      <td>...</td>\n",
       "      <td>...</td>\n",
       "      <td>...</td>\n",
       "      <td>...</td>\n",
       "      <td>...</td>\n",
       "      <td>...</td>\n",
       "      <td>...</td>\n",
       "      <td>...</td>\n",
       "      <td>...</td>\n",
       "    </tr>\n",
       "    <tr>\n",
       "      <th>403</th>\n",
       "      <td>-0.091662</td>\n",
       "      <td>0.593876</td>\n",
       "      <td>-0.087882</td>\n",
       "      <td>-2.465344</td>\n",
       "      <td>0.077307</td>\n",
       "      <td>0.151482</td>\n",
       "      <td>1.452151</td>\n",
       "      <td>1.772175</td>\n",
       "      <td>-1.264971</td>\n",
       "      <td>-1.352937</td>\n",
       "      <td>...</td>\n",
       "      <td>-0.554035</td>\n",
       "      <td>1.403419</td>\n",
       "      <td>-0.570187</td>\n",
       "      <td>0.454355</td>\n",
       "      <td>-0.805741</td>\n",
       "      <td>1.378217</td>\n",
       "      <td>1.200306</td>\n",
       "      <td>-0.679063</td>\n",
       "      <td>1.307431</td>\n",
       "      <td>3360000</td>\n",
       "    </tr>\n",
       "    <tr>\n",
       "      <th>404</th>\n",
       "      <td>-1.406286</td>\n",
       "      <td>0.179794</td>\n",
       "      <td>0.640850</td>\n",
       "      <td>0.405623</td>\n",
       "      <td>-0.126718</td>\n",
       "      <td>-0.975186</td>\n",
       "      <td>-1.028510</td>\n",
       "      <td>0.203867</td>\n",
       "      <td>-1.190658</td>\n",
       "      <td>0.955389</td>\n",
       "      <td>...</td>\n",
       "      <td>1.804941</td>\n",
       "      <td>0.047278</td>\n",
       "      <td>-0.570187</td>\n",
       "      <td>-1.037904</td>\n",
       "      <td>1.517692</td>\n",
       "      <td>-0.929397</td>\n",
       "      <td>0.960546</td>\n",
       "      <td>-0.679063</td>\n",
       "      <td>-0.478408</td>\n",
       "      <td>5950000</td>\n",
       "    </tr>\n",
       "    <tr>\n",
       "      <th>405</th>\n",
       "      <td>-0.091662</td>\n",
       "      <td>1.099966</td>\n",
       "      <td>0.225750</td>\n",
       "      <td>-2.465344</td>\n",
       "      <td>-0.716123</td>\n",
       "      <td>-0.534316</td>\n",
       "      <td>-0.090348</td>\n",
       "      <td>1.151380</td>\n",
       "      <td>1.631097</td>\n",
       "      <td>0.673274</td>\n",
       "      <td>...</td>\n",
       "      <td>-0.554035</td>\n",
       "      <td>-1.308863</td>\n",
       "      <td>-0.570187</td>\n",
       "      <td>0.477182</td>\n",
       "      <td>-0.805741</td>\n",
       "      <td>-0.929397</td>\n",
       "      <td>-1.512245</td>\n",
       "      <td>-0.679063</td>\n",
       "      <td>1.307431</td>\n",
       "      <td>3675000</td>\n",
       "    </tr>\n",
       "    <tr>\n",
       "      <th>406</th>\n",
       "      <td>1.222962</td>\n",
       "      <td>1.498909</td>\n",
       "      <td>-0.392289</td>\n",
       "      <td>0.405623</td>\n",
       "      <td>-0.126718</td>\n",
       "      <td>-0.024866</td>\n",
       "      <td>1.484438</td>\n",
       "      <td>-1.233671</td>\n",
       "      <td>-0.469048</td>\n",
       "      <td>-1.250468</td>\n",
       "      <td>...</td>\n",
       "      <td>-0.554035</td>\n",
       "      <td>0.047278</td>\n",
       "      <td>1.421812</td>\n",
       "      <td>0.407275</td>\n",
       "      <td>0.355976</td>\n",
       "      <td>0.224410</td>\n",
       "      <td>-1.477806</td>\n",
       "      <td>-0.679063</td>\n",
       "      <td>-0.478408</td>\n",
       "      <td>7455000</td>\n",
       "    </tr>\n",
       "    <tr>\n",
       "      <th>407</th>\n",
       "      <td>-0.091662</td>\n",
       "      <td>-0.280655</td>\n",
       "      <td>-0.991879</td>\n",
       "      <td>0.405623</td>\n",
       "      <td>-0.126718</td>\n",
       "      <td>-0.024866</td>\n",
       "      <td>-1.359317</td>\n",
       "      <td>-1.582810</td>\n",
       "      <td>-0.075905</td>\n",
       "      <td>0.216540</td>\n",
       "      <td>...</td>\n",
       "      <td>-0.554035</td>\n",
       "      <td>0.047278</td>\n",
       "      <td>-0.570187</td>\n",
       "      <td>-0.612298</td>\n",
       "      <td>-0.805741</td>\n",
       "      <td>0.224410</td>\n",
       "      <td>0.634746</td>\n",
       "      <td>1.472618</td>\n",
       "      <td>-0.478408</td>\n",
       "      <td>4900000</td>\n",
       "    </tr>\n",
       "  </tbody>\n",
       "</table>\n",
       "<p>408 rows × 30 columns</p>\n",
       "</div>"
      ],
      "text/plain": [
       "            0         1         2         3         4         5         6  \\\n",
       "0    1.222962  0.047686 -1.033389 -2.465344  0.831065  0.802990  1.590989   \n",
       "1   -0.091662 -0.356325 -0.486840 -2.465344 -0.126718 -0.024866 -0.323972   \n",
       "2    1.222962 -1.064819  0.338749  0.405623 -0.854973 -0.654330  0.525426   \n",
       "3    1.222962 -1.570692 -0.696696  0.405623 -0.670784 -0.024866  0.557116   \n",
       "4   -1.406286 -1.563680 -1.058295  0.405623 -0.126718 -0.879174 -1.649281   \n",
       "..        ...       ...       ...       ...       ...       ...       ...   \n",
       "403 -0.091662  0.593876 -0.087882 -2.465344  0.077307  0.151482  1.452151   \n",
       "404 -1.406286  0.179794  0.640850  0.405623 -0.126718 -0.975186 -1.028510   \n",
       "405 -0.091662  1.099966  0.225750 -2.465344 -0.716123 -0.534316 -0.090348   \n",
       "406  1.222962  1.498909 -0.392289  0.405623 -0.126718 -0.024866  1.484438   \n",
       "407 -0.091662 -0.280655 -0.991879  0.405623 -0.126718 -0.024866 -1.359317   \n",
       "\n",
       "            7         8         9  ...        20        21        22  \\\n",
       "0    0.727946  0.893957 -1.503143  ... -0.554035 -1.308863 -0.570187   \n",
       "1    1.658337  1.751428 -1.573310  ... -0.554035  0.047278 -0.570187   \n",
       "2    0.585866 -1.661101  1.007304  ... -0.554035 -1.308863 -0.570187   \n",
       "3   -1.280083  1.273040 -1.163932  ... -0.554035  1.403419 -0.570187   \n",
       "4    0.496669  0.255596  0.928381  ...  1.804941  0.047278 -0.570187   \n",
       "..        ...       ...       ...  ...       ...       ...       ...   \n",
       "403  1.772175 -1.264971 -1.352937  ... -0.554035  1.403419 -0.570187   \n",
       "404  0.203867 -1.190658  0.955389  ...  1.804941  0.047278 -0.570187   \n",
       "405  1.151380  1.631097  0.673274  ... -0.554035 -1.308863 -0.570187   \n",
       "406 -1.233671 -0.469048 -1.250468  ... -0.554035  0.047278  1.421812   \n",
       "407 -1.582810 -0.075905  0.216540  ... -0.554035  0.047278 -0.570187   \n",
       "\n",
       "           23        24        25        26        27        28    price  \n",
       "0   -0.882735 -0.805741 -0.929397  0.232557 -0.679063  1.307431  2604000  \n",
       "1   -0.897850 -0.805741  0.224410  0.864016  1.472618 -0.478408  4900000  \n",
       "2   -0.491114  0.355976 -0.929397  1.118967  1.472618  1.307431  4480000  \n",
       "3   -0.724485 -0.805741  0.224410  0.924687 -0.679063 -0.478408  3234000  \n",
       "4   -0.306965 -0.805741  1.378217  0.170486 -0.679063 -0.478408  3780000  \n",
       "..        ...       ...       ...       ...       ...       ...      ...  \n",
       "403  0.454355 -0.805741  1.378217  1.200306 -0.679063  1.307431  3360000  \n",
       "404 -1.037904  1.517692 -0.929397  0.960546 -0.679063 -0.478408  5950000  \n",
       "405  0.477182 -0.805741 -0.929397 -1.512245 -0.679063  1.307431  3675000  \n",
       "406  0.407275  0.355976  0.224410 -1.477806 -0.679063 -0.478408  7455000  \n",
       "407 -0.612298 -0.805741  0.224410  0.634746  1.472618 -0.478408  4900000  \n",
       "\n",
       "[408 rows x 30 columns]"
      ]
     },
     "execution_count": 128,
     "metadata": {},
     "output_type": "execute_result"
    }
   ],
   "source": [
    "data"
   ]
  },
  {
   "cell_type": "code",
   "execution_count": 11,
   "id": "5dcde76f-9ab2-4eca-b8f4-11f5ffbaca2f",
   "metadata": {
    "execution": {
     "iopub.execute_input": "2023-12-21T11:09:37.803932Z",
     "iopub.status.busy": "2023-12-21T11:09:37.803932Z",
     "iopub.status.idle": "2023-12-21T11:09:37.810811Z",
     "shell.execute_reply": "2023-12-21T11:09:37.809733Z",
     "shell.execute_reply.started": "2023-12-21T11:09:37.803932Z"
    }
   },
   "outputs": [],
   "source": [
    "### Проведем первоначальное обучения для понимания результатов"
   ]
  },
  {
   "cell_type": "code",
   "execution_count": 523,
   "id": "3be899e6-8216-4378-8938-a0a1afe44074",
   "metadata": {
    "execution": {
     "iopub.execute_input": "2023-12-21T11:54:57.994305Z",
     "iopub.status.busy": "2023-12-21T11:54:57.994305Z",
     "iopub.status.idle": "2023-12-21T11:54:58.003958Z",
     "shell.execute_reply": "2023-12-21T11:54:58.002927Z",
     "shell.execute_reply.started": "2023-12-21T11:54:57.994305Z"
    }
   },
   "outputs": [],
   "source": [
    "X_train, X_test, y_train, y_test = train_test_split(data.drop(columns = 'price'), data['price'],\n",
    "                                                   test_size=0.3)"
   ]
  },
  {
   "cell_type": "code",
   "execution_count": 491,
   "id": "4fe0475f-351c-49d8-bddf-cbb29cae255b",
   "metadata": {
    "execution": {
     "iopub.execute_input": "2023-12-21T11:50:09.796880Z",
     "iopub.status.busy": "2023-12-21T11:50:09.795879Z",
     "iopub.status.idle": "2023-12-21T11:50:09.858857Z",
     "shell.execute_reply": "2023-12-21T11:50:09.855813Z",
     "shell.execute_reply.started": "2023-12-21T11:50:09.796880Z"
    }
   },
   "outputs": [
    {
     "name": "stdout",
     "output_type": "stream",
     "text": [
      "Cross validation scores:\n",
      "\t -0.1953\n",
      "\t-0.2235\n",
      "\t-0.2413\n",
      "\t-0.1875\n",
      "\t-0.2275\n",
      "Mean Precision = 0.2150\n"
     ]
    }
   ],
   "source": [
    "\n",
    "pipeline_1 = Pipeline([\n",
    "    ('model', TransformedTargetRegressor(\n",
    "        regressor=Pipeline([\n",
    "           # (\"preproc\", CT),\n",
    "            (\"regression\", Ridge())\n",
    "        ])\n",
    "    ))\n",
    "])\n",
    "\n",
    "model_ridge = pipeline_1.fit(X_train[['0', '2', '4', '15']], y_train)\n",
    "\n",
    "# Создайте объект StratifiedKFold с параметром shuffle=True\n",
    "cv = KFold(n_splits=5, shuffle=True)\n",
    "\n",
    "# Затем передайте этот объект в функцию cross_val_score\n",
    "cv_scores = cross_val_score(model_ridge, X_test[['0', '2', '4', '15']], y_test, cv=cv, scoring=\"neg_mean_absolute_percentage_error\")\n",
    "\n",
    "print(\"Cross validation scores:\\n\\t\", \"\\n\\t\".join(\"%.4f\" % x for x in cv_scores))\n",
    "print(\"Mean Precision = %.4f\" % np.mean(-cv_scores))\n",
    "#mean_absolute_error(y_test, model_ridge.predict(X_test))"
   ]
  },
  {
   "cell_type": "code",
   "execution_count": 7,
   "id": "335ddb56-cdef-4a8d-ab73-d98a59d5078a",
   "metadata": {
    "execution": {
     "iopub.execute_input": "2023-12-21T11:09:10.510194Z",
     "iopub.status.busy": "2023-12-21T11:09:10.510194Z",
     "iopub.status.idle": "2023-12-21T11:09:10.572283Z",
     "shell.execute_reply": "2023-12-21T11:09:10.571267Z",
     "shell.execute_reply.started": "2023-12-21T11:09:10.510194Z"
    }
   },
   "outputs": [
    {
     "name": "stdout",
     "output_type": "stream",
     "text": [
      "Cross validation scores:\n",
      "\t -0.2136\n",
      "\t-0.1746\n",
      "\t-0.2372\n",
      "\t-0.2616\n",
      "\t-0.1555\n",
      "Mean Precision = 0.2085\n"
     ]
    }
   ],
   "source": [
    "model_2 = Lasso()\n",
    "\n",
    "\n",
    "model_lasso= model_2.fit(X_train, y_train)\n",
    "\n",
    "# Создайте объект StratifiedKFold с параметром shuffle=True\n",
    "cv = KFold(n_splits=5, shuffle=True)\n",
    "\n",
    "# Затем передайте этот объект в функцию cross_val_score\n",
    "cv_scores = cross_val_score(model_ridge, X_test, y_test, cv=cv, scoring=\"neg_mean_absolute_percentage_error\")\n",
    "\n",
    "print(\"Cross validation scores:\\n\\t\", \"\\n\\t\".join(\"%.4f\" % x for x in cv_scores))\n",
    "print(\"Mean Precision = %.4f\" % np.mean(-cv_scores))\n",
    "#mean_absolute_error(y_test, model_ridge.predict(X_test))"
   ]
  },
  {
   "cell_type": "code",
   "execution_count": 8,
   "id": "a2606665-3d74-401f-bde7-dc42225017e4",
   "metadata": {
    "execution": {
     "iopub.execute_input": "2023-12-21T11:09:11.728748Z",
     "iopub.status.busy": "2023-12-21T11:09:11.727776Z",
     "iopub.status.idle": "2023-12-21T11:09:12.172468Z",
     "shell.execute_reply": "2023-12-21T11:09:12.171452Z",
     "shell.execute_reply.started": "2023-12-21T11:09:11.728748Z"
    }
   },
   "outputs": [
    {
     "name": "stdout",
     "output_type": "stream",
     "text": [
      "[-1.78911340e+05 -4.22467977e+04  3.24490352e+05  1.26984473e+05\n",
      " -1.86517785e+05  2.88310689e+04  1.88160216e+04 -5.91170199e+04\n",
      "  9.69119420e+02  1.35045526e+04  0.00000000e+00 -1.27230774e+05\n",
      "  3.62972590e+05  5.78641087e+04 -3.43117070e+04  2.77010084e+05\n",
      "  1.34685761e+05  7.35566476e+04  1.11488644e+05 -5.87238036e+01\n",
      "  3.07846916e+05  1.05247872e+05  3.60403969e+05 -2.51449699e+03\n",
      "  2.60818513e+05  3.71220897e+05 -1.08425214e+05  3.74919943e+05\n",
      "  3.83343839e+04]\n"
     ]
    },
    {
     "data": {
      "image/png": "[encoded data removed]",
      "text/plain": [
       "<Figure size 1400x600 with 1 Axes>"
      ]
     },
     "metadata": {},
     "output_type": "display_data"
    }
   ],
   "source": [
    "# Assuming model_lasso is your Lasso regression model\n",
    "coefficients = model_lasso.coef_\n",
    "\n",
    "# Get column names from your dataset\n",
    "column_names = X_train.columns\n",
    "\n",
    "# Create a bar plot of the coefficients\n",
    "plt.figure(figsize=(14, 6))\n",
    "plt.bar(column_names, coefficients, color='b')\n",
    "\n",
    "# Highlight coefficients that are exactly zero\n",
    "zero_coefficients = np.where(coefficients == 0)[0]\n",
    "plt.bar(column_names[zero_coefficients], coefficients[zero_coefficients], color='r')\n",
    "print(model_lasso.coef_)\n",
    "plt.xlabel('Feature')\n",
    "plt.ylabel('Coefficient Value')\n",
    "plt.title('Lasso Coefficients with Zeros Highlighted')\n",
    "plt.xticks(rotation='vertical')  # Rotate x-axis labels for better visibility\n",
    "plt.show()"
   ]
  },
  {
   "cell_type": "code",
   "execution_count": 9,
   "id": "37e52180-963f-481d-ae0a-2f707c6fb2c5",
   "metadata": {
    "execution": {
     "iopub.execute_input": "2023-12-21T11:09:16.884775Z",
     "iopub.status.busy": "2023-12-21T11:09:16.883789Z",
     "iopub.status.idle": "2023-12-21T11:09:30.662620Z",
     "shell.execute_reply": "2023-12-21T11:09:30.661604Z",
     "shell.execute_reply.started": "2023-12-21T11:09:16.884775Z"
    }
   },
   "outputs": [
    {
     "name": "stdout",
     "output_type": "stream",
     "text": [
      "Cross validation scores:\n",
      "\t -0.1683\n",
      "\t-0.2473\n",
      "\t-0.2056\n",
      "\t-0.2206\n",
      "\t-0.2145\n",
      "Mean Precision = 0.2112\n"
     ]
    }
   ],
   "source": [
    "# data = load_breast_cancer()\n",
    "# X, y = data.data, data.target\n",
    "\n",
    "forest = RandomForestRegressor(n_estimators=500)\n",
    "forest.fit(X_train, y_train)\n",
    "\n",
    "# Создайте объект StratifiedKFold с параметром shuffle=True\n",
    "cv = KFold(n_splits=5, shuffle=True)\n",
    "\n",
    "# Затем передайте этот объект в функцию cross_val_score\n",
    "cv_scores = cross_val_score(forest, X_test, y_test, cv=cv, scoring=\"neg_mean_absolute_percentage_error\")\n",
    "\n",
    "print(\"Cross validation scores:\\n\\t\", \"\\n\\t\".join(\"%.4f\" % x for x in cv_scores))\n",
    "print(\"Mean Precision = %.4f\" % np.mean(-cv_scores))\n",
    "\n",
    "\n",
    "#(y_test, forest.predict(X_test))\n"
   ]
  },
  {
   "cell_type": "code",
   "execution_count": 29,
   "id": "921522a8-35a2-4ca1-ac79-bf31a4131a01",
   "metadata": {
    "execution": {
     "iopub.execute_input": "2023-12-21T11:12:25.069027Z",
     "iopub.status.busy": "2023-12-21T11:12:25.068026Z",
     "iopub.status.idle": "2023-12-21T11:12:26.585846Z",
     "shell.execute_reply": "2023-12-21T11:12:26.583818Z",
     "shell.execute_reply.started": "2023-12-21T11:12:25.069027Z"
    }
   },
   "outputs": [
    {
     "name": "stdout",
     "output_type": "stream",
     "text": [
      "Cross validation scores:\n",
      "\t -0.2318\n",
      "\t-0.1947\n",
      "\t-0.1788\n",
      "\t-0.2130\n",
      "\t-0.1719\n",
      "Mean Precision = 0.1980\n"
     ]
    }
   ],
   "source": [
    "pipeline_2 = Pipeline(\n",
    "    steps=[\n",
    "        (\"regression\", GradientBoostingRegressor())\n",
    "    ]\n",
    ")\n",
    "model_gbm = pipeline_2.fit(X_train, y_train)\n",
    "\n",
    "mean_absolute_percentage_error(y_test, model_gbm.predict(X_test))\n",
    "# Затем передайте этот объект в функцию cross_val_score\n",
    "# Затем передайте этот объект в функцию cross_val_score\n",
    "cv_scores = cross_val_score(model_gbm, X_test, y_test, cv=cv, scoring=\"neg_mean_absolute_percentage_error\")\n",
    "\n",
    "print(\"Cross validation scores:\\n\\t\", \"\\n\\t\".join(\"%.4f\" % x for x in cv_scores))\n",
    "print(\"Mean Precision = %.4f\" % np.mean(-cv_scores))"
   ]
  },
  {
   "cell_type": "code",
   "execution_count": null,
   "id": "9ea2ec36-91d4-4993-868e-843dfb9aba03",
   "metadata": {},
   "outputs": [],
   "source": []
  },
  {
   "cell_type": "code",
   "execution_count": null,
   "id": "08d34086-2ed8-4cd7-b0e1-df01661d1d27",
   "metadata": {},
   "outputs": [],
   "source": []
  },
  {
   "cell_type": "code",
   "execution_count": null,
   "id": "1c1f88af-17b1-4336-a5c7-7bbf129fb7eb",
   "metadata": {},
   "outputs": [],
   "source": []
  },
  {
   "cell_type": "code",
   "execution_count": 671,
   "id": "99400d28-fd4a-41e6-adbf-5db05b189d5c",
   "metadata": {
    "execution": {
     "iopub.execute_input": "2023-12-21T12:15:03.067989Z",
     "iopub.status.busy": "2023-12-21T12:15:03.066995Z",
     "iopub.status.idle": "2023-12-21T12:15:03.076112Z",
     "shell.execute_reply": "2023-12-21T12:15:03.075080Z",
     "shell.execute_reply.started": "2023-12-21T12:15:03.067989Z"
    },
    "scrolled": true
   },
   "outputs": [],
   "source": [
    "X = data.drop(columns = 'price').copy()\n",
    "y = data['price']"
   ]
  },
  {
   "cell_type": "code",
   "execution_count": 189,
   "id": "892bf49b-fd7f-49cb-8f95-c19d1a5df012",
   "metadata": {
    "execution": {
     "iopub.execute_input": "2023-12-21T11:25:36.277659Z",
     "iopub.status.busy": "2023-12-21T11:25:36.276645Z",
     "iopub.status.idle": "2023-12-21T11:25:36.302883Z",
     "shell.execute_reply": "2023-12-21T11:25:36.301855Z",
     "shell.execute_reply.started": "2023-12-21T11:25:36.276645Z"
    }
   },
   "outputs": [
    {
     "name": "stderr",
     "output_type": "stream",
     "text": [
      "D:\\python\\Lib\\site-packages\\sklearn\\feature_selection\\_univariate_selection.py:112: UserWarning: Features [10] are constant.\n",
      "  warnings.warn(\"Features %s are constant.\" % constant_features_idx, UserWarning)\n",
      "D:\\python\\Lib\\site-packages\\sklearn\\feature_selection\\_univariate_selection.py:113: RuntimeWarning: invalid value encountered in divide\n",
      "  f = msb / msw\n"
     ]
    }
   ],
   "source": [
    "# задаем определенное стартовое значение для воспроизводимости результата\n",
    "noise = np.random.normal(0, .5, size=(len(data), 20))\n",
    "# добавляем к данным шумовые признаки\n",
    "# первые 15 признаков являются исходными, остальные 50 являются шумовыми\n",
    "X_w_noise = np.hstack([X, noise])\n",
    "\n",
    "X_train, X_test, y_train, y_test = train_test_split(X_w_noise, y, test_size=.3)\n",
    "# используем f_classif (по умолчанию)\n",
    "# и SelectPercentile, чтобы выбрать 50% признаков\n",
    "select_pct = SelectPercentile(percentile=50)\n",
    "select_pct.fit(X_train, y_train)\n",
    "# преобразовываем обучающий набор\n",
    "X_train_selected = select_pct.transform(X_train)"
   ]
  },
  {
   "cell_type": "code",
   "execution_count": 190,
   "id": "ee573f4d-4093-4b95-9ae1-d85b36814675",
   "metadata": {
    "execution": {
     "iopub.execute_input": "2023-12-21T11:25:37.421893Z",
     "iopub.status.busy": "2023-12-21T11:25:37.421893Z",
     "iopub.status.idle": "2023-12-21T11:25:37.640854Z",
     "shell.execute_reply": "2023-12-21T11:25:37.639820Z",
     "shell.execute_reply.started": "2023-12-21T11:25:37.421893Z"
    }
   },
   "outputs": [
    {
     "data": {
      "image/png": "[encoded data removed]",
      "text/plain": [
       "<Figure size 1600x200 with 1 Axes>"
      ]
     },
     "metadata": {},
     "output_type": "display_data"
    }
   ],
   "source": [
    "mask = select_pct.get_support()\n",
    "plt.matshow( mask.reshape(1,-1), cmap = 'gray_r', aspect=0.5)\n",
    "plt.yticks([])\n",
    "plt.xlabel(\"Индекс признака\");\n",
    "\n",
    "# mask = select_pct.get_support()[:17]\n",
    "# plt.matshow( mask.reshape(1,-1), cmap = 'gray_r', aspect=0.2)\n",
    "# plt.yticks([])\n",
    "# plt.xlabel(\"Индекс признака\");\n"
   ]
  },
  {
   "cell_type": "code",
   "execution_count": 191,
   "id": "fb44a923-bd03-4868-b23a-df6c9c55731b",
   "metadata": {
    "execution": {
     "iopub.execute_input": "2023-12-21T11:25:38.838611Z",
     "iopub.status.busy": "2023-12-21T11:25:38.838611Z",
     "iopub.status.idle": "2023-12-21T11:25:38.847371Z",
     "shell.execute_reply": "2023-12-21T11:25:38.845820Z",
     "shell.execute_reply.started": "2023-12-21T11:25:38.838611Z"
    }
   },
   "outputs": [
    {
     "name": "stdout",
     "output_type": "stream",
     "text": [
      "Выбранные колонки: [0, 1, 2, 4, 5, 6, 8, 9, 12, 16, 18, 19, 20, 21, 22, 24, 25, 27, 28]\n"
     ]
    }
   ],
   "source": [
    "mask = select_pct.get_support()\n",
    "\n",
    "# Вывести номера колонок, которые полезны\n",
    "selected_columns = [i for i, selected in enumerate(mask) if selected]\n",
    "norm_columns = [col for col in selected_columns if col <= 28]\n",
    "#print(\"Выбранные колонки:\", selected_columns)\n",
    "print(\"Выбранные колонки:\", norm_columns)"
   ]
  },
  {
   "cell_type": "code",
   "execution_count": null,
   "id": "73a7c2bb-fc26-4706-8f42-c5f965b9517c",
   "metadata": {},
   "outputs": [],
   "source": []
  },
  {
   "cell_type": "code",
   "execution_count": 52,
   "id": "494b8b93-c63d-4701-b8ce-869fe20ed8a6",
   "metadata": {
    "execution": {
     "iopub.execute_input": "2023-12-21T11:15:05.071435Z",
     "iopub.status.busy": "2023-12-21T11:15:05.070436Z",
     "iopub.status.idle": "2023-12-21T11:15:05.125780Z",
     "shell.execute_reply": "2023-12-21T11:15:05.124766Z",
     "shell.execute_reply.started": "2023-12-21T11:15:05.071435Z"
    }
   },
   "outputs": [
    {
     "name": "stdout",
     "output_type": "stream",
     "text": [
      "Cross validation scores:\n",
      "\t -0.1848\n",
      "\t-0.2342\n",
      "\t-0.2426\n",
      "\t-0.2341\n",
      "\t-0.2929\n",
      "Mean Precision = 0.2377\n"
     ]
    }
   ],
   "source": [
    "\n",
    "pipeline_1 = Pipeline([\n",
    "    ('model', TransformedTargetRegressor(\n",
    "        regressor=Pipeline([\n",
    "           # (\"preproc\", CT),\n",
    "            (\"regression\", Ridge())\n",
    "        ])\n",
    "    ))\n",
    "])\n",
    "\n",
    "model_ridge = pipeline_1.fit(X_train, y_train)\n",
    "\n",
    "# Создайте объект StratifiedKFold с параметром shuffle=True\n",
    "cv = KFold(n_splits=5, shuffle=True)\n",
    "\n",
    "# Затем передайте этот объект в функцию cross_val_score\n",
    "cv_scores = cross_val_score(model_ridge, X_test, y_test, cv=cv, scoring=\"neg_mean_absolute_percentage_error\")\n",
    "\n",
    "print(\"Cross validation scores:\\n\\t\", \"\\n\\t\".join(\"%.4f\" % x for x in cv_scores))\n",
    "print(\"Mean Precision = %.4f\" % np.mean(-cv_scores))\n",
    "#mean_absolute_error(y_test, model_ridge.predict(X_test))"
   ]
  },
  {
   "cell_type": "code",
   "execution_count": 57,
   "id": "c2ec4c0f-faaa-4666-b869-66ae03ff5372",
   "metadata": {
    "execution": {
     "iopub.execute_input": "2023-12-21T11:15:14.971886Z",
     "iopub.status.busy": "2023-12-21T11:15:14.970897Z",
     "iopub.status.idle": "2023-12-21T11:15:16.200800Z",
     "shell.execute_reply": "2023-12-21T11:15:16.199779Z",
     "shell.execute_reply.started": "2023-12-21T11:15:14.971886Z"
    }
   },
   "outputs": [
    {
     "name": "stdout",
     "output_type": "stream",
     "text": [
      "Cross validation scores:\n",
      "\t -0.2515\n",
      "\t-0.1915\n",
      "\t-0.1888\n",
      "\t-0.2743\n",
      "\t-0.1614\n",
      "Mean Precision = 0.2135\n"
     ]
    }
   ],
   "source": [
    "X_train, X_test, y_train, y_test = train_test_split(data.drop(columns = 'price'), data['price'],\n",
    "                                                   test_size=0.3)\n",
    "pipeline_2 = Pipeline(\n",
    "    steps=[\n",
    "        (\"regression\", GradientBoostingRegressor())\n",
    "    ]\n",
    ")\n",
    "model_gbm = pipeline_2.fit(X_train.iloc[:,norm_columns], y_train)\n",
    "\n",
    "\n",
    "\n",
    "# Создайте объект StratifiedKFold с параметром shuffle=True\n",
    "cv = KFold(n_splits=5, shuffle=True)\n",
    "\n",
    "# Затем передайте этот объект в функцию cross_val_score\n",
    "cv_scores = cross_val_score(model_gbm, X_test.iloc[:,norm_columns], y_test, cv=cv, scoring=\"neg_mean_absolute_percentage_error\")\n",
    "\n",
    "print(\"Cross validation scores:\\n\\t\", \"\\n\\t\".join(\"%.4f\" % x for x in cv_scores))\n",
    "print(\"Mean Precision = %.4f\" % np.mean(-cv_scores))\n",
    "#mean_absolute_error(y_test, model_ridge.predict(X_test))"
   ]
  },
  {
   "cell_type": "code",
   "execution_count": null,
   "id": "6f0a5b4f-458a-4038-b758-59277b9072f6",
   "metadata": {},
   "outputs": [],
   "source": []
  },
  {
   "cell_type": "code",
   "execution_count": null,
   "id": "934f69ae-c0ce-41f2-9512-ddd46b4c8e24",
   "metadata": {},
   "outputs": [],
   "source": []
  },
  {
   "cell_type": "code",
   "execution_count": 323,
   "id": "4d19dc28-04d0-42e2-9edd-f5c559a91778",
   "metadata": {
    "execution": {
     "iopub.execute_input": "2023-12-21T11:34:42.547235Z",
     "iopub.status.busy": "2023-12-21T11:34:42.546254Z",
     "iopub.status.idle": "2023-12-21T11:34:43.895691Z",
     "shell.execute_reply": "2023-12-21T11:34:43.894658Z",
     "shell.execute_reply.started": "2023-12-21T11:34:42.547235Z"
    }
   },
   "outputs": [
    {
     "data": {
      "image/png": "[encoded data removed]",
      "text/plain": [
       "<Figure size 1500x800 with 1 Axes>"
      ]
     },
     "metadata": {},
     "output_type": "display_data"
    },
    {
     "data": {
      "image/png": "[encoded data removed]",
      "text/plain": [
       "<Figure size 1600x200 with 1 Axes>"
      ]
     },
     "metadata": {},
     "output_type": "display_data"
    }
   ],
   "source": [
    "X_train, X_test, y_train, y_test = train_test_split(X, y,  test_size=0.3)\n",
    "\n",
    "rfc = RandomForestRegressor(n_estimators=100)\n",
    "rfc.fit(X_train, y_train)\n",
    "\n",
    "plt.figure(figsize=(15, 8))\n",
    "feature_names = np.array(data.drop(columns='price').columns)\n",
    "importance = rfc.feature_importances_\n",
    "\n",
    "# Sort feature importances in descending order\n",
    "indices = np.argsort(importance)[::-1]\n",
    "feature_names_sorted = feature_names[indices]\n",
    "importance_sorted = importance[indices]\n",
    "\n",
    "plt.barh(y=feature_names_sorted, width=importance_sorted)\n",
    "plt.xlabel('Feature Importance')\n",
    "plt.title('Feature Importance of Random Forest Classifier')\n",
    "plt.show()\n",
    "\n",
    "mask = importance\n",
    "plt.matshow(mask.reshape(1, -1), cmap='Blues', aspect=0.3)\n",
    "plt.yticks([])\n",
    "plt.gca().xaxis.set_major_locator(plt.MultipleLocator(1))\n",
    "plt.xticks(ticks=np.arange(len(X.columns)), labels=X.columns, rotation='vertical')\n",
    "plt.xlabel(\"Имена колонок\")\n",
    "plt.show()"
   ]
  },
  {
   "cell_type": "code",
   "execution_count": null,
   "id": "f094f82c-44df-4f72-8194-3e9a6e5bcc33",
   "metadata": {},
   "outputs": [],
   "source": []
  },
  {
   "cell_type": "code",
   "execution_count": 324,
   "id": "90171819-9b2d-4cc4-8dce-e99a2e4d60a4",
   "metadata": {
    "execution": {
     "iopub.execute_input": "2023-12-21T11:35:01.502837Z",
     "iopub.status.busy": "2023-12-21T11:35:01.502837Z",
     "iopub.status.idle": "2023-12-21T11:35:17.487420Z",
     "shell.execute_reply": "2023-12-21T11:35:17.485397Z",
     "shell.execute_reply.started": "2023-12-21T11:35:01.502837Z"
    }
   },
   "outputs": [
    {
     "name": "stdout",
     "output_type": "stream",
     "text": [
      "Оптимально : 23\n"
     ]
    },
    {
     "data": {
      "image/png": "[encoded data removed]",
      "text/plain": [
       "<Figure size 640x480 with 1 Axes>"
      ]
     },
     "metadata": {},
     "output_type": "display_data"
    }
   ],
   "source": [
    "\n",
    "# Build a classification task using 5 informative features\n",
    "X_train, X_test, y_train, y_test = train_test_split(data.drop(columns = 'price'), data.price, test_size=.5)\n",
    "#X_train, X_test, y_train, y_test = train_test_split(X,y, test_size=.5)\n",
    "\n",
    "# X, y = make_classification(\n",
    "#     n_samples=1000,\n",
    "#     n_features=25,\n",
    "#     n_informative=10, # 5 информативных признаков, остальные линейная комбинация\n",
    "#     n_redundant=2,\n",
    "#     n_repeated=0,\n",
    "#     n_classes=8,\n",
    "#     n_clusters_per_class=1,\n",
    "#     random_state=0,\n",
    "# )\n",
    "\n",
    "# Create the RFE object and compute a cross-validated score.\n",
    "svc = SVC(kernel=\"linear\")\n",
    "# The \"accuracy\" scoring shows the proportion of correct classifications\n",
    "rfc =  Ridge(alpha=20)\n",
    "\n",
    "min_features_to_select = 5  # Minimum number of features to consider\n",
    "rfecv = RFECV(\n",
    "    estimator=svc,\n",
    "    step=1,\n",
    "    cv=KFold(5),\n",
    "    scoring=\"neg_mean_absolute_percentage_error\",\n",
    "    min_features_to_select=min_features_to_select,\n",
    ")\n",
    "rfecv.fit(X_train, y_train)\n",
    "\n",
    "print(\"Оптимально : %d\" % rfecv.n_features_)\n",
    "\n",
    "# Plot number of features VS. cross-validation scores\n",
    "plt.figure()\n",
    "plt.xlabel(\"Number of features selected\")\n",
    "plt.ylabel(\"Cross validation score (mape)\")\n",
    "filtered = pd.DataFrame(rfecv.cv_results_).filter(regex='split') #[s for s in rfecv.cv_results_.keys() if 'split' in s]\n",
    "plt.plot(\n",
    "    range(min_features_to_select, len(filtered) + min_features_to_select),\n",
    "    filtered\n",
    ")\n",
    "plt.show()"
   ]
  },
  {
   "cell_type": "code",
   "execution_count": null,
   "id": "8795a174-a021-4c29-a281-9e4afbcb78a1",
   "metadata": {},
   "outputs": [],
   "source": []
  },
  {
   "cell_type": "code",
   "execution_count": null,
   "id": "49ebc33d-ecf1-4166-bc5f-48b5ae296b1b",
   "metadata": {},
   "outputs": [],
   "source": []
  },
  {
   "cell_type": "code",
   "execution_count": 525,
   "id": "8983651e-5f76-4a37-a396-8cbd872006d0",
   "metadata": {
    "execution": {
     "iopub.execute_input": "2023-12-21T11:55:24.915110Z",
     "iopub.status.busy": "2023-12-21T11:55:24.914125Z",
     "iopub.status.idle": "2023-12-21T11:55:25.940316Z",
     "shell.execute_reply": "2023-12-21T11:55:25.938289Z",
     "shell.execute_reply.started": "2023-12-21T11:55:24.915110Z"
    }
   },
   "outputs": [
    {
     "name": "stderr",
     "output_type": "stream",
     "text": [
      "D:\\python\\Lib\\site-packages\\numpy\\lib\\function_base.py:2897: RuntimeWarning: invalid value encountered in divide\n",
      "  c /= stddev[:, None]\n",
      "D:\\python\\Lib\\site-packages\\numpy\\lib\\function_base.py:2898: RuntimeWarning: invalid value encountered in divide\n",
      "  c /= stddev[None, :]\n"
     ]
    },
    {
     "data": {
      "image/png": "[encoded data removed]",
      "text/plain": [
       "<Figure size 1200x800 with 2 Axes>"
      ]
     },
     "metadata": {},
     "output_type": "display_data"
    }
   ],
   "source": [
    "from scipy.stats import spearmanr\n",
    "from scipy.spatial.distance import squareform\n",
    "from scipy.cluster import hierarchy\n",
    "\n",
    "fig, (ax1, ax2) = plt.subplots(1, 2, figsize=(12, 8))\n",
    "corr = spearmanr(X_train).correlation\n",
    "corr = np.nan_to_num(corr)\n",
    "# Ensure the correlation matrix is symmetric\n",
    "corr = (corr + corr.T) / 2\n",
    "np.fill_diagonal(corr, 1)\n",
    "\n",
    "# We convert the correlation matrix to a distance matrix before performing\n",
    "# hierarchical clustering using Ward's linkage.\n",
    "distance_matrix = 1 - np.abs(corr)\n",
    "dist_linkage = hierarchy.ward(squareform(distance_matrix))\n",
    "dendro = hierarchy.dendrogram(\n",
    "    dist_linkage, labels = X_train.columns,\n",
    "    ax=ax1, leaf_rotation=90\n",
    ")\n",
    "dendro_idx = np.arange(0, len(dendro[\"ivl\"]))\n",
    "\n",
    "ax1.axhline(y=0.8, color='r', linestyle='--')\n",
    "\n",
    "\n",
    "# distance_matrix = 1 - np.abs(corr)\n",
    "# dist_linkage = hierarchy.ward(squareform(distance_matrix))\n",
    "# dendro = hierarchy.dendrogram(\n",
    "#     dist_linkage, \n",
    "#     ax=ax2, leaf_rotation=90\n",
    "# )\n",
    "\n",
    "ax2.imshow(corr[dendro[\"leaves\"], :][:, dendro[\"leaves\"]])\n",
    "ax2.set_xticks(dendro_idx)\n",
    "ax2.set_yticks(dendro_idx)\n",
    "ax2.set_xticklabels(X_train.columns[dendro[\"leaves\"]], rotation=\"vertical\")\n",
    "ax2.set_yticklabels(X_train.columns[dendro[\"leaves\"]])\n",
    "fig.tight_layout()\n",
    "plt.show()"
   ]
  },
  {
   "cell_type": "code",
   "execution_count": 529,
   "id": "0e9ff26e-143b-4dc7-b53b-59c9dc375629",
   "metadata": {
    "execution": {
     "iopub.execute_input": "2023-12-21T11:55:56.542780Z",
     "iopub.status.busy": "2023-12-21T11:55:56.542780Z",
     "iopub.status.idle": "2023-12-21T11:55:58.118841Z",
     "shell.execute_reply": "2023-12-21T11:55:58.117818Z",
     "shell.execute_reply.started": "2023-12-21T11:55:56.542780Z"
    }
   },
   "outputs": [
    {
     "name": "stdout",
     "output_type": "stream",
     "text": [
      "Точность тестовых данных с удаленными признаками: 0.20\n",
      "[0, 1, 4, 6, 7, 8, 10, 15, 18, 19]\n",
      "Index(['0', '1', '4', '6', '7', '8', '10', '15', '18', '19'], dtype='object')\n"
     ]
    },
    {
     "data": {
      "image/png": "[encoded data removed]",
      "text/plain": [
       "<Figure size 1200x800 with 2 Axes>"
      ]
     },
     "metadata": {},
     "output_type": "display_data"
    }
   ],
   "source": [
    " from collections import defaultdict\n",
    "\n",
    "cluster_ids = hierarchy.fcluster(dist_linkage,1.0, criterion=\"distance\")\n",
    "cluster_id_to_feature_ids = defaultdict(list)\n",
    "for idx, cluster_id in enumerate(cluster_ids):\n",
    "    cluster_id_to_feature_ids[cluster_id].append(idx)\n",
    "selected_features = [v[0] for v in cluster_id_to_feature_ids.values()]\n",
    "\n",
    "X_train_sel = X_train.iloc[:, selected_features]\n",
    "X_test_sel = X_test.iloc[:, selected_features]\n",
    "\n",
    "clf_sel = RandomForestRegressor(n_estimators=100)\n",
    "clf_sel.fit(X_train_sel, y_train)\n",
    "print(\n",
    "    \"Точность тестовых данных с удаленными признаками: {:.2f}\".format(\n",
    "        clf_sel.score(X_test_sel, y_test)\n",
    "    )\n",
    ")\n",
    "y_pred_train = clf_sel.predict(X_train_sel)\n",
    "y_pred = clf_sel.predict(X_test_sel)\n",
    "\n",
    "\n",
    "\n",
    "selected_features_names = X_train.columns[selected_features]\n",
    "\n",
    "\n",
    "print(selected_features)\n",
    "print(selected_features_names)\n",
    "\n",
    "\n",
    "\n",
    "fig, (ax1, ax2) = plt.subplots(1, 2, figsize=(12, 8))\n",
    "\n",
    "dist_linkage = hierarchy.ward(squareform(distance_matrix))\n",
    "dendro = hierarchy.dendrogram(\n",
    "    dist_linkage, labels = X_train.columns,\n",
    "    ax=ax1, leaf_rotation=90\n",
    ")\n",
    "\n",
    "ax1.axhline(y=0.8, color='r', linestyle='--')\n",
    "\n",
    "[ax1.get_xticklabels()[dendro[\"leaves\"].index(i)].set_color('red') for i  in selected_features];\n",
    "\n",
    "ax2.imshow(corr[dendro[\"leaves\"], :][:, dendro[\"leaves\"]])\n",
    "ax2.set_xticks(dendro_idx)\n",
    "ax2.set_yticks(dendro_idx)\n",
    "ax2.set_xticklabels(X_train.columns[dendro[\"leaves\"]], rotation=\"vertical\")\n",
    "ax2.set_yticklabels(X_train.columns[dendro[\"leaves\"]])\n",
    "fig.tight_layout()\n",
    "[ax2.get_xticklabels()[dendro[\"leaves\"].index(i)].set_color('red') for i  in selected_features];\n",
    "[ax2.get_yticklabels()[dendro[\"leaves\"].index(i)].set_color('red') for i  in selected_features];\n",
    "plt.show()"
   ]
  },
  {
   "cell_type": "markdown",
   "id": "59625098-1f0d-430c-b8d9-f77db7029237",
   "metadata": {},
   "source": [
    "### 1.2 Значимость признаков из модели\n",
    "\n",
    "Попробуем посмотреть важность признаков, которые есть в нашей модели и кроме важности добавим разброс признаков. Идея в следующем, если разброс важности будет большой, то скорее всего признаки коррелируют, так как в разных деревьях, то они важны, то нет.  "
   ]
  },
  {
   "cell_type": "code",
   "execution_count": null,
   "id": "d68d4d78-f215-4051-beeb-11f2724dbe61",
   "metadata": {},
   "outputs": [],
   "source": []
  },
  {
   "cell_type": "code",
   "execution_count": 416,
   "id": "edb3fe28-134a-46f5-a6b9-9063a593003f",
   "metadata": {
    "execution": {
     "iopub.execute_input": "2023-12-21T11:43:04.002608Z",
     "iopub.status.busy": "2023-12-21T11:43:04.001601Z",
     "iopub.status.idle": "2023-12-21T11:43:04.534185Z",
     "shell.execute_reply": "2023-12-21T11:43:04.532628Z",
     "shell.execute_reply.started": "2023-12-21T11:43:04.002608Z"
    }
   },
   "outputs": [
    {
     "name": "stdout",
     "output_type": "stream",
     "text": [
      "форма обуч набора X: (285, 29)\n",
      "форма обуч набора X median: (285, 15)\n"
     ]
    },
    {
     "data": {
      "image/png": "[encoded data removed]",
      "text/plain": [
       "<Figure size 1600x200 with 1 Axes>"
      ]
     },
     "metadata": {},
     "output_type": "display_data"
    },
    {
     "name": "stdout",
     "output_type": "stream",
     "text": [
      "----------------------------------------------------\n",
      "форма обуч набора X: (285, 29)\n",
      "форма обуч набора X median: (285, 13)\n"
     ]
    },
    {
     "data": {
      "image/png": "[encoded data removed]",
      "text/plain": [
       "<Figure size 1600x200 with 1 Axes>"
      ]
     },
     "metadata": {},
     "output_type": "display_data"
    },
    {
     "name": "stdout",
     "output_type": "stream",
     "text": [
      "----------------------------------------------------\n",
      "форма обуч набора X: (285, 29)\n",
      "форма обуч набора X median: (285, 5)\n"
     ]
    },
    {
     "data": {
      "image/png": "[encoded data removed]",
      "text/plain": [
       "<Figure size 1600x200 with 1 Axes>"
      ]
     },
     "metadata": {},
     "output_type": "display_data"
    }
   ],
   "source": [
    "from sklearn.feature_selection import SelectFromModel\n",
    "X_train, X_test, y_train, y_test = train_test_split(data.drop(columns='price'), data.price, test_size=0.3)\n",
    "\n",
    "\n",
    "select = SelectFromModel(\n",
    "     Ridge(alpha=20),\n",
    "    threshold=\"median\")\n",
    "\n",
    "select.fit(X_train, y_train)\n",
    "X_train_med = select.transform(X_train)\n",
    "print(\"форма обуч набора X: {}\".format(X_train.shape))\n",
    "print(\"форма обуч набора X median: {}\".format(X_train_med.shape))\n",
    "mask_1 = select.get_support()\n",
    "# визуализируем булевы значения -- черный – True, белый – False\n",
    "plt.matshow( mask_1.reshape(1,-1), cmap = 'gray_r', aspect=0.3)\n",
    "plt.yticks([])\n",
    "plt.xlabel(\"Индекс признака\");\n",
    "plt.show();\n",
    "\n",
    "print(\"----------------------------------------------------\")\n",
    "\n",
    "select = SelectFromModel(\n",
    "     Ridge(alpha=20),\n",
    "    threshold=\"0.7*mean\")         # внимание на синтаксис\n",
    "select.fit(X_train, y_train)\n",
    "X_train_mean = select.transform(X_train)\n",
    "print(\"форма обуч набора X: {}\".format(X_train.shape))\n",
    "print(\"форма обуч набора X median: {}\".format(X_train_mean.shape))\n",
    "mask_2 = select.get_support()\n",
    "# визуализируем булевы значения -- черный – True, белый – False\n",
    "plt.matshow( mask_2.reshape(1,-1), cmap = 'gray_r', aspect=0.3)\n",
    "plt.yticks([])\n",
    "plt.xlabel(\"Индекс признака\");\n",
    "plt.show();\n",
    "\n",
    "print(\"----------------------------------------------------\")\n",
    "\n",
    "select = SelectFromModel(\n",
    "     Ridge(alpha=20),\n",
    "    threshold = -np.inf,     # внимание на синтаксис\n",
    "    max_features = \n",
    "    5)         # внимание на синтаксис\n",
    "select.fit(X_train, y_train)\n",
    "X_train_mean = select.transform(X_train)\n",
    "print(\"форма обуч набора X: {}\".format(X_train.shape))\n",
    "print(\"форма обуч набора X median: {}\".format(X_train_mean.shape))\n",
    "mask_3 = select.get_support()\n",
    "# визуализируем булевы значения -- черный – True, белый – False\n",
    "plt.matshow( mask_3.reshape(1,-1), cmap = 'gray_r', aspect=0.3)\n",
    "plt.yticks([])\n",
    "plt.xlabel(\"Индекс признака\");\n",
    "plt.show();"
   ]
  },
  {
   "cell_type": "code",
   "execution_count": 417,
   "id": "09b58545-588d-4bbe-9d74-8fedd1f5d0fe",
   "metadata": {
    "execution": {
     "iopub.execute_input": "2023-12-21T11:43:07.266239Z",
     "iopub.status.busy": "2023-12-21T11:43:07.265239Z",
     "iopub.status.idle": "2023-12-21T11:43:07.274315Z",
     "shell.execute_reply": "2023-12-21T11:43:07.273256Z",
     "shell.execute_reply.started": "2023-12-21T11:43:07.266239Z"
    }
   },
   "outputs": [
    {
     "name": "stdout",
     "output_type": "stream",
     "text": [
      "Выбранные колонки: [0, 2, 3, 4, 12, 13, 15, 16, 20, 22, 24, 25, 27]\n"
     ]
    }
   ],
   "source": [
    "selected_columns = [i for i, selected in enumerate(mask_2) if selected]\n",
    "print(\"Выбранные колонки:\", selected_columns)"
   ]
  },
  {
   "cell_type": "code",
   "execution_count": 484,
   "id": "159bc63d-4f59-449d-aaa2-f618857facd8",
   "metadata": {
    "execution": {
     "iopub.execute_input": "2023-12-21T11:48:09.606021Z",
     "iopub.status.busy": "2023-12-21T11:48:09.606021Z",
     "iopub.status.idle": "2023-12-21T11:48:09.688736Z",
     "shell.execute_reply": "2023-12-21T11:48:09.686719Z",
     "shell.execute_reply.started": "2023-12-21T11:48:09.606021Z"
    },
    "scrolled": true
   },
   "outputs": [
    {
     "ename": "IndexError",
     "evalue": "positional indexers are out-of-bounds",
     "output_type": "error",
     "traceback": [
      "\u001b[1;31m---------------------------------------------------------------------------\u001b[0m",
      "\u001b[1;31mIndexError\u001b[0m                                Traceback (most recent call last)",
      "Cell \u001b[1;32mIn[484], line 10\u001b[0m\n\u001b[0;32m      1\u001b[0m pipeline_1 \u001b[38;5;241m=\u001b[39m Pipeline([\n\u001b[0;32m      2\u001b[0m     (\u001b[38;5;124m'\u001b[39m\u001b[38;5;124mmodel\u001b[39m\u001b[38;5;124m'\u001b[39m, TransformedTargetRegressor(\n\u001b[0;32m      3\u001b[0m         regressor\u001b[38;5;241m=\u001b[39mPipeline([\n\u001b[1;32m   (...)\u001b[0m\n\u001b[0;32m      7\u001b[0m     ))\n\u001b[0;32m      8\u001b[0m ])\n\u001b[1;32m---> 10\u001b[0m model_ridge \u001b[38;5;241m=\u001b[39m pipeline_1\u001b[38;5;241m.\u001b[39mfit(\u001b[43mX_train\u001b[49m\u001b[38;5;241;43m.\u001b[39;49m\u001b[43miloc\u001b[49m\u001b[43m[\u001b[49m\u001b[43m:\u001b[49m\u001b[43m,\u001b[49m\u001b[43mselected_columns\u001b[49m\u001b[43m]\u001b[49m, y_train)\n\u001b[0;32m     12\u001b[0m \u001b[38;5;66;03m# Создайте объект StratifiedKFold с параметром shuffle=True\u001b[39;00m\n\u001b[0;32m     13\u001b[0m cv \u001b[38;5;241m=\u001b[39m KFold(n_splits\u001b[38;5;241m=\u001b[39m\u001b[38;5;241m5\u001b[39m, shuffle\u001b[38;5;241m=\u001b[39m\u001b[38;5;28;01mTrue\u001b[39;00m)\n",
      "File \u001b[1;32mD:\\python\\Lib\\site-packages\\pandas\\core\\indexing.py:1147\u001b[0m, in \u001b[0;36m_LocationIndexer.__getitem__\u001b[1;34m(self, key)\u001b[0m\n\u001b[0;32m   1145\u001b[0m     \u001b[38;5;28;01mif\u001b[39;00m \u001b[38;5;28mself\u001b[39m\u001b[38;5;241m.\u001b[39m_is_scalar_access(key):\n\u001b[0;32m   1146\u001b[0m         \u001b[38;5;28;01mreturn\u001b[39;00m \u001b[38;5;28mself\u001b[39m\u001b[38;5;241m.\u001b[39mobj\u001b[38;5;241m.\u001b[39m_get_value(\u001b[38;5;241m*\u001b[39mkey, takeable\u001b[38;5;241m=\u001b[39m\u001b[38;5;28mself\u001b[39m\u001b[38;5;241m.\u001b[39m_takeable)\n\u001b[1;32m-> 1147\u001b[0m     \u001b[38;5;28;01mreturn\u001b[39;00m \u001b[38;5;28;43mself\u001b[39;49m\u001b[38;5;241;43m.\u001b[39;49m\u001b[43m_getitem_tuple\u001b[49m\u001b[43m(\u001b[49m\u001b[43mkey\u001b[49m\u001b[43m)\u001b[49m\n\u001b[0;32m   1148\u001b[0m \u001b[38;5;28;01melse\u001b[39;00m:\n\u001b[0;32m   1149\u001b[0m     \u001b[38;5;66;03m# we by definition only have the 0th axis\u001b[39;00m\n\u001b[0;32m   1150\u001b[0m     axis \u001b[38;5;241m=\u001b[39m \u001b[38;5;28mself\u001b[39m\u001b[38;5;241m.\u001b[39maxis \u001b[38;5;129;01mor\u001b[39;00m \u001b[38;5;241m0\u001b[39m\n",
      "File \u001b[1;32mD:\\python\\Lib\\site-packages\\pandas\\core\\indexing.py:1652\u001b[0m, in \u001b[0;36m_iLocIndexer._getitem_tuple\u001b[1;34m(self, tup)\u001b[0m\n\u001b[0;32m   1651\u001b[0m \u001b[38;5;28;01mdef\u001b[39;00m \u001b[38;5;21m_getitem_tuple\u001b[39m(\u001b[38;5;28mself\u001b[39m, tup: \u001b[38;5;28mtuple\u001b[39m):\n\u001b[1;32m-> 1652\u001b[0m     tup \u001b[38;5;241m=\u001b[39m \u001b[38;5;28;43mself\u001b[39;49m\u001b[38;5;241;43m.\u001b[39;49m\u001b[43m_validate_tuple_indexer\u001b[49m\u001b[43m(\u001b[49m\u001b[43mtup\u001b[49m\u001b[43m)\u001b[49m\n\u001b[0;32m   1653\u001b[0m     \u001b[38;5;28;01mwith\u001b[39;00m suppress(IndexingError):\n\u001b[0;32m   1654\u001b[0m         \u001b[38;5;28;01mreturn\u001b[39;00m \u001b[38;5;28mself\u001b[39m\u001b[38;5;241m.\u001b[39m_getitem_lowerdim(tup)\n",
      "File \u001b[1;32mD:\\python\\Lib\\site-packages\\pandas\\core\\indexing.py:940\u001b[0m, in \u001b[0;36m_LocationIndexer._validate_tuple_indexer\u001b[1;34m(self, key)\u001b[0m\n\u001b[0;32m    938\u001b[0m \u001b[38;5;28;01mfor\u001b[39;00m i, k \u001b[38;5;129;01min\u001b[39;00m \u001b[38;5;28menumerate\u001b[39m(key):\n\u001b[0;32m    939\u001b[0m     \u001b[38;5;28;01mtry\u001b[39;00m:\n\u001b[1;32m--> 940\u001b[0m         \u001b[38;5;28;43mself\u001b[39;49m\u001b[38;5;241;43m.\u001b[39;49m\u001b[43m_validate_key\u001b[49m\u001b[43m(\u001b[49m\u001b[43mk\u001b[49m\u001b[43m,\u001b[49m\u001b[43m \u001b[49m\u001b[43mi\u001b[49m\u001b[43m)\u001b[49m\n\u001b[0;32m    941\u001b[0m     \u001b[38;5;28;01mexcept\u001b[39;00m \u001b[38;5;167;01mValueError\u001b[39;00m \u001b[38;5;28;01mas\u001b[39;00m err:\n\u001b[0;32m    942\u001b[0m         \u001b[38;5;28;01mraise\u001b[39;00m \u001b[38;5;167;01mValueError\u001b[39;00m(\n\u001b[0;32m    943\u001b[0m             \u001b[38;5;124m\"\u001b[39m\u001b[38;5;124mLocation based indexing can only have \u001b[39m\u001b[38;5;124m\"\u001b[39m\n\u001b[0;32m    944\u001b[0m             \u001b[38;5;124mf\u001b[39m\u001b[38;5;124m\"\u001b[39m\u001b[38;5;124m[\u001b[39m\u001b[38;5;132;01m{\u001b[39;00m\u001b[38;5;28mself\u001b[39m\u001b[38;5;241m.\u001b[39m_valid_types\u001b[38;5;132;01m}\u001b[39;00m\u001b[38;5;124m] types\u001b[39m\u001b[38;5;124m\"\u001b[39m\n\u001b[0;32m    945\u001b[0m         ) \u001b[38;5;28;01mfrom\u001b[39;00m \u001b[38;5;21;01merr\u001b[39;00m\n",
      "File \u001b[1;32mD:\\python\\Lib\\site-packages\\pandas\\core\\indexing.py:1574\u001b[0m, in \u001b[0;36m_iLocIndexer._validate_key\u001b[1;34m(self, key, axis)\u001b[0m\n\u001b[0;32m   1572\u001b[0m     \u001b[38;5;66;03m# check that the key does not exceed the maximum size of the index\u001b[39;00m\n\u001b[0;32m   1573\u001b[0m     \u001b[38;5;28;01mif\u001b[39;00m \u001b[38;5;28mlen\u001b[39m(arr) \u001b[38;5;129;01mand\u001b[39;00m (arr\u001b[38;5;241m.\u001b[39mmax() \u001b[38;5;241m>\u001b[39m\u001b[38;5;241m=\u001b[39m len_axis \u001b[38;5;129;01mor\u001b[39;00m arr\u001b[38;5;241m.\u001b[39mmin() \u001b[38;5;241m<\u001b[39m \u001b[38;5;241m-\u001b[39mlen_axis):\n\u001b[1;32m-> 1574\u001b[0m         \u001b[38;5;28;01mraise\u001b[39;00m \u001b[38;5;167;01mIndexError\u001b[39;00m(\u001b[38;5;124m\"\u001b[39m\u001b[38;5;124mpositional indexers are out-of-bounds\u001b[39m\u001b[38;5;124m\"\u001b[39m)\n\u001b[0;32m   1575\u001b[0m \u001b[38;5;28;01melse\u001b[39;00m:\n\u001b[0;32m   1576\u001b[0m     \u001b[38;5;28;01mraise\u001b[39;00m \u001b[38;5;167;01mValueError\u001b[39;00m(\u001b[38;5;124mf\u001b[39m\u001b[38;5;124m\"\u001b[39m\u001b[38;5;124mCan only index by location with a [\u001b[39m\u001b[38;5;132;01m{\u001b[39;00m\u001b[38;5;28mself\u001b[39m\u001b[38;5;241m.\u001b[39m_valid_types\u001b[38;5;132;01m}\u001b[39;00m\u001b[38;5;124m]\u001b[39m\u001b[38;5;124m\"\u001b[39m)\n",
      "\u001b[1;31mIndexError\u001b[0m: positional indexers are out-of-bounds"
     ]
    }
   ],
   "source": [
    "pipeline_1 = Pipeline([\n",
    "    ('model', TransformedTargetRegressor(\n",
    "        regressor=Pipeline([\n",
    "            (\"preproc\", StandardScaler()),\n",
    "            (\"regression\", Ridge())\n",
    "        ])\n",
    "    ))\n",
    "])\n",
    "\n",
    "model_ridge = pipeline_1.fit(X_train.iloc[:,selected_columns], y_train)\n",
    "\n",
    "# Создайте объект StratifiedKFold с параметром shuffle=True\n",
    "cv = KFold(n_splits=5, shuffle=True)\n",
    "\n",
    "# Затем передайте этот объект в функцию cross_val_score\n",
    "cv_scores = cross_val_score(model_ridge, X_test.iloc[:,selected_columns], y_test, cv=cv, scoring=\"neg_mean_absolute_percentage_error\")\n",
    "\n",
    "print(\"Cross validation scores:\\n\\t\", \"\\n\\t\".join(\"%.4f\" % x for x in cv_scores))\n",
    "print(\"Mean MAPE = %.4f\" % np.mean(-cv_scores))\n",
    "#mean_absolute_error(y_test, model_ridge.predict(X_test))"
   ]
  },
  {
   "cell_type": "code",
   "execution_count": 334,
   "id": "ecf34310-cc4d-4e09-98c8-b96d81fccb74",
   "metadata": {
    "execution": {
     "iopub.execute_input": "2023-12-21T11:36:03.316561Z",
     "iopub.status.busy": "2023-12-21T11:36:03.315564Z",
     "iopub.status.idle": "2023-12-21T11:36:04.510543Z",
     "shell.execute_reply": "2023-12-21T11:36:04.507514Z",
     "shell.execute_reply.started": "2023-12-21T11:36:03.316561Z"
    }
   },
   "outputs": [
    {
     "name": "stdout",
     "output_type": "stream",
     "text": [
      "Cross validation scores:\n",
      "\t -0.2027\n",
      "\t-0.2209\n",
      "\t-0.2571\n",
      "\t-0.2272\n",
      "\t-0.1647\n",
      "Mean Precision = 0.2145\n"
     ]
    }
   ],
   "source": [
    "X_train, X_test, y_train, y_test = train_test_split(data.drop(columns = 'price'), data['price'],\n",
    "                                                   test_size=0.3)\n",
    "pipeline_2 = Pipeline(\n",
    "    steps=[\n",
    "        (\"regression\", GradientBoostingRegressor())\n",
    "    ]\n",
    ")\n",
    "model_gbm = pipeline_2.fit(X_train.iloc[:,selected_columns], y_train)\n",
    "\n",
    "\n",
    "\n",
    "# Создайте объект StratifiedKFold с параметром shuffle=True\n",
    "cv = KFold(n_splits=5, shuffle=True)\n",
    "\n",
    "# Затем передайте этот объект в функцию cross_val_score\n",
    "cv_scores = cross_val_score(model_gbm, X_test.iloc[:,selected_columns], y_test, cv=cv, scoring=\"neg_mean_absolute_percentage_error\")\n",
    "\n",
    "print(\"Cross validation scores:\\n\\t\", \"\\n\\t\".join(\"%.4f\" % x for x in cv_scores))\n",
    "print(\"Mean Precision = %.4f\" % np.mean(-cv_scores))\n",
    "#mean_absolute_error(y_test, model_ridge.predict(X_test))"
   ]
  },
  {
   "cell_type": "code",
   "execution_count": null,
   "id": "5f732d6c-ff05-4299-b17d-d2ca24113f7a",
   "metadata": {},
   "outputs": [],
   "source": []
  },
  {
   "cell_type": "markdown",
   "id": "27d7b4c5-a709-4f69-bfbe-048646120254",
   "metadata": {
    "execution": {
     "iopub.execute_input": "2023-12-21T11:17:39.869008Z",
     "iopub.status.busy": "2023-12-21T11:17:39.867014Z",
     "iopub.status.idle": "2023-12-21T11:17:39.874397Z",
     "shell.execute_reply": "2023-12-21T11:17:39.873383Z",
     "shell.execute_reply.started": "2023-12-21T11:17:39.869008Z"
    }
   },
   "source": [
    "# Подбор гиперпараметров"
   ]
  },
  {
   "cell_type": "code",
   "execution_count": 396,
   "id": "71018cdd-fc44-48a9-be5f-f2e0476b1bbd",
   "metadata": {
    "execution": {
     "iopub.execute_input": "2023-12-21T11:41:08.199178Z",
     "iopub.status.busy": "2023-12-21T11:41:08.199178Z",
     "iopub.status.idle": "2023-12-21T11:41:08.205627Z",
     "shell.execute_reply": "2023-12-21T11:41:08.204136Z",
     "shell.execute_reply.started": "2023-12-21T11:41:08.199178Z"
    }
   },
   "outputs": [],
   "source": [
    "# selected_columns_best = selected_columns"
   ]
  },
  {
   "cell_type": "code",
   "execution_count": 694,
   "id": "8ea83244-1912-45d1-a2c0-51e2c1ac5b1e",
   "metadata": {
    "execution": {
     "iopub.execute_input": "2023-12-21T12:17:50.513568Z",
     "iopub.status.busy": "2023-12-21T12:17:50.512567Z",
     "iopub.status.idle": "2023-12-21T12:17:50.521950Z",
     "shell.execute_reply": "2023-12-21T12:17:50.520931Z",
     "shell.execute_reply.started": "2023-12-21T12:17:50.513568Z"
    }
   },
   "outputs": [
    {
     "data": {
      "text/plain": [
       "[0, 2, 3, 4, 12, 13, 15, 16, 20, 22, 24, 25, 27]"
      ]
     },
     "execution_count": 694,
     "metadata": {},
     "output_type": "execute_result"
    }
   ],
   "source": [
    "selected_columns"
   ]
  },
  {
   "cell_type": "code",
   "execution_count": 693,
   "id": "98d8c125-b8d8-4fb3-b324-632af0ba2cb9",
   "metadata": {
    "execution": {
     "iopub.execute_input": "2023-12-21T12:17:46.205281Z",
     "iopub.status.busy": "2023-12-21T12:17:46.204278Z",
     "iopub.status.idle": "2023-12-21T12:17:46.212572Z",
     "shell.execute_reply": "2023-12-21T12:17:46.211553Z",
     "shell.execute_reply.started": "2023-12-21T12:17:46.205281Z"
    }
   },
   "outputs": [],
   "source": [
    "X = data.iloc[:,selected_columns]\n",
    "# X = data[['0', '1', '4', '6', '7', '8', '10', '15', '18', '19']]"
   ]
  },
  {
   "cell_type": "code",
   "execution_count": 670,
   "id": "05edc962-da6a-4281-9660-1ffc2bfbc3fe",
   "metadata": {
    "execution": {
     "iopub.execute_input": "2023-12-21T12:14:40.637824Z",
     "iopub.status.busy": "2023-12-21T12:14:40.636826Z",
     "iopub.status.idle": "2023-12-21T12:14:40.647496Z",
     "shell.execute_reply": "2023-12-21T12:14:40.646478Z",
     "shell.execute_reply.started": "2023-12-21T12:14:40.637824Z"
    }
   },
   "outputs": [
    {
     "data": {
      "text/plain": [
       "0     0\n",
       "2     0\n",
       "3     0\n",
       "4     0\n",
       "12    0\n",
       "13    0\n",
       "15    0\n",
       "16    0\n",
       "20    0\n",
       "22    0\n",
       "24    0\n",
       "25    0\n",
       "27    0\n",
       "dtype: int64"
      ]
     },
     "execution_count": 670,
     "metadata": {},
     "output_type": "execute_result"
    }
   ],
   "source": [
    "X.isna().sum()"
   ]
  },
  {
   "cell_type": "code",
   "execution_count": 592,
   "id": "993b2e3b-cdd1-458d-a16f-dc852fe64f4b",
   "metadata": {
    "execution": {
     "iopub.execute_input": "2023-12-21T12:06:10.143097Z",
     "iopub.status.busy": "2023-12-21T12:06:10.143097Z",
     "iopub.status.idle": "2023-12-21T12:06:10.545011Z",
     "shell.execute_reply": "2023-12-21T12:06:10.542995Z",
     "shell.execute_reply.started": "2023-12-21T12:06:10.143097Z"
    }
   },
   "outputs": [
    {
     "data": {
      "image/png": "[encoded data removed]",
      "text/plain": [
       "<Figure size 1700x1000 with 1 Axes>"
      ]
     },
     "metadata": {},
     "output_type": "display_data"
    }
   ],
   "source": [
    "import matplotlib.pyplot as plt\n",
    "\n",
    "# Set the figure size first\n",
    "plt.figure(figsize=(17, 10))\n",
    "\n",
    "# Create a boxplot for the columns in the DataFrame 'train'\n",
    "plt.boxplot(X.values, labels = X.columns)\n",
    "\n",
    "# Add a title and axis labels\n",
    "plt.title('Ящик с усами')\n",
    "plt.ylabel('Значения')\n",
    "\n",
    "# Show the plot\n",
    "plt.show()\n"
   ]
  },
  {
   "cell_type": "code",
   "execution_count": null,
   "id": "aefa5f6c-00df-499d-a8d4-f39bdebf9c18",
   "metadata": {},
   "outputs": [],
   "source": []
  },
  {
   "cell_type": "code",
   "execution_count": 682,
   "id": "ec18c350-97eb-466a-b92f-e8177e5f92e0",
   "metadata": {
    "execution": {
     "iopub.execute_input": "2023-12-21T12:16:19.717623Z",
     "iopub.status.busy": "2023-12-21T12:16:19.716633Z",
     "iopub.status.idle": "2023-12-21T12:16:19.725912Z",
     "shell.execute_reply": "2023-12-21T12:16:19.724895Z",
     "shell.execute_reply.started": "2023-12-21T12:16:19.717623Z"
    },
    "scrolled": true
   },
   "outputs": [],
   "source": [
    "X = pd.concat([X,y], axis = 1)"
   ]
  },
  {
   "cell_type": "code",
   "execution_count": 683,
   "id": "c0796019-cc74-4240-ad4f-cdcefb95d84b",
   "metadata": {
    "execution": {
     "iopub.execute_input": "2023-12-21T12:16:19.908040Z",
     "iopub.status.busy": "2023-12-21T12:16:19.907050Z",
     "iopub.status.idle": "2023-12-21T12:16:19.924149Z",
     "shell.execute_reply": "2023-12-21T12:16:19.923129Z",
     "shell.execute_reply.started": "2023-12-21T12:16:19.908040Z"
    }
   },
   "outputs": [],
   "source": [
    "X = X[X['4'] >= X['4'].quantile(0.02)]\n",
    "X = X[X['4'] <= X['4'].quantile(0.98)]\n",
    "X = X[X['12'] >= X['12'].quantile(0.02)]\n",
    "X = X[X['12'] <= X['12'].quantile(0.98)]"
   ]
  },
  {
   "cell_type": "code",
   "execution_count": 684,
   "id": "d3649503-0506-498a-acd8-8b83b98bce4f",
   "metadata": {
    "execution": {
     "iopub.execute_input": "2023-12-21T12:16:20.116801Z",
     "iopub.status.busy": "2023-12-21T12:16:20.116801Z",
     "iopub.status.idle": "2023-12-21T12:16:20.124252Z",
     "shell.execute_reply": "2023-12-21T12:16:20.123234Z",
     "shell.execute_reply.started": "2023-12-21T12:16:20.116801Z"
    }
   },
   "outputs": [],
   "source": [
    "y = X.price\n",
    "X = X.drop(columns = 'price')"
   ]
  },
  {
   "cell_type": "code",
   "execution_count": 692,
   "id": "192c8af6-afa0-4a0f-93fb-55deeb48df0f",
   "metadata": {
    "execution": {
     "iopub.execute_input": "2023-12-21T12:16:24.659378Z",
     "iopub.status.busy": "2023-12-21T12:16:24.658358Z",
     "iopub.status.idle": "2023-12-21T12:16:24.715736Z",
     "shell.execute_reply": "2023-12-21T12:16:24.714717Z",
     "shell.execute_reply.started": "2023-12-21T12:16:24.659378Z"
    }
   },
   "outputs": [
    {
     "name": "stdout",
     "output_type": "stream",
     "text": [
      "Cross validation scores:\n",
      "\t -0.1535\n",
      "\t-0.2084\n",
      "\t-0.1927\n",
      "\t-0.2404\n",
      "\t-0.1779\n",
      "Mean MAPE = 0.1946\n"
     ]
    }
   ],
   "source": [
    "X_train, X_test, y_train, y_test = train_test_split(X, y, test_size=0.3)\n",
    "\n",
    "\n",
    "model_2 = Ridge(alpha=23)\n",
    "\n",
    "model_ridge = model_2.fit(X_train, y_train)\n",
    "#ridge_predictions = model_ridge.predict(X_test)\n",
    "\n",
    "# Создайте объект StratifiedKFold с параметром shuffle=True\n",
    "cv = KFold(n_splits=5, shuffle=True)\n",
    "\n",
    "# Затем передайте этот объект в функцию cross_val_score\n",
    "cv_scores = cross_val_score(model_ridge, X_test, y_test, cv=cv, scoring=\"neg_mean_absolute_percentage_error\")\n",
    "\n",
    "print(\"Cross validation scores:\\n\\t\", \"\\n\\t\".join(\"%.4f\" % x for x in cv_scores))\n",
    "print(\"Mean MAPE = %.4f\" % np.mean(-cv_scores))\n",
    "#mean_absolute_error(y_test, model_ridge.predict(X_test))"
   ]
  },
  {
   "cell_type": "code",
   "execution_count": 677,
   "id": "06cd33d2-007b-43f5-a47e-e7f8c824e357",
   "metadata": {
    "execution": {
     "iopub.execute_input": "2023-12-21T12:15:21.867011Z",
     "iopub.status.busy": "2023-12-21T12:15:21.866015Z",
     "iopub.status.idle": "2023-12-21T12:15:24.350511Z",
     "shell.execute_reply": "2023-12-21T12:15:24.349497Z",
     "shell.execute_reply.started": "2023-12-21T12:15:21.867011Z"
    }
   },
   "outputs": [],
   "source": [
    "cc = []\n",
    "for i in range(100):\n",
    "    X_train, X_test, y_train, y_test = train_test_split(X, y, test_size=0.3)\n",
    "\n",
    "\n",
    "    model_2 = Ridge(alpha=20)\n",
    "    \n",
    "    model_ridge = model_2.fit(X_train, y_train)\n",
    "    #ridge_predictions = model_ridge.predict(X_test)\n",
    "    \n",
    "    # Создайте объект StratifiedKFold с параметром shuffle=True\n",
    "    cv = KFold(n_splits=5, shuffle=True)\n",
    "    \n",
    "    # Затем передайте этот объект в функцию cross_val_score\n",
    "    cv_scores = cross_val_score(model_ridge, X_test, y_test, cv=cv, scoring=\"neg_mean_absolute_percentage_error\")\n",
    "    cc += [-cv_scores]"
   ]
  },
  {
   "cell_type": "code",
   "execution_count": 678,
   "id": "0cb3d20d-bd28-4d5e-8e54-33f24ebcfb56",
   "metadata": {
    "execution": {
     "iopub.execute_input": "2023-12-21T12:15:24.361517Z",
     "iopub.status.busy": "2023-12-21T12:15:24.352514Z",
     "iopub.status.idle": "2023-12-21T12:15:24.386272Z",
     "shell.execute_reply": "2023-12-21T12:15:24.384254Z",
     "shell.execute_reply.started": "2023-12-21T12:15:24.355520Z"
    }
   },
   "outputs": [
    {
     "data": {
      "text/plain": [
       "0.18075596893233456"
      ]
     },
     "execution_count": 678,
     "metadata": {},
     "output_type": "execute_result"
    }
   ],
   "source": [
    "np.mean(cc)"
   ]
  },
  {
   "cell_type": "code",
   "execution_count": 617,
   "id": "7f092203-0fca-4f60-b464-29c7a06419b7",
   "metadata": {
    "execution": {
     "iopub.execute_input": "2023-12-21T12:09:14.853956Z",
     "iopub.status.busy": "2023-12-21T12:09:14.852954Z",
     "iopub.status.idle": "2023-12-21T12:09:15.605410Z",
     "shell.execute_reply": "2023-12-21T12:09:15.604391Z",
     "shell.execute_reply.started": "2023-12-21T12:09:14.853956Z"
    }
   },
   "outputs": [
    {
     "data": {
      "text/html": [
       "<style>#sk-container-id-32 {color: black;}#sk-container-id-32 pre{padding: 0;}#sk-container-id-32 div.sk-toggleable {background-color: white;}#sk-container-id-32 label.sk-toggleable__label {cursor: pointer;display: block;width: 100%;margin-bottom: 0;padding: 0.3em;box-sizing: border-box;text-align: center;}#sk-container-id-32 label.sk-toggleable__label-arrow:before {content: \"▸\";float: left;margin-right: 0.25em;color: #696969;}#sk-container-id-32 label.sk-toggleable__label-arrow:hover:before {color: black;}#sk-container-id-32 div.sk-estimator:hover label.sk-toggleable__label-arrow:before {color: black;}#sk-container-id-32 div.sk-toggleable__content {max-height: 0;max-width: 0;overflow: hidden;text-align: left;background-color: #f0f8ff;}#sk-container-id-32 div.sk-toggleable__content pre {margin: 0.2em;color: black;border-radius: 0.25em;background-color: #f0f8ff;}#sk-container-id-32 input.sk-toggleable__control:checked~div.sk-toggleable__content {max-height: 200px;max-width: 100%;overflow: auto;}#sk-container-id-32 input.sk-toggleable__control:checked~label.sk-toggleable__label-arrow:before {content: \"▾\";}#sk-container-id-32 div.sk-estimator input.sk-toggleable__control:checked~label.sk-toggleable__label {background-color: #d4ebff;}#sk-container-id-32 div.sk-label input.sk-toggleable__control:checked~label.sk-toggleable__label {background-color: #d4ebff;}#sk-container-id-32 input.sk-hidden--visually {border: 0;clip: rect(1px 1px 1px 1px);clip: rect(1px, 1px, 1px, 1px);height: 1px;margin: -1px;overflow: hidden;padding: 0;position: absolute;width: 1px;}#sk-container-id-32 div.sk-estimator {font-family: monospace;background-color: #f0f8ff;border: 1px dotted black;border-radius: 0.25em;box-sizing: border-box;margin-bottom: 0.5em;}#sk-container-id-32 div.sk-estimator:hover {background-color: #d4ebff;}#sk-container-id-32 div.sk-parallel-item::after {content: \"\";width: 100%;border-bottom: 1px solid gray;flex-grow: 1;}#sk-container-id-32 div.sk-label:hover label.sk-toggleable__label {background-color: #d4ebff;}#sk-container-id-32 div.sk-serial::before {content: \"\";position: absolute;border-left: 1px solid gray;box-sizing: border-box;top: 0;bottom: 0;left: 50%;z-index: 0;}#sk-container-id-32 div.sk-serial {display: flex;flex-direction: column;align-items: center;background-color: white;padding-right: 0.2em;padding-left: 0.2em;position: relative;}#sk-container-id-32 div.sk-item {position: relative;z-index: 1;}#sk-container-id-32 div.sk-parallel {display: flex;align-items: stretch;justify-content: center;background-color: white;position: relative;}#sk-container-id-32 div.sk-item::before, #sk-container-id-32 div.sk-parallel-item::before {content: \"\";position: absolute;border-left: 1px solid gray;box-sizing: border-box;top: 0;bottom: 0;left: 50%;z-index: -1;}#sk-container-id-32 div.sk-parallel-item {display: flex;flex-direction: column;z-index: 1;position: relative;background-color: white;}#sk-container-id-32 div.sk-parallel-item:first-child::after {align-self: flex-end;width: 50%;}#sk-container-id-32 div.sk-parallel-item:last-child::after {align-self: flex-start;width: 50%;}#sk-container-id-32 div.sk-parallel-item:only-child::after {width: 0;}#sk-container-id-32 div.sk-dashed-wrapped {border: 1px dashed gray;margin: 0 0.4em 0.5em 0.4em;box-sizing: border-box;padding-bottom: 0.4em;background-color: white;}#sk-container-id-32 div.sk-label label {font-family: monospace;font-weight: bold;display: inline-block;line-height: 1.2em;}#sk-container-id-32 div.sk-label-container {text-align: center;}#sk-container-id-32 div.sk-container {/* jupyter's `normalize.less` sets `[hidden] { display: none; }` but bootstrap.min.css set `[hidden] { display: none !important; }` so we also need the `!important` here to be able to override the default hidden behavior on the sphinx rendered scikit-learn.org. See: https://github.com/scikit-learn/scikit-learn/issues/21755 */display: inline-block !important;position: relative;}#sk-container-id-32 div.sk-text-repr-fallback {display: none;}</style><div id=\"sk-container-id-32\" class=\"sk-top-container\"><div class=\"sk-text-repr-fallback\"><pre>GridSearchCV(estimator=Pipeline(steps=[(&#x27;lasso&#x27;, Ridge())]), n_jobs=-1,\n",
       "             param_grid={&#x27;lasso__alpha&#x27;: array([ 0,  1,  2,  3,  4,  5,  6,  7,  8,  9, 10, 11, 12, 13, 14, 15, 16,\n",
       "       17, 18, 19, 20, 21, 22, 23, 24, 25, 26, 27, 28, 29, 30, 31, 32, 33,\n",
       "       34, 35, 36, 37, 38, 39, 40, 41, 42, 43, 44, 45, 46, 47, 48, 49, 50,\n",
       "       51, 52, 53, 54, 55, 56, 57, 58, 59, 60, 61, 62, 63, 64, 65, 66, 67,\n",
       "       68, 69, 70, 71, 72, 73, 74, 75, 76, 77, 78, 79, 80, 81, 82, 83, 84,\n",
       "       85, 86, 87, 88, 89, 90, 91, 92, 93, 94, 95, 96, 97, 98, 99])},\n",
       "             scoring=&#x27;neg_mean_absolute_percentage_error&#x27;)</pre><b>In a Jupyter environment, please rerun this cell to show the HTML representation or trust the notebook. <br />On GitHub, the HTML representation is unable to render, please try loading this page with nbviewer.org.</b></div><div class=\"sk-container\" hidden><div class=\"sk-item sk-dashed-wrapped\"><div class=\"sk-label-container\"><div class=\"sk-label sk-toggleable\"><input class=\"sk-toggleable__control sk-hidden--visually\" id=\"sk-estimator-id-94\" type=\"checkbox\" ><label for=\"sk-estimator-id-94\" class=\"sk-toggleable__label sk-toggleable__label-arrow\">GridSearchCV</label><div class=\"sk-toggleable__content\"><pre>GridSearchCV(estimator=Pipeline(steps=[(&#x27;lasso&#x27;, Ridge())]), n_jobs=-1,\n",
       "             param_grid={&#x27;lasso__alpha&#x27;: array([ 0,  1,  2,  3,  4,  5,  6,  7,  8,  9, 10, 11, 12, 13, 14, 15, 16,\n",
       "       17, 18, 19, 20, 21, 22, 23, 24, 25, 26, 27, 28, 29, 30, 31, 32, 33,\n",
       "       34, 35, 36, 37, 38, 39, 40, 41, 42, 43, 44, 45, 46, 47, 48, 49, 50,\n",
       "       51, 52, 53, 54, 55, 56, 57, 58, 59, 60, 61, 62, 63, 64, 65, 66, 67,\n",
       "       68, 69, 70, 71, 72, 73, 74, 75, 76, 77, 78, 79, 80, 81, 82, 83, 84,\n",
       "       85, 86, 87, 88, 89, 90, 91, 92, 93, 94, 95, 96, 97, 98, 99])},\n",
       "             scoring=&#x27;neg_mean_absolute_percentage_error&#x27;)</pre></div></div></div><div class=\"sk-parallel\"><div class=\"sk-parallel-item\"><div class=\"sk-item\"><div class=\"sk-label-container\"><div class=\"sk-label sk-toggleable\"><input class=\"sk-toggleable__control sk-hidden--visually\" id=\"sk-estimator-id-95\" type=\"checkbox\" ><label for=\"sk-estimator-id-95\" class=\"sk-toggleable__label sk-toggleable__label-arrow\">estimator: Pipeline</label><div class=\"sk-toggleable__content\"><pre>Pipeline(steps=[(&#x27;lasso&#x27;, Ridge())])</pre></div></div></div><div class=\"sk-serial\"><div class=\"sk-item\"><div class=\"sk-serial\"><div class=\"sk-item\"><div class=\"sk-estimator sk-toggleable\"><input class=\"sk-toggleable__control sk-hidden--visually\" id=\"sk-estimator-id-96\" type=\"checkbox\" ><label for=\"sk-estimator-id-96\" class=\"sk-toggleable__label sk-toggleable__label-arrow\">Ridge</label><div class=\"sk-toggleable__content\"><pre>Ridge()</pre></div></div></div></div></div></div></div></div></div></div></div></div>"
      ],
      "text/plain": [
       "GridSearchCV(estimator=Pipeline(steps=[('lasso', Ridge())]), n_jobs=-1,\n",
       "             param_grid={'lasso__alpha': array([ 0,  1,  2,  3,  4,  5,  6,  7,  8,  9, 10, 11, 12, 13, 14, 15, 16,\n",
       "       17, 18, 19, 20, 21, 22, 23, 24, 25, 26, 27, 28, 29, 30, 31, 32, 33,\n",
       "       34, 35, 36, 37, 38, 39, 40, 41, 42, 43, 44, 45, 46, 47, 48, 49, 50,\n",
       "       51, 52, 53, 54, 55, 56, 57, 58, 59, 60, 61, 62, 63, 64, 65, 66, 67,\n",
       "       68, 69, 70, 71, 72, 73, 74, 75, 76, 77, 78, 79, 80, 81, 82, 83, 84,\n",
       "       85, 86, 87, 88, 89, 90, 91, 92, 93, 94, 95, 96, 97, 98, 99])},\n",
       "             scoring='neg_mean_absolute_percentage_error')"
      ]
     },
     "execution_count": 617,
     "metadata": {},
     "output_type": "execute_result"
    }
   ],
   "source": [
    "pipeline = Pipeline([\n",
    "    ('lasso', Ridge())\n",
    "])\n",
    "\n",
    "param_grid = {\n",
    "    'lasso__alpha': np.arange(0,100,1) \n",
    "}\n",
    "\n",
    "scores='neg_mean_absolute_percentage_error'\n",
    "grid = GridSearchCV(pipeline, n_jobs=-1, param_grid=param_grid, scoring='neg_mean_absolute_percentage_error')\n",
    "grid.fit(X_train, y_train)\n"
   ]
  },
  {
   "cell_type": "code",
   "execution_count": 618,
   "id": "8d033ee2-b9bc-4133-92d0-1a168ad904c4",
   "metadata": {
    "execution": {
     "iopub.execute_input": "2023-12-21T12:09:15.609415Z",
     "iopub.status.busy": "2023-12-21T12:09:15.608409Z",
     "iopub.status.idle": "2023-12-21T12:09:15.650943Z",
     "shell.execute_reply": "2023-12-21T12:09:15.649921Z",
     "shell.execute_reply.started": "2023-12-21T12:09:15.609415Z"
    },
    "scrolled": true
   },
   "outputs": [
    {
     "data": {
      "text/html": [
       "<div>\n",
       "<style scoped>\n",
       "    .dataframe tbody tr th:only-of-type {\n",
       "        vertical-align: middle;\n",
       "    }\n",
       "\n",
       "    .dataframe tbody tr th {\n",
       "        vertical-align: top;\n",
       "    }\n",
       "\n",
       "    .dataframe thead th {\n",
       "        text-align: right;\n",
       "    }\n",
       "</style>\n",
       "<table border=\"1\" class=\"dataframe\">\n",
       "  <thead>\n",
       "    <tr style=\"text-align: right;\">\n",
       "      <th></th>\n",
       "      <th>mean_fit_time</th>\n",
       "      <th>std_fit_time</th>\n",
       "      <th>mean_score_time</th>\n",
       "      <th>std_score_time</th>\n",
       "      <th>param_lasso__alpha</th>\n",
       "      <th>params</th>\n",
       "      <th>split0_test_score</th>\n",
       "      <th>split1_test_score</th>\n",
       "      <th>split2_test_score</th>\n",
       "      <th>split3_test_score</th>\n",
       "      <th>split4_test_score</th>\n",
       "      <th>mean_test_score</th>\n",
       "      <th>std_test_score</th>\n",
       "      <th>rank_test_score</th>\n",
       "    </tr>\n",
       "  </thead>\n",
       "  <tbody>\n",
       "    <tr>\n",
       "      <th>22</th>\n",
       "      <td>0.004286</td>\n",
       "      <td>0.000257</td>\n",
       "      <td>0.002724</td>\n",
       "      <td>0.000400</td>\n",
       "      <td>22</td>\n",
       "      <td>{'lasso__alpha': 22}</td>\n",
       "      <td>-0.175118</td>\n",
       "      <td>-0.174050</td>\n",
       "      <td>-0.158304</td>\n",
       "      <td>-0.167889</td>\n",
       "      <td>-0.212399</td>\n",
       "      <td>-0.177552</td>\n",
       "      <td>0.018419</td>\n",
       "      <td>1</td>\n",
       "    </tr>\n",
       "    <tr>\n",
       "      <th>23</th>\n",
       "      <td>0.004635</td>\n",
       "      <td>0.000359</td>\n",
       "      <td>0.002847</td>\n",
       "      <td>0.000433</td>\n",
       "      <td>23</td>\n",
       "      <td>{'lasso__alpha': 23}</td>\n",
       "      <td>-0.175071</td>\n",
       "      <td>-0.174070</td>\n",
       "      <td>-0.158501</td>\n",
       "      <td>-0.167705</td>\n",
       "      <td>-0.212430</td>\n",
       "      <td>-0.177555</td>\n",
       "      <td>0.018410</td>\n",
       "      <td>2</td>\n",
       "    </tr>\n",
       "    <tr>\n",
       "      <th>21</th>\n",
       "      <td>0.004146</td>\n",
       "      <td>0.001106</td>\n",
       "      <td>0.002508</td>\n",
       "      <td>0.000900</td>\n",
       "      <td>21</td>\n",
       "      <td>{'lasso__alpha': 21}</td>\n",
       "      <td>-0.175165</td>\n",
       "      <td>-0.174031</td>\n",
       "      <td>-0.158106</td>\n",
       "      <td>-0.168076</td>\n",
       "      <td>-0.212408</td>\n",
       "      <td>-0.177557</td>\n",
       "      <td>0.018444</td>\n",
       "      <td>3</td>\n",
       "    </tr>\n",
       "    <tr>\n",
       "      <th>24</th>\n",
       "      <td>0.004209</td>\n",
       "      <td>0.000384</td>\n",
       "      <td>0.002745</td>\n",
       "      <td>0.000520</td>\n",
       "      <td>24</td>\n",
       "      <td>{'lasso__alpha': 24}</td>\n",
       "      <td>-0.175025</td>\n",
       "      <td>-0.174089</td>\n",
       "      <td>-0.158697</td>\n",
       "      <td>-0.167523</td>\n",
       "      <td>-0.212477</td>\n",
       "      <td>-0.177562</td>\n",
       "      <td>0.018407</td>\n",
       "      <td>4</td>\n",
       "    </tr>\n",
       "    <tr>\n",
       "      <th>25</th>\n",
       "      <td>0.004380</td>\n",
       "      <td>0.000321</td>\n",
       "      <td>0.003108</td>\n",
       "      <td>0.000469</td>\n",
       "      <td>25</td>\n",
       "      <td>{'lasso__alpha': 25}</td>\n",
       "      <td>-0.174978</td>\n",
       "      <td>-0.174109</td>\n",
       "      <td>-0.158892</td>\n",
       "      <td>-0.167343</td>\n",
       "      <td>-0.212524</td>\n",
       "      <td>-0.177569</td>\n",
       "      <td>0.018406</td>\n",
       "      <td>5</td>\n",
       "    </tr>\n",
       "    <tr>\n",
       "      <th>...</th>\n",
       "      <td>...</td>\n",
       "      <td>...</td>\n",
       "      <td>...</td>\n",
       "      <td>...</td>\n",
       "      <td>...</td>\n",
       "      <td>...</td>\n",
       "      <td>...</td>\n",
       "      <td>...</td>\n",
       "      <td>...</td>\n",
       "      <td>...</td>\n",
       "      <td>...</td>\n",
       "      <td>...</td>\n",
       "      <td>...</td>\n",
       "      <td>...</td>\n",
       "    </tr>\n",
       "    <tr>\n",
       "      <th>95</th>\n",
       "      <td>0.003774</td>\n",
       "      <td>0.000471</td>\n",
       "      <td>0.001599</td>\n",
       "      <td>0.000489</td>\n",
       "      <td>95</td>\n",
       "      <td>{'lasso__alpha': 95}</td>\n",
       "      <td>-0.172257</td>\n",
       "      <td>-0.177094</td>\n",
       "      <td>-0.174946</td>\n",
       "      <td>-0.162607</td>\n",
       "      <td>-0.225062</td>\n",
       "      <td>-0.182393</td>\n",
       "      <td>0.021902</td>\n",
       "      <td>96</td>\n",
       "    </tr>\n",
       "    <tr>\n",
       "      <th>96</th>\n",
       "      <td>0.004185</td>\n",
       "      <td>0.000490</td>\n",
       "      <td>0.002663</td>\n",
       "      <td>0.000417</td>\n",
       "      <td>96</td>\n",
       "      <td>{'lasso__alpha': 96}</td>\n",
       "      <td>-0.172234</td>\n",
       "      <td>-0.177215</td>\n",
       "      <td>-0.175149</td>\n",
       "      <td>-0.162604</td>\n",
       "      <td>-0.225265</td>\n",
       "      <td>-0.182493</td>\n",
       "      <td>0.021964</td>\n",
       "      <td>97</td>\n",
       "    </tr>\n",
       "    <tr>\n",
       "      <th>97</th>\n",
       "      <td>0.004369</td>\n",
       "      <td>0.000355</td>\n",
       "      <td>0.002320</td>\n",
       "      <td>0.000418</td>\n",
       "      <td>97</td>\n",
       "      <td>{'lasso__alpha': 97}</td>\n",
       "      <td>-0.172211</td>\n",
       "      <td>-0.177335</td>\n",
       "      <td>-0.175351</td>\n",
       "      <td>-0.162601</td>\n",
       "      <td>-0.225467</td>\n",
       "      <td>-0.182593</td>\n",
       "      <td>0.022026</td>\n",
       "      <td>98</td>\n",
       "    </tr>\n",
       "    <tr>\n",
       "      <th>98</th>\n",
       "      <td>0.003525</td>\n",
       "      <td>0.000444</td>\n",
       "      <td>0.002166</td>\n",
       "      <td>0.000341</td>\n",
       "      <td>98</td>\n",
       "      <td>{'lasso__alpha': 98}</td>\n",
       "      <td>-0.172188</td>\n",
       "      <td>-0.177455</td>\n",
       "      <td>-0.175552</td>\n",
       "      <td>-0.162598</td>\n",
       "      <td>-0.225669</td>\n",
       "      <td>-0.182692</td>\n",
       "      <td>0.022089</td>\n",
       "      <td>99</td>\n",
       "    </tr>\n",
       "    <tr>\n",
       "      <th>99</th>\n",
       "      <td>0.003249</td>\n",
       "      <td>0.000820</td>\n",
       "      <td>0.001677</td>\n",
       "      <td>0.000361</td>\n",
       "      <td>99</td>\n",
       "      <td>{'lasso__alpha': 99}</td>\n",
       "      <td>-0.172164</td>\n",
       "      <td>-0.177575</td>\n",
       "      <td>-0.175752</td>\n",
       "      <td>-0.162596</td>\n",
       "      <td>-0.225869</td>\n",
       "      <td>-0.182791</td>\n",
       "      <td>0.022151</td>\n",
       "      <td>100</td>\n",
       "    </tr>\n",
       "  </tbody>\n",
       "</table>\n",
       "<p>100 rows × 14 columns</p>\n",
       "</div>"
      ],
      "text/plain": [
       "    mean_fit_time  std_fit_time  mean_score_time  std_score_time  \\\n",
       "22       0.004286      0.000257         0.002724        0.000400   \n",
       "23       0.004635      0.000359         0.002847        0.000433   \n",
       "21       0.004146      0.001106         0.002508        0.000900   \n",
       "24       0.004209      0.000384         0.002745        0.000520   \n",
       "25       0.004380      0.000321         0.003108        0.000469   \n",
       "..            ...           ...              ...             ...   \n",
       "95       0.003774      0.000471         0.001599        0.000489   \n",
       "96       0.004185      0.000490         0.002663        0.000417   \n",
       "97       0.004369      0.000355         0.002320        0.000418   \n",
       "98       0.003525      0.000444         0.002166        0.000341   \n",
       "99       0.003249      0.000820         0.001677        0.000361   \n",
       "\n",
       "   param_lasso__alpha                params  split0_test_score  \\\n",
       "22                 22  {'lasso__alpha': 22}          -0.175118   \n",
       "23                 23  {'lasso__alpha': 23}          -0.175071   \n",
       "21                 21  {'lasso__alpha': 21}          -0.175165   \n",
       "24                 24  {'lasso__alpha': 24}          -0.175025   \n",
       "25                 25  {'lasso__alpha': 25}          -0.174978   \n",
       "..                ...                   ...                ...   \n",
       "95                 95  {'lasso__alpha': 95}          -0.172257   \n",
       "96                 96  {'lasso__alpha': 96}          -0.172234   \n",
       "97                 97  {'lasso__alpha': 97}          -0.172211   \n",
       "98                 98  {'lasso__alpha': 98}          -0.172188   \n",
       "99                 99  {'lasso__alpha': 99}          -0.172164   \n",
       "\n",
       "    split1_test_score  split2_test_score  split3_test_score  \\\n",
       "22          -0.174050          -0.158304          -0.167889   \n",
       "23          -0.174070          -0.158501          -0.167705   \n",
       "21          -0.174031          -0.158106          -0.168076   \n",
       "24          -0.174089          -0.158697          -0.167523   \n",
       "25          -0.174109          -0.158892          -0.167343   \n",
       "..                ...                ...                ...   \n",
       "95          -0.177094          -0.174946          -0.162607   \n",
       "96          -0.177215          -0.175149          -0.162604   \n",
       "97          -0.177335          -0.175351          -0.162601   \n",
       "98          -0.177455          -0.175552          -0.162598   \n",
       "99          -0.177575          -0.175752          -0.162596   \n",
       "\n",
       "    split4_test_score  mean_test_score  std_test_score  rank_test_score  \n",
       "22          -0.212399        -0.177552        0.018419                1  \n",
       "23          -0.212430        -0.177555        0.018410                2  \n",
       "21          -0.212408        -0.177557        0.018444                3  \n",
       "24          -0.212477        -0.177562        0.018407                4  \n",
       "25          -0.212524        -0.177569        0.018406                5  \n",
       "..                ...              ...             ...              ...  \n",
       "95          -0.225062        -0.182393        0.021902               96  \n",
       "96          -0.225265        -0.182493        0.021964               97  \n",
       "97          -0.225467        -0.182593        0.022026               98  \n",
       "98          -0.225669        -0.182692        0.022089               99  \n",
       "99          -0.225869        -0.182791        0.022151              100  \n",
       "\n",
       "[100 rows x 14 columns]"
      ]
     },
     "execution_count": 618,
     "metadata": {},
     "output_type": "execute_result"
    }
   ],
   "source": [
    "grid_result = pd.DataFrame(grid.cv_results_).sort_values([\"rank_test_score\",'std_test_score'])\n",
    "grid_result"
   ]
  },
  {
   "cell_type": "code",
   "execution_count": null,
   "id": "197019d0-2e91-4b4c-a607-55c22d62ac2e",
   "metadata": {},
   "outputs": [],
   "source": []
  },
  {
   "cell_type": "code",
   "execution_count": 371,
   "id": "be898716-f901-48ad-a840-030df1d8e921",
   "metadata": {
    "execution": {
     "iopub.execute_input": "2023-12-21T11:39:22.705908Z",
     "iopub.status.busy": "2023-12-21T11:39:22.705908Z",
     "iopub.status.idle": "2023-12-21T11:39:23.096001Z",
     "shell.execute_reply": "2023-12-21T11:39:23.094969Z",
     "shell.execute_reply.started": "2023-12-21T11:39:22.705908Z"
    }
   },
   "outputs": [
    {
     "name": "stdout",
     "output_type": "stream",
     "text": [
      "Cross validation scores:\n",
      "\t -0.1821\n",
      "\t-0.1944\n",
      "\t-0.2575\n",
      "\t-0.2311\n",
      "\t-0.1966\n",
      "Mean Precision = 0.2123\n"
     ]
    }
   ],
   "source": [
    "pipeline_2 = Pipeline(\n",
    "    steps=[\n",
    "        (\"regression\", GradientBoostingRegressor(n_estimators=49, learning_rate=0.1))\n",
    "    ]\n",
    ")\n",
    "model_gbm = pipeline_2.fit(X_train, y_train)\n",
    "\n",
    "mean_absolute_percentage_error(y_test, model_gbm.predict(X_test))\n",
    "# Затем передайте этот объект в функцию cross_val_score\n",
    "# Затем передайте этот объект в функцию cross_val_score4\n",
    "cv_scores = cross_val_score(model_gbm, X_test, y_test, cv=cv, scoring=\"neg_mean_absolute_percentage_error\")\n",
    "\n",
    "print(\"Cross validation scores:\\n\\t\", \"\\n\\t\".join(\"%.4f\" % x for x in cv_scores))\n",
    "print(\"Mean Precision = %.4f\" % np.mean(-cv_scores))"
   ]
  },
  {
   "cell_type": "code",
   "execution_count": 368,
   "id": "68b7a9b3-4723-457b-adb1-36fbae0912c3",
   "metadata": {
    "execution": {
     "iopub.execute_input": "2023-12-21T11:38:21.297262Z",
     "iopub.status.busy": "2023-12-21T11:38:21.296265Z",
     "iopub.status.idle": "2023-12-21T11:39:03.833585Z",
     "shell.execute_reply": "2023-12-21T11:39:03.833585Z",
     "shell.execute_reply.started": "2023-12-21T11:38:21.297262Z"
    },
    "scrolled": true
   },
   "outputs": [],
   "source": [
    "from sklearn.metrics import make_scorer, f1_score\n",
    "# Use StratifiedKFold for cross-validation to handle class imbalances\n",
    "\n",
    "# Define the parameter grid for the grid search\n",
    "param_grid = {\n",
    "    'regression__n_estimators': np.arange(10,50,1),\n",
    "    'regression__learning_rate': [1, 0.5, 0.3, 0.2, 0.1,10],\n",
    "}\n",
    "\n",
    "\n",
    "# Perform grid search\n",
    "grid_search = GridSearchCV(pipeline_2, param_grid=param_grid, cv=cv, scoring= 'neg_mean_absolute_percentage_error')\n",
    "grid_search.fit(X_train, y_train)\n",
    "\n",
    "# Get the best parameters and best model from the grid search\n",
    "best_params = grid_search.best_params_\n",
    "best_model = grid_search.best_estimator_"
   ]
  },
  {
   "cell_type": "code",
   "execution_count": 369,
   "id": "2f806890-0b05-4c78-97d4-439480a53e3a",
   "metadata": {
    "execution": {
     "iopub.execute_input": "2023-12-21T11:39:03.835599Z",
     "iopub.status.busy": "2023-12-21T11:39:03.835599Z",
     "iopub.status.idle": "2023-12-21T11:39:03.867622Z",
     "shell.execute_reply": "2023-12-21T11:39:03.866605Z",
     "shell.execute_reply.started": "2023-12-21T11:39:03.835599Z"
    }
   },
   "outputs": [
    {
     "data": {
      "text/html": [
       "<div>\n",
       "<style scoped>\n",
       "    .dataframe tbody tr th:only-of-type {\n",
       "        vertical-align: middle;\n",
       "    }\n",
       "\n",
       "    .dataframe tbody tr th {\n",
       "        vertical-align: top;\n",
       "    }\n",
       "\n",
       "    .dataframe thead th {\n",
       "        text-align: right;\n",
       "    }\n",
       "</style>\n",
       "<table border=\"1\" class=\"dataframe\">\n",
       "  <thead>\n",
       "    <tr style=\"text-align: right;\">\n",
       "      <th></th>\n",
       "      <th>mean_fit_time</th>\n",
       "      <th>std_fit_time</th>\n",
       "      <th>mean_score_time</th>\n",
       "      <th>std_score_time</th>\n",
       "      <th>param_regression__learning_rate</th>\n",
       "      <th>param_regression__n_estimators</th>\n",
       "      <th>params</th>\n",
       "      <th>split0_test_score</th>\n",
       "      <th>split1_test_score</th>\n",
       "      <th>split2_test_score</th>\n",
       "      <th>split3_test_score</th>\n",
       "      <th>split4_test_score</th>\n",
       "      <th>mean_test_score</th>\n",
       "      <th>std_test_score</th>\n",
       "      <th>rank_test_score</th>\n",
       "    </tr>\n",
       "  </thead>\n",
       "  <tbody>\n",
       "    <tr>\n",
       "      <th>199</th>\n",
       "      <td>0.047730</td>\n",
       "      <td>0.002213</td>\n",
       "      <td>0.001400</td>\n",
       "      <td>0.000488</td>\n",
       "      <td>0.1</td>\n",
       "      <td>49</td>\n",
       "      <td>{'regression__learning_rate': 0.1, 'regression...</td>\n",
       "      <td>-1.861357e-01</td>\n",
       "      <td>-1.999908e-01</td>\n",
       "      <td>-2.019356e-01</td>\n",
       "      <td>-1.695202e-01</td>\n",
       "      <td>-2.064962e-01</td>\n",
       "      <td>-1.928157e-01</td>\n",
       "      <td>1.348417e-02</td>\n",
       "      <td>1</td>\n",
       "    </tr>\n",
       "    <tr>\n",
       "      <th>190</th>\n",
       "      <td>0.047030</td>\n",
       "      <td>0.009907</td>\n",
       "      <td>0.001401</td>\n",
       "      <td>0.000806</td>\n",
       "      <td>0.1</td>\n",
       "      <td>40</td>\n",
       "      <td>{'regression__learning_rate': 0.1, 'regression...</td>\n",
       "      <td>-1.901096e-01</td>\n",
       "      <td>-1.994466e-01</td>\n",
       "      <td>-2.018754e-01</td>\n",
       "      <td>-1.672863e-01</td>\n",
       "      <td>-2.081667e-01</td>\n",
       "      <td>-1.933769e-01</td>\n",
       "      <td>1.427724e-02</td>\n",
       "      <td>2</td>\n",
       "    </tr>\n",
       "    <tr>\n",
       "      <th>192</th>\n",
       "      <td>0.041847</td>\n",
       "      <td>0.003402</td>\n",
       "      <td>0.001513</td>\n",
       "      <td>0.000449</td>\n",
       "      <td>0.1</td>\n",
       "      <td>42</td>\n",
       "      <td>{'regression__learning_rate': 0.1, 'regression...</td>\n",
       "      <td>-1.893452e-01</td>\n",
       "      <td>-2.011598e-01</td>\n",
       "      <td>-2.006026e-01</td>\n",
       "      <td>-1.679272e-01</td>\n",
       "      <td>-2.081330e-01</td>\n",
       "      <td>-1.934336e-01</td>\n",
       "      <td>1.410285e-02</td>\n",
       "      <td>3</td>\n",
       "    </tr>\n",
       "    <tr>\n",
       "      <th>198</th>\n",
       "      <td>0.045660</td>\n",
       "      <td>0.002399</td>\n",
       "      <td>0.001001</td>\n",
       "      <td>0.000015</td>\n",
       "      <td>0.1</td>\n",
       "      <td>48</td>\n",
       "      <td>{'regression__learning_rate': 0.1, 'regression...</td>\n",
       "      <td>-1.869418e-01</td>\n",
       "      <td>-2.005395e-01</td>\n",
       "      <td>-2.017234e-01</td>\n",
       "      <td>-1.711322e-01</td>\n",
       "      <td>-2.071472e-01</td>\n",
       "      <td>-1.934968e-01</td>\n",
       "      <td>1.301348e-02</td>\n",
       "      <td>4</td>\n",
       "    </tr>\n",
       "    <tr>\n",
       "      <th>131</th>\n",
       "      <td>0.021205</td>\n",
       "      <td>0.000751</td>\n",
       "      <td>0.001503</td>\n",
       "      <td>0.000446</td>\n",
       "      <td>0.2</td>\n",
       "      <td>21</td>\n",
       "      <td>{'regression__learning_rate': 0.2, 'regression...</td>\n",
       "      <td>-1.846182e-01</td>\n",
       "      <td>-2.088921e-01</td>\n",
       "      <td>-1.983202e-01</td>\n",
       "      <td>-1.648199e-01</td>\n",
       "      <td>-2.115182e-01</td>\n",
       "      <td>-1.936337e-01</td>\n",
       "      <td>1.724040e-02</td>\n",
       "      <td>5</td>\n",
       "    </tr>\n",
       "    <tr>\n",
       "      <th>...</th>\n",
       "      <td>...</td>\n",
       "      <td>...</td>\n",
       "      <td>...</td>\n",
       "      <td>...</td>\n",
       "      <td>...</td>\n",
       "      <td>...</td>\n",
       "      <td>...</td>\n",
       "      <td>...</td>\n",
       "      <td>...</td>\n",
       "      <td>...</td>\n",
       "      <td>...</td>\n",
       "      <td>...</td>\n",
       "      <td>...</td>\n",
       "      <td>...</td>\n",
       "      <td>...</td>\n",
       "    </tr>\n",
       "    <tr>\n",
       "      <th>235</th>\n",
       "      <td>0.046028</td>\n",
       "      <td>0.003495</td>\n",
       "      <td>0.001400</td>\n",
       "      <td>0.000494</td>\n",
       "      <td>10</td>\n",
       "      <td>45</td>\n",
       "      <td>{'regression__learning_rate': 10, 'regression_...</td>\n",
       "      <td>-1.986455e+42</td>\n",
       "      <td>-2.080564e+42</td>\n",
       "      <td>-1.423459e+42</td>\n",
       "      <td>-1.965569e+42</td>\n",
       "      <td>-1.950796e+42</td>\n",
       "      <td>-1.881369e+42</td>\n",
       "      <td>2.333722e+41</td>\n",
       "      <td>236</td>\n",
       "    </tr>\n",
       "    <tr>\n",
       "      <th>236</th>\n",
       "      <td>0.047259</td>\n",
       "      <td>0.001843</td>\n",
       "      <td>0.001188</td>\n",
       "      <td>0.000397</td>\n",
       "      <td>10</td>\n",
       "      <td>46</td>\n",
       "      <td>{'regression__learning_rate': 10, 'regression_...</td>\n",
       "      <td>-1.787809e+43</td>\n",
       "      <td>-1.872508e+43</td>\n",
       "      <td>-1.281113e+43</td>\n",
       "      <td>-1.769676e+43</td>\n",
       "      <td>-1.755744e+43</td>\n",
       "      <td>-1.693370e+43</td>\n",
       "      <td>2.100847e+42</td>\n",
       "      <td>237</td>\n",
       "    </tr>\n",
       "    <tr>\n",
       "      <th>237</th>\n",
       "      <td>0.057582</td>\n",
       "      <td>0.015304</td>\n",
       "      <td>0.001797</td>\n",
       "      <td>0.000753</td>\n",
       "      <td>10</td>\n",
       "      <td>47</td>\n",
       "      <td>{'regression__learning_rate': 10, 'regression_...</td>\n",
       "      <td>-1.609028e+44</td>\n",
       "      <td>-1.685257e+44</td>\n",
       "      <td>-1.153002e+44</td>\n",
       "      <td>-1.592644e+44</td>\n",
       "      <td>-1.580145e+44</td>\n",
       "      <td>-1.524015e+44</td>\n",
       "      <td>1.890701e+43</td>\n",
       "      <td>238</td>\n",
       "    </tr>\n",
       "    <tr>\n",
       "      <th>238</th>\n",
       "      <td>0.047035</td>\n",
       "      <td>0.003503</td>\n",
       "      <td>0.001405</td>\n",
       "      <td>0.000489</td>\n",
       "      <td>10</td>\n",
       "      <td>48</td>\n",
       "      <td>{'regression__learning_rate': 10, 'regression_...</td>\n",
       "      <td>-1.448126e+45</td>\n",
       "      <td>-1.516731e+45</td>\n",
       "      <td>-1.037702e+45</td>\n",
       "      <td>-1.432906e+45</td>\n",
       "      <td>-1.420523e+45</td>\n",
       "      <td>-1.371198e+45</td>\n",
       "      <td>1.700344e+44</td>\n",
       "      <td>239</td>\n",
       "    </tr>\n",
       "    <tr>\n",
       "      <th>239</th>\n",
       "      <td>0.046534</td>\n",
       "      <td>0.002285</td>\n",
       "      <td>0.001103</td>\n",
       "      <td>0.000216</td>\n",
       "      <td>10</td>\n",
       "      <td>49</td>\n",
       "      <td>{'regression__learning_rate': 10, 'regression_...</td>\n",
       "      <td>-1.303313e+46</td>\n",
       "      <td>-1.365058e+46</td>\n",
       "      <td>-9.339314e+45</td>\n",
       "      <td>-1.258634e+46</td>\n",
       "      <td>-1.279937e+46</td>\n",
       "      <td>-1.228175e+46</td>\n",
       "      <td>1.513731e+45</td>\n",
       "      <td>240</td>\n",
       "    </tr>\n",
       "  </tbody>\n",
       "</table>\n",
       "<p>240 rows × 15 columns</p>\n",
       "</div>"
      ],
      "text/plain": [
       "     mean_fit_time  std_fit_time  mean_score_time  std_score_time  \\\n",
       "199       0.047730      0.002213         0.001400        0.000488   \n",
       "190       0.047030      0.009907         0.001401        0.000806   \n",
       "192       0.041847      0.003402         0.001513        0.000449   \n",
       "198       0.045660      0.002399         0.001001        0.000015   \n",
       "131       0.021205      0.000751         0.001503        0.000446   \n",
       "..             ...           ...              ...             ...   \n",
       "235       0.046028      0.003495         0.001400        0.000494   \n",
       "236       0.047259      0.001843         0.001188        0.000397   \n",
       "237       0.057582      0.015304         0.001797        0.000753   \n",
       "238       0.047035      0.003503         0.001405        0.000489   \n",
       "239       0.046534      0.002285         0.001103        0.000216   \n",
       "\n",
       "    param_regression__learning_rate param_regression__n_estimators  \\\n",
       "199                             0.1                             49   \n",
       "190                             0.1                             40   \n",
       "192                             0.1                             42   \n",
       "198                             0.1                             48   \n",
       "131                             0.2                             21   \n",
       "..                              ...                            ...   \n",
       "235                              10                             45   \n",
       "236                              10                             46   \n",
       "237                              10                             47   \n",
       "238                              10                             48   \n",
       "239                              10                             49   \n",
       "\n",
       "                                                params  split0_test_score  \\\n",
       "199  {'regression__learning_rate': 0.1, 'regression...      -1.861357e-01   \n",
       "190  {'regression__learning_rate': 0.1, 'regression...      -1.901096e-01   \n",
       "192  {'regression__learning_rate': 0.1, 'regression...      -1.893452e-01   \n",
       "198  {'regression__learning_rate': 0.1, 'regression...      -1.869418e-01   \n",
       "131  {'regression__learning_rate': 0.2, 'regression...      -1.846182e-01   \n",
       "..                                                 ...                ...   \n",
       "235  {'regression__learning_rate': 10, 'regression_...      -1.986455e+42   \n",
       "236  {'regression__learning_rate': 10, 'regression_...      -1.787809e+43   \n",
       "237  {'regression__learning_rate': 10, 'regression_...      -1.609028e+44   \n",
       "238  {'regression__learning_rate': 10, 'regression_...      -1.448126e+45   \n",
       "239  {'regression__learning_rate': 10, 'regression_...      -1.303313e+46   \n",
       "\n",
       "     split1_test_score  split2_test_score  split3_test_score  \\\n",
       "199      -1.999908e-01      -2.019356e-01      -1.695202e-01   \n",
       "190      -1.994466e-01      -2.018754e-01      -1.672863e-01   \n",
       "192      -2.011598e-01      -2.006026e-01      -1.679272e-01   \n",
       "198      -2.005395e-01      -2.017234e-01      -1.711322e-01   \n",
       "131      -2.088921e-01      -1.983202e-01      -1.648199e-01   \n",
       "..                 ...                ...                ...   \n",
       "235      -2.080564e+42      -1.423459e+42      -1.965569e+42   \n",
       "236      -1.872508e+43      -1.281113e+43      -1.769676e+43   \n",
       "237      -1.685257e+44      -1.153002e+44      -1.592644e+44   \n",
       "238      -1.516731e+45      -1.037702e+45      -1.432906e+45   \n",
       "239      -1.365058e+46      -9.339314e+45      -1.258634e+46   \n",
       "\n",
       "     split4_test_score  mean_test_score  std_test_score  rank_test_score  \n",
       "199      -2.064962e-01    -1.928157e-01    1.348417e-02                1  \n",
       "190      -2.081667e-01    -1.933769e-01    1.427724e-02                2  \n",
       "192      -2.081330e-01    -1.934336e-01    1.410285e-02                3  \n",
       "198      -2.071472e-01    -1.934968e-01    1.301348e-02                4  \n",
       "131      -2.115182e-01    -1.936337e-01    1.724040e-02                5  \n",
       "..                 ...              ...             ...              ...  \n",
       "235      -1.950796e+42    -1.881369e+42    2.333722e+41              236  \n",
       "236      -1.755744e+43    -1.693370e+43    2.100847e+42              237  \n",
       "237      -1.580145e+44    -1.524015e+44    1.890701e+43              238  \n",
       "238      -1.420523e+45    -1.371198e+45    1.700344e+44              239  \n",
       "239      -1.279937e+46    -1.228175e+46    1.513731e+45              240  \n",
       "\n",
       "[240 rows x 15 columns]"
      ]
     },
     "execution_count": 369,
     "metadata": {},
     "output_type": "execute_result"
    }
   ],
   "source": [
    "grid_result = pd.DataFrame(grid_search.cv_results_).sort_values([\"rank_test_score\",'std_test_score'])\n",
    "grid_result"
   ]
  },
  {
   "cell_type": "code",
   "execution_count": null,
   "id": "88b7709f-a632-4317-82e5-f1f037a0f384",
   "metadata": {},
   "outputs": [],
   "source": []
  }
 ],
 "metadata": {
  "kernelspec": {
   "display_name": "Python 3 (ipykernel)",
   "language": "python",
   "name": "python3"
  },
  "language_info": {
   "codemirror_mode": {
    "name": "ipython",
    "version": 3
   },
   "file_extension": ".py",
   "mimetype": "text/x-python",
   "name": "python",
   "nbconvert_exporter": "python",
   "pygments_lexer": "ipython3",
   "version": "3.10.13"
  }
 },
 "nbformat": 4,
 "nbformat_minor": 5
}
