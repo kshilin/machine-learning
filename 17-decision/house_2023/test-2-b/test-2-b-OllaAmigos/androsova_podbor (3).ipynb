{
 "cells": [
  {
   "cell_type": "code",
   "execution_count": 22,
   "id": "5ab23c12",
   "metadata": {},
   "outputs": [],
   "source": [
    "import numpy as np\n",
    "import pandas as pd\n",
    "import matplotlib.pyplot as plt\n",
    "import seaborn as sns\n",
    "\n",
    "\n",
    "from sklearn.model_selection import cross_val_score\n",
    "from sklearn.metrics import accuracy_score\n",
    "\n",
    "from sklearn.preprocessing import OrdinalEncoder,LabelEncoder, OneHotEncoder\n",
    "from sklearn.preprocessing import MinMaxScaler, StandardScaler, RobustScaler, Normalizer\n",
    "from sklearn.preprocessing import PolynomialFeatures, QuantileTransformer, PowerTransformer\n",
    "from sklearn.model_selection import train_test_split \n",
    "\n",
    "from sklearn.preprocessing import PolynomialFeatures\n",
    "\n",
    "from sklearn.compose import ColumnTransformer, make_column_transformer, TransformedTargetRegressor\\\n",
    "\n",
    "from sklearn.pipeline import Pipeline\n",
    "from sklearn.model_selection import GridSearchCV\n",
    "\n",
    "from sklearn.linear_model import Ridge, Lasso, ElasticNet, BayesianRidge, LinearRegression\n",
    "from sklearn.neighbors import KNeighborsRegressor\n",
    "from sklearn.svm import LinearSVR, SVR\n",
    "\n",
    "\n",
    "import category_encoders as ce\n",
    "\n",
    "from sklearn.experimental import enable_iterative_imputer\n",
    "from sklearn.impute import SimpleImputer, IterativeImputer, KNNImputer\n",
    "\n",
    "from sklearn.metrics import mean_absolute_percentage_error\n",
    "from sklearn.preprocessing import OrdinalEncoder\n",
    "from sklearn.preprocessing import OneHotEncoder\n",
    "from sklearn.preprocessing import KBinsDiscretizer\n",
    "\n",
    "from sklearn.model_selection import StratifiedShuffleSplit\n",
    "from sklearn.model_selection import StratifiedKFold\n",
    "\n",
    "from sklearn.ensemble import RandomForestRegressor\n",
    "from sklearn.ensemble import GradientBoostingRegressor\n",
    "from sklearn.ensemble import BaggingRegressor\n",
    "from sklearn.tree import DecisionTreeRegressor\n",
    "from sklearn.ensemble import VotingRegressor\n",
    "from sklearn.ensemble import StackingRegressor\n",
    "from sklearn.metrics import f1_score\n",
    "from sklearn.metrics import confusion_matrix\n",
    "from sklearn.metrics import ConfusionMatrixDisplay\n",
    "\n",
    "from sklearn.manifold import TSNE\n",
    "from sklearn.decomposition import PCA\n",
    "\n",
    "\n",
    "from sklearn.feature_selection import VarianceThreshold\n",
    "from sklearn.feature_selection import SelectPercentile\n",
    "from sklearn.feature_selection  import RFE\n",
    "from sklearn.feature_selection import RFECV\n",
    "from sklearn.feature_selection import SelectFromModel\n",
    "from sklearn.feature_selection import SequentialFeatureSelector\n",
    "from sklearn.feature_selection import SelectKBest\n",
    "from sklearn.feature_selection import SelectFpr\n",
    "from sklearn.feature_selection import SelectFdr\n",
    "from sklearn.feature_selection import SelectFwe\n",
    "from sklearn.feature_selection import f_regression\n",
    "from sklearn.metrics import r2_score, mean_absolute_percentage_error\n",
    "from sklearn.model_selection import train_test_split, ShuffleSplit\n",
    "from sklearn.inspection import permutation_importance\n",
    "from scipy.cluster import hierarchy\n",
    "\n",
    "from collections import defaultdict\n",
    "from scipy.spatial.distance import squareform\n",
    "from sklearn.pipeline import Pipeline, make_pipeline, FunctionTransformer\n",
    "\n",
    "\n",
    "\n"
   ]
  },
  {
   "cell_type": "code",
   "execution_count": 2,
   "id": "4ddda4b5",
   "metadata": {},
   "outputs": [],
   "source": [
    "# Путь к тренировочному набору\n",
    "path_train = 'train_house_B.csv' # содержит только имя файла, без имен папок\n",
    "# Путь к тестовому набору\n",
    "path_test  =  'test_house_B.csv' # содержит только имя файла, без имен папок\n",
    "\n",
    "data = pd.read_csv(path_train)"
   ]
  },
  {
   "cell_type": "code",
   "execution_count": 3,
   "id": "a16a75f6",
   "metadata": {},
   "outputs": [
    {
     "name": "stdout",
     "output_type": "stream",
     "text": [
      "<class 'pandas.core.frame.DataFrame'>\n",
      "RangeIndex: 408 entries, 0 to 407\n",
      "Data columns (total 30 columns):\n",
      " #   Column  Non-Null Count  Dtype  \n",
      "---  ------  --------------  -----  \n",
      " 0   price   408 non-null    int64  \n",
      " 1   0       408 non-null    float64\n",
      " 2   1       408 non-null    float64\n",
      " 3   2       408 non-null    float64\n",
      " 4   3       408 non-null    float64\n",
      " 5   4       408 non-null    float64\n",
      " 6   5       408 non-null    float64\n",
      " 7   6       408 non-null    float64\n",
      " 8   7       408 non-null    float64\n",
      " 9   8       408 non-null    float64\n",
      " 10  9       408 non-null    float64\n",
      " 11  10      408 non-null    float64\n",
      " 12  11      408 non-null    float64\n",
      " 13  12      408 non-null    float64\n",
      " 14  13      408 non-null    float64\n",
      " 15  14      408 non-null    float64\n",
      " 16  15      408 non-null    float64\n",
      " 17  16      408 non-null    float64\n",
      " 18  17      408 non-null    float64\n",
      " 19  18      408 non-null    float64\n",
      " 20  19      408 non-null    float64\n",
      " 21  20      408 non-null    float64\n",
      " 22  21      408 non-null    float64\n",
      " 23  22      408 non-null    float64\n",
      " 24  23      408 non-null    float64\n",
      " 25  24      408 non-null    float64\n",
      " 26  25      408 non-null    float64\n",
      " 27  26      408 non-null    float64\n",
      " 28  27      408 non-null    float64\n",
      " 29  28      408 non-null    float64\n",
      "dtypes: float64(29), int64(1)\n",
      "memory usage: 95.8 KB\n"
     ]
    },
    {
     "data": {
      "text/html": [
       "<div>\n",
       "<style scoped>\n",
       "    .dataframe tbody tr th:only-of-type {\n",
       "        vertical-align: middle;\n",
       "    }\n",
       "\n",
       "    .dataframe tbody tr th {\n",
       "        vertical-align: top;\n",
       "    }\n",
       "\n",
       "    .dataframe thead th {\n",
       "        text-align: right;\n",
       "    }\n",
       "</style>\n",
       "<table border=\"1\" class=\"dataframe\">\n",
       "  <thead>\n",
       "    <tr style=\"text-align: right;\">\n",
       "      <th></th>\n",
       "      <th>price</th>\n",
       "      <th>0</th>\n",
       "      <th>1</th>\n",
       "      <th>2</th>\n",
       "      <th>3</th>\n",
       "      <th>4</th>\n",
       "      <th>5</th>\n",
       "      <th>6</th>\n",
       "      <th>7</th>\n",
       "      <th>8</th>\n",
       "      <th>...</th>\n",
       "      <th>19</th>\n",
       "      <th>20</th>\n",
       "      <th>21</th>\n",
       "      <th>22</th>\n",
       "      <th>23</th>\n",
       "      <th>24</th>\n",
       "      <th>25</th>\n",
       "      <th>26</th>\n",
       "      <th>27</th>\n",
       "      <th>28</th>\n",
       "    </tr>\n",
       "  </thead>\n",
       "  <tbody>\n",
       "    <tr>\n",
       "      <th>0</th>\n",
       "      <td>2604000</td>\n",
       "      <td>1.222962</td>\n",
       "      <td>0.047686</td>\n",
       "      <td>-1.033389</td>\n",
       "      <td>-2.465344</td>\n",
       "      <td>0.831065</td>\n",
       "      <td>0.802990</td>\n",
       "      <td>1.590989</td>\n",
       "      <td>0.727946</td>\n",
       "      <td>0.893957</td>\n",
       "      <td>...</td>\n",
       "      <td>-0.141322</td>\n",
       "      <td>-0.554035</td>\n",
       "      <td>-1.308863</td>\n",
       "      <td>-0.570187</td>\n",
       "      <td>-0.882735</td>\n",
       "      <td>-0.805741</td>\n",
       "      <td>-0.929397</td>\n",
       "      <td>0.232557</td>\n",
       "      <td>-0.679063</td>\n",
       "      <td>1.307431</td>\n",
       "    </tr>\n",
       "    <tr>\n",
       "      <th>1</th>\n",
       "      <td>4900000</td>\n",
       "      <td>-0.091662</td>\n",
       "      <td>-0.356325</td>\n",
       "      <td>-0.486840</td>\n",
       "      <td>-2.465344</td>\n",
       "      <td>-0.126718</td>\n",
       "      <td>-0.024866</td>\n",
       "      <td>-0.323972</td>\n",
       "      <td>1.658337</td>\n",
       "      <td>1.751428</td>\n",
       "      <td>...</td>\n",
       "      <td>-0.141322</td>\n",
       "      <td>-0.554035</td>\n",
       "      <td>0.047278</td>\n",
       "      <td>-0.570187</td>\n",
       "      <td>-0.897850</td>\n",
       "      <td>-0.805741</td>\n",
       "      <td>0.224410</td>\n",
       "      <td>0.864016</td>\n",
       "      <td>1.472618</td>\n",
       "      <td>-0.478408</td>\n",
       "    </tr>\n",
       "    <tr>\n",
       "      <th>2</th>\n",
       "      <td>4480000</td>\n",
       "      <td>1.222962</td>\n",
       "      <td>-1.064819</td>\n",
       "      <td>0.338749</td>\n",
       "      <td>0.405623</td>\n",
       "      <td>-0.854973</td>\n",
       "      <td>-0.654330</td>\n",
       "      <td>0.525426</td>\n",
       "      <td>0.585866</td>\n",
       "      <td>-1.661101</td>\n",
       "      <td>...</td>\n",
       "      <td>-0.141322</td>\n",
       "      <td>-0.554035</td>\n",
       "      <td>-1.308863</td>\n",
       "      <td>-0.570187</td>\n",
       "      <td>-0.491114</td>\n",
       "      <td>0.355976</td>\n",
       "      <td>-0.929397</td>\n",
       "      <td>1.118967</td>\n",
       "      <td>1.472618</td>\n",
       "      <td>1.307431</td>\n",
       "    </tr>\n",
       "    <tr>\n",
       "      <th>3</th>\n",
       "      <td>3234000</td>\n",
       "      <td>1.222962</td>\n",
       "      <td>-1.570692</td>\n",
       "      <td>-0.696696</td>\n",
       "      <td>0.405623</td>\n",
       "      <td>-0.670784</td>\n",
       "      <td>-0.024866</td>\n",
       "      <td>0.557116</td>\n",
       "      <td>-1.280083</td>\n",
       "      <td>1.273040</td>\n",
       "      <td>...</td>\n",
       "      <td>-0.141322</td>\n",
       "      <td>-0.554035</td>\n",
       "      <td>1.403419</td>\n",
       "      <td>-0.570187</td>\n",
       "      <td>-0.724485</td>\n",
       "      <td>-0.805741</td>\n",
       "      <td>0.224410</td>\n",
       "      <td>0.924687</td>\n",
       "      <td>-0.679063</td>\n",
       "      <td>-0.478408</td>\n",
       "    </tr>\n",
       "    <tr>\n",
       "      <th>4</th>\n",
       "      <td>3780000</td>\n",
       "      <td>-1.406286</td>\n",
       "      <td>-1.563680</td>\n",
       "      <td>-1.058295</td>\n",
       "      <td>0.405623</td>\n",
       "      <td>-0.126718</td>\n",
       "      <td>-0.879174</td>\n",
       "      <td>-1.649281</td>\n",
       "      <td>0.496669</td>\n",
       "      <td>0.255596</td>\n",
       "      <td>...</td>\n",
       "      <td>-0.141322</td>\n",
       "      <td>1.804941</td>\n",
       "      <td>0.047278</td>\n",
       "      <td>-0.570187</td>\n",
       "      <td>-0.306965</td>\n",
       "      <td>-0.805741</td>\n",
       "      <td>1.378217</td>\n",
       "      <td>0.170486</td>\n",
       "      <td>-0.679063</td>\n",
       "      <td>-0.478408</td>\n",
       "    </tr>\n",
       "    <tr>\n",
       "      <th>...</th>\n",
       "      <td>...</td>\n",
       "      <td>...</td>\n",
       "      <td>...</td>\n",
       "      <td>...</td>\n",
       "      <td>...</td>\n",
       "      <td>...</td>\n",
       "      <td>...</td>\n",
       "      <td>...</td>\n",
       "      <td>...</td>\n",
       "      <td>...</td>\n",
       "      <td>...</td>\n",
       "      <td>...</td>\n",
       "      <td>...</td>\n",
       "      <td>...</td>\n",
       "      <td>...</td>\n",
       "      <td>...</td>\n",
       "      <td>...</td>\n",
       "      <td>...</td>\n",
       "      <td>...</td>\n",
       "      <td>...</td>\n",
       "      <td>...</td>\n",
       "    </tr>\n",
       "    <tr>\n",
       "      <th>403</th>\n",
       "      <td>3360000</td>\n",
       "      <td>-0.091662</td>\n",
       "      <td>0.593876</td>\n",
       "      <td>-0.087882</td>\n",
       "      <td>-2.465344</td>\n",
       "      <td>0.077307</td>\n",
       "      <td>0.151482</td>\n",
       "      <td>1.452151</td>\n",
       "      <td>1.772175</td>\n",
       "      <td>-1.264971</td>\n",
       "      <td>...</td>\n",
       "      <td>-0.141322</td>\n",
       "      <td>-0.554035</td>\n",
       "      <td>1.403419</td>\n",
       "      <td>-0.570187</td>\n",
       "      <td>0.454355</td>\n",
       "      <td>-0.805741</td>\n",
       "      <td>1.378217</td>\n",
       "      <td>1.200306</td>\n",
       "      <td>-0.679063</td>\n",
       "      <td>1.307431</td>\n",
       "    </tr>\n",
       "    <tr>\n",
       "      <th>404</th>\n",
       "      <td>5950000</td>\n",
       "      <td>-1.406286</td>\n",
       "      <td>0.179794</td>\n",
       "      <td>0.640850</td>\n",
       "      <td>0.405623</td>\n",
       "      <td>-0.126718</td>\n",
       "      <td>-0.975186</td>\n",
       "      <td>-1.028510</td>\n",
       "      <td>0.203867</td>\n",
       "      <td>-1.190658</td>\n",
       "      <td>...</td>\n",
       "      <td>-0.141322</td>\n",
       "      <td>1.804941</td>\n",
       "      <td>0.047278</td>\n",
       "      <td>-0.570187</td>\n",
       "      <td>-1.037904</td>\n",
       "      <td>1.517692</td>\n",
       "      <td>-0.929397</td>\n",
       "      <td>0.960546</td>\n",
       "      <td>-0.679063</td>\n",
       "      <td>-0.478408</td>\n",
       "    </tr>\n",
       "    <tr>\n",
       "      <th>405</th>\n",
       "      <td>3675000</td>\n",
       "      <td>-0.091662</td>\n",
       "      <td>1.099966</td>\n",
       "      <td>0.225750</td>\n",
       "      <td>-2.465344</td>\n",
       "      <td>-0.716123</td>\n",
       "      <td>-0.534316</td>\n",
       "      <td>-0.090348</td>\n",
       "      <td>1.151380</td>\n",
       "      <td>1.631097</td>\n",
       "      <td>...</td>\n",
       "      <td>-0.141322</td>\n",
       "      <td>-0.554035</td>\n",
       "      <td>-1.308863</td>\n",
       "      <td>-0.570187</td>\n",
       "      <td>0.477182</td>\n",
       "      <td>-0.805741</td>\n",
       "      <td>-0.929397</td>\n",
       "      <td>-1.512245</td>\n",
       "      <td>-0.679063</td>\n",
       "      <td>1.307431</td>\n",
       "    </tr>\n",
       "    <tr>\n",
       "      <th>406</th>\n",
       "      <td>7455000</td>\n",
       "      <td>1.222962</td>\n",
       "      <td>1.498909</td>\n",
       "      <td>-0.392289</td>\n",
       "      <td>0.405623</td>\n",
       "      <td>-0.126718</td>\n",
       "      <td>-0.024866</td>\n",
       "      <td>1.484438</td>\n",
       "      <td>-1.233671</td>\n",
       "      <td>-0.469048</td>\n",
       "      <td>...</td>\n",
       "      <td>-0.141322</td>\n",
       "      <td>-0.554035</td>\n",
       "      <td>0.047278</td>\n",
       "      <td>1.421812</td>\n",
       "      <td>0.407275</td>\n",
       "      <td>0.355976</td>\n",
       "      <td>0.224410</td>\n",
       "      <td>-1.477806</td>\n",
       "      <td>-0.679063</td>\n",
       "      <td>-0.478408</td>\n",
       "    </tr>\n",
       "    <tr>\n",
       "      <th>407</th>\n",
       "      <td>4900000</td>\n",
       "      <td>-0.091662</td>\n",
       "      <td>-0.280655</td>\n",
       "      <td>-0.991879</td>\n",
       "      <td>0.405623</td>\n",
       "      <td>-0.126718</td>\n",
       "      <td>-0.024866</td>\n",
       "      <td>-1.359317</td>\n",
       "      <td>-1.582810</td>\n",
       "      <td>-0.075905</td>\n",
       "      <td>...</td>\n",
       "      <td>-0.141322</td>\n",
       "      <td>-0.554035</td>\n",
       "      <td>0.047278</td>\n",
       "      <td>-0.570187</td>\n",
       "      <td>-0.612298</td>\n",
       "      <td>-0.805741</td>\n",
       "      <td>0.224410</td>\n",
       "      <td>0.634746</td>\n",
       "      <td>1.472618</td>\n",
       "      <td>-0.478408</td>\n",
       "    </tr>\n",
       "  </tbody>\n",
       "</table>\n",
       "<p>408 rows × 30 columns</p>\n",
       "</div>"
      ],
      "text/plain": [
       "       price         0         1         2         3         4         5  \\\n",
       "0    2604000  1.222962  0.047686 -1.033389 -2.465344  0.831065  0.802990   \n",
       "1    4900000 -0.091662 -0.356325 -0.486840 -2.465344 -0.126718 -0.024866   \n",
       "2    4480000  1.222962 -1.064819  0.338749  0.405623 -0.854973 -0.654330   \n",
       "3    3234000  1.222962 -1.570692 -0.696696  0.405623 -0.670784 -0.024866   \n",
       "4    3780000 -1.406286 -1.563680 -1.058295  0.405623 -0.126718 -0.879174   \n",
       "..       ...       ...       ...       ...       ...       ...       ...   \n",
       "403  3360000 -0.091662  0.593876 -0.087882 -2.465344  0.077307  0.151482   \n",
       "404  5950000 -1.406286  0.179794  0.640850  0.405623 -0.126718 -0.975186   \n",
       "405  3675000 -0.091662  1.099966  0.225750 -2.465344 -0.716123 -0.534316   \n",
       "406  7455000  1.222962  1.498909 -0.392289  0.405623 -0.126718 -0.024866   \n",
       "407  4900000 -0.091662 -0.280655 -0.991879  0.405623 -0.126718 -0.024866   \n",
       "\n",
       "            6         7         8  ...        19        20        21  \\\n",
       "0    1.590989  0.727946  0.893957  ... -0.141322 -0.554035 -1.308863   \n",
       "1   -0.323972  1.658337  1.751428  ... -0.141322 -0.554035  0.047278   \n",
       "2    0.525426  0.585866 -1.661101  ... -0.141322 -0.554035 -1.308863   \n",
       "3    0.557116 -1.280083  1.273040  ... -0.141322 -0.554035  1.403419   \n",
       "4   -1.649281  0.496669  0.255596  ... -0.141322  1.804941  0.047278   \n",
       "..        ...       ...       ...  ...       ...       ...       ...   \n",
       "403  1.452151  1.772175 -1.264971  ... -0.141322 -0.554035  1.403419   \n",
       "404 -1.028510  0.203867 -1.190658  ... -0.141322  1.804941  0.047278   \n",
       "405 -0.090348  1.151380  1.631097  ... -0.141322 -0.554035 -1.308863   \n",
       "406  1.484438 -1.233671 -0.469048  ... -0.141322 -0.554035  0.047278   \n",
       "407 -1.359317 -1.582810 -0.075905  ... -0.141322 -0.554035  0.047278   \n",
       "\n",
       "           22        23        24        25        26        27        28  \n",
       "0   -0.570187 -0.882735 -0.805741 -0.929397  0.232557 -0.679063  1.307431  \n",
       "1   -0.570187 -0.897850 -0.805741  0.224410  0.864016  1.472618 -0.478408  \n",
       "2   -0.570187 -0.491114  0.355976 -0.929397  1.118967  1.472618  1.307431  \n",
       "3   -0.570187 -0.724485 -0.805741  0.224410  0.924687 -0.679063 -0.478408  \n",
       "4   -0.570187 -0.306965 -0.805741  1.378217  0.170486 -0.679063 -0.478408  \n",
       "..        ...       ...       ...       ...       ...       ...       ...  \n",
       "403 -0.570187  0.454355 -0.805741  1.378217  1.200306 -0.679063  1.307431  \n",
       "404 -0.570187 -1.037904  1.517692 -0.929397  0.960546 -0.679063 -0.478408  \n",
       "405 -0.570187  0.477182 -0.805741 -0.929397 -1.512245 -0.679063  1.307431  \n",
       "406  1.421812  0.407275  0.355976  0.224410 -1.477806 -0.679063 -0.478408  \n",
       "407 -0.570187 -0.612298 -0.805741  0.224410  0.634746  1.472618 -0.478408  \n",
       "\n",
       "[408 rows x 30 columns]"
      ]
     },
     "execution_count": 3,
     "metadata": {},
     "output_type": "execute_result"
    }
   ],
   "source": [
    "data.info()\n",
    "data"
   ]
  },
  {
   "cell_type": "code",
   "execution_count": 4,
   "id": "c934776a",
   "metadata": {},
   "outputs": [
    {
     "data": {
      "text/plain": [
       "0"
      ]
     },
     "execution_count": 4,
     "metadata": {},
     "output_type": "execute_result"
    }
   ],
   "source": [
    "data.duplicated().sum()"
   ]
  },
  {
   "cell_type": "code",
   "execution_count": 5,
   "id": "be91eb9c",
   "metadata": {},
   "outputs": [],
   "source": [
    "X = data.drop(columns = ['price'])\n",
    "y = data.loc[:,'price'].values\n",
    "\n",
    "X_train, X_test, y_train, y_test = train_test_split(X, y,\n",
    "                                                    test_size = 0.3)\n",
    "\n",
    "cv = ShuffleSplit(n_splits = 10, test_size = 0.3)"
   ]
  },
  {
   "cell_type": "code",
   "execution_count": 6,
   "id": "b9cd30e3",
   "metadata": {},
   "outputs": [
    {
     "name": "stdout",
     "output_type": "stream",
     "text": [
      "X_train (285, 29)   y_train (285,)\n",
      "X_test (123, 29)    y_test (123,)\n",
      "\n"
     ]
    }
   ],
   "source": [
    "print(f\"X_train {X_train.shape}   y_train {y_train.shape}\\nX_test {X_test.shape}    y_test {y_test.shape}\\n\")"
   ]
  },
  {
   "cell_type": "code",
   "execution_count": 7,
   "id": "be64d8c5",
   "metadata": {},
   "outputs": [],
   "source": [
    "scoring = 'neg_mean_absolute_percentage_error'"
   ]
  },
  {
   "cell_type": "markdown",
   "id": "730560cd",
   "metadata": {},
   "source": [
    "# ridge"
   ]
  },
  {
   "cell_type": "code",
   "execution_count": 9,
   "id": "c86650a9",
   "metadata": {},
   "outputs": [
    {
     "name": "stdout",
     "output_type": "stream",
     "text": [
      "r2 на проверочном наборе: 0.6505\n",
      "r2 средний кроссвал 0.64881\n",
      "\n",
      "mape на проверочном наборе: 0.1959\n",
      "mape средний кроссвал 0.19494\n",
      "\n"
     ]
    }
   ],
   "source": [
    "model = Ridge()\n",
    "model.fit(X_train, y_train)\n",
    "\n",
    "dropped = X_train.columns.values[model.coef_ == 0]\n",
    "r2_list = cross_val_score(model, X_train, y_train, cv = cv, scoring = \"r2\").round(5)\n",
    "mape_list = -1*cross_val_score(model, X_train, y_train, cv = cv, scoring = ('neg_mean_absolute_percentage_error')).round(5)\n",
    "\n",
    "print(f\"r2 на проверочном наборе: {r2_score(y_test, model.predict(X_test)):.4f}\")\n",
    "print(f\"r2 средний кроссвал {round(r2_list.mean(),5)}\\n\")\n",
    "\n",
    "print(f\"mape на проверочном наборе: {mean_absolute_percentage_error(y_test, model.predict(X_test)):.4f}\")\n",
    "print(f\"mape средний кроссвал {round(mape_list.mean(),5)}\\n\")\n"
   ]
  },
  {
   "cell_type": "markdown",
   "id": "2cf03a93",
   "metadata": {},
   "source": [
    "# svr"
   ]
  },
  {
   "cell_type": "code",
   "execution_count": 11,
   "id": "d787dd37",
   "metadata": {},
   "outputs": [
    {
     "name": "stdout",
     "output_type": "stream",
     "text": [
      "r2 на проверочном наборе: 0.0002\n",
      "r2 средний кроссвал -0.04957\n",
      "\n",
      "mape на проверочном наборе: 0.3242\n",
      "mape средний кроссвал 0.327\n",
      "\n"
     ]
    }
   ],
   "source": [
    "model = SVR(kernel = 'linear')\n",
    "model.fit(X_train, y_train)\n",
    "\n",
    "\n",
    "r2_list = cross_val_score(model, X_train, y_train, cv = cv, scoring = \"r2\").round(5)\n",
    "mape_list = -1*cross_val_score(model, X_train, y_train, cv = cv, scoring = ('neg_mean_absolute_percentage_error')).round(5)\n",
    "\n",
    "print(f\"r2 на проверочном наборе: {r2_score(y_test, model.predict(X_test)):.4f}\")\n",
    "print(f\"r2 средний кроссвал {round(r2_list.mean(),5)}\\n\")\n",
    "\n",
    "print(f\"mape на проверочном наборе: {mean_absolute_percentage_error(y_test, model.predict(X_test)):.4f}\")\n",
    "print(f\"mape средний кроссвал {round(mape_list.mean(),5)}\\n\")"
   ]
  },
  {
   "cell_type": "markdown",
   "id": "a56f3d46",
   "metadata": {},
   "source": [
    "# лес"
   ]
  },
  {
   "cell_type": "code",
   "execution_count": 12,
   "id": "bd71dabb",
   "metadata": {},
   "outputs": [
    {
     "name": "stdout",
     "output_type": "stream",
     "text": [
      "r2 на проверочном наборе: 0.5267\n",
      "r2 средний кроссвал 0.51272\n",
      "\n",
      "mape на проверочном наборе: 0.2161\n",
      "mape средний кроссвал 0.19597\n",
      "\n"
     ]
    }
   ],
   "source": [
    "model = RandomForestRegressor()\n",
    "model.fit(X_train, y_train)\n",
    "\n",
    "r2_list = cross_val_score(model, X_train, y_train, cv = cv, scoring = \"r2\").round(5)\n",
    "mape_list = -1*cross_val_score(model, X_train, y_train, cv = cv, scoring = ('neg_mean_absolute_percentage_error')).round(5)\n",
    "\n",
    "print(f\"r2 на проверочном наборе: {r2_score(y_test, model.predict(X_test)):.4f}\")\n",
    "print(f\"r2 средний кроссвал {round(r2_list.mean(),5)}\\n\")\n",
    "\n",
    "print(f\"mape на проверочном наборе: {mean_absolute_percentage_error(y_test, model.predict(X_test)):.4f}\")\n",
    "print(f\"mape средний кроссвал {round(mape_list.mean(),5)}\\n\")"
   ]
  },
  {
   "cell_type": "markdown",
   "id": "ddcbf199",
   "metadata": {},
   "source": [
    "# отберем шумящие признаки"
   ]
  },
  {
   "cell_type": "code",
   "execution_count": 13,
   "id": "f1757f11",
   "metadata": {},
   "outputs": [
    {
     "data": {
      "image/png": "[encoded data removed]",
      "text/plain": [
       "<Figure size 640x480 with 1 Axes>"
      ]
     },
     "metadata": {},
     "output_type": "display_data"
    }
   ],
   "source": [
    "# график значимости признаков\n",
    "result = permutation_importance(model, X_train, y_train, n_repeats=10)\n",
    "\n",
    "perm_sorted_idx = result.importances_mean.argsort()\n",
    "tree_importance_sorted_idx = np.argsort(model.feature_importances_)\n",
    "tree_indices = np.arange(0, len(model.feature_importances_)) + 0.5\n",
    "\n",
    "fig, (ax1) = plt.subplots(1)\n",
    "\n",
    "ax1.barh(tree_indices, model.feature_importances_[tree_importance_sorted_idx], height=0.7)\n",
    "ax1.set_yticks(tree_indices)\n",
    "ax1.set_ylim((0, len(model.feature_importances_)))\n",
    "\n",
    "fig.tight_layout()\n",
    "plt.show()"
   ]
  },
  {
   "cell_type": "markdown",
   "id": "6112253d",
   "metadata": {},
   "source": [
    "отберем рекурсивно"
   ]
  },
  {
   "cell_type": "code",
   "execution_count": 14,
   "id": "7e5c11e0",
   "metadata": {},
   "outputs": [
    {
     "data": {
      "text/plain": [
       "array(['1', '2', '3', '4', '6', '12', '15', '16', '17', '20', '22', '24',\n",
       "       '25', '27'], dtype=object)"
      ]
     },
     "execution_count": 14,
     "metadata": {},
     "output_type": "execute_result"
    },
    {
     "data": {
      "image/png": "[encoded data removed]",
      "text/plain": [
       "<Figure size 1600x200 with 1 Axes>"
      ]
     },
     "metadata": {},
     "output_type": "display_data"
    }
   ],
   "source": [
    "rfe_select = RFE(LinearRegression())\n",
    "\n",
    "rfe_select.fit(X_train, y_train)\n",
    "\n",
    "mask3 = rfe_select.get_support()\n",
    "plt.matshow( mask3.reshape(1,-1), cmap = 'gray_r', aspect=0.5)\n",
    "plt.yticks([])\n",
    "plt.gca().xaxis.set_minor_locator(plt.MultipleLocator(1))\n",
    "plt.xlabel(\"Индекс признака\");\n",
    "mask3.sum()\n",
    "rfe_select.get_feature_names_out()"
   ]
  },
  {
   "cell_type": "code",
   "execution_count": 16,
   "id": "2d422ead",
   "metadata": {},
   "outputs": [],
   "source": [
    "def feature_importance(model, limit = 0.001, sort = False, color = 'mediumseagreen'):\n",
    "    \n",
    "    table = pd.DataFrame(model.feature_importances_.reshape(1, -1), columns = model.feature_names_in_)\n",
    "    \n",
    "    limited = model.feature_names_in_[model.feature_importances_.reshape(1, -1)[0] <= limit]\n",
    "    print(f\"признаки с важностью менее {limit}:\\n{limited}\\n\".replace(\"[\", \"\").replace(\"]\", \"\").replace(\"' '\", \"', '\"))\n",
    "    \n",
    "    if sort == True: table = table.sort_values(by = 0, axis = 1, ascending = False)\n",
    "    plt.figure(figsize = (6, 5))\n",
    "\n",
    "    sns.barplot(table, orient = 'h', color = color, edgecolor = '.91')\n",
    "    plt.xlabel(\"важность\", fontsize = 11, labelpad = 15)\n",
    "    plt.ylabel(\"признак\", fontsize = 11, labelpad = 15);"
   ]
  },
  {
   "cell_type": "code",
   "execution_count": 17,
   "id": "4cbdfd04",
   "metadata": {},
   "outputs": [
    {
     "name": "stdout",
     "output_type": "stream",
     "text": [
      "признаки с важностью менее 0.01:\n",
      "'3', '10', '15', '16', '17', '18', '19', '28'\n",
      "\n"
     ]
    },
    {
     "data": {
      "image/png": "[encoded data removed]",
      "text/plain": [
       "<Figure size 600x500 with 1 Axes>"
      ]
     },
     "metadata": {},
     "output_type": "display_data"
    }
   ],
   "source": [
    "model.fit(X_train, y_train)\n",
    "feature_importance(model, limit = 0.01, color = 'b')\n"
   ]
  },
  {
   "cell_type": "code",
   "execution_count": 27,
   "id": "6bee2356",
   "metadata": {},
   "outputs": [],
   "source": [
    "features = ['2', '3', '4', '6', '12', '15', '20', '22', '24','27']"
   ]
  },
  {
   "cell_type": "markdown",
   "id": "0109919d",
   "metadata": {},
   "source": [
    "# подберем финальную модель"
   ]
  },
  {
   "cell_type": "code",
   "execution_count": 28,
   "id": "fe2a8be8",
   "metadata": {},
   "outputs": [
    {
     "name": "stdout",
     "output_type": "stream",
     "text": [
      "r2 на проверочном наборе: 0.5313\n",
      "r2 средний кроссвал 0.5388\n",
      "\n",
      "mape на проверочном наборе: 0.2127\n",
      "mape средний кроссвал 0.20686\n",
      "\n"
     ]
    }
   ],
   "source": [
    "pipe_SVM = Pipeline([('preprocessing', FunctionTransformer(lambda x: x[features])),\n",
    "                     ('estimator', SVR(kernel = 'linear', C = 1))])\n",
    "\n",
    "pipe_SVM.fit(X_train, y_train)\n",
    "\n",
    "\n",
    "r2_list = cross_val_score(model, X_train, y_train, cv = cv, scoring = \"r2\").round(5)\n",
    "mape_list = -1*cross_val_score(model, X_train, y_train, cv = cv, scoring = ('neg_mean_absolute_percentage_error')).round(5)\n",
    "\n",
    "print(f\"r2 на проверочном наборе: {r2_score(y_test, model.predict(X_test)):.4f}\")\n",
    "print(f\"r2 средний кроссвал {round(r2_list.mean(),5)}\\n\")\n",
    "\n",
    "print(f\"mape на проверочном наборе: {mean_absolute_percentage_error(y_test, model.predict(X_test)):.4f}\")\n",
    "print(f\"mape средний кроссвал {round(mape_list.mean(),5)}\\n\")"
   ]
  },
  {
   "cell_type": "code",
   "execution_count": 29,
   "id": "2c1a59c2",
   "metadata": {},
   "outputs": [
    {
     "name": "stdout",
     "output_type": "stream",
     "text": [
      "r2 на проверочном наборе: 0.5313\n",
      "r2 средний кроссвал 0.53366\n",
      "\n",
      "mape на проверочном наборе: 0.2127\n",
      "mape средний кроссвал 0.21005\n",
      "\n"
     ]
    }
   ],
   "source": [
    "pipe_RF = Pipeline([('preprocessing', FunctionTransformer(lambda x: x[features])),\n",
    "                    ('estimator', RandomForestRegressor(n_estimators = 1000, criterion = 'absolute_error', max_features = 7,\n",
    "                                                        n_jobs = -1))])\n",
    "\n",
    "pipe_RF.fit(X_train, y_train)\n",
    "\n",
    "r2_list = cross_val_score(model, X_train, y_train, cv = cv, scoring = \"r2\").round(5)\n",
    "mape_list = -1*cross_val_score(model, X_train, y_train, cv = cv, scoring = ('neg_mean_absolute_percentage_error')).round(5)\n",
    "\n",
    "print(f\"r2 на проверочном наборе: {r2_score(y_test, model.predict(X_test)):.4f}\")\n",
    "print(f\"r2 средний кроссвал {round(r2_list.mean(),5)}\\n\")\n",
    "\n",
    "print(f\"mape на проверочном наборе: {mean_absolute_percentage_error(y_test, model.predict(X_test)):.4f}\")\n",
    "print(f\"mape средний кроссвал {round(mape_list.mean(),5)}\\n\")"
   ]
  },
  {
   "cell_type": "code",
   "execution_count": 31,
   "id": "2536af27",
   "metadata": {},
   "outputs": [
    {
     "name": "stdout",
     "output_type": "stream",
     "text": [
      "model SVM test MAPE: 0.3243\n",
      "model RF test MAPE: 0.2309\n"
     ]
    }
   ],
   "source": [
    "for i in ['SVM', 'RF']:\n",
    "    exec(f\"y_predict_{i} = pipe_{i}.predict(X_test)\")#### 1 Тестовые метрики \n",
    "for i in ['SVM', 'RF']:\n",
    "    print(f\"model {i} test MAPE: {mean_absolute_percentage_error(y_test, eval(f'y_predict_{i}')):.4f}\")"
   ]
  }
 ],
 "metadata": {
  "kernelspec": {
   "display_name": "Python 3 (ipykernel)",
   "language": "python",
   "name": "python3"
  },
  "language_info": {
   "codemirror_mode": {
    "name": "ipython",
    "version": 3
   },
   "file_extension": ".py",
   "mimetype": "text/x-python",
   "name": "python",
   "nbconvert_exporter": "python",
   "pygments_lexer": "ipython3",
   "version": "3.10.9"
  }
 },
 "nbformat": 4,
 "nbformat_minor": 5
}
