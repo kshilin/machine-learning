{
 "cells": [
  {
   "cell_type": "code",
   "execution_count": 1,
   "id": "eadf8364",
   "metadata": {},
   "outputs": [],
   "source": [
    "import numpy as np\n",
    "import pandas as pd\n",
    "import matplotlib.pyplot as plt\n",
    "import seaborn as sns\n",
    "\n",
    "\n",
    "from sklearn.model_selection import cross_val_score\n",
    "from sklearn.metrics import accuracy_score\n",
    "\n",
    "from sklearn.preprocessing import OrdinalEncoder,LabelEncoder, OneHotEncoder, TargetEncoder\n",
    "from sklearn.preprocessing import MinMaxScaler, StandardScaler, RobustScaler, Normalizer\n",
    "from sklearn.preprocessing import PolynomialFeatures, QuantileTransformer, PowerTransformer\n",
    "from sklearn.model_selection import train_test_split \n",
    "\n",
    "from sklearn.preprocessing import PolynomialFeatures\n",
    "\n",
    "from sklearn.compose import ColumnTransformer, make_column_transformer, TransformedTargetRegressor\\\n",
    "\n",
    "from sklearn.pipeline import Pipeline\n",
    "from sklearn.model_selection import GridSearchCV\n",
    "\n",
    "from sklearn.linear_model import Ridge, Lasso, ElasticNet, BayesianRidge, LinearRegression\n",
    "from sklearn.neighbors import KNeighborsRegressor\n",
    "\n",
    "import category_encoders as ce\n",
    "\n",
    "from sklearn.experimental import enable_iterative_imputer\n",
    "from sklearn.impute import SimpleImputer, IterativeImputer, KNNImputer\n",
    "\n",
    "from sklearn.metrics import mean_absolute_percentage_error\n",
    "from sklearn.preprocessing import OrdinalEncoder\n",
    "from sklearn.preprocessing import OneHotEncoder\n",
    "from sklearn.preprocessing import KBinsDiscretizer\n",
    "\n",
    "from sklearn.model_selection import StratifiedShuffleSplit\n",
    "from sklearn.model_selection import StratifiedKFold\n",
    "\n",
    "from sklearn.ensemble import RandomForestRegressor\n",
    "from sklearn.ensemble import GradientBoostingRegressor\n",
    "from sklearn.ensemble import BaggingRegressor\n",
    "from sklearn.tree import DecisionTreeRegressor\n",
    "from sklearn.ensemble import VotingRegressor\n",
    "from sklearn.ensemble import StackingRegressor\n",
    "from sklearn.metrics import f1_score\n",
    "from sklearn.metrics import confusion_matrix\n",
    "from sklearn.metrics import ConfusionMatrixDisplay\n",
    "\n",
    "from sklearn.manifold import TSNE\n",
    "from sklearn.decomposition import PCA\n",
    "\n",
    "\n",
    "from sklearn.feature_selection import VarianceThreshold\n",
    "from sklearn.feature_selection import SelectPercentile\n",
    "from sklearn.feature_selection  import RFE\n",
    "from sklearn.feature_selection import RFECV\n",
    "from sklearn.feature_selection import SelectFromModel\n",
    "from sklearn.feature_selection import SequentialFeatureSelector\n",
    "from sklearn.feature_selection import SelectKBest\n",
    "from sklearn.feature_selection import SelectFpr\n",
    "from sklearn.feature_selection import SelectFdr\n",
    "from sklearn.feature_selection import SelectFwe\n",
    "from sklearn.feature_selection import f_regression"
   ]
  },
  {
   "cell_type": "code",
   "execution_count": 2,
   "id": "ebb7a24a",
   "metadata": {},
   "outputs": [],
   "source": [
    "### Обучение и выполнение лучшей модели"
   ]
  },
  {
   "cell_type": "code",
   "execution_count": 3,
   "id": "a927dd08",
   "metadata": {},
   "outputs": [],
   "source": [
    "# Путь к тренировочному набору\n",
    "path_train = 'train_house_A.csv' # содержит только имя файла, без имен папок\n",
    "# Путь к тестовому набору\n",
    "path_test = 'test_house_A.csv'# содержит только имя файла, без имен папок"
   ]
  },
  {
   "cell_type": "code",
   "execution_count": 4,
   "id": "ced46442",
   "metadata": {},
   "outputs": [],
   "source": [
    "df_train = pd.read_csv(path_train)\n",
    "df_test = pd.read_csv(path_test)"
   ]
  },
  {
   "cell_type": "code",
   "execution_count": 5,
   "id": "e37f49ef",
   "metadata": {},
   "outputs": [],
   "source": [
    "X = df_train.drop(columns = ['price'])\n",
    "y = df_train['price']"
   ]
  },
  {
   "cell_type": "code",
   "execution_count": 6,
   "id": "f6e26599",
   "metadata": {},
   "outputs": [],
   "source": [
    "col = ['0', '4', '5', '6', '7', '9', '12', '13', '16', '21',\n",
    "       '22', '24', '25', '28']"
   ]
  },
  {
   "cell_type": "code",
   "execution_count": 7,
   "id": "8c1202ba",
   "metadata": {},
   "outputs": [],
   "source": [
    "X = X.loc[:, col]"
   ]
  },
  {
   "cell_type": "code",
   "execution_count": 8,
   "id": "0eb1ae05",
   "metadata": {},
   "outputs": [
    {
     "data": {
      "text/html": [
       "<style>#sk-container-id-1 {color: black;}#sk-container-id-1 pre{padding: 0;}#sk-container-id-1 div.sk-toggleable {background-color: white;}#sk-container-id-1 label.sk-toggleable__label {cursor: pointer;display: block;width: 100%;margin-bottom: 0;padding: 0.3em;box-sizing: border-box;text-align: center;}#sk-container-id-1 label.sk-toggleable__label-arrow:before {content: \"▸\";float: left;margin-right: 0.25em;color: #696969;}#sk-container-id-1 label.sk-toggleable__label-arrow:hover:before {color: black;}#sk-container-id-1 div.sk-estimator:hover label.sk-toggleable__label-arrow:before {color: black;}#sk-container-id-1 div.sk-toggleable__content {max-height: 0;max-width: 0;overflow: hidden;text-align: left;background-color: #f0f8ff;}#sk-container-id-1 div.sk-toggleable__content pre {margin: 0.2em;color: black;border-radius: 0.25em;background-color: #f0f8ff;}#sk-container-id-1 input.sk-toggleable__control:checked~div.sk-toggleable__content {max-height: 200px;max-width: 100%;overflow: auto;}#sk-container-id-1 input.sk-toggleable__control:checked~label.sk-toggleable__label-arrow:before {content: \"▾\";}#sk-container-id-1 div.sk-estimator input.sk-toggleable__control:checked~label.sk-toggleable__label {background-color: #d4ebff;}#sk-container-id-1 div.sk-label input.sk-toggleable__control:checked~label.sk-toggleable__label {background-color: #d4ebff;}#sk-container-id-1 input.sk-hidden--visually {border: 0;clip: rect(1px 1px 1px 1px);clip: rect(1px, 1px, 1px, 1px);height: 1px;margin: -1px;overflow: hidden;padding: 0;position: absolute;width: 1px;}#sk-container-id-1 div.sk-estimator {font-family: monospace;background-color: #f0f8ff;border: 1px dotted black;border-radius: 0.25em;box-sizing: border-box;margin-bottom: 0.5em;}#sk-container-id-1 div.sk-estimator:hover {background-color: #d4ebff;}#sk-container-id-1 div.sk-parallel-item::after {content: \"\";width: 100%;border-bottom: 1px solid gray;flex-grow: 1;}#sk-container-id-1 div.sk-label:hover label.sk-toggleable__label {background-color: #d4ebff;}#sk-container-id-1 div.sk-serial::before {content: \"\";position: absolute;border-left: 1px solid gray;box-sizing: border-box;top: 0;bottom: 0;left: 50%;z-index: 0;}#sk-container-id-1 div.sk-serial {display: flex;flex-direction: column;align-items: center;background-color: white;padding-right: 0.2em;padding-left: 0.2em;position: relative;}#sk-container-id-1 div.sk-item {position: relative;z-index: 1;}#sk-container-id-1 div.sk-parallel {display: flex;align-items: stretch;justify-content: center;background-color: white;position: relative;}#sk-container-id-1 div.sk-item::before, #sk-container-id-1 div.sk-parallel-item::before {content: \"\";position: absolute;border-left: 1px solid gray;box-sizing: border-box;top: 0;bottom: 0;left: 50%;z-index: -1;}#sk-container-id-1 div.sk-parallel-item {display: flex;flex-direction: column;z-index: 1;position: relative;background-color: white;}#sk-container-id-1 div.sk-parallel-item:first-child::after {align-self: flex-end;width: 50%;}#sk-container-id-1 div.sk-parallel-item:last-child::after {align-self: flex-start;width: 50%;}#sk-container-id-1 div.sk-parallel-item:only-child::after {width: 0;}#sk-container-id-1 div.sk-dashed-wrapped {border: 1px dashed gray;margin: 0 0.4em 0.5em 0.4em;box-sizing: border-box;padding-bottom: 0.4em;background-color: white;}#sk-container-id-1 div.sk-label label {font-family: monospace;font-weight: bold;display: inline-block;line-height: 1.2em;}#sk-container-id-1 div.sk-label-container {text-align: center;}#sk-container-id-1 div.sk-container {/* jupyter's `normalize.less` sets `[hidden] { display: none; }` but bootstrap.min.css set `[hidden] { display: none !important; }` so we also need the `!important` here to be able to override the default hidden behavior on the sphinx rendered scikit-learn.org. See: https://github.com/scikit-learn/scikit-learn/issues/21755 */display: inline-block !important;position: relative;}#sk-container-id-1 div.sk-text-repr-fallback {display: none;}</style><div id=\"sk-container-id-1\" class=\"sk-top-container\"><div class=\"sk-text-repr-fallback\"><pre>TransformedTargetRegressor(check_inverse=False,\n",
       "                           regressor=Pipeline(steps=[(&#x27;estimator&#x27;,\n",
       "                                                      RandomForestRegressor(criterion=&#x27;absolute_error&#x27;,\n",
       "                                                                            max_depth=8,\n",
       "                                                                            min_samples_split=9,\n",
       "                                                                            n_estimators=40))]),\n",
       "                           transformer=PowerTransformer())</pre><b>In a Jupyter environment, please rerun this cell to show the HTML representation or trust the notebook. <br />On GitHub, the HTML representation is unable to render, please try loading this page with nbviewer.org.</b></div><div class=\"sk-container\" hidden><div class=\"sk-item sk-dashed-wrapped\"><div class=\"sk-label-container\"><div class=\"sk-label sk-toggleable\"><input class=\"sk-toggleable__control sk-hidden--visually\" id=\"sk-estimator-id-1\" type=\"checkbox\" ><label for=\"sk-estimator-id-1\" class=\"sk-toggleable__label sk-toggleable__label-arrow\">TransformedTargetRegressor</label><div class=\"sk-toggleable__content\"><pre>TransformedTargetRegressor(check_inverse=False,\n",
       "                           regressor=Pipeline(steps=[(&#x27;estimator&#x27;,\n",
       "                                                      RandomForestRegressor(criterion=&#x27;absolute_error&#x27;,\n",
       "                                                                            max_depth=8,\n",
       "                                                                            min_samples_split=9,\n",
       "                                                                            n_estimators=40))]),\n",
       "                           transformer=PowerTransformer())</pre></div></div></div><div class=\"sk-parallel\"><div class=\"sk-parallel-item\"><div class=\"sk-item\"><div class=\"sk-label-container\"><div class=\"sk-label sk-toggleable\"><input class=\"sk-toggleable__control sk-hidden--visually\" id=\"sk-estimator-id-2\" type=\"checkbox\" ><label for=\"sk-estimator-id-2\" class=\"sk-toggleable__label sk-toggleable__label-arrow\">regressor: Pipeline</label><div class=\"sk-toggleable__content\"><pre>Pipeline(steps=[(&#x27;estimator&#x27;,\n",
       "                 RandomForestRegressor(criterion=&#x27;absolute_error&#x27;, max_depth=8,\n",
       "                                       min_samples_split=9, n_estimators=40))])</pre></div></div></div><div class=\"sk-serial\"><div class=\"sk-item\"><div class=\"sk-serial\"><div class=\"sk-item\"><div class=\"sk-estimator sk-toggleable\"><input class=\"sk-toggleable__control sk-hidden--visually\" id=\"sk-estimator-id-3\" type=\"checkbox\" ><label for=\"sk-estimator-id-3\" class=\"sk-toggleable__label sk-toggleable__label-arrow\">RandomForestRegressor</label><div class=\"sk-toggleable__content\"><pre>RandomForestRegressor(criterion=&#x27;absolute_error&#x27;, max_depth=8,\n",
       "                      min_samples_split=9, n_estimators=40)</pre></div></div></div></div></div></div></div></div><div class=\"sk-parallel-item\"><div class=\"sk-item\"><div class=\"sk-label-container\"><div class=\"sk-label sk-toggleable\"><input class=\"sk-toggleable__control sk-hidden--visually\" id=\"sk-estimator-id-4\" type=\"checkbox\" ><label for=\"sk-estimator-id-4\" class=\"sk-toggleable__label sk-toggleable__label-arrow\">transformer: PowerTransformer</label><div class=\"sk-toggleable__content\"><pre>PowerTransformer()</pre></div></div></div><div class=\"sk-serial\"><div class=\"sk-item\"><div class=\"sk-estimator sk-toggleable\"><input class=\"sk-toggleable__control sk-hidden--visually\" id=\"sk-estimator-id-5\" type=\"checkbox\" ><label for=\"sk-estimator-id-5\" class=\"sk-toggleable__label sk-toggleable__label-arrow\">PowerTransformer</label><div class=\"sk-toggleable__content\"><pre>PowerTransformer()</pre></div></div></div></div></div></div></div></div></div></div>"
      ],
      "text/plain": [
       "TransformedTargetRegressor(check_inverse=False,\n",
       "                           regressor=Pipeline(steps=[('estimator',\n",
       "                                                      RandomForestRegressor(criterion='absolute_error',\n",
       "                                                                            max_depth=8,\n",
       "                                                                            min_samples_split=9,\n",
       "                                                                            n_estimators=40))]),\n",
       "                           transformer=PowerTransformer())"
      ]
     },
     "execution_count": 8,
     "metadata": {},
     "output_type": "execute_result"
    }
   ],
   "source": [
    "model_target = TransformedTargetRegressor(\n",
    "               regressor = Pipeline(steps=[\n",
    "                                ('estimator', RandomForestRegressor(criterion='absolute_error', max_depth=8, min_samples_leaf=1, min_samples_split=9, n_estimators=40))\n",
    "                            ]),\n",
    "                        transformer=PowerTransformer(),\n",
    "                        check_inverse = False\n",
    ")\n",
    "\n",
    "model_target.fit(X,y)"
   ]
  },
  {
   "cell_type": "code",
   "execution_count": 9,
   "id": "50c7be13",
   "metadata": {},
   "outputs": [],
   "source": [
    "# Блок предсказания с использованием тестового набора"
   ]
  },
  {
   "cell_type": "code",
   "execution_count": 10,
   "id": "431f4959",
   "metadata": {},
   "outputs": [
    {
     "name": "stdout",
     "output_type": "stream",
     "text": [
      "[6375747.44195218 6540858.15855931 3130449.42060486 4743110.25086385\n",
      " 3940441.48703014 3759290.53294641 8080180.71799984 7591544.41607909\n",
      " 3583334.4018924  6751238.28401104 8247822.53951122 4011779.48153564\n",
      " 4983557.35321962 3922027.98438167 3990602.69359739 7533424.95466228\n",
      " 4400657.25649856 5648491.01229037 4722916.01670764 6508744.39953115\n",
      " 3267753.31921918 3551059.94240435 5577559.32862685 3432024.27638642\n",
      " 3556624.74746044 3844574.96127322 5510243.9318986  3145653.71029842\n",
      " 2861235.91200762 4213125.62469274 3143958.15571342 6782102.23450047\n",
      " 4975100.34499224 4207115.55745739 5061165.05586554 3370343.58267341\n",
      " 4367906.19886262 2724081.35033019 5110315.95512373 5583046.34605268\n",
      " 6388216.34671324 4650827.7750598  8450486.9215954  4523883.92759274\n",
      " 3318209.14978289 5894400.99420835 4514447.4613881  2681769.97881084\n",
      " 4653087.0599962  2649029.84729116 4853526.78033569 2772519.36755357\n",
      " 6533273.99090454 5251257.3994716  3288849.77107821 5294260.92881569\n",
      " 5774415.74748352 4133601.73303126 2853996.97443429 6040712.19400308\n",
      " 7270839.20640232 4272190.19847656 3753219.93091788 4367617.65138323\n",
      " 7385562.74822092 5878309.32537534 4174560.72514995 3749878.38033091\n",
      " 2967433.40404615 7742686.31354555 4134738.70648868 5448774.97101795\n",
      " 4033330.04178821 8860562.29920211 7319963.04345903 5386965.61064282\n",
      " 6168408.09920226 6476449.78651437 5513002.05727344 4333300.55757326\n",
      " 3220421.34353378 5501967.73439295 7747103.02718278 5872177.40144332\n",
      " 4947589.71505435 3678969.89828158 4947336.87878485 4308433.98317948\n",
      " 3050430.30018191 3763190.65022288 6141743.71444523 3373730.47160723\n",
      " 4139151.68684675 6405836.16803841 4497180.75702387 5796793.94235672\n",
      " 3993698.55744723 6203144.22410906 6489431.79895152 4244267.72093173\n",
      " 7640853.72397063 3708145.64741709 7494892.06785597 4479858.69075763\n",
      " 2792611.96220083 5125744.88955486 3408006.56703846 4514946.40654339\n",
      " 3157911.9248735  4969889.35483431 5696034.54753946 4247455.75960675\n",
      " 5782621.73000174 4028711.10776245 4690802.28918095 3291691.99877548\n",
      " 6141467.38667349 5231507.33189925 2726953.27810012 4429871.4464364\n",
      " 6620028.13189146 6448094.12137768 3051847.23318596 4046214.40190848\n",
      " 3291691.99877548 3356109.79585772 6832071.81242617 4512479.53065934\n",
      " 3908192.78717407 5954602.24395295 3927547.29693752 5204666.41258293\n",
      " 7163124.73972155 3183066.30725846 3221567.00275793 4070626.71798695\n",
      " 3762766.98548785]\n"
     ]
    }
   ],
   "source": [
    "mask = col\n",
    "X_test = pd.read_csv(path_test)[mask]\n",
    "\n",
    "y_pred = model_target.predict(X_test)\n",
    "print(y_pred)"
   ]
  },
  {
   "cell_type": "code",
   "execution_count": 11,
   "id": "21f7972c",
   "metadata": {},
   "outputs": [],
   "source": [
    "# Название вектора предсказанных значений  y_predict полученого на основании тестового набора"
   ]
  },
  {
   "cell_type": "code",
   "execution_count": 12,
   "id": "215c09e4",
   "metadata": {},
   "outputs": [
    {
     "data": {
      "text/plain": [
       "array([6375747.44195218, 6540858.15855931, 3130449.42060486,\n",
       "       4743110.25086385, 3940441.48703014, 3759290.53294641,\n",
       "       8080180.71799984, 7591544.41607909, 3583334.4018924 ,\n",
       "       6751238.28401104, 8247822.53951122, 4011779.48153564,\n",
       "       4983557.35321962, 3922027.98438167, 3990602.69359739,\n",
       "       7533424.95466228, 4400657.25649856, 5648491.01229037,\n",
       "       4722916.01670764, 6508744.39953115, 3267753.31921918,\n",
       "       3551059.94240435, 5577559.32862685, 3432024.27638642,\n",
       "       3556624.74746044, 3844574.96127322, 5510243.9318986 ,\n",
       "       3145653.71029842, 2861235.91200762, 4213125.62469274,\n",
       "       3143958.15571342, 6782102.23450047, 4975100.34499224,\n",
       "       4207115.55745739, 5061165.05586554, 3370343.58267341,\n",
       "       4367906.19886262, 2724081.35033019, 5110315.95512373,\n",
       "       5583046.34605268, 6388216.34671324, 4650827.7750598 ,\n",
       "       8450486.9215954 , 4523883.92759274, 3318209.14978289,\n",
       "       5894400.99420835, 4514447.4613881 , 2681769.97881084,\n",
       "       4653087.0599962 , 2649029.84729116, 4853526.78033569,\n",
       "       2772519.36755357, 6533273.99090454, 5251257.3994716 ,\n",
       "       3288849.77107821, 5294260.92881569, 5774415.74748352,\n",
       "       4133601.73303126, 2853996.97443429, 6040712.19400308,\n",
       "       7270839.20640232, 4272190.19847656, 3753219.93091788,\n",
       "       4367617.65138323, 7385562.74822092, 5878309.32537534,\n",
       "       4174560.72514995, 3749878.38033091, 2967433.40404615,\n",
       "       7742686.31354555, 4134738.70648868, 5448774.97101795,\n",
       "       4033330.04178821, 8860562.29920211, 7319963.04345903,\n",
       "       5386965.61064282, 6168408.09920226, 6476449.78651437,\n",
       "       5513002.05727344, 4333300.55757326, 3220421.34353378,\n",
       "       5501967.73439295, 7747103.02718278, 5872177.40144332,\n",
       "       4947589.71505435, 3678969.89828158, 4947336.87878485,\n",
       "       4308433.98317948, 3050430.30018191, 3763190.65022288,\n",
       "       6141743.71444523, 3373730.47160723, 4139151.68684675,\n",
       "       6405836.16803841, 4497180.75702387, 5796793.94235672,\n",
       "       3993698.55744723, 6203144.22410906, 6489431.79895152,\n",
       "       4244267.72093173, 7640853.72397063, 3708145.64741709,\n",
       "       7494892.06785597, 4479858.69075763, 2792611.96220083,\n",
       "       5125744.88955486, 3408006.56703846, 4514946.40654339,\n",
       "       3157911.9248735 , 4969889.35483431, 5696034.54753946,\n",
       "       4247455.75960675, 5782621.73000174, 4028711.10776245,\n",
       "       4690802.28918095, 3291691.99877548, 6141467.38667349,\n",
       "       5231507.33189925, 2726953.27810012, 4429871.4464364 ,\n",
       "       6620028.13189146, 6448094.12137768, 3051847.23318596,\n",
       "       4046214.40190848, 3291691.99877548, 3356109.79585772,\n",
       "       6832071.81242617, 4512479.53065934, 3908192.78717407,\n",
       "       5954602.24395295, 3927547.29693752, 5204666.41258293,\n",
       "       7163124.73972155, 3183066.30725846, 3221567.00275793,\n",
       "       4070626.71798695, 3762766.98548785])"
      ]
     },
     "execution_count": 12,
     "metadata": {},
     "output_type": "execute_result"
    }
   ],
   "source": [
    "y_predict = y_pred\n",
    "y_predict"
   ]
  },
  {
   "cell_type": "code",
   "execution_count": null,
   "id": "57634f8f",
   "metadata": {},
   "outputs": [],
   "source": []
  },
  {
   "cell_type": "markdown",
   "id": "e133e25b",
   "metadata": {},
   "source": [
    "## Использованные признаки"
   ]
  },
  {
   "cell_type": "code",
   "execution_count": 13,
   "id": "3fe8113d",
   "metadata": {},
   "outputs": [
    {
     "name": "stdout",
     "output_type": "stream",
     "text": [
      "['0', '4', '5', '6', '7', '9', '12', '13', '16', '21', '22', '24', '25', '28']\n"
     ]
    }
   ],
   "source": [
    "print(col)"
   ]
  },
  {
   "cell_type": "code",
   "execution_count": 14,
   "id": "bc5724f7",
   "metadata": {},
   "outputs": [
    {
     "name": "stdout",
     "output_type": "stream",
     "text": [
      "(137,) (137,)\n",
      "Отрицательные цены -  0\n",
      "Max Error: 5,760,568\n",
      " \n",
      "----------------------\n",
      "   MAPE Error: 17.52\n",
      "----------------------\n"
     ]
    },
    {
     "data": {
      "image/png": "[encoded data removed]",
      "text/plain": [
       "<Figure size 1500x500 with 2 Axes>"
      ]
     },
     "metadata": {},
     "output_type": "display_data"
    }
   ],
   "source": [
    "from sklearn.metrics import mean_absolute_percentage_error\n",
    "import matplotlib.pyplot as plt\n",
    "import matplotlib.pyplot as plt\n",
    "\n",
    "y_true = pd.read_csv(\"test_Y_true_house_A.csv\").values.reshape(-1)\n",
    "print(y_predict.shape, y_true.shape)\n",
    "print('Отрицательные цены - ', sum(y_predict<0))\n",
    "\n",
    "def plot_2_error(y_true, y_predicted):\n",
    "    residuals = y_true - y_predicted\n",
    "    max_error = max(residuals) if abs(max(residuals)) > abs(min(residuals)) else min(residuals)\n",
    "    max_idx = list(residuals).index(max(residuals)) if abs(max(residuals)) > abs(min(residuals)) else list(residuals).index(min(residuals))\n",
    "    max_true, max_pred = y_true[max_idx], y_predicted[max_idx]\n",
    "    mape = mean_absolute_percentage_error(y_true, y_predict)\n",
    "    print(\"Max Error:\", \"{:,.0f}\".format(max_error))\n",
    "    print(' ')\n",
    "    print('----------------------')\n",
    "    print(\"   MAPE Error:\", \"{:,.2f}\".format(mape*100))\n",
    "    print('----------------------')\n",
    "\n",
    "    ## Plot predicted vs true\n",
    "    fig, ax = plt.subplots(nrows=1, ncols=2, figsize=(15,5))\n",
    "    from statsmodels.graphics.api import abline_plot\n",
    "    ax[0].scatter(y_predicted, y_true, color=\"black\")\n",
    "    abline_plot(intercept=0, slope=1, color=\"red\", ax=ax[0])\n",
    "    ax[0].vlines(x=max_pred, ymin=max_true, ymax=max_true-max_error, color='red', linestyle='--', alpha=0.7, label=\"max error\")\n",
    "    ax[0].grid(True)\n",
    "    ax[0].set(xlabel=\"Predicted\", ylabel=\"True\", title=\"Predicted vs True\")\n",
    "    ax[0].legend()\n",
    "\n",
    "    ## Plot predicted vs residuals\n",
    "    ax[1].scatter(y_predicted, residuals, color=\"red\")\n",
    "    ax[1].vlines(x=max_pred, ymin=0, ymax=max_error, color='black', linestyle='--', alpha=0.7, label=\"max error\")\n",
    "    ax[1].grid(True)\n",
    "    ax[1].set(xlabel=\"Predicted\", ylabel=\"Residuals\", title=\"Predicted vs Residuals\")\n",
    "    ax[1].hlines(y=0, xmin=np.min(y_predicted), xmax=np.max(y_predicted))\n",
    "    ax[1].legend()\n",
    "    plt.show()\n",
    "\n",
    "plot_2_error(y_true, y_predict)"
   ]
  },
  {
   "cell_type": "code",
   "execution_count": 15,
   "id": "b31c2095",
   "metadata": {},
   "outputs": [
    {
     "data": {
      "text/html": [
       "<style type=\"text/css\">\n",
       "#T_59121_row1_col0, #T_59121_row1_col1, #T_59121_row2_col0, #T_59121_row2_col1, #T_59121_row3_col0, #T_59121_row3_col1, #T_59121_row4_col0, #T_59121_row4_col1, #T_59121_row6_col0, #T_59121_row6_col1, #T_59121_row7_col0, #T_59121_row7_col1, #T_59121_row8_col0, #T_59121_row8_col1, #T_59121_row9_col0, #T_59121_row9_col1, #T_59121_row12_col0, #T_59121_row12_col1, #T_59121_row13_col0, #T_59121_row13_col1, #T_59121_row18_col0, #T_59121_row18_col1, #T_59121_row19_col0, #T_59121_row19_col1, #T_59121_row20_col0, #T_59121_row20_col1, #T_59121_row28_col0, #T_59121_row28_col1 {\n",
       "  background-color: yellow;\n",
       "}\n",
       "</style>\n",
       "<table id=\"T_59121\">\n",
       "  <thead>\n",
       "    <tr>\n",
       "      <th class=\"blank level0\" >&nbsp;</th>\n",
       "      <th id=\"T_59121_level0_col0\" class=\"col_heading level0 col0\" >index</th>\n",
       "      <th id=\"T_59121_level0_col1\" class=\"col_heading level0 col1\" >0</th>\n",
       "    </tr>\n",
       "  </thead>\n",
       "  <tbody>\n",
       "    <tr>\n",
       "      <th id=\"T_59121_level0_row0\" class=\"row_heading level0 row0\" >0</th>\n",
       "      <td id=\"T_59121_row0_col0\" class=\"data row0 col0\" >1</td>\n",
       "      <td id=\"T_59121_row0_col1\" class=\"data row0 col1\" >1</td>\n",
       "    </tr>\n",
       "    <tr>\n",
       "      <th id=\"T_59121_level0_row1\" class=\"row_heading level0 row1\" >1</th>\n",
       "      <td id=\"T_59121_row1_col0\" class=\"data row1 col0\" >16</td>\n",
       "      <td id=\"T_59121_row1_col1\" class=\"data row1 col1\" >airconditioning</td>\n",
       "    </tr>\n",
       "    <tr>\n",
       "      <th id=\"T_59121_level0_row2\" class=\"row_heading level0 row2\" >2</th>\n",
       "      <td id=\"T_59121_row2_col0\" class=\"data row2 col0\" >6</td>\n",
       "      <td id=\"T_59121_row2_col1\" class=\"data row2 col1\" >area</td>\n",
       "    </tr>\n",
       "    <tr>\n",
       "      <th id=\"T_59121_level0_row3\" class=\"row_heading level0 row3\" >3</th>\n",
       "      <td id=\"T_59121_row3_col0\" class=\"data row3 col0\" >4</td>\n",
       "      <td id=\"T_59121_row3_col1\" class=\"data row3 col1\" >area bathrooms</td>\n",
       "    </tr>\n",
       "    <tr>\n",
       "      <th id=\"T_59121_level0_row4\" class=\"row_heading level0 row4\" >4</th>\n",
       "      <td id=\"T_59121_row4_col0\" class=\"data row4 col0\" >25</td>\n",
       "      <td id=\"T_59121_row4_col1\" class=\"data row4 col1\" >area bedrooms</td>\n",
       "    </tr>\n",
       "    <tr>\n",
       "      <th id=\"T_59121_level0_row5\" class=\"row_heading level0 row5\" >5</th>\n",
       "      <td id=\"T_59121_row5_col0\" class=\"data row5 col0\" >10</td>\n",
       "      <td id=\"T_59121_row5_col1\" class=\"data row5 col1\" >area stories</td>\n",
       "    </tr>\n",
       "    <tr>\n",
       "      <th id=\"T_59121_level0_row6\" class=\"row_heading level0 row6\" >6</th>\n",
       "      <td id=\"T_59121_row6_col0\" class=\"data row6 col0\" >5</td>\n",
       "      <td id=\"T_59121_row6_col1\" class=\"data row6 col1\" >basement</td>\n",
       "    </tr>\n",
       "    <tr>\n",
       "      <th id=\"T_59121_level0_row7\" class=\"row_heading level0 row7\" >7</th>\n",
       "      <td id=\"T_59121_row7_col0\" class=\"data row7 col0\" >7</td>\n",
       "      <td id=\"T_59121_row7_col1\" class=\"data row7 col1\" >bathrooms</td>\n",
       "    </tr>\n",
       "    <tr>\n",
       "      <th id=\"T_59121_level0_row8\" class=\"row_heading level0 row8\" >8</th>\n",
       "      <td id=\"T_59121_row8_col0\" class=\"data row8 col0\" >28</td>\n",
       "      <td id=\"T_59121_row8_col1\" class=\"data row8 col1\" >bathrooms stories</td>\n",
       "    </tr>\n",
       "    <tr>\n",
       "      <th id=\"T_59121_level0_row9\" class=\"row_heading level0 row9\" >9</th>\n",
       "      <td id=\"T_59121_row9_col0\" class=\"data row9 col0\" >21</td>\n",
       "      <td id=\"T_59121_row9_col1\" class=\"data row9 col1\" >bedrooms</td>\n",
       "    </tr>\n",
       "    <tr>\n",
       "      <th id=\"T_59121_level0_row10\" class=\"row_heading level0 row10\" >10</th>\n",
       "      <td id=\"T_59121_row10_col0\" class=\"data row10 col0\" >20</td>\n",
       "      <td id=\"T_59121_row10_col1\" class=\"data row10 col1\" >bedrooms bathrooms</td>\n",
       "    </tr>\n",
       "    <tr>\n",
       "      <th id=\"T_59121_level0_row11\" class=\"row_heading level0 row11\" >11</th>\n",
       "      <td id=\"T_59121_row11_col0\" class=\"data row11 col0\" >8</td>\n",
       "      <td id=\"T_59121_row11_col1\" class=\"data row11 col1\" >bedrooms stories</td>\n",
       "    </tr>\n",
       "    <tr>\n",
       "      <th id=\"T_59121_level0_row12\" class=\"row_heading level0 row12\" >12</th>\n",
       "      <td id=\"T_59121_row12_col0\" class=\"data row12 col0\" >22</td>\n",
       "      <td id=\"T_59121_row12_col1\" class=\"data row12 col1\" >furnishingstatus</td>\n",
       "    </tr>\n",
       "    <tr>\n",
       "      <th id=\"T_59121_level0_row13\" class=\"row_heading level0 row13\" >13</th>\n",
       "      <td id=\"T_59121_row13_col0\" class=\"data row13 col0\" >9</td>\n",
       "      <td id=\"T_59121_row13_col1\" class=\"data row13 col1\" >guestroom</td>\n",
       "    </tr>\n",
       "    <tr>\n",
       "      <th id=\"T_59121_level0_row14\" class=\"row_heading level0 row14\" >14</th>\n",
       "      <td id=\"T_59121_row14_col0\" class=\"data row14 col0\" >23</td>\n",
       "      <td id=\"T_59121_row14_col1\" class=\"data row14 col1\" >hotwaterheating</td>\n",
       "    </tr>\n",
       "    <tr>\n",
       "      <th id=\"T_59121_level0_row15\" class=\"row_heading level0 row15\" >15</th>\n",
       "      <td id=\"T_59121_row15_col0\" class=\"data row15 col0\" >18</td>\n",
       "      <td id=\"T_59121_row15_col1\" class=\"data row15 col1\" >log_rnd_1</td>\n",
       "    </tr>\n",
       "    <tr>\n",
       "      <th id=\"T_59121_level0_row16\" class=\"row_heading level0 row16\" >16</th>\n",
       "      <td id=\"T_59121_row16_col0\" class=\"data row16 col0\" >2</td>\n",
       "      <td id=\"T_59121_row16_col1\" class=\"data row16 col1\" >log_rnd_2</td>\n",
       "    </tr>\n",
       "    <tr>\n",
       "      <th id=\"T_59121_level0_row17\" class=\"row_heading level0 row17\" >17</th>\n",
       "      <td id=\"T_59121_row17_col0\" class=\"data row17 col0\" >14</td>\n",
       "      <td id=\"T_59121_row17_col1\" class=\"data row17 col1\" >log_rnd_3</td>\n",
       "    </tr>\n",
       "    <tr>\n",
       "      <th id=\"T_59121_level0_row18\" class=\"row_heading level0 row18\" >18</th>\n",
       "      <td id=\"T_59121_row18_col0\" class=\"data row18 col0\" >0</td>\n",
       "      <td id=\"T_59121_row18_col1\" class=\"data row18 col1\" >mainroad</td>\n",
       "    </tr>\n",
       "    <tr>\n",
       "      <th id=\"T_59121_level0_row19\" class=\"row_heading level0 row19\" >19</th>\n",
       "      <td id=\"T_59121_row19_col0\" class=\"data row19 col0\" >13</td>\n",
       "      <td id=\"T_59121_row19_col1\" class=\"data row19 col1\" >parking</td>\n",
       "    </tr>\n",
       "    <tr>\n",
       "      <th id=\"T_59121_level0_row20\" class=\"row_heading level0 row20\" >20</th>\n",
       "      <td id=\"T_59121_row20_col0\" class=\"data row20 col0\" >24</td>\n",
       "      <td id=\"T_59121_row20_col1\" class=\"data row20 col1\" >prefarea</td>\n",
       "    </tr>\n",
       "    <tr>\n",
       "      <th id=\"T_59121_level0_row21\" class=\"row_heading level0 row21\" >21</th>\n",
       "      <td id=\"T_59121_row21_col0\" class=\"data row21 col0\" >27</td>\n",
       "      <td id=\"T_59121_row21_col1\" class=\"data row21 col1\" >rnd_1</td>\n",
       "    </tr>\n",
       "    <tr>\n",
       "      <th id=\"T_59121_level0_row22\" class=\"row_heading level0 row22\" >22</th>\n",
       "      <td id=\"T_59121_row22_col0\" class=\"data row22 col0\" >3</td>\n",
       "      <td id=\"T_59121_row22_col1\" class=\"data row22 col1\" >rnd_2</td>\n",
       "    </tr>\n",
       "    <tr>\n",
       "      <th id=\"T_59121_level0_row23\" class=\"row_heading level0 row23\" >23</th>\n",
       "      <td id=\"T_59121_row23_col0\" class=\"data row23 col0\" >19</td>\n",
       "      <td id=\"T_59121_row23_col1\" class=\"data row23 col1\" >rnd_3</td>\n",
       "    </tr>\n",
       "    <tr>\n",
       "      <th id=\"T_59121_level0_row24\" class=\"row_heading level0 row24\" >24</th>\n",
       "      <td id=\"T_59121_row24_col0\" class=\"data row24 col0\" >11</td>\n",
       "      <td id=\"T_59121_row24_col1\" class=\"data row24 col1\" >rnd_4</td>\n",
       "    </tr>\n",
       "    <tr>\n",
       "      <th id=\"T_59121_level0_row25\" class=\"row_heading level0 row25\" >25</th>\n",
       "      <td id=\"T_59121_row25_col0\" class=\"data row25 col0\" >15</td>\n",
       "      <td id=\"T_59121_row25_col1\" class=\"data row25 col1\" >rnd_5</td>\n",
       "    </tr>\n",
       "    <tr>\n",
       "      <th id=\"T_59121_level0_row26\" class=\"row_heading level0 row26\" >26</th>\n",
       "      <td id=\"T_59121_row26_col0\" class=\"data row26 col0\" >26</td>\n",
       "      <td id=\"T_59121_row26_col1\" class=\"data row26 col1\" >rnd_6</td>\n",
       "    </tr>\n",
       "    <tr>\n",
       "      <th id=\"T_59121_level0_row27\" class=\"row_heading level0 row27\" >27</th>\n",
       "      <td id=\"T_59121_row27_col0\" class=\"data row27 col0\" >17</td>\n",
       "      <td id=\"T_59121_row27_col1\" class=\"data row27 col1\" >rnd_7</td>\n",
       "    </tr>\n",
       "    <tr>\n",
       "      <th id=\"T_59121_level0_row28\" class=\"row_heading level0 row28\" >28</th>\n",
       "      <td id=\"T_59121_row28_col0\" class=\"data row28 col0\" >12</td>\n",
       "      <td id=\"T_59121_row28_col1\" class=\"data row28 col1\" >stories</td>\n",
       "    </tr>\n",
       "  </tbody>\n",
       "</table>\n"
      ],
      "text/plain": [
       "<pandas.io.formats.style.Styler at 0x7fa8ebdb9810>"
      ]
     },
     "execution_count": 15,
     "metadata": {},
     "output_type": "execute_result"
    }
   ],
   "source": [
    "mask = col\n",
    "\n",
    "import pickle\n",
    "with open('saved_dictionary_a.pkl', 'rb') as f:\n",
    "    loaded_dict = pickle.load(f)\n",
    "\n",
    "color_dict = pd.Series(loaded_dict).to_frame().reset_index().sort_values(by=0).reset_index(drop=True)\n",
    "color = (color_dict['index'].isin(mask)).map({True: 'background-color: yellow', False: ''})\n",
    "color_dict.style.apply(lambda s: color)"
   ]
  },
  {
   "cell_type": "code",
   "execution_count": null,
   "id": "85d2ee27",
   "metadata": {},
   "outputs": [],
   "source": []
  }
 ],
 "metadata": {
  "kernelspec": {
   "display_name": "Python 3 (ipykernel)",
   "language": "python",
   "name": "python3"
  },
  "language_info": {
   "codemirror_mode": {
    "name": "ipython",
    "version": 3
   },
   "file_extension": ".py",
   "mimetype": "text/x-python",
   "name": "python",
   "nbconvert_exporter": "python",
   "pygments_lexer": "ipython3",
   "version": "3.10.13"
  }
 },
 "nbformat": 4,
 "nbformat_minor": 5
}
