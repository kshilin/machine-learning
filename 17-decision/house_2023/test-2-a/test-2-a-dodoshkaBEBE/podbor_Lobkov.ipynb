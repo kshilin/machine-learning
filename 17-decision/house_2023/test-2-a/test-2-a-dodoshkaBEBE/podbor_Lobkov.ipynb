{
 "cells": [
  {
   "cell_type": "code",
   "execution_count": 1,
   "id": "b891318f",
   "metadata": {
    "execution": {
     "iopub.execute_input": "2023-12-21T09:42:12.788214Z",
     "iopub.status.busy": "2023-12-21T09:42:12.787430Z",
     "iopub.status.idle": "2023-12-21T09:42:12.830328Z",
     "shell.execute_reply": "2023-12-21T09:42:12.829448Z",
     "shell.execute_reply.started": "2023-12-21T09:42:12.788163Z"
    }
   },
   "outputs": [],
   "source": [
    "#Import"
   ]
  },
  {
   "cell_type": "code",
   "execution_count": 326,
   "id": "11342be7",
   "metadata": {
    "execution": {
     "iopub.execute_input": "2023-12-21T10:34:03.152602Z",
     "iopub.status.busy": "2023-12-21T10:34:03.151726Z",
     "iopub.status.idle": "2023-12-21T10:34:03.167708Z",
     "shell.execute_reply": "2023-12-21T10:34:03.166951Z",
     "shell.execute_reply.started": "2023-12-21T10:34:03.152553Z"
    },
    "tags": []
   },
   "outputs": [],
   "source": [
    "import numpy as np\n",
    "import matplotlib.pyplot as plt\n",
    "import seaborn as sns\n",
    "import pandas as pd\n",
    "import pandas.plotting as pd_plt\n",
    "import matplotlib.colors as plt_colors\n",
    "import seaborn as sns\n",
    "import matplotlib.pyplot as plt\n",
    "from IPython.display import display\n",
    "from statsmodels.graphics.gofplots import qqplot\n",
    "from statsmodels.stats.proportion import proportions_ztest\n",
    "from tqdm.notebook import tqdm\n",
    "#Пропущенные данные\n",
    "from sklearn.experimental import enable_iterative_imputer\n",
    "from sklearn.impute import IterativeImputer,SimpleImputer\n",
    "#Препроцессинг\n",
    "from sklearn.preprocessing import MinMaxScaler, StandardScaler, RobustScaler, Normalizer\n",
    "from sklearn.model_selection import train_test_split, cross_val_score, GridSearchCV, KFold \n",
    "from sklearn.linear_model import ElasticNet, BayesianRidge, Ridge, Lasso\n",
    "from sklearn.preprocessing import PolynomialFeatures\n",
    "from sklearn.preprocessing import OneHotEncoder\n",
    "from sklearn.compose import ColumnTransformer, make_column_transformer\n",
    "from sklearn.pipeline import Pipeline\n",
    "# import category_encoders as ce\n",
    "from sklearn.preprocessing import LabelEncoder\n",
    "from sklearn.preprocessing import KBinsDiscretizer\n",
    "from sklearn.preprocessing import PowerTransformer\n",
    "from sklearn.compose import TransformedTargetRegressor\n",
    "from sklearn.preprocessing import QuantileTransformer\n",
    "\n",
    "from sklearn.linear_model import ElasticNet, BayesianRidge, Ridge, Lasso\n",
    "from sklearn.ensemble import RandomForestRegressor\n",
    "from sklearn.ensemble import GradientBoostingRegressor\n",
    "from sklearn.svm import SVR\n",
    "from sklearn.ensemble import VotingClassifier\n",
    "from sklearn.ensemble import StackingClassifier\n",
    "#Визуализация\n",
    "from sklearn.metrics import PredictionErrorDisplay"
   ]
  },
  {
   "cell_type": "code",
   "execution_count": 327,
   "id": "5fd21787",
   "metadata": {
    "execution": {
     "iopub.execute_input": "2023-12-21T10:34:04.517690Z",
     "iopub.status.busy": "2023-12-21T10:34:04.516974Z",
     "iopub.status.idle": "2023-12-21T10:34:04.535750Z",
     "shell.execute_reply": "2023-12-21T10:34:04.534947Z",
     "shell.execute_reply.started": "2023-12-21T10:34:04.517647Z"
    },
    "tags": []
   },
   "outputs": [],
   "source": [
    "# Путь к тренировочному набору\n",
    "path_train = 'train_house_A.csv' # содержит только имя файла, без имен папок\n",
    "df = pd.read_csv(path_train)"
   ]
  },
  {
   "cell_type": "code",
   "execution_count": 328,
   "id": "b5828387",
   "metadata": {
    "execution": {
     "iopub.execute_input": "2023-12-21T10:34:04.619139Z",
     "iopub.status.busy": "2023-12-21T10:34:04.618273Z",
     "iopub.status.idle": "2023-12-21T10:34:04.632792Z",
     "shell.execute_reply": "2023-12-21T10:34:04.632113Z",
     "shell.execute_reply.started": "2023-12-21T10:34:04.619088Z"
    },
    "tags": []
   },
   "outputs": [],
   "source": [
    "# Блок(и) подбора"
   ]
  },
  {
   "cell_type": "markdown",
   "id": "e6073feb",
   "metadata": {},
   "source": [
    "Метрика MAPE"
   ]
  },
  {
   "cell_type": "code",
   "execution_count": 329,
   "id": "de5562b5",
   "metadata": {
    "execution": {
     "iopub.execute_input": "2023-12-21T10:34:04.735855Z",
     "iopub.status.busy": "2023-12-21T10:34:04.735136Z",
     "iopub.status.idle": "2023-12-21T10:34:04.782025Z",
     "shell.execute_reply": "2023-12-21T10:34:04.781278Z",
     "shell.execute_reply.started": "2023-12-21T10:34:04.735815Z"
    },
    "tags": []
   },
   "outputs": [
    {
     "data": {
      "text/html": [
       "<div>\n",
       "<style scoped>\n",
       "    .dataframe tbody tr th:only-of-type {\n",
       "        vertical-align: middle;\n",
       "    }\n",
       "\n",
       "    .dataframe tbody tr th {\n",
       "        vertical-align: top;\n",
       "    }\n",
       "\n",
       "    .dataframe thead th {\n",
       "        text-align: right;\n",
       "    }\n",
       "</style>\n",
       "<table border=\"1\" class=\"dataframe\">\n",
       "  <thead>\n",
       "    <tr style=\"text-align: right;\">\n",
       "      <th></th>\n",
       "      <th>price</th>\n",
       "      <th>0</th>\n",
       "      <th>1</th>\n",
       "      <th>2</th>\n",
       "      <th>3</th>\n",
       "      <th>4</th>\n",
       "      <th>5</th>\n",
       "      <th>6</th>\n",
       "      <th>7</th>\n",
       "      <th>8</th>\n",
       "      <th>9</th>\n",
       "      <th>10</th>\n",
       "      <th>11</th>\n",
       "      <th>12</th>\n",
       "      <th>13</th>\n",
       "      <th>14</th>\n",
       "      <th>15</th>\n",
       "      <th>16</th>\n",
       "      <th>17</th>\n",
       "      <th>18</th>\n",
       "      <th>19</th>\n",
       "      <th>20</th>\n",
       "      <th>21</th>\n",
       "      <th>22</th>\n",
       "      <th>23</th>\n",
       "      <th>24</th>\n",
       "      <th>25</th>\n",
       "      <th>26</th>\n",
       "      <th>27</th>\n",
       "      <th>28</th>\n",
       "    </tr>\n",
       "  </thead>\n",
       "  <tbody>\n",
       "    <tr>\n",
       "      <th>0</th>\n",
       "      <td>5320000</td>\n",
       "      <td>0.405623</td>\n",
       "      <td>0.0</td>\n",
       "      <td>-0.061169</td>\n",
       "      <td>-0.741051</td>\n",
       "      <td>-0.223185</td>\n",
       "      <td>1.361397</td>\n",
       "      <td>1.221991</td>\n",
       "      <td>-0.570187</td>\n",
       "      <td>-0.478408</td>\n",
       "      <td>-0.465315</td>\n",
       "      <td>-1.592404</td>\n",
       "      <td>-1.668320</td>\n",
       "      <td>-0.929397</td>\n",
       "      <td>1.517692</td>\n",
       "      <td>-0.142607</td>\n",
       "      <td>0.994994</td>\n",
       "      <td>1.472618</td>\n",
       "      <td>-0.280781</td>\n",
       "      <td>1.860696</td>\n",
       "      <td>0.245475</td>\n",
       "      <td>-0.263991</td>\n",
       "      <td>0.047278</td>\n",
       "      <td>1.222962</td>\n",
       "      <td>-0.219265</td>\n",
       "      <td>1.804941</td>\n",
       "      <td>-0.126718</td>\n",
       "      <td>0.271470</td>\n",
       "      <td>1.391006</td>\n",
       "      <td>-0.141322</td>\n",
       "    </tr>\n",
       "    <tr>\n",
       "      <th>1</th>\n",
       "      <td>3465000</td>\n",
       "      <td>0.405623</td>\n",
       "      <td>0.0</td>\n",
       "      <td>-0.826890</td>\n",
       "      <td>-0.867066</td>\n",
       "      <td>-0.223185</td>\n",
       "      <td>-0.734539</td>\n",
       "      <td>-0.964205</td>\n",
       "      <td>-0.570187</td>\n",
       "      <td>-0.478408</td>\n",
       "      <td>-0.465315</td>\n",
       "      <td>0.729512</td>\n",
       "      <td>0.913740</td>\n",
       "      <td>-0.929397</td>\n",
       "      <td>-0.805741</td>\n",
       "      <td>0.307755</td>\n",
       "      <td>1.615664</td>\n",
       "      <td>-0.679063</td>\n",
       "      <td>1.311928</td>\n",
       "      <td>-1.087695</td>\n",
       "      <td>-1.444928</td>\n",
       "      <td>-0.263991</td>\n",
       "      <td>0.047278</td>\n",
       "      <td>1.222962</td>\n",
       "      <td>-0.219265</td>\n",
       "      <td>-0.554035</td>\n",
       "      <td>-0.126718</td>\n",
       "      <td>-1.010746</td>\n",
       "      <td>0.617421</td>\n",
       "      <td>-0.141322</td>\n",
       "    </tr>\n",
       "    <tr>\n",
       "      <th>2</th>\n",
       "      <td>3500000</td>\n",
       "      <td>0.405623</td>\n",
       "      <td>0.0</td>\n",
       "      <td>-0.963310</td>\n",
       "      <td>-1.676106</td>\n",
       "      <td>-0.223185</td>\n",
       "      <td>-0.734539</td>\n",
       "      <td>-0.692084</td>\n",
       "      <td>-0.570187</td>\n",
       "      <td>-0.478408</td>\n",
       "      <td>-0.465315</td>\n",
       "      <td>-0.024866</td>\n",
       "      <td>0.427448</td>\n",
       "      <td>0.224410</td>\n",
       "      <td>-0.805741</td>\n",
       "      <td>-1.033235</td>\n",
       "      <td>1.648072</td>\n",
       "      <td>-0.679063</td>\n",
       "      <td>0.470806</td>\n",
       "      <td>0.217582</td>\n",
       "      <td>1.578828</td>\n",
       "      <td>-0.263991</td>\n",
       "      <td>0.047278</td>\n",
       "      <td>1.222962</td>\n",
       "      <td>-0.219265</td>\n",
       "      <td>-0.554035</td>\n",
       "      <td>-0.126718</td>\n",
       "      <td>-1.237596</td>\n",
       "      <td>1.483005</td>\n",
       "      <td>-0.141322</td>\n",
       "    </tr>\n",
       "    <tr>\n",
       "      <th>3</th>\n",
       "      <td>3570000</td>\n",
       "      <td>0.405623</td>\n",
       "      <td>0.0</td>\n",
       "      <td>0.242611</td>\n",
       "      <td>0.193424</td>\n",
       "      <td>-0.223185</td>\n",
       "      <td>-0.734539</td>\n",
       "      <td>-0.696696</td>\n",
       "      <td>-0.570187</td>\n",
       "      <td>1.307431</td>\n",
       "      <td>-0.465315</td>\n",
       "      <td>0.445396</td>\n",
       "      <td>1.056981</td>\n",
       "      <td>-0.929397</td>\n",
       "      <td>-0.805741</td>\n",
       "      <td>-1.119627</td>\n",
       "      <td>1.488127</td>\n",
       "      <td>-0.679063</td>\n",
       "      <td>-1.039726</td>\n",
       "      <td>0.442600</td>\n",
       "      <td>-1.675466</td>\n",
       "      <td>-0.263991</td>\n",
       "      <td>-1.308863</td>\n",
       "      <td>1.222962</td>\n",
       "      <td>-0.219265</td>\n",
       "      <td>-0.554035</td>\n",
       "      <td>0.417348</td>\n",
       "      <td>-0.987324</td>\n",
       "      <td>1.134657</td>\n",
       "      <td>-0.141322</td>\n",
       "    </tr>\n",
       "    <tr>\n",
       "      <th>4</th>\n",
       "      <td>4130000</td>\n",
       "      <td>0.405623</td>\n",
       "      <td>0.0</td>\n",
       "      <td>-0.740827</td>\n",
       "      <td>-0.684767</td>\n",
       "      <td>-0.223185</td>\n",
       "      <td>-0.734539</td>\n",
       "      <td>-0.239163</td>\n",
       "      <td>-0.570187</td>\n",
       "      <td>-0.478408</td>\n",
       "      <td>-0.465315</td>\n",
       "      <td>-0.024866</td>\n",
       "      <td>-0.825728</td>\n",
       "      <td>0.224410</td>\n",
       "      <td>-0.805741</td>\n",
       "      <td>0.232269</td>\n",
       "      <td>-1.316654</td>\n",
       "      <td>1.472618</td>\n",
       "      <td>1.747297</td>\n",
       "      <td>-1.109080</td>\n",
       "      <td>-1.347578</td>\n",
       "      <td>-0.263991</td>\n",
       "      <td>1.403419</td>\n",
       "      <td>-0.091662</td>\n",
       "      <td>-0.219265</td>\n",
       "      <td>-0.554035</td>\n",
       "      <td>-0.108582</td>\n",
       "      <td>0.838006</td>\n",
       "      <td>0.360062</td>\n",
       "      <td>-0.141322</td>\n",
       "    </tr>\n",
       "    <tr>\n",
       "      <th>...</th>\n",
       "      <td>...</td>\n",
       "      <td>...</td>\n",
       "      <td>...</td>\n",
       "      <td>...</td>\n",
       "      <td>...</td>\n",
       "      <td>...</td>\n",
       "      <td>...</td>\n",
       "      <td>...</td>\n",
       "      <td>...</td>\n",
       "      <td>...</td>\n",
       "      <td>...</td>\n",
       "      <td>...</td>\n",
       "      <td>...</td>\n",
       "      <td>...</td>\n",
       "      <td>...</td>\n",
       "      <td>...</td>\n",
       "      <td>...</td>\n",
       "      <td>...</td>\n",
       "      <td>...</td>\n",
       "      <td>...</td>\n",
       "      <td>...</td>\n",
       "      <td>...</td>\n",
       "      <td>...</td>\n",
       "      <td>...</td>\n",
       "      <td>...</td>\n",
       "      <td>...</td>\n",
       "      <td>...</td>\n",
       "      <td>...</td>\n",
       "      <td>...</td>\n",
       "      <td>...</td>\n",
       "    </tr>\n",
       "    <tr>\n",
       "      <th>403</th>\n",
       "      <td>4550000</td>\n",
       "      <td>0.405623</td>\n",
       "      <td>0.0</td>\n",
       "      <td>1.008081</td>\n",
       "      <td>1.658059</td>\n",
       "      <td>-0.223185</td>\n",
       "      <td>-0.734539</td>\n",
       "      <td>-0.696696</td>\n",
       "      <td>-0.570187</td>\n",
       "      <td>-0.478408</td>\n",
       "      <td>-0.465315</td>\n",
       "      <td>-0.024866</td>\n",
       "      <td>0.343618</td>\n",
       "      <td>0.224410</td>\n",
       "      <td>-0.805741</td>\n",
       "      <td>2.948326</td>\n",
       "      <td>1.045927</td>\n",
       "      <td>1.472618</td>\n",
       "      <td>1.491291</td>\n",
       "      <td>-1.123612</td>\n",
       "      <td>-1.341446</td>\n",
       "      <td>-0.263991</td>\n",
       "      <td>0.047278</td>\n",
       "      <td>-1.406286</td>\n",
       "      <td>-0.219265</td>\n",
       "      <td>-0.554035</td>\n",
       "      <td>-0.126718</td>\n",
       "      <td>-1.532214</td>\n",
       "      <td>1.329553</td>\n",
       "      <td>-0.141322</td>\n",
       "    </tr>\n",
       "    <tr>\n",
       "      <th>404</th>\n",
       "      <td>5250000</td>\n",
       "      <td>0.405623</td>\n",
       "      <td>0.0</td>\n",
       "      <td>1.592671</td>\n",
       "      <td>-0.816078</td>\n",
       "      <td>-0.223185</td>\n",
       "      <td>1.361397</td>\n",
       "      <td>-0.622901</td>\n",
       "      <td>-0.570187</td>\n",
       "      <td>-0.478408</td>\n",
       "      <td>2.149083</td>\n",
       "      <td>-0.024866</td>\n",
       "      <td>-1.312213</td>\n",
       "      <td>0.224410</td>\n",
       "      <td>0.355976</td>\n",
       "      <td>1.138751</td>\n",
       "      <td>-1.352775</td>\n",
       "      <td>-0.679063</td>\n",
       "      <td>-0.269301</td>\n",
       "      <td>1.375053</td>\n",
       "      <td>-0.144745</td>\n",
       "      <td>-0.263991</td>\n",
       "      <td>0.047278</td>\n",
       "      <td>1.222962</td>\n",
       "      <td>-0.219265</td>\n",
       "      <td>1.804941</td>\n",
       "      <td>-0.126718</td>\n",
       "      <td>-1.320247</td>\n",
       "      <td>0.041976</td>\n",
       "      <td>-0.141322</td>\n",
       "    </tr>\n",
       "    <tr>\n",
       "      <th>405</th>\n",
       "      <td>5950000</td>\n",
       "      <td>0.405623</td>\n",
       "      <td>0.0</td>\n",
       "      <td>0.582200</td>\n",
       "      <td>0.458904</td>\n",
       "      <td>-0.223185</td>\n",
       "      <td>1.361397</td>\n",
       "      <td>0.640850</td>\n",
       "      <td>-0.570187</td>\n",
       "      <td>-0.478408</td>\n",
       "      <td>2.149083</td>\n",
       "      <td>-0.975186</td>\n",
       "      <td>0.524128</td>\n",
       "      <td>-0.929397</td>\n",
       "      <td>1.517692</td>\n",
       "      <td>-0.653206</td>\n",
       "      <td>1.140005</td>\n",
       "      <td>-0.679063</td>\n",
       "      <td>-1.273605</td>\n",
       "      <td>-1.181372</td>\n",
       "      <td>-0.734544</td>\n",
       "      <td>-0.263991</td>\n",
       "      <td>0.047278</td>\n",
       "      <td>-1.406286</td>\n",
       "      <td>-0.219265</td>\n",
       "      <td>1.804941</td>\n",
       "      <td>-0.126718</td>\n",
       "      <td>-0.017405</td>\n",
       "      <td>-1.353372</td>\n",
       "      <td>-0.141322</td>\n",
       "    </tr>\n",
       "    <tr>\n",
       "      <th>406</th>\n",
       "      <td>4319000</td>\n",
       "      <td>0.405623</td>\n",
       "      <td>0.0</td>\n",
       "      <td>-0.973555</td>\n",
       "      <td>0.522287</td>\n",
       "      <td>-0.223185</td>\n",
       "      <td>1.361397</td>\n",
       "      <td>-0.515897</td>\n",
       "      <td>-0.570187</td>\n",
       "      <td>1.307431</td>\n",
       "      <td>-0.465315</td>\n",
       "      <td>0.253372</td>\n",
       "      <td>-0.994006</td>\n",
       "      <td>-0.929397</td>\n",
       "      <td>-0.805741</td>\n",
       "      <td>0.330239</td>\n",
       "      <td>1.305237</td>\n",
       "      <td>-0.679063</td>\n",
       "      <td>1.109630</td>\n",
       "      <td>-0.349190</td>\n",
       "      <td>-0.282323</td>\n",
       "      <td>-0.263991</td>\n",
       "      <td>-1.308863</td>\n",
       "      <td>-1.406286</td>\n",
       "      <td>-0.219265</td>\n",
       "      <td>-0.554035</td>\n",
       "      <td>0.195188</td>\n",
       "      <td>-0.131175</td>\n",
       "      <td>1.363075</td>\n",
       "      <td>-0.141322</td>\n",
       "    </tr>\n",
       "    <tr>\n",
       "      <th>407</th>\n",
       "      <td>4200000</td>\n",
       "      <td>0.405623</td>\n",
       "      <td>0.0</td>\n",
       "      <td>-0.811005</td>\n",
       "      <td>1.333801</td>\n",
       "      <td>-0.223185</td>\n",
       "      <td>-0.734539</td>\n",
       "      <td>0.299545</td>\n",
       "      <td>-0.570187</td>\n",
       "      <td>-0.478408</td>\n",
       "      <td>-0.465315</td>\n",
       "      <td>-0.612693</td>\n",
       "      <td>-0.324723</td>\n",
       "      <td>-0.929397</td>\n",
       "      <td>1.517692</td>\n",
       "      <td>-0.713499</td>\n",
       "      <td>1.376882</td>\n",
       "      <td>-0.679063</td>\n",
       "      <td>-0.196861</td>\n",
       "      <td>0.076215</td>\n",
       "      <td>-0.085282</td>\n",
       "      <td>-0.263991</td>\n",
       "      <td>0.047278</td>\n",
       "      <td>-0.091662</td>\n",
       "      <td>4.560702</td>\n",
       "      <td>-0.554035</td>\n",
       "      <td>-0.126718</td>\n",
       "      <td>-0.428933</td>\n",
       "      <td>0.101230</td>\n",
       "      <td>-0.141322</td>\n",
       "    </tr>\n",
       "  </tbody>\n",
       "</table>\n",
       "<p>408 rows × 30 columns</p>\n",
       "</div>"
      ],
      "text/plain": [
       "       price         0    1         2  ...        25        26        27        28\n",
       "0    5320000  0.405623  0.0 -0.061169  ... -0.126718  0.271470  1.391006 -0.141322\n",
       "1    3465000  0.405623  0.0 -0.826890  ... -0.126718 -1.010746  0.617421 -0.141322\n",
       "2    3500000  0.405623  0.0 -0.963310  ... -0.126718 -1.237596  1.483005 -0.141322\n",
       "3    3570000  0.405623  0.0  0.242611  ...  0.417348 -0.987324  1.134657 -0.141322\n",
       "4    4130000  0.405623  0.0 -0.740827  ... -0.108582  0.838006  0.360062 -0.141322\n",
       "..       ...       ...  ...       ...  ...       ...       ...       ...       ...\n",
       "403  4550000  0.405623  0.0  1.008081  ... -0.126718 -1.532214  1.329553 -0.141322\n",
       "404  5250000  0.405623  0.0  1.592671  ... -0.126718 -1.320247  0.041976 -0.141322\n",
       "405  5950000  0.405623  0.0  0.582200  ... -0.126718 -0.017405 -1.353372 -0.141322\n",
       "406  4319000  0.405623  0.0 -0.973555  ...  0.195188 -0.131175  1.363075 -0.141322\n",
       "407  4200000  0.405623  0.0 -0.811005  ... -0.126718 -0.428933  0.101230 -0.141322\n",
       "\n",
       "[408 rows x 30 columns]"
      ]
     },
     "execution_count": 329,
     "metadata": {},
     "output_type": "execute_result"
    }
   ],
   "source": [
    "df"
   ]
  },
  {
   "cell_type": "code",
   "execution_count": 330,
   "id": "5f4ae0bb",
   "metadata": {
    "execution": {
     "iopub.execute_input": "2023-12-21T10:34:04.825092Z",
     "iopub.status.busy": "2023-12-21T10:34:04.824342Z",
     "iopub.status.idle": "2023-12-21T10:34:04.872613Z",
     "shell.execute_reply": "2023-12-21T10:34:04.871776Z",
     "shell.execute_reply.started": "2023-12-21T10:34:04.825041Z"
    },
    "tags": []
   },
   "outputs": [
    {
     "data": {
      "text/html": [
       "<div>\n",
       "<style scoped>\n",
       "    .dataframe tbody tr th:only-of-type {\n",
       "        vertical-align: middle;\n",
       "    }\n",
       "\n",
       "    .dataframe tbody tr th {\n",
       "        vertical-align: top;\n",
       "    }\n",
       "\n",
       "    .dataframe thead th {\n",
       "        text-align: right;\n",
       "    }\n",
       "</style>\n",
       "<table border=\"1\" class=\"dataframe\">\n",
       "  <thead>\n",
       "    <tr style=\"text-align: right;\">\n",
       "      <th></th>\n",
       "      <th>price</th>\n",
       "      <th>0</th>\n",
       "      <th>1</th>\n",
       "      <th>2</th>\n",
       "      <th>3</th>\n",
       "      <th>4</th>\n",
       "      <th>5</th>\n",
       "      <th>6</th>\n",
       "      <th>7</th>\n",
       "      <th>8</th>\n",
       "      <th>9</th>\n",
       "      <th>10</th>\n",
       "      <th>11</th>\n",
       "      <th>12</th>\n",
       "      <th>13</th>\n",
       "      <th>14</th>\n",
       "      <th>15</th>\n",
       "      <th>16</th>\n",
       "      <th>17</th>\n",
       "      <th>18</th>\n",
       "      <th>19</th>\n",
       "      <th>20</th>\n",
       "      <th>21</th>\n",
       "      <th>22</th>\n",
       "      <th>23</th>\n",
       "      <th>24</th>\n",
       "      <th>25</th>\n",
       "      <th>26</th>\n",
       "      <th>27</th>\n",
       "      <th>28</th>\n",
       "    </tr>\n",
       "  </thead>\n",
       "  <tbody>\n",
       "    <tr>\n",
       "      <th>0</th>\n",
       "      <td>5320000</td>\n",
       "      <td>0.405623</td>\n",
       "      <td>0.0</td>\n",
       "      <td>-0.061169</td>\n",
       "      <td>-0.741051</td>\n",
       "      <td>-0.223185</td>\n",
       "      <td>1.361397</td>\n",
       "      <td>1.221991</td>\n",
       "      <td>-0.570187</td>\n",
       "      <td>-0.478408</td>\n",
       "      <td>-0.465315</td>\n",
       "      <td>-1.592404</td>\n",
       "      <td>-1.668320</td>\n",
       "      <td>-0.929397</td>\n",
       "      <td>1.517692</td>\n",
       "      <td>-0.142607</td>\n",
       "      <td>0.994994</td>\n",
       "      <td>1.472618</td>\n",
       "      <td>-0.280781</td>\n",
       "      <td>1.860696</td>\n",
       "      <td>0.245475</td>\n",
       "      <td>-0.263991</td>\n",
       "      <td>0.047278</td>\n",
       "      <td>1.222962</td>\n",
       "      <td>-0.219265</td>\n",
       "      <td>1.804941</td>\n",
       "      <td>-0.126718</td>\n",
       "      <td>0.271470</td>\n",
       "      <td>1.391006</td>\n",
       "      <td>-0.141322</td>\n",
       "    </tr>\n",
       "    <tr>\n",
       "      <th>1</th>\n",
       "      <td>3465000</td>\n",
       "      <td>0.405623</td>\n",
       "      <td>0.0</td>\n",
       "      <td>-0.826890</td>\n",
       "      <td>-0.867066</td>\n",
       "      <td>-0.223185</td>\n",
       "      <td>-0.734539</td>\n",
       "      <td>-0.964205</td>\n",
       "      <td>-0.570187</td>\n",
       "      <td>-0.478408</td>\n",
       "      <td>-0.465315</td>\n",
       "      <td>0.729512</td>\n",
       "      <td>0.913740</td>\n",
       "      <td>-0.929397</td>\n",
       "      <td>-0.805741</td>\n",
       "      <td>0.307755</td>\n",
       "      <td>1.615664</td>\n",
       "      <td>-0.679063</td>\n",
       "      <td>1.311928</td>\n",
       "      <td>-1.087695</td>\n",
       "      <td>-1.444928</td>\n",
       "      <td>-0.263991</td>\n",
       "      <td>0.047278</td>\n",
       "      <td>1.222962</td>\n",
       "      <td>-0.219265</td>\n",
       "      <td>-0.554035</td>\n",
       "      <td>-0.126718</td>\n",
       "      <td>-1.010746</td>\n",
       "      <td>0.617421</td>\n",
       "      <td>-0.141322</td>\n",
       "    </tr>\n",
       "    <tr>\n",
       "      <th>2</th>\n",
       "      <td>3500000</td>\n",
       "      <td>0.405623</td>\n",
       "      <td>0.0</td>\n",
       "      <td>-0.963310</td>\n",
       "      <td>-1.676106</td>\n",
       "      <td>-0.223185</td>\n",
       "      <td>-0.734539</td>\n",
       "      <td>-0.692084</td>\n",
       "      <td>-0.570187</td>\n",
       "      <td>-0.478408</td>\n",
       "      <td>-0.465315</td>\n",
       "      <td>-0.024866</td>\n",
       "      <td>0.427448</td>\n",
       "      <td>0.224410</td>\n",
       "      <td>-0.805741</td>\n",
       "      <td>-1.033235</td>\n",
       "      <td>1.648072</td>\n",
       "      <td>-0.679063</td>\n",
       "      <td>0.470806</td>\n",
       "      <td>0.217582</td>\n",
       "      <td>1.578828</td>\n",
       "      <td>-0.263991</td>\n",
       "      <td>0.047278</td>\n",
       "      <td>1.222962</td>\n",
       "      <td>-0.219265</td>\n",
       "      <td>-0.554035</td>\n",
       "      <td>-0.126718</td>\n",
       "      <td>-1.237596</td>\n",
       "      <td>1.483005</td>\n",
       "      <td>-0.141322</td>\n",
       "    </tr>\n",
       "    <tr>\n",
       "      <th>3</th>\n",
       "      <td>3570000</td>\n",
       "      <td>0.405623</td>\n",
       "      <td>0.0</td>\n",
       "      <td>0.242611</td>\n",
       "      <td>0.193424</td>\n",
       "      <td>-0.223185</td>\n",
       "      <td>-0.734539</td>\n",
       "      <td>-0.696696</td>\n",
       "      <td>-0.570187</td>\n",
       "      <td>1.307431</td>\n",
       "      <td>-0.465315</td>\n",
       "      <td>0.445396</td>\n",
       "      <td>1.056981</td>\n",
       "      <td>-0.929397</td>\n",
       "      <td>-0.805741</td>\n",
       "      <td>-1.119627</td>\n",
       "      <td>1.488127</td>\n",
       "      <td>-0.679063</td>\n",
       "      <td>-1.039726</td>\n",
       "      <td>0.442600</td>\n",
       "      <td>-1.675466</td>\n",
       "      <td>-0.263991</td>\n",
       "      <td>-1.308863</td>\n",
       "      <td>1.222962</td>\n",
       "      <td>-0.219265</td>\n",
       "      <td>-0.554035</td>\n",
       "      <td>0.417348</td>\n",
       "      <td>-0.987324</td>\n",
       "      <td>1.134657</td>\n",
       "      <td>-0.141322</td>\n",
       "    </tr>\n",
       "    <tr>\n",
       "      <th>4</th>\n",
       "      <td>4130000</td>\n",
       "      <td>0.405623</td>\n",
       "      <td>0.0</td>\n",
       "      <td>-0.740827</td>\n",
       "      <td>-0.684767</td>\n",
       "      <td>-0.223185</td>\n",
       "      <td>-0.734539</td>\n",
       "      <td>-0.239163</td>\n",
       "      <td>-0.570187</td>\n",
       "      <td>-0.478408</td>\n",
       "      <td>-0.465315</td>\n",
       "      <td>-0.024866</td>\n",
       "      <td>-0.825728</td>\n",
       "      <td>0.224410</td>\n",
       "      <td>-0.805741</td>\n",
       "      <td>0.232269</td>\n",
       "      <td>-1.316654</td>\n",
       "      <td>1.472618</td>\n",
       "      <td>1.747297</td>\n",
       "      <td>-1.109080</td>\n",
       "      <td>-1.347578</td>\n",
       "      <td>-0.263991</td>\n",
       "      <td>1.403419</td>\n",
       "      <td>-0.091662</td>\n",
       "      <td>-0.219265</td>\n",
       "      <td>-0.554035</td>\n",
       "      <td>-0.108582</td>\n",
       "      <td>0.838006</td>\n",
       "      <td>0.360062</td>\n",
       "      <td>-0.141322</td>\n",
       "    </tr>\n",
       "  </tbody>\n",
       "</table>\n",
       "</div>"
      ],
      "text/plain": [
       "     price         0    1         2  ...        25        26        27        28\n",
       "0  5320000  0.405623  0.0 -0.061169  ... -0.126718  0.271470  1.391006 -0.141322\n",
       "1  3465000  0.405623  0.0 -0.826890  ... -0.126718 -1.010746  0.617421 -0.141322\n",
       "2  3500000  0.405623  0.0 -0.963310  ... -0.126718 -1.237596  1.483005 -0.141322\n",
       "3  3570000  0.405623  0.0  0.242611  ...  0.417348 -0.987324  1.134657 -0.141322\n",
       "4  4130000  0.405623  0.0 -0.740827  ... -0.108582  0.838006  0.360062 -0.141322\n",
       "\n",
       "[5 rows x 30 columns]"
      ]
     },
     "execution_count": 330,
     "metadata": {},
     "output_type": "execute_result"
    }
   ],
   "source": [
    "df.head()"
   ]
  },
  {
   "cell_type": "code",
   "execution_count": 331,
   "id": "9564b9a0",
   "metadata": {
    "execution": {
     "iopub.execute_input": "2023-12-21T10:34:04.935952Z",
     "iopub.status.busy": "2023-12-21T10:34:04.935189Z",
     "iopub.status.idle": "2023-12-21T10:34:05.029619Z",
     "shell.execute_reply": "2023-12-21T10:34:05.028734Z",
     "shell.execute_reply.started": "2023-12-21T10:34:04.935904Z"
    },
    "tags": []
   },
   "outputs": [
    {
     "data": {
      "text/html": [
       "<div>\n",
       "<style scoped>\n",
       "    .dataframe tbody tr th:only-of-type {\n",
       "        vertical-align: middle;\n",
       "    }\n",
       "\n",
       "    .dataframe tbody tr th {\n",
       "        vertical-align: top;\n",
       "    }\n",
       "\n",
       "    .dataframe thead th {\n",
       "        text-align: right;\n",
       "    }\n",
       "</style>\n",
       "<table border=\"1\" class=\"dataframe\">\n",
       "  <thead>\n",
       "    <tr style=\"text-align: right;\">\n",
       "      <th></th>\n",
       "      <th>price</th>\n",
       "      <th>0</th>\n",
       "      <th>1</th>\n",
       "      <th>2</th>\n",
       "      <th>3</th>\n",
       "      <th>4</th>\n",
       "      <th>5</th>\n",
       "      <th>6</th>\n",
       "      <th>7</th>\n",
       "      <th>8</th>\n",
       "      <th>9</th>\n",
       "      <th>10</th>\n",
       "      <th>11</th>\n",
       "      <th>12</th>\n",
       "      <th>13</th>\n",
       "      <th>14</th>\n",
       "      <th>15</th>\n",
       "      <th>16</th>\n",
       "      <th>17</th>\n",
       "      <th>18</th>\n",
       "      <th>19</th>\n",
       "      <th>20</th>\n",
       "      <th>21</th>\n",
       "      <th>22</th>\n",
       "      <th>23</th>\n",
       "      <th>24</th>\n",
       "      <th>25</th>\n",
       "      <th>26</th>\n",
       "      <th>27</th>\n",
       "      <th>28</th>\n",
       "    </tr>\n",
       "  </thead>\n",
       "  <tbody>\n",
       "    <tr>\n",
       "      <th>count</th>\n",
       "      <td>4.080000e+02</td>\n",
       "      <td>408.000000</td>\n",
       "      <td>408.0</td>\n",
       "      <td>408.000000</td>\n",
       "      <td>408.000000</td>\n",
       "      <td>408.000000</td>\n",
       "      <td>408.000000</td>\n",
       "      <td>408.000000</td>\n",
       "      <td>408.000000</td>\n",
       "      <td>408.000000</td>\n",
       "      <td>408.000000</td>\n",
       "      <td>408.000000</td>\n",
       "      <td>408.000000</td>\n",
       "      <td>408.000000</td>\n",
       "      <td>408.000000</td>\n",
       "      <td>408.000000</td>\n",
       "      <td>408.000000</td>\n",
       "      <td>408.000000</td>\n",
       "      <td>408.000000</td>\n",
       "      <td>408.000000</td>\n",
       "      <td>408.000000</td>\n",
       "      <td>408.000000</td>\n",
       "      <td>408.000000</td>\n",
       "      <td>408.000000</td>\n",
       "      <td>408.000000</td>\n",
       "      <td>408.000000</td>\n",
       "      <td>408.000000</td>\n",
       "      <td>408.000000</td>\n",
       "      <td>408.000000</td>\n",
       "      <td>408.000000</td>\n",
       "    </tr>\n",
       "    <tr>\n",
       "      <th>mean</th>\n",
       "      <td>4.643597e+06</td>\n",
       "      <td>-0.030652</td>\n",
       "      <td>0.0</td>\n",
       "      <td>-0.021898</td>\n",
       "      <td>-0.004470</td>\n",
       "      <td>-0.044734</td>\n",
       "      <td>-0.015345</td>\n",
       "      <td>-0.037179</td>\n",
       "      <td>0.005930</td>\n",
       "      <td>-0.005686</td>\n",
       "      <td>-0.016766</td>\n",
       "      <td>-0.049938</td>\n",
       "      <td>0.050711</td>\n",
       "      <td>-0.049902</td>\n",
       "      <td>-0.036958</td>\n",
       "      <td>-0.033847</td>\n",
       "      <td>-0.018777</td>\n",
       "      <td>-0.035668</td>\n",
       "      <td>-0.008261</td>\n",
       "      <td>-0.061349</td>\n",
       "      <td>-0.046552</td>\n",
       "      <td>-0.022184</td>\n",
       "      <td>-0.042466</td>\n",
       "      <td>0.017890</td>\n",
       "      <td>-0.043530</td>\n",
       "      <td>-0.039454</td>\n",
       "      <td>-0.038181</td>\n",
       "      <td>-0.048110</td>\n",
       "      <td>-0.025252</td>\n",
       "      <td>-0.044926</td>\n",
       "    </tr>\n",
       "    <tr>\n",
       "      <th>std</th>\n",
       "      <td>1.711368e+06</td>\n",
       "      <td>1.031893</td>\n",
       "      <td>0.0</td>\n",
       "      <td>1.019428</td>\n",
       "      <td>0.974612</td>\n",
       "      <td>0.969756</td>\n",
       "      <td>0.996282</td>\n",
       "      <td>1.001595</td>\n",
       "      <td>0.976837</td>\n",
       "      <td>1.007006</td>\n",
       "      <td>0.986851</td>\n",
       "      <td>1.013027</td>\n",
       "      <td>0.991348</td>\n",
       "      <td>0.980538</td>\n",
       "      <td>0.989583</td>\n",
       "      <td>0.980263</td>\n",
       "      <td>0.987751</td>\n",
       "      <td>0.986310</td>\n",
       "      <td>0.988047</td>\n",
       "      <td>0.898859</td>\n",
       "      <td>0.991383</td>\n",
       "      <td>1.020601</td>\n",
       "      <td>0.995270</td>\n",
       "      <td>1.016147</td>\n",
       "      <td>0.900616</td>\n",
       "      <td>0.975409</td>\n",
       "      <td>1.031259</td>\n",
       "      <td>1.008422</td>\n",
       "      <td>1.001805</td>\n",
       "      <td>0.913917</td>\n",
       "    </tr>\n",
       "    <tr>\n",
       "      <th>min</th>\n",
       "      <td>1.750000e+06</td>\n",
       "      <td>-2.465344</td>\n",
       "      <td>0.0</td>\n",
       "      <td>-1.224688</td>\n",
       "      <td>-1.780233</td>\n",
       "      <td>-2.633407</td>\n",
       "      <td>-0.734539</td>\n",
       "      <td>-1.614530</td>\n",
       "      <td>-0.570187</td>\n",
       "      <td>-4.050087</td>\n",
       "      <td>-0.465315</td>\n",
       "      <td>-5.413279</td>\n",
       "      <td>-1.691355</td>\n",
       "      <td>-0.929397</td>\n",
       "      <td>-0.805741</td>\n",
       "      <td>-1.589857</td>\n",
       "      <td>-1.705826</td>\n",
       "      <td>-0.679063</td>\n",
       "      <td>-1.669422</td>\n",
       "      <td>-1.508830</td>\n",
       "      <td>-1.705711</td>\n",
       "      <td>-2.319351</td>\n",
       "      <td>-2.665004</td>\n",
       "      <td>-1.406286</td>\n",
       "      <td>-0.219265</td>\n",
       "      <td>-0.554035</td>\n",
       "      <td>-5.000645</td>\n",
       "      <td>-1.789595</td>\n",
       "      <td>-1.705457</td>\n",
       "      <td>-3.418780</td>\n",
       "    </tr>\n",
       "    <tr>\n",
       "      <th>25%</th>\n",
       "      <td>3.430000e+06</td>\n",
       "      <td>0.405623</td>\n",
       "      <td>0.0</td>\n",
       "      <td>-0.673496</td>\n",
       "      <td>-0.837351</td>\n",
       "      <td>-0.223185</td>\n",
       "      <td>-0.734539</td>\n",
       "      <td>-0.745125</td>\n",
       "      <td>-0.570187</td>\n",
       "      <td>-0.478408</td>\n",
       "      <td>-0.465315</td>\n",
       "      <td>-0.037112</td>\n",
       "      <td>-0.826372</td>\n",
       "      <td>-0.929397</td>\n",
       "      <td>-0.805741</td>\n",
       "      <td>-0.742003</td>\n",
       "      <td>-0.853757</td>\n",
       "      <td>-0.679063</td>\n",
       "      <td>-0.853475</td>\n",
       "      <td>-0.739260</td>\n",
       "      <td>-0.881357</td>\n",
       "      <td>-0.263991</td>\n",
       "      <td>-1.308863</td>\n",
       "      <td>-1.406286</td>\n",
       "      <td>-0.219265</td>\n",
       "      <td>-0.554035</td>\n",
       "      <td>-0.126718</td>\n",
       "      <td>-0.896013</td>\n",
       "      <td>-0.887341</td>\n",
       "      <td>-0.141322</td>\n",
       "    </tr>\n",
       "    <tr>\n",
       "      <th>50%</th>\n",
       "      <td>4.270000e+06</td>\n",
       "      <td>0.405623</td>\n",
       "      <td>0.0</td>\n",
       "      <td>-0.252391</td>\n",
       "      <td>0.032263</td>\n",
       "      <td>-0.223185</td>\n",
       "      <td>-0.734539</td>\n",
       "      <td>-0.300045</td>\n",
       "      <td>-0.570187</td>\n",
       "      <td>-0.478408</td>\n",
       "      <td>-0.465315</td>\n",
       "      <td>-0.024866</td>\n",
       "      <td>0.077075</td>\n",
       "      <td>0.224410</td>\n",
       "      <td>-0.805741</td>\n",
       "      <td>-0.284471</td>\n",
       "      <td>-0.016293</td>\n",
       "      <td>-0.679063</td>\n",
       "      <td>-0.108781</td>\n",
       "      <td>-0.231619</td>\n",
       "      <td>-0.072463</td>\n",
       "      <td>-0.263991</td>\n",
       "      <td>0.047278</td>\n",
       "      <td>-0.091662</td>\n",
       "      <td>-0.219265</td>\n",
       "      <td>-0.554035</td>\n",
       "      <td>-0.126718</td>\n",
       "      <td>-0.047954</td>\n",
       "      <td>-0.050893</td>\n",
       "      <td>-0.141322</td>\n",
       "    </tr>\n",
       "    <tr>\n",
       "      <th>75%</th>\n",
       "      <td>5.600000e+06</td>\n",
       "      <td>0.405623</td>\n",
       "      <td>0.0</td>\n",
       "      <td>0.312075</td>\n",
       "      <td>0.775898</td>\n",
       "      <td>-0.223185</td>\n",
       "      <td>1.361397</td>\n",
       "      <td>0.454055</td>\n",
       "      <td>1.421812</td>\n",
       "      <td>1.307431</td>\n",
       "      <td>-0.465315</td>\n",
       "      <td>0.284968</td>\n",
       "      <td>0.912021</td>\n",
       "      <td>0.224410</td>\n",
       "      <td>0.355976</td>\n",
       "      <td>0.507376</td>\n",
       "      <td>0.772849</td>\n",
       "      <td>1.472618</td>\n",
       "      <td>0.785738</td>\n",
       "      <td>0.349557</td>\n",
       "      <td>0.755884</td>\n",
       "      <td>-0.263991</td>\n",
       "      <td>0.047278</td>\n",
       "      <td>1.222962</td>\n",
       "      <td>-0.219265</td>\n",
       "      <td>-0.554035</td>\n",
       "      <td>-0.006287</td>\n",
       "      <td>0.787204</td>\n",
       "      <td>0.798591</td>\n",
       "      <td>-0.141322</td>\n",
       "    </tr>\n",
       "    <tr>\n",
       "      <th>max</th>\n",
       "      <td>1.141000e+07</td>\n",
       "      <td>0.405623</td>\n",
       "      <td>0.0</td>\n",
       "      <td>8.604753</td>\n",
       "      <td>1.732550</td>\n",
       "      <td>13.826353</td>\n",
       "      <td>1.361397</td>\n",
       "      <td>5.096263</td>\n",
       "      <td>3.413810</td>\n",
       "      <td>3.093270</td>\n",
       "      <td>2.149083</td>\n",
       "      <td>4.285865</td>\n",
       "      <td>1.747152</td>\n",
       "      <td>2.532024</td>\n",
       "      <td>2.679409</td>\n",
       "      <td>3.233920</td>\n",
       "      <td>1.795972</td>\n",
       "      <td>1.472618</td>\n",
       "      <td>1.815382</td>\n",
       "      <td>3.360617</td>\n",
       "      <td>1.745647</td>\n",
       "      <td>7.957450</td>\n",
       "      <td>4.115701</td>\n",
       "      <td>1.222962</td>\n",
       "      <td>4.560702</td>\n",
       "      <td>1.804941</td>\n",
       "      <td>13.021551</td>\n",
       "      <td>1.732996</td>\n",
       "      <td>1.771548</td>\n",
       "      <td>3.136137</td>\n",
       "    </tr>\n",
       "  </tbody>\n",
       "</table>\n",
       "</div>"
      ],
      "text/plain": [
       "              price           0      1  ...          26          27          28\n",
       "count  4.080000e+02  408.000000  408.0  ...  408.000000  408.000000  408.000000\n",
       "mean   4.643597e+06   -0.030652    0.0  ...   -0.048110   -0.025252   -0.044926\n",
       "std    1.711368e+06    1.031893    0.0  ...    1.008422    1.001805    0.913917\n",
       "min    1.750000e+06   -2.465344    0.0  ...   -1.789595   -1.705457   -3.418780\n",
       "25%    3.430000e+06    0.405623    0.0  ...   -0.896013   -0.887341   -0.141322\n",
       "50%    4.270000e+06    0.405623    0.0  ...   -0.047954   -0.050893   -0.141322\n",
       "75%    5.600000e+06    0.405623    0.0  ...    0.787204    0.798591   -0.141322\n",
       "max    1.141000e+07    0.405623    0.0  ...    1.732996    1.771548    3.136137\n",
       "\n",
       "[8 rows x 30 columns]"
      ]
     },
     "execution_count": 331,
     "metadata": {},
     "output_type": "execute_result"
    }
   ],
   "source": [
    "df.describe()"
   ]
  },
  {
   "cell_type": "code",
   "execution_count": 332,
   "id": "0b74aec8",
   "metadata": {
    "execution": {
     "iopub.execute_input": "2023-12-21T10:34:05.033279Z",
     "iopub.status.busy": "2023-12-21T10:34:05.032691Z",
     "iopub.status.idle": "2023-12-21T10:34:05.063447Z",
     "shell.execute_reply": "2023-12-21T10:34:05.062677Z",
     "shell.execute_reply.started": "2023-12-21T10:34:05.033240Z"
    },
    "tags": []
   },
   "outputs": [
    {
     "name": "stdout",
     "output_type": "stream",
     "text": [
      "<class 'pandas.core.frame.DataFrame'>\n",
      "RangeIndex: 408 entries, 0 to 407\n",
      "Data columns (total 30 columns):\n",
      " #   Column  Non-Null Count  Dtype  \n",
      "---  ------  --------------  -----  \n",
      " 0   price   408 non-null    int64  \n",
      " 1   0       408 non-null    float64\n",
      " 2   1       408 non-null    float64\n",
      " 3   2       408 non-null    float64\n",
      " 4   3       408 non-null    float64\n",
      " 5   4       408 non-null    float64\n",
      " 6   5       408 non-null    float64\n",
      " 7   6       408 non-null    float64\n",
      " 8   7       408 non-null    float64\n",
      " 9   8       408 non-null    float64\n",
      " 10  9       408 non-null    float64\n",
      " 11  10      408 non-null    float64\n",
      " 12  11      408 non-null    float64\n",
      " 13  12      408 non-null    float64\n",
      " 14  13      408 non-null    float64\n",
      " 15  14      408 non-null    float64\n",
      " 16  15      408 non-null    float64\n",
      " 17  16      408 non-null    float64\n",
      " 18  17      408 non-null    float64\n",
      " 19  18      408 non-null    float64\n",
      " 20  19      408 non-null    float64\n",
      " 21  20      408 non-null    float64\n",
      " 22  21      408 non-null    float64\n",
      " 23  22      408 non-null    float64\n",
      " 24  23      408 non-null    float64\n",
      " 25  24      408 non-null    float64\n",
      " 26  25      408 non-null    float64\n",
      " 27  26      408 non-null    float64\n",
      " 28  27      408 non-null    float64\n",
      " 29  28      408 non-null    float64\n",
      "dtypes: float64(29), int64(1)\n",
      "memory usage: 95.8 KB\n",
      "None\n"
     ]
    }
   ],
   "source": [
    "print(df.info())"
   ]
  },
  {
   "cell_type": "code",
   "execution_count": 333,
   "id": "796965cd",
   "metadata": {
    "execution": {
     "iopub.execute_input": "2023-12-21T10:34:05.146795Z",
     "iopub.status.busy": "2023-12-21T10:34:05.146016Z",
     "iopub.status.idle": "2023-12-21T10:34:05.174592Z",
     "shell.execute_reply": "2023-12-21T10:34:05.173780Z",
     "shell.execute_reply.started": "2023-12-21T10:34:05.146748Z"
    },
    "tags": []
   },
   "outputs": [
    {
     "name": "stdout",
     "output_type": "stream",
     "text": [
      "[False]\n"
     ]
    }
   ],
   "source": [
    "print(df.duplicated().unique())"
   ]
  },
  {
   "cell_type": "code",
   "execution_count": 334,
   "id": "c0b2650f",
   "metadata": {
    "execution": {
     "iopub.execute_input": "2023-12-21T10:34:05.237706Z",
     "iopub.status.busy": "2023-12-21T10:34:05.236934Z",
     "iopub.status.idle": "2023-12-21T10:34:05.253290Z",
     "shell.execute_reply": "2023-12-21T10:34:05.252548Z",
     "shell.execute_reply.started": "2023-12-21T10:34:05.237667Z"
    },
    "tags": []
   },
   "outputs": [],
   "source": [
    "df = df.drop_duplicates()"
   ]
  },
  {
   "cell_type": "code",
   "execution_count": 335,
   "id": "c6def7ac",
   "metadata": {
    "execution": {
     "iopub.execute_input": "2023-12-21T10:34:05.356563Z",
     "iopub.status.busy": "2023-12-21T10:34:05.355873Z",
     "iopub.status.idle": "2023-12-21T10:34:05.369224Z",
     "shell.execute_reply": "2023-12-21T10:34:05.368527Z",
     "shell.execute_reply.started": "2023-12-21T10:34:05.356522Z"
    },
    "tags": []
   },
   "outputs": [],
   "source": [
    "y = df.price\n",
    "X = df.drop(columns = 'price')\n",
    "X_train, X_test, y_train, y_test = train_test_split(X,y, test_size=0.3, random_state=42)"
   ]
  },
  {
   "cell_type": "code",
   "execution_count": 336,
   "id": "b658a6a0",
   "metadata": {
    "execution": {
     "iopub.execute_input": "2023-12-21T10:34:05.452548Z",
     "iopub.status.busy": "2023-12-21T10:34:05.451753Z",
     "iopub.status.idle": "2023-12-21T10:34:07.133821Z",
     "shell.execute_reply": "2023-12-21T10:34:07.133036Z",
     "shell.execute_reply.started": "2023-12-21T10:34:05.452499Z"
    },
    "tags": []
   },
   "outputs": [
    {
     "data": {
      "text/plain": [
       "0.1929552835778119"
      ]
     },
     "execution_count": 336,
     "metadata": {},
     "output_type": "execute_result"
    }
   ],
   "source": [
    "import pandas as pd\n",
    "from sklearn.compose import ColumnTransformer\n",
    "from sklearn.preprocessing import OneHotEncoder\n",
    "from sklearn.impute import SimpleImputer\n",
    "import numpy as np\n",
    "from sklearn.preprocessing import LabelEncoder\n",
    "from sklearn.preprocessing import OrdinalEncoder\n",
    "from sklearn.metrics import mean_absolute_percentage_error\n",
    "\n",
    "pipe = Pipeline(steps=[\n",
    "    ('preproc', StandardScaler()),\n",
    "    ('estimator', RandomForestRegressor(n_estimators= 1000,n_jobs = -1, warm_start = True, max_features = 'sqrt', random_state = 42))\n",
    "    ])\n",
    "\n",
    "\n",
    "pipe.fit(X_train,y_train)\n",
    "mean_absolute_percentage_error(y_test, pipe.predict(X_test))"
   ]
  },
  {
   "cell_type": "code",
   "execution_count": 337,
   "id": "07d94ed6",
   "metadata": {
    "execution": {
     "iopub.execute_input": "2023-12-21T10:34:07.136130Z",
     "iopub.status.busy": "2023-12-21T10:34:07.135426Z",
     "iopub.status.idle": "2023-12-21T10:34:07.521946Z",
     "shell.execute_reply": "2023-12-21T10:34:07.521191Z",
     "shell.execute_reply.started": "2023-12-21T10:34:07.136095Z"
    },
    "tags": []
   },
   "outputs": [
    {
     "data": {
      "text/plain": [
       "<Figure size 1080x576 with 0 Axes>"
      ]
     },
     "metadata": {},
     "output_type": "display_data"
    },
    {
     "data": {
      "image/png": "[encoded data removed]",
      "text/plain": [
       "<Figure size 1080x576 with 1 Axes>"
      ]
     },
     "metadata": {
      "needs_background": "light"
     },
     "output_type": "display_data"
    }
   ],
   "source": [
    "from sklearn.pipeline import make_pipeline\n",
    "preobr = Pipeline([\n",
    "    ('scal',StandardScaler())\n",
    "]).set_output(transform=\"pandas\")\n",
    "X_train =preobr.fit_transform(X_train)\n",
    "plt.figure(figsize=(15,8))\n",
    "feature_names =  X_train.columns.tolist()\n",
    "importance = pipe.named_steps['estimator'].feature_importances_\n",
    "\n",
    "sorted_indices = np.argsort(importance)[::-1]\n",
    "top_10_features = [feature_names[i] for i in sorted_indices[:20]]\n",
    "top_10_importance = importance[sorted_indices][:20]\n",
    "\n",
    "# Постройте горизонтальную гистограмму для 10 основных функций\n",
    "plt.figure(figsize=(15, 8))\n",
    "plt.barh(width=top_10_importance, y=top_10_features)\n",
    "plt.gca().invert_yaxis()\n",
    "plt.title(\"10 самых важных функций\")\n",
    "plt.xlabel(\"Важность\")\n",
    "plt.show()\n"
   ]
  },
  {
   "cell_type": "code",
   "execution_count": 338,
   "id": "38bcded4",
   "metadata": {
    "execution": {
     "iopub.execute_input": "2023-12-21T10:34:07.524401Z",
     "iopub.status.busy": "2023-12-21T10:34:07.523658Z",
     "iopub.status.idle": "2023-12-21T10:34:07.723751Z",
     "shell.execute_reply": "2023-12-21T10:34:07.722774Z",
     "shell.execute_reply.started": "2023-12-21T10:34:07.524360Z"
    },
    "tags": []
   },
   "outputs": [
    {
     "name": "stdout",
     "output_type": "stream",
     "text": [
      "1\n",
      "Index(['1'], dtype='object')\n"
     ]
    },
    {
     "data": {
      "image/png": "[encoded data removed]",
      "text/plain": [
       "<Figure size 1152x144 with 1 Axes>"
      ]
     },
     "metadata": {
      "needs_background": "light"
     },
     "output_type": "display_data"
    }
   ],
   "source": [
    "from sklearn.feature_selection import VarianceThreshold\n",
    "\n",
    "th = 0.85\n",
    "transform_threshold = VarianceThreshold(threshold=(th * (1 - th)))\n",
    "transform_threshold.fit_transform(X_train)\n",
    "mask = transform_threshold.get_support()\n",
    "plt.matshow( mask.reshape(1,-1), cmap = 'gray_r', aspect=0.1);\n",
    "plt.yticks([])\n",
    "plt.xlabel(\"Индекс признака\")\n",
    "np.unique(transform_threshold.get_support())\n",
    "false_features = np.where(~mask)[0]\n",
    "print(len(false_features))\n",
    "false_feature_names = X_train.columns[false_features]\n",
    "print(false_feature_names)"
   ]
  },
  {
   "cell_type": "code",
   "execution_count": 339,
   "id": "a76b62d5",
   "metadata": {
    "execution": {
     "iopub.execute_input": "2023-12-21T10:34:07.727039Z",
     "iopub.status.busy": "2023-12-21T10:34:07.726538Z",
     "iopub.status.idle": "2023-12-21T10:34:41.923172Z",
     "shell.execute_reply": "2023-12-21T10:34:41.922162Z",
     "shell.execute_reply.started": "2023-12-21T10:34:07.727006Z"
    },
    "tags": []
   },
   "outputs": [
    {
     "name": "stdout",
     "output_type": "stream",
     "text": [
      "Index(['0', '1', '5', '8', '9', '11', '12', '14', '15', '17', '18', '19', '20',\n",
      "       '21', '22', '23', '24', '27', '28'],\n",
      "      dtype='object')\n"
     ]
    },
    {
     "data": {
      "image/png": "[encoded data removed]",
      "text/plain": [
       "<Figure size 1152x144 with 1 Axes>"
      ]
     },
     "metadata": {
      "needs_background": "light"
     },
     "output_type": "display_data"
    }
   ],
   "source": [
    "from sklearn.feature_selection  import RFE\n",
    "\n",
    "\n",
    "rfe_select = Pipeline([\n",
    "    ('estimator', RFE(RandomForestRegressor(n_estimators= 1000,n_jobs = -1, warm_start = True, max_features = 'sqrt'), n_features_to_select=10))\n",
    "    ])\n",
    "\n",
    "\n",
    "rfe_select.fit(X_train, y_train)\n",
    "\n",
    "\n",
    "# визуализируем отобранные признаки:\n",
    "mask = rfe_select.named_steps['estimator'].support_\n",
    "plt.matshow( mask.reshape(1,-1), cmap = 'gray_r', aspect=0.5)\n",
    "plt.yticks([])\n",
    "plt.gca().xaxis.set_minor_locator(plt.MultipleLocator(1))\n",
    "plt.xlabel(\"Индекс признака\");\n",
    "\n",
    "\n",
    "\n",
    "selected_features = rfe_select.named_steps['estimator'].get_support()\n",
    "# Get the names of the columns that are selected for elimination\n",
    "selected_columns = X_train.columns[~selected_features]\n",
    "# Print the selected columns\n",
    "print(selected_columns)"
   ]
  },
  {
   "cell_type": "code",
   "execution_count": 340,
   "id": "7c378a35",
   "metadata": {
    "execution": {
     "iopub.execute_input": "2023-12-21T10:34:41.927841Z",
     "iopub.status.busy": "2023-12-21T10:34:41.926846Z",
     "iopub.status.idle": "2023-12-21T10:34:44.255312Z",
     "shell.execute_reply": "2023-12-21T10:34:44.254576Z",
     "shell.execute_reply.started": "2023-12-21T10:34:41.927802Z"
    },
    "tags": []
   },
   "outputs": [
    {
     "name": "stdout",
     "output_type": "stream",
     "text": [
      "форма обуч набора X: (285, 29)\n",
      "форма обуч набора X median: (285, 15)\n"
     ]
    },
    {
     "data": {
      "image/png": "[encoded data removed]",
      "text/plain": [
       "<Figure size 1152x144 with 1 Axes>"
      ]
     },
     "metadata": {
      "needs_background": "light"
     },
     "output_type": "display_data"
    },
    {
     "name": "stdout",
     "output_type": "stream",
     "text": [
      "Index(['0', '1', '5', '8', '9', '12', '15', '17', '20', '22', '23', '24', '27',\n",
      "       '28'],\n",
      "      dtype='object')\n"
     ]
    }
   ],
   "source": [
    "from sklearn.feature_selection import SelectFromModel\n",
    "\n",
    "\n",
    "select = Pipeline([\n",
    "    ('estimator', SelectFromModel(RandomForestRegressor(n_estimators= 1000,n_jobs = -1, warm_start = True, max_features = 'sqrt'), threshold=\"median\"))\n",
    "    ])\n",
    "\n",
    "\n",
    "select.fit(X_train, y_train)\n",
    "X_train_med = select.transform(X_train)\n",
    "print(\"форма обуч набора X: {}\".format(X_train.shape))\n",
    "print(\"форма обуч набора X median: {}\".format(X_train_med.shape))\n",
    "mask = select.named_steps['estimator'].get_support()\n",
    "# визуализируем булевы значения -- черный – True, белый – False\n",
    "plt.matshow( mask.reshape(1,-1), cmap = 'gray_r', aspect=0.3)\n",
    "plt.yticks([])\n",
    "plt.xlabel(\"Индекс признака\");\n",
    "plt.show();\n",
    "\n",
    "selected_features = select.named_steps['estimator'].get_support()\n",
    "# Get the names of the columns that are selected for elimination\n",
    "selected_columns_1 = X_train.columns[~selected_features]\n",
    "# Print the selected columns\n",
    "print(selected_columns_1)"
   ]
  },
  {
   "cell_type": "code",
   "execution_count": 341,
   "id": "91ed2b4d",
   "metadata": {
    "execution": {
     "iopub.execute_input": "2023-12-21T10:34:44.256801Z",
     "iopub.status.busy": "2023-12-21T10:34:44.256334Z",
     "iopub.status.idle": "2023-12-21T10:34:44.298713Z",
     "shell.execute_reply": "2023-12-21T10:34:44.297953Z",
     "shell.execute_reply.started": "2023-12-21T10:34:44.256763Z"
    },
    "tags": []
   },
   "outputs": [],
   "source": [
    "from sklearn.feature_selection import SelectPercentile"
   ]
  },
  {
   "cell_type": "code",
   "execution_count": 342,
   "id": "77580dfc",
   "metadata": {
    "execution": {
     "iopub.execute_input": "2023-12-21T10:34:44.300419Z",
     "iopub.status.busy": "2023-12-21T10:34:44.299680Z",
     "iopub.status.idle": "2023-12-21T10:34:44.736710Z",
     "shell.execute_reply": "2023-12-21T10:34:44.735790Z",
     "shell.execute_reply.started": "2023-12-21T10:34:44.300381Z"
    },
    "tags": []
   },
   "outputs": [
    {
     "name": "stdout",
     "output_type": "stream",
     "text": [
      "форма массива X_train: (285, 79)\n",
      "форма массива X_train_selected: (285, 39)\n",
      "Dropped features:  [1, 2, 3, 11, 14, 15, 17, 18, 19, 23, 26, 27, 29, 30, 31, 32, 35, 37, 40, 46, 48, 49, 50, 51, 53, 54, 59, 60, 61, 62, 63, 64, 69, 70, 71, 72, 74, 75, 76, 78]\n"
     ]
    },
    {
     "name": "stderr",
     "output_type": "stream",
     "text": [
      "/usr/local/lib/python3.10/dist-packages/sklearn/feature_selection/_univariate_selection.py:112: UserWarning: Features [1] are constant.\n",
      "  warnings.warn(\"Features %s are constant.\" % constant_features_idx, UserWarning)\n",
      "/usr/local/lib/python3.10/dist-packages/sklearn/feature_selection/_univariate_selection.py:113: RuntimeWarning: invalid value encountered in true_divide\n",
      "  f = msb / msw\n"
     ]
    },
    {
     "data": {
      "image/png": "[encoded data removed]",
      "text/plain": [
       "<Figure size 1152x144 with 1 Axes>"
      ]
     },
     "metadata": {
      "needs_background": "light"
     },
     "output_type": "display_data"
    },
    {
     "data": {
      "image/png": "[encoded data removed]",
      "text/plain": [
       "<Figure size 1152x144 with 1 Axes>"
      ]
     },
     "metadata": {
      "needs_background": "light"
     },
     "output_type": "display_data"
    }
   ],
   "source": [
    "rng = np.random.RandomState(42)\n",
    "noise = rng.normal(size=(len(X_train), 50))\n",
    "X_train = np.hstack([X_train, noise])\n",
    "\n",
    "# используем f_classif (по умолчанию)\n",
    "# и SelectPercentile, чтобы выбрать 50% признаков\n",
    "select_pct = SelectPercentile(percentile=50)\n",
    "select_pct.fit(X_train, y_train)\n",
    "\n",
    "# преобразовываем обучающий набор\n",
    "X_train_selected = select_pct.transform(X_train)\n",
    "\n",
    "print(\"форма массива X_train: {}\".format(X_train.shape))\n",
    "print(\"форма массива X_train_selected: {}\".format(X_train_selected.shape))\n",
    "\n",
    "mask = select_pct.get_support()\n",
    "plt.matshow(mask.reshape(1,-1), cmap='gray_r', aspect=0.5)\n",
    "plt.yticks([])\n",
    "plt.xlabel(\"Индекс признака\");\n",
    "\n",
    "mask = select_pct.get_support()[:30]\n",
    "plt.matshow(mask.reshape(1,-1), cmap='gray_r', aspect=0.2)\n",
    "plt.yticks([])\n",
    "plt.xlabel(\"Индекс признака\");\n",
    "\n",
    "mask = select_pct.get_support()\n",
    "selected_features = [col for col, sel in zip(np.arange(X_train.shape[1]), mask) if sel]\n",
    "dropped_features = [col for col in np.arange(X_train.shape[1]) if col not in selected_features]\n",
    "print(\"Dropped features: \", dropped_features)"
   ]
  },
  {
   "cell_type": "code",
   "execution_count": 343,
   "id": "aba3274e",
   "metadata": {
    "execution": {
     "iopub.execute_input": "2023-12-21T10:34:44.741158Z",
     "iopub.status.busy": "2023-12-21T10:34:44.740698Z",
     "iopub.status.idle": "2023-12-21T10:34:45.130465Z",
     "shell.execute_reply": "2023-12-21T10:34:45.129616Z",
     "shell.execute_reply.started": "2023-12-21T10:34:44.741128Z"
    },
    "tags": []
   },
   "outputs": [
    {
     "name": "stdout",
     "output_type": "stream",
     "text": [
      "Оптимально : 17\n"
     ]
    }
   ],
   "source": [
    "import matplotlib.pyplot as plt\n",
    "from sklearn.svm import LinearSVR\n",
    "from sklearn.model_selection import StratifiedKFold\n",
    "from sklearn.feature_selection import RFECV\n",
    "from sklearn.datasets import make_classification\n",
    "\n",
    "# Build a classification task using 5 informative features\n",
    "\n",
    "\n",
    "# Create the RFE object and compute a cross-validated score.\n",
    "svc = LinearSVR()\n",
    "# The \"accuracy\" scoring shows the proportion of correct classifications\n",
    "\n",
    "min_features_to_select = 1  # Minimum number of features to consider\n",
    "rfecv = RFECV(\n",
    "    estimator=svc,\n",
    "    step=1,\n",
    "    cv=KFold(4),\n",
    "    scoring=\"neg_mean_absolute_percentage_error\",\n",
    "    min_features_to_select=min_features_to_select,\n",
    ")\n",
    "rfecv.fit(X_train, y_train)\n",
    "\n",
    "print(\"Оптимально : %d\" % rfecv.n_features_)\n",
    "\n"
   ]
  },
  {
   "cell_type": "code",
   "execution_count": 344,
   "id": "2fbc8f04",
   "metadata": {
    "execution": {
     "iopub.execute_input": "2023-12-21T10:34:45.133051Z",
     "iopub.status.busy": "2023-12-21T10:34:45.132350Z",
     "iopub.status.idle": "2023-12-21T10:34:46.951404Z",
     "shell.execute_reply": "2023-12-21T10:34:46.950622Z",
     "shell.execute_reply.started": "2023-12-21T10:34:45.133011Z"
    },
    "tags": []
   },
   "outputs": [
    {
     "data": {
      "text/html": [
       "<div>\n",
       "<style scoped>\n",
       "    .dataframe tbody tr th:only-of-type {\n",
       "        vertical-align: middle;\n",
       "    }\n",
       "\n",
       "    .dataframe tbody tr th {\n",
       "        vertical-align: top;\n",
       "    }\n",
       "\n",
       "    .dataframe thead th {\n",
       "        text-align: right;\n",
       "    }\n",
       "</style>\n",
       "<table border=\"1\" class=\"dataframe\">\n",
       "  <thead>\n",
       "    <tr style=\"text-align: right;\">\n",
       "      <th></th>\n",
       "      <th>mean</th>\n",
       "      <th>std</th>\n",
       "    </tr>\n",
       "  </thead>\n",
       "  <tbody>\n",
       "    <tr>\n",
       "      <th>23</th>\n",
       "      <td>0.039646</td>\n",
       "      <td>0.038301</td>\n",
       "    </tr>\n",
       "    <tr>\n",
       "      <th>7</th>\n",
       "      <td>0.056053</td>\n",
       "      <td>0.079700</td>\n",
       "    </tr>\n",
       "    <tr>\n",
       "      <th>4</th>\n",
       "      <td>0.075083</td>\n",
       "      <td>0.115063</td>\n",
       "    </tr>\n",
       "    <tr>\n",
       "      <th>16</th>\n",
       "      <td>0.086722</td>\n",
       "      <td>0.076198</td>\n",
       "    </tr>\n",
       "    <tr>\n",
       "      <th>6</th>\n",
       "      <td>0.293101</td>\n",
       "      <td>0.109244</td>\n",
       "    </tr>\n",
       "  </tbody>\n",
       "</table>\n",
       "</div>"
      ],
      "text/plain": [
       "        mean       std\n",
       "23  0.039646  0.038301\n",
       "7   0.056053  0.079700\n",
       "4   0.075083  0.115063\n",
       "16  0.086722  0.076198\n",
       "6   0.293101  0.109244"
      ]
     },
     "metadata": {},
     "output_type": "display_data"
    },
    {
     "name": "stdout",
     "output_type": "stream",
     "text": [
      "Index(['1', '20', '9', '8', '0', '28', '21', '12', '24', '5', '11', '19', '22',\n",
      "       '27', '18', '14', '26', '17', '15', '3', '2', '10', '25', '13', '23',\n",
      "       '7', '4', '16', '6'],\n",
      "      dtype='object')\n"
     ]
    },
    {
     "data": {
      "image/png": "[encoded data removed]",
      "text/plain": [
       "<Figure size 1080x720 with 1 Axes>"
      ]
     },
     "metadata": {
      "needs_background": "light"
     },
     "output_type": "display_data"
    }
   ],
   "source": [
    "X_train, X_test, y_train, y_test = train_test_split(X,y, test_size=0.3, random_state=42)\n",
    "forest = RandomForestRegressor(n_estimators=500, random_state=42)\n",
    "forest.fit(X_train, y_train)\n",
    "feature_names = X_train.columns\n",
    "forest_importances = pd.DataFrame(forest.feature_importances_, index=feature_names, columns =['mean'])\n",
    "forest_importances['std'] = np.std([tree.feature_importances_ for tree in forest.estimators_], axis=0)\n",
    "\n",
    "sort_forest = forest_importances.sort_values(by='mean')\n",
    "\n",
    "\n",
    "fig, ax = plt.subplots(figsize=(15,10))\n",
    "col = sort_forest['mean']\n",
    "yerr = sort_forest['std']\n",
    "col.plot.bar(yerr=yerr, ax=ax)\n",
    "ax.set_title(\"Feature importances using MDI\")\n",
    "ax.set_ylabel(\"Mean decrease in impurity\")\n",
    "fig.tight_layout()\n",
    "\n",
    "display(sort_forest.tail(5))\n",
    "\n",
    "print(sort_forest.index)"
   ]
  },
  {
   "cell_type": "code",
   "execution_count": 345,
   "id": "c612acbe",
   "metadata": {
    "execution": {
     "iopub.execute_input": "2023-12-21T10:34:46.953351Z",
     "iopub.status.busy": "2023-12-21T10:34:46.952666Z",
     "iopub.status.idle": "2023-12-21T10:34:56.155903Z",
     "shell.execute_reply": "2023-12-21T10:34:56.155085Z",
     "shell.execute_reply.started": "2023-12-21T10:34:46.953321Z"
    },
    "tags": []
   },
   "outputs": [
    {
     "data": {
      "image/png": "[encoded data removed]",
      "text/plain": [
       "<Figure size 864x576 with 2 Axes>"
      ]
     },
     "metadata": {
      "needs_background": "light"
     },
     "output_type": "display_data"
    },
    {
     "name": "stdout",
     "output_type": "stream",
     "text": [
      "Колонки, которые нужно исключить:\n",
      " Index(['1', '20', '28', '0', '9', '8', '21', '12', '11', '18', '26', '27',\n",
      "       '19', '24', '17', '14', '15', '3', '2', '5', '22', '25', '4', '10',\n",
      "       '13', '23', '7', '16', '6'],\n",
      "      dtype='object')\n"
     ]
    }
   ],
   "source": [
    "from sklearn.inspection import permutation_importance\n",
    "result = permutation_importance(forest, X_train, y_train, n_repeats=10, random_state=42)\n",
    "\n",
    "perm_sorted_idx = result.importances_mean.argsort()\n",
    "tree_importance_sorted_idx = np.argsort(forest.feature_importances_)\n",
    "tree_indices = np.arange(0, len(forest.feature_importances_)) + 0.5\n",
    "\n",
    "fig, (ax1, ax2) = plt.subplots(1, 2, figsize=(12, 8))\n",
    "\n",
    "ax1.barh(tree_indices, forest.feature_importances_[tree_importance_sorted_idx], height=0.7)\n",
    "ax1.set_yticks(tree_indices)\n",
    "ax1.set_yticklabels(X_train.columns[tree_importance_sorted_idx])\n",
    "ax1.set_ylim((0, len(forest.feature_importances_)))\n",
    "ax2.boxplot(\n",
    "    result.importances[perm_sorted_idx].T,\n",
    "    vert=False,\n",
    "    labels=X_train.columns[perm_sorted_idx],\n",
    ")\n",
    "fig.tight_layout()\n",
    "plt.show()\n",
    "\n",
    "\n",
    "columns_to_drop = X_train.columns[perm_sorted_idx]\n",
    "print(\"Колонки, которые нужно исключить:\\n\", columns_to_drop)"
   ]
  },
  {
   "cell_type": "code",
   "execution_count": 346,
   "id": "a47481e9",
   "metadata": {
    "execution": {
     "iopub.execute_input": "2023-12-21T10:34:56.157600Z",
     "iopub.status.busy": "2023-12-21T10:34:56.156933Z",
     "iopub.status.idle": "2023-12-21T10:34:56.181389Z",
     "shell.execute_reply": "2023-12-21T10:34:56.180634Z",
     "shell.execute_reply.started": "2023-12-21T10:34:56.157568Z"
    },
    "tags": []
   },
   "outputs": [
    {
     "data": {
      "text/plain": [
       "Index(['1'], dtype='object')"
      ]
     },
     "execution_count": 346,
     "metadata": {},
     "output_type": "execute_result"
    }
   ],
   "source": [
    "false_feature_names #удаляем обязательно\n",
    "false_feature_names\n"
   ]
  },
  {
   "cell_type": "code",
   "execution_count": 347,
   "id": "6236a40b-6848-4331-b201-55a23df1b874",
   "metadata": {
    "execution": {
     "iopub.execute_input": "2023-12-21T10:34:56.183584Z",
     "iopub.status.busy": "2023-12-21T10:34:56.182982Z",
     "iopub.status.idle": "2023-12-21T10:34:56.228103Z",
     "shell.execute_reply": "2023-12-21T10:34:56.227214Z",
     "shell.execute_reply.started": "2023-12-21T10:34:56.183547Z"
    },
    "tags": []
   },
   "outputs": [
    {
     "data": {
      "text/plain": [
       "Index(['0', '1', '5', '8', '9', '11', '12', '14', '15', '17', '18', '19', '20',\n",
       "       '21', '22', '23', '24', '27', '28'],\n",
       "      dtype='object')"
      ]
     },
     "execution_count": 347,
     "metadata": {},
     "output_type": "execute_result"
    }
   ],
   "source": [
    "selected_columns"
   ]
  },
  {
   "cell_type": "code",
   "execution_count": 348,
   "id": "f5e46484-a362-443a-9620-686022b2afa2",
   "metadata": {
    "execution": {
     "iopub.execute_input": "2023-12-21T10:34:56.230128Z",
     "iopub.status.busy": "2023-12-21T10:34:56.229177Z",
     "iopub.status.idle": "2023-12-21T10:34:56.244655Z",
     "shell.execute_reply": "2023-12-21T10:34:56.243911Z",
     "shell.execute_reply.started": "2023-12-21T10:34:56.230087Z"
    },
    "tags": []
   },
   "outputs": [
    {
     "data": {
      "text/plain": [
       "Index(['0', '1', '5', '8', '9', '12', '15', '17', '20', '22', '23', '24', '27',\n",
       "       '28'],\n",
       "      dtype='object')"
      ]
     },
     "execution_count": 348,
     "metadata": {},
     "output_type": "execute_result"
    }
   ],
   "source": [
    "selected_columns_1"
   ]
  },
  {
   "cell_type": "code",
   "execution_count": 349,
   "id": "eb467ff7-6ba4-4357-b879-2879b6429174",
   "metadata": {
    "execution": {
     "iopub.execute_input": "2023-12-21T10:34:56.246417Z",
     "iopub.status.busy": "2023-12-21T10:34:56.245709Z",
     "iopub.status.idle": "2023-12-21T10:34:56.270811Z",
     "shell.execute_reply": "2023-12-21T10:34:56.270040Z",
     "shell.execute_reply.started": "2023-12-21T10:34:56.246380Z"
    },
    "tags": []
   },
   "outputs": [
    {
     "name": "stdout",
     "output_type": "stream",
     "text": [
      "Index(['0', '1', '12', '15', '17', '20', '22', '23', '24', '27', '28', '5',\n",
      "       '8', '9'],\n",
      "      dtype='object') колво 14\n"
     ]
    },
    {
     "name": "stderr",
     "output_type": "stream",
     "text": [
      "<ipython-input-349-7e6acffba145>:1: FutureWarning: Index.__and__ operating as a set operation is deprecated, in the future this will be a logical operation matching Series.__and__.  Use index.intersection(other) instead.\n",
      "  to_dropped = ((selected_columns & selected_columns_1) | false_feature_names)\n",
      "<ipython-input-349-7e6acffba145>:1: FutureWarning: Index.__or__ operating as a set operation is deprecated, in the future this will be a logical operation matching Series.__or__.  Use index.union(other) instead.\n",
      "  to_dropped = ((selected_columns & selected_columns_1) | false_feature_names)\n"
     ]
    }
   ],
   "source": [
    "to_dropped = ((selected_columns & selected_columns_1) | false_feature_names)\n",
    "print(to_dropped, 'колво' ,len(to_dropped))"
   ]
  },
  {
   "cell_type": "code",
   "execution_count": 350,
   "id": "7db5f183-a689-46c6-a04d-7dd6f4ec7d20",
   "metadata": {
    "execution": {
     "iopub.execute_input": "2023-12-21T10:34:56.272565Z",
     "iopub.status.busy": "2023-12-21T10:34:56.271837Z",
     "iopub.status.idle": "2023-12-21T10:34:56.286880Z",
     "shell.execute_reply": "2023-12-21T10:34:56.286161Z",
     "shell.execute_reply.started": "2023-12-21T10:34:56.272526Z"
    },
    "tags": []
   },
   "outputs": [
    {
     "data": {
      "text/plain": [
       "[1,\n",
       " 2,\n",
       " 3,\n",
       " 11,\n",
       " 14,\n",
       " 15,\n",
       " 17,\n",
       " 18,\n",
       " 19,\n",
       " 23,\n",
       " 26,\n",
       " 27,\n",
       " 29,\n",
       " 30,\n",
       " 31,\n",
       " 32,\n",
       " 35,\n",
       " 37,\n",
       " 40,\n",
       " 46,\n",
       " 48,\n",
       " 49,\n",
       " 50,\n",
       " 51,\n",
       " 53,\n",
       " 54,\n",
       " 59,\n",
       " 60,\n",
       " 61,\n",
       " 62,\n",
       " 63,\n",
       " 64,\n",
       " 69,\n",
       " 70,\n",
       " 71,\n",
       " 72,\n",
       " 74,\n",
       " 75,\n",
       " 76,\n",
       " 78]"
      ]
     },
     "execution_count": 350,
     "metadata": {},
     "output_type": "execute_result"
    }
   ],
   "source": [
    "dropped_features\n"
   ]
  },
  {
   "cell_type": "code",
   "execution_count": 351,
   "id": "e0684060-fb7b-45f1-aee1-6b100a3c7493",
   "metadata": {
    "execution": {
     "iopub.execute_input": "2023-12-21T10:34:56.288465Z",
     "iopub.status.busy": "2023-12-21T10:34:56.287995Z",
     "iopub.status.idle": "2023-12-21T10:34:56.320194Z",
     "shell.execute_reply": "2023-12-21T10:34:56.319325Z",
     "shell.execute_reply.started": "2023-12-21T10:34:56.288430Z"
    },
    "tags": []
   },
   "outputs": [
    {
     "data": {
      "text/plain": [
       "Index(['1', '20', '9', '8', '0', '28', '21', '12', '24', '5', '11', '19'], dtype='object')"
      ]
     },
     "execution_count": 351,
     "metadata": {},
     "output_type": "execute_result"
    }
   ],
   "source": [
    "a = sort_forest.index\n",
    "a[:12]"
   ]
  },
  {
   "cell_type": "code",
   "execution_count": 352,
   "id": "f3c1d922-8b84-42fe-aa6e-370d458ccb41",
   "metadata": {
    "execution": {
     "iopub.execute_input": "2023-12-21T10:34:56.321903Z",
     "iopub.status.busy": "2023-12-21T10:34:56.321189Z",
     "iopub.status.idle": "2023-12-21T10:34:56.353450Z",
     "shell.execute_reply": "2023-12-21T10:34:56.352527Z",
     "shell.execute_reply.started": "2023-12-21T10:34:56.321863Z"
    },
    "tags": []
   },
   "outputs": [
    {
     "data": {
      "text/plain": [
       "Index(['1', '20', '28', '0', '9', '8', '21', '12', '11', '18', '26', '27'], dtype='object')"
      ]
     },
     "execution_count": 352,
     "metadata": {},
     "output_type": "execute_result"
    }
   ],
   "source": [
    "columns_to_drop[:12]"
   ]
  },
  {
   "cell_type": "code",
   "execution_count": 353,
   "id": "4222249e-f9a2-4ea5-bece-4b20a9b4895b",
   "metadata": {
    "execution": {
     "iopub.execute_input": "2023-12-21T10:34:56.354971Z",
     "iopub.status.busy": "2023-12-21T10:34:56.354563Z",
     "iopub.status.idle": "2023-12-21T10:34:56.372300Z",
     "shell.execute_reply": "2023-12-21T10:34:56.371394Z",
     "shell.execute_reply.started": "2023-12-21T10:34:56.354940Z"
    },
    "tags": []
   },
   "outputs": [
    {
     "name": "stderr",
     "output_type": "stream",
     "text": [
      "<ipython-input-353-1f4752a10173>:1: FutureWarning: Index.__and__ operating as a set operation is deprecated, in the future this will be a logical operation matching Series.__and__.  Use index.intersection(other) instead.\n",
      "  to_dropped = (((to_dropped )& a[:12]) & columns_to_drop[:12])\n"
     ]
    },
    {
     "data": {
      "text/plain": [
       "Index(['0', '1', '12', '20', '28', '8', '9'], dtype='object')"
      ]
     },
     "execution_count": 353,
     "metadata": {},
     "output_type": "execute_result"
    }
   ],
   "source": [
    "to_dropped = (((to_dropped )& a[:12]) & columns_to_drop[:12])\n",
    "to_dropped"
   ]
  },
  {
   "cell_type": "code",
   "execution_count": 354,
   "id": "82793263-7a7b-40fd-9421-77175d197039",
   "metadata": {
    "execution": {
     "iopub.execute_input": "2023-12-21T10:34:56.373963Z",
     "iopub.status.busy": "2023-12-21T10:34:56.373513Z",
     "iopub.status.idle": "2023-12-21T10:34:56.395046Z",
     "shell.execute_reply": "2023-12-21T10:34:56.394099Z",
     "shell.execute_reply.started": "2023-12-21T10:34:56.373925Z"
    },
    "tags": []
   },
   "outputs": [
    {
     "data": {
      "text/plain": [
       "29"
      ]
     },
     "execution_count": 354,
     "metadata": {},
     "output_type": "execute_result"
    }
   ],
   "source": [
    "len(X_train.columns)"
   ]
  },
  {
   "cell_type": "markdown",
   "id": "92e9031c-1f51-486c-b162-2fc5f311d04b",
   "metadata": {},
   "source": [
    "Всего столбцов 29, RFECV сказал, что оптимально 17 фич, ему мы верим -> надо удалить +-12 фич"
   ]
  },
  {
   "cell_type": "code",
   "execution_count": 355,
   "id": "1689d9e8-1ce3-4e5b-9f83-9e88b87ddc1c",
   "metadata": {
    "execution": {
     "iopub.execute_input": "2023-12-21T10:34:56.397207Z",
     "iopub.status.busy": "2023-12-21T10:34:56.396375Z",
     "iopub.status.idle": "2023-12-21T10:34:56.446640Z",
     "shell.execute_reply": "2023-12-21T10:34:56.445712Z",
     "shell.execute_reply.started": "2023-12-21T10:34:56.397169Z"
    },
    "tags": []
   },
   "outputs": [
    {
     "data": {
      "text/plain": [
       "7"
      ]
     },
     "execution_count": 355,
     "metadata": {},
     "output_type": "execute_result"
    }
   ],
   "source": [
    "len(to_dropped)"
   ]
  },
  {
   "cell_type": "code",
   "execution_count": 356,
   "id": "9acce156-dc65-4e86-b0ce-d12193f5a057",
   "metadata": {
    "execution": {
     "iopub.execute_input": "2023-12-21T10:34:56.448350Z",
     "iopub.status.busy": "2023-12-21T10:34:56.447745Z",
     "iopub.status.idle": "2023-12-21T10:34:56.477274Z",
     "shell.execute_reply": "2023-12-21T10:34:56.476284Z",
     "shell.execute_reply.started": "2023-12-21T10:34:56.448315Z"
    },
    "tags": []
   },
   "outputs": [
    {
     "data": {
      "text/plain": [
       "Index(['0', '1', '12', '20', '28', '8', '9'], dtype='object')"
      ]
     },
     "execution_count": 356,
     "metadata": {},
     "output_type": "execute_result"
    }
   ],
   "source": [
    "to_dropped"
   ]
  },
  {
   "cell_type": "code",
   "execution_count": 357,
   "id": "f5f38bbf-7377-4199-a6f1-17d553acb37e",
   "metadata": {
    "execution": {
     "iopub.execute_input": "2023-12-21T10:34:56.479441Z",
     "iopub.status.busy": "2023-12-21T10:34:56.478509Z",
     "iopub.status.idle": "2023-12-21T10:35:12.726858Z",
     "shell.execute_reply": "2023-12-21T10:35:12.726114Z",
     "shell.execute_reply.started": "2023-12-21T10:34:56.479400Z"
    },
    "tags": []
   },
   "outputs": [
    {
     "data": {
      "text/html": [
       "<div>\n",
       "<style scoped>\n",
       "    .dataframe tbody tr th:only-of-type {\n",
       "        vertical-align: middle;\n",
       "    }\n",
       "\n",
       "    .dataframe tbody tr th {\n",
       "        vertical-align: top;\n",
       "    }\n",
       "\n",
       "    .dataframe thead th {\n",
       "        text-align: right;\n",
       "    }\n",
       "</style>\n",
       "<table border=\"1\" class=\"dataframe\">\n",
       "  <thead>\n",
       "    <tr style=\"text-align: right;\">\n",
       "      <th></th>\n",
       "      <th>price</th>\n",
       "      <th>2</th>\n",
       "      <th>3</th>\n",
       "      <th>4</th>\n",
       "      <th>5</th>\n",
       "      <th>6</th>\n",
       "      <th>7</th>\n",
       "      <th>10</th>\n",
       "      <th>11</th>\n",
       "      <th>13</th>\n",
       "      <th>14</th>\n",
       "      <th>15</th>\n",
       "      <th>16</th>\n",
       "      <th>17</th>\n",
       "      <th>18</th>\n",
       "      <th>19</th>\n",
       "      <th>21</th>\n",
       "      <th>22</th>\n",
       "      <th>23</th>\n",
       "      <th>24</th>\n",
       "      <th>25</th>\n",
       "      <th>26</th>\n",
       "      <th>27</th>\n",
       "    </tr>\n",
       "  </thead>\n",
       "  <tbody>\n",
       "    <tr>\n",
       "      <th>0</th>\n",
       "      <td>5320000</td>\n",
       "      <td>-0.061169</td>\n",
       "      <td>-0.741051</td>\n",
       "      <td>-0.223185</td>\n",
       "      <td>1.361397</td>\n",
       "      <td>1.221991</td>\n",
       "      <td>-0.570187</td>\n",
       "      <td>-1.592404</td>\n",
       "      <td>-1.668320</td>\n",
       "      <td>1.517692</td>\n",
       "      <td>-0.142607</td>\n",
       "      <td>0.994994</td>\n",
       "      <td>1.472618</td>\n",
       "      <td>-0.280781</td>\n",
       "      <td>1.860696</td>\n",
       "      <td>0.245475</td>\n",
       "      <td>0.047278</td>\n",
       "      <td>1.222962</td>\n",
       "      <td>-0.219265</td>\n",
       "      <td>1.804941</td>\n",
       "      <td>-0.126718</td>\n",
       "      <td>0.271470</td>\n",
       "      <td>1.391006</td>\n",
       "    </tr>\n",
       "    <tr>\n",
       "      <th>1</th>\n",
       "      <td>3465000</td>\n",
       "      <td>-0.826890</td>\n",
       "      <td>-0.867066</td>\n",
       "      <td>-0.223185</td>\n",
       "      <td>-0.734539</td>\n",
       "      <td>-0.964205</td>\n",
       "      <td>-0.570187</td>\n",
       "      <td>0.729512</td>\n",
       "      <td>0.913740</td>\n",
       "      <td>-0.805741</td>\n",
       "      <td>0.307755</td>\n",
       "      <td>1.615664</td>\n",
       "      <td>-0.679063</td>\n",
       "      <td>1.311928</td>\n",
       "      <td>-1.087695</td>\n",
       "      <td>-1.444928</td>\n",
       "      <td>0.047278</td>\n",
       "      <td>1.222962</td>\n",
       "      <td>-0.219265</td>\n",
       "      <td>-0.554035</td>\n",
       "      <td>-0.126718</td>\n",
       "      <td>-1.010746</td>\n",
       "      <td>0.617421</td>\n",
       "    </tr>\n",
       "    <tr>\n",
       "      <th>2</th>\n",
       "      <td>3500000</td>\n",
       "      <td>-0.963310</td>\n",
       "      <td>-1.676106</td>\n",
       "      <td>-0.223185</td>\n",
       "      <td>-0.734539</td>\n",
       "      <td>-0.692084</td>\n",
       "      <td>-0.570187</td>\n",
       "      <td>-0.024866</td>\n",
       "      <td>0.427448</td>\n",
       "      <td>-0.805741</td>\n",
       "      <td>-1.033235</td>\n",
       "      <td>1.648072</td>\n",
       "      <td>-0.679063</td>\n",
       "      <td>0.470806</td>\n",
       "      <td>0.217582</td>\n",
       "      <td>1.578828</td>\n",
       "      <td>0.047278</td>\n",
       "      <td>1.222962</td>\n",
       "      <td>-0.219265</td>\n",
       "      <td>-0.554035</td>\n",
       "      <td>-0.126718</td>\n",
       "      <td>-1.237596</td>\n",
       "      <td>1.483005</td>\n",
       "    </tr>\n",
       "    <tr>\n",
       "      <th>3</th>\n",
       "      <td>3570000</td>\n",
       "      <td>0.242611</td>\n",
       "      <td>0.193424</td>\n",
       "      <td>-0.223185</td>\n",
       "      <td>-0.734539</td>\n",
       "      <td>-0.696696</td>\n",
       "      <td>-0.570187</td>\n",
       "      <td>0.445396</td>\n",
       "      <td>1.056981</td>\n",
       "      <td>-0.805741</td>\n",
       "      <td>-1.119627</td>\n",
       "      <td>1.488127</td>\n",
       "      <td>-0.679063</td>\n",
       "      <td>-1.039726</td>\n",
       "      <td>0.442600</td>\n",
       "      <td>-1.675466</td>\n",
       "      <td>-1.308863</td>\n",
       "      <td>1.222962</td>\n",
       "      <td>-0.219265</td>\n",
       "      <td>-0.554035</td>\n",
       "      <td>0.417348</td>\n",
       "      <td>-0.987324</td>\n",
       "      <td>1.134657</td>\n",
       "    </tr>\n",
       "    <tr>\n",
       "      <th>4</th>\n",
       "      <td>4130000</td>\n",
       "      <td>-0.740827</td>\n",
       "      <td>-0.684767</td>\n",
       "      <td>-0.223185</td>\n",
       "      <td>-0.734539</td>\n",
       "      <td>-0.239163</td>\n",
       "      <td>-0.570187</td>\n",
       "      <td>-0.024866</td>\n",
       "      <td>-0.825728</td>\n",
       "      <td>-0.805741</td>\n",
       "      <td>0.232269</td>\n",
       "      <td>-1.316654</td>\n",
       "      <td>1.472618</td>\n",
       "      <td>1.747297</td>\n",
       "      <td>-1.109080</td>\n",
       "      <td>-1.347578</td>\n",
       "      <td>1.403419</td>\n",
       "      <td>-0.091662</td>\n",
       "      <td>-0.219265</td>\n",
       "      <td>-0.554035</td>\n",
       "      <td>-0.108582</td>\n",
       "      <td>0.838006</td>\n",
       "      <td>0.360062</td>\n",
       "    </tr>\n",
       "    <tr>\n",
       "      <th>...</th>\n",
       "      <td>...</td>\n",
       "      <td>...</td>\n",
       "      <td>...</td>\n",
       "      <td>...</td>\n",
       "      <td>...</td>\n",
       "      <td>...</td>\n",
       "      <td>...</td>\n",
       "      <td>...</td>\n",
       "      <td>...</td>\n",
       "      <td>...</td>\n",
       "      <td>...</td>\n",
       "      <td>...</td>\n",
       "      <td>...</td>\n",
       "      <td>...</td>\n",
       "      <td>...</td>\n",
       "      <td>...</td>\n",
       "      <td>...</td>\n",
       "      <td>...</td>\n",
       "      <td>...</td>\n",
       "      <td>...</td>\n",
       "      <td>...</td>\n",
       "      <td>...</td>\n",
       "      <td>...</td>\n",
       "    </tr>\n",
       "    <tr>\n",
       "      <th>403</th>\n",
       "      <td>4550000</td>\n",
       "      <td>1.008081</td>\n",
       "      <td>1.658059</td>\n",
       "      <td>-0.223185</td>\n",
       "      <td>-0.734539</td>\n",
       "      <td>-0.696696</td>\n",
       "      <td>-0.570187</td>\n",
       "      <td>-0.024866</td>\n",
       "      <td>0.343618</td>\n",
       "      <td>-0.805741</td>\n",
       "      <td>2.948326</td>\n",
       "      <td>1.045927</td>\n",
       "      <td>1.472618</td>\n",
       "      <td>1.491291</td>\n",
       "      <td>-1.123612</td>\n",
       "      <td>-1.341446</td>\n",
       "      <td>0.047278</td>\n",
       "      <td>-1.406286</td>\n",
       "      <td>-0.219265</td>\n",
       "      <td>-0.554035</td>\n",
       "      <td>-0.126718</td>\n",
       "      <td>-1.532214</td>\n",
       "      <td>1.329553</td>\n",
       "    </tr>\n",
       "    <tr>\n",
       "      <th>404</th>\n",
       "      <td>5250000</td>\n",
       "      <td>1.592671</td>\n",
       "      <td>-0.816078</td>\n",
       "      <td>-0.223185</td>\n",
       "      <td>1.361397</td>\n",
       "      <td>-0.622901</td>\n",
       "      <td>-0.570187</td>\n",
       "      <td>-0.024866</td>\n",
       "      <td>-1.312213</td>\n",
       "      <td>0.355976</td>\n",
       "      <td>1.138751</td>\n",
       "      <td>-1.352775</td>\n",
       "      <td>-0.679063</td>\n",
       "      <td>-0.269301</td>\n",
       "      <td>1.375053</td>\n",
       "      <td>-0.144745</td>\n",
       "      <td>0.047278</td>\n",
       "      <td>1.222962</td>\n",
       "      <td>-0.219265</td>\n",
       "      <td>1.804941</td>\n",
       "      <td>-0.126718</td>\n",
       "      <td>-1.320247</td>\n",
       "      <td>0.041976</td>\n",
       "    </tr>\n",
       "    <tr>\n",
       "      <th>405</th>\n",
       "      <td>5950000</td>\n",
       "      <td>0.582200</td>\n",
       "      <td>0.458904</td>\n",
       "      <td>-0.223185</td>\n",
       "      <td>1.361397</td>\n",
       "      <td>0.640850</td>\n",
       "      <td>-0.570187</td>\n",
       "      <td>-0.975186</td>\n",
       "      <td>0.524128</td>\n",
       "      <td>1.517692</td>\n",
       "      <td>-0.653206</td>\n",
       "      <td>1.140005</td>\n",
       "      <td>-0.679063</td>\n",
       "      <td>-1.273605</td>\n",
       "      <td>-1.181372</td>\n",
       "      <td>-0.734544</td>\n",
       "      <td>0.047278</td>\n",
       "      <td>-1.406286</td>\n",
       "      <td>-0.219265</td>\n",
       "      <td>1.804941</td>\n",
       "      <td>-0.126718</td>\n",
       "      <td>-0.017405</td>\n",
       "      <td>-1.353372</td>\n",
       "    </tr>\n",
       "    <tr>\n",
       "      <th>406</th>\n",
       "      <td>4319000</td>\n",
       "      <td>-0.973555</td>\n",
       "      <td>0.522287</td>\n",
       "      <td>-0.223185</td>\n",
       "      <td>1.361397</td>\n",
       "      <td>-0.515897</td>\n",
       "      <td>-0.570187</td>\n",
       "      <td>0.253372</td>\n",
       "      <td>-0.994006</td>\n",
       "      <td>-0.805741</td>\n",
       "      <td>0.330239</td>\n",
       "      <td>1.305237</td>\n",
       "      <td>-0.679063</td>\n",
       "      <td>1.109630</td>\n",
       "      <td>-0.349190</td>\n",
       "      <td>-0.282323</td>\n",
       "      <td>-1.308863</td>\n",
       "      <td>-1.406286</td>\n",
       "      <td>-0.219265</td>\n",
       "      <td>-0.554035</td>\n",
       "      <td>0.195188</td>\n",
       "      <td>-0.131175</td>\n",
       "      <td>1.363075</td>\n",
       "    </tr>\n",
       "    <tr>\n",
       "      <th>407</th>\n",
       "      <td>4200000</td>\n",
       "      <td>-0.811005</td>\n",
       "      <td>1.333801</td>\n",
       "      <td>-0.223185</td>\n",
       "      <td>-0.734539</td>\n",
       "      <td>0.299545</td>\n",
       "      <td>-0.570187</td>\n",
       "      <td>-0.612693</td>\n",
       "      <td>-0.324723</td>\n",
       "      <td>1.517692</td>\n",
       "      <td>-0.713499</td>\n",
       "      <td>1.376882</td>\n",
       "      <td>-0.679063</td>\n",
       "      <td>-0.196861</td>\n",
       "      <td>0.076215</td>\n",
       "      <td>-0.085282</td>\n",
       "      <td>0.047278</td>\n",
       "      <td>-0.091662</td>\n",
       "      <td>4.560702</td>\n",
       "      <td>-0.554035</td>\n",
       "      <td>-0.126718</td>\n",
       "      <td>-0.428933</td>\n",
       "      <td>0.101230</td>\n",
       "    </tr>\n",
       "  </tbody>\n",
       "</table>\n",
       "<p>408 rows × 23 columns</p>\n",
       "</div>"
      ],
      "text/plain": [
       "       price         2         3  ...        25        26        27\n",
       "0    5320000 -0.061169 -0.741051  ... -0.126718  0.271470  1.391006\n",
       "1    3465000 -0.826890 -0.867066  ... -0.126718 -1.010746  0.617421\n",
       "2    3500000 -0.963310 -1.676106  ... -0.126718 -1.237596  1.483005\n",
       "3    3570000  0.242611  0.193424  ...  0.417348 -0.987324  1.134657\n",
       "4    4130000 -0.740827 -0.684767  ... -0.108582  0.838006  0.360062\n",
       "..       ...       ...       ...  ...       ...       ...       ...\n",
       "403  4550000  1.008081  1.658059  ... -0.126718 -1.532214  1.329553\n",
       "404  5250000  1.592671 -0.816078  ... -0.126718 -1.320247  0.041976\n",
       "405  5950000  0.582200  0.458904  ... -0.126718 -0.017405 -1.353372\n",
       "406  4319000 -0.973555  0.522287  ...  0.195188 -0.131175  1.363075\n",
       "407  4200000 -0.811005  1.333801  ... -0.126718 -0.428933  0.101230\n",
       "\n",
       "[408 rows x 23 columns]"
      ]
     },
     "metadata": {},
     "output_type": "display_data"
    },
    {
     "data": {
      "text/plain": [
       "0.20094607127677522"
      ]
     },
     "execution_count": 357,
     "metadata": {},
     "output_type": "execute_result"
    }
   ],
   "source": [
    "df = pd.read_csv(path_train)\n",
    "df = df.drop(columns = to_dropped)\n",
    "display(df)\n",
    "y = df.price\n",
    "X = df.drop(columns = 'price')\n",
    "X_train, X_test, y_train, y_test = train_test_split(X,y, test_size=0.3, random_state=42)\n",
    "\n",
    "pipe = Pipeline(steps=[\n",
    "    ('preproc', StandardScaler()),\n",
    "    ('estimator', RandomForestRegressor(n_estimators= 10000,n_jobs = -1, warm_start = True, max_features = 'sqrt', random_state = 42))\n",
    "    ])\n",
    "\n",
    "\n",
    "pipe.fit(X_train,y_train)\n",
    "mean_absolute_percentage_error(y_test, pipe.predict(X_test))"
   ]
  },
  {
   "cell_type": "code",
   "execution_count": null,
   "id": "3a00abbf-fe65-4c3c-90ad-aa6791303111",
   "metadata": {},
   "outputs": [],
   "source": []
  },
  {
   "cell_type": "code",
   "execution_count": null,
   "id": "46c425f0-7c4c-48ed-8e0f-6ba2fa553f45",
   "metadata": {},
   "outputs": [],
   "source": []
  }
 ],
 "metadata": {
  "kernelspec": {
   "display_name": "DataSphere Kernel",
   "language": "python",
   "name": "python3"
  },
  "language_info": {
   "codemirror_mode": {
    "name": "ipython",
    "version": 3
   },
   "file_extension": ".py",
   "mimetype": "text/x-python",
   "name": "python",
   "nbconvert_exporter": "python",
   "pygments_lexer": "ipython3",
   "version": "3.7.7"
  }
 },
 "nbformat": 4,
 "nbformat_minor": 5
}
