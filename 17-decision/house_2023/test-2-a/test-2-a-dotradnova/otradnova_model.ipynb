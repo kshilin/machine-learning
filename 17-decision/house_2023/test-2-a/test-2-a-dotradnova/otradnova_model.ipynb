{
 "cells": [
  {
   "cell_type": "code",
   "execution_count": 1,
   "metadata": {},
   "outputs": [],
   "source": [
    "# Внимание!!! Важно, что бы файлы с данными и исполняемый файл находились в одной папке, \n",
    "# тогда пути к тестовым и тренировочным наборам будут содержать только имена файлов.\n",
    "# \n",
    "# В пути к тренировочным и тестовым данным запрежается использовать абсалютную адресацию, \n",
    "# то есть адресацию, в которой присутствуют имена папок. Путь должен содержать только имя файла.\n",
    "#\n",
    "# Напоминание: под моделью машинного обучения понимаются все действия с исходными данными, \n",
    "# которые необходимо произвести, что бы сопоставить признаки целевому значению."
   ]
  },
  {
   "cell_type": "markdown",
   "metadata": {},
   "source": [
    "### Область работы 1 (библиотеки)"
   ]
  },
  {
   "cell_type": "code",
   "execution_count": 2,
   "metadata": {},
   "outputs": [],
   "source": [
    "# Данный блок в области 1 выполняется преподавателем\n",
    "# \n",
    "# данный блок предназначен только для подключения необходимых библиотек\n",
    "# запрещается подключать библиотеки в других блоках\n",
    "# запрещается скрывать предупреждения системы\n",
    "# установка дополнительных библиотек размещается прямо здесь (обязательно закоментированы)\n",
    "# pip install"
   ]
  },
  {
   "cell_type": "code",
   "execution_count": 3,
   "metadata": {},
   "outputs": [
    {
     "name": "stdout",
     "output_type": "stream",
     "text": [
      "1.3.1\n"
     ]
    }
   ],
   "source": [
    "import numpy as np\n",
    "import pandas as pd\n",
    "import seaborn as sns\n",
    "\n",
    "import matplotlib.pyplot as plt\n",
    "from sklearn.model_selection import train_test_split, cross_val_score, GridSearchCV, ShuffleSplit, KFold, StratifiedShuffleSplit\n",
    "from sklearn.metrics import r2_score, mean_absolute_error, mean_squared_error, mean_absolute_percentage_error\n",
    "from sklearn.preprocessing import StandardScaler, PolynomialFeatures, OneHotEncoder\n",
    "from sklearn.pipeline import make_pipeline, Pipeline\n",
    "\n",
    "from sklearn.compose import ColumnTransformer\n",
    "import category_encoders as ce\n",
    "from sklearn import svm\n",
    "\n",
    "from sklearn.linear_model import LinearRegression, Ridge, Lasso\n",
    "from sklearn.tree import DecisionTreeRegressor\n",
    "from sklearn.ensemble import RandomForestRegressor\n",
    "from sklearn.neighbors import KNeighborsRegressor\n",
    "from sklearn.ensemble import RandomForestRegressor, GradientBoostingRegressor\n",
    "from sklearn.compose import ColumnTransformer\n",
    "\n",
    "from sklearn.feature_selection  import RFE\n",
    "\n",
    "import sklearn\n",
    "print(sklearn.__version__)"
   ]
  },
  {
   "cell_type": "markdown",
   "metadata": {},
   "source": [
    "### Область работы 2 (выполнение лучшей модели)"
   ]
  },
  {
   "cell_type": "code",
   "execution_count": 4,
   "metadata": {},
   "outputs": [],
   "source": [
    "# Данный блок(и) в области 2 выполняется преподавателем\n",
    "#\n",
    "# В области находится одна, единственная, итоговая модель машинного обучения с однозначными, \n",
    "# зафиксированными параметрами\n",
    "#\n",
    "# В данной области категорически запрещается искать, выбирать, улучшать, оптимизировать, \n",
    "# тюниговать и т.д. модель машинного обучения"
   ]
  },
  {
   "cell_type": "code",
   "execution_count": 5,
   "metadata": {},
   "outputs": [],
   "source": [
    "# Путь к тренировочному набору\n",
    "path_train = 'train_house_A.csv' # содержит только имя файла, без имен папок\n",
    "# Путь к тестовому набору\n",
    "path_test  = 'test_house_A.csv' # содержит только имя файла, без имен папок\n",
    "\n",
    "df_train = pd.read_csv(path_train)\n",
    "df_test = pd.read_csv(path_test)"
   ]
  },
  {
   "cell_type": "code",
   "execution_count": 6,
   "metadata": {},
   "outputs": [],
   "source": [
    "df_train = df_train.drop_duplicates()"
   ]
  },
  {
   "cell_type": "code",
   "execution_count": 7,
   "metadata": {},
   "outputs": [],
   "source": [
    "# Блок(и) обучения и поверки модели"
   ]
  },
  {
   "cell_type": "code",
   "execution_count": 8,
   "metadata": {},
   "outputs": [],
   "source": [
    "X_train = df_train.drop(['price'], axis = 1)\n",
    "y_train = df_train.price\n",
    "X_train, X_t, y_train, y_t = train_test_split(X_train, y_train, shuffle=True)"
   ]
  },
  {
   "cell_type": "code",
   "execution_count": 9,
   "metadata": {},
   "outputs": [
    {
     "data": {
      "text/html": [
       "<style>#sk-container-id-1 {color: black;}#sk-container-id-1 pre{padding: 0;}#sk-container-id-1 div.sk-toggleable {background-color: white;}#sk-container-id-1 label.sk-toggleable__label {cursor: pointer;display: block;width: 100%;margin-bottom: 0;padding: 0.3em;box-sizing: border-box;text-align: center;}#sk-container-id-1 label.sk-toggleable__label-arrow:before {content: \"▸\";float: left;margin-right: 0.25em;color: #696969;}#sk-container-id-1 label.sk-toggleable__label-arrow:hover:before {color: black;}#sk-container-id-1 div.sk-estimator:hover label.sk-toggleable__label-arrow:before {color: black;}#sk-container-id-1 div.sk-toggleable__content {max-height: 0;max-width: 0;overflow: hidden;text-align: left;background-color: #f0f8ff;}#sk-container-id-1 div.sk-toggleable__content pre {margin: 0.2em;color: black;border-radius: 0.25em;background-color: #f0f8ff;}#sk-container-id-1 input.sk-toggleable__control:checked~div.sk-toggleable__content {max-height: 200px;max-width: 100%;overflow: auto;}#sk-container-id-1 input.sk-toggleable__control:checked~label.sk-toggleable__label-arrow:before {content: \"▾\";}#sk-container-id-1 div.sk-estimator input.sk-toggleable__control:checked~label.sk-toggleable__label {background-color: #d4ebff;}#sk-container-id-1 div.sk-label input.sk-toggleable__control:checked~label.sk-toggleable__label {background-color: #d4ebff;}#sk-container-id-1 input.sk-hidden--visually {border: 0;clip: rect(1px 1px 1px 1px);clip: rect(1px, 1px, 1px, 1px);height: 1px;margin: -1px;overflow: hidden;padding: 0;position: absolute;width: 1px;}#sk-container-id-1 div.sk-estimator {font-family: monospace;background-color: #f0f8ff;border: 1px dotted black;border-radius: 0.25em;box-sizing: border-box;margin-bottom: 0.5em;}#sk-container-id-1 div.sk-estimator:hover {background-color: #d4ebff;}#sk-container-id-1 div.sk-parallel-item::after {content: \"\";width: 100%;border-bottom: 1px solid gray;flex-grow: 1;}#sk-container-id-1 div.sk-label:hover label.sk-toggleable__label {background-color: #d4ebff;}#sk-container-id-1 div.sk-serial::before {content: \"\";position: absolute;border-left: 1px solid gray;box-sizing: border-box;top: 0;bottom: 0;left: 50%;z-index: 0;}#sk-container-id-1 div.sk-serial {display: flex;flex-direction: column;align-items: center;background-color: white;padding-right: 0.2em;padding-left: 0.2em;position: relative;}#sk-container-id-1 div.sk-item {position: relative;z-index: 1;}#sk-container-id-1 div.sk-parallel {display: flex;align-items: stretch;justify-content: center;background-color: white;position: relative;}#sk-container-id-1 div.sk-item::before, #sk-container-id-1 div.sk-parallel-item::before {content: \"\";position: absolute;border-left: 1px solid gray;box-sizing: border-box;top: 0;bottom: 0;left: 50%;z-index: -1;}#sk-container-id-1 div.sk-parallel-item {display: flex;flex-direction: column;z-index: 1;position: relative;background-color: white;}#sk-container-id-1 div.sk-parallel-item:first-child::after {align-self: flex-end;width: 50%;}#sk-container-id-1 div.sk-parallel-item:last-child::after {align-self: flex-start;width: 50%;}#sk-container-id-1 div.sk-parallel-item:only-child::after {width: 0;}#sk-container-id-1 div.sk-dashed-wrapped {border: 1px dashed gray;margin: 0 0.4em 0.5em 0.4em;box-sizing: border-box;padding-bottom: 0.4em;background-color: white;}#sk-container-id-1 div.sk-label label {font-family: monospace;font-weight: bold;display: inline-block;line-height: 1.2em;}#sk-container-id-1 div.sk-label-container {text-align: center;}#sk-container-id-1 div.sk-container {/* jupyter's `normalize.less` sets `[hidden] { display: none; }` but bootstrap.min.css set `[hidden] { display: none !important; }` so we also need the `!important` here to be able to override the default hidden behavior on the sphinx rendered scikit-learn.org. See: https://github.com/scikit-learn/scikit-learn/issues/21755 */display: inline-block !important;position: relative;}#sk-container-id-1 div.sk-text-repr-fallback {display: none;}</style><div id=\"sk-container-id-1\" class=\"sk-top-container\"><div class=\"sk-text-repr-fallback\"><pre>RFE(estimator=RandomForestRegressor(n_estimators=500), n_features_to_select=20)</pre><b>In a Jupyter environment, please rerun this cell to show the HTML representation or trust the notebook. <br />On GitHub, the HTML representation is unable to render, please try loading this page with nbviewer.org.</b></div><div class=\"sk-container\" hidden><div class=\"sk-item sk-dashed-wrapped\"><div class=\"sk-label-container\"><div class=\"sk-label sk-toggleable\"><input class=\"sk-toggleable__control sk-hidden--visually\" id=\"sk-estimator-id-1\" type=\"checkbox\" ><label for=\"sk-estimator-id-1\" class=\"sk-toggleable__label sk-toggleable__label-arrow\">RFE</label><div class=\"sk-toggleable__content\"><pre>RFE(estimator=RandomForestRegressor(n_estimators=500), n_features_to_select=20)</pre></div></div></div><div class=\"sk-parallel\"><div class=\"sk-parallel-item\"><div class=\"sk-item\"><div class=\"sk-label-container\"><div class=\"sk-label sk-toggleable\"><input class=\"sk-toggleable__control sk-hidden--visually\" id=\"sk-estimator-id-2\" type=\"checkbox\" ><label for=\"sk-estimator-id-2\" class=\"sk-toggleable__label sk-toggleable__label-arrow\">estimator: RandomForestRegressor</label><div class=\"sk-toggleable__content\"><pre>RandomForestRegressor(n_estimators=500)</pre></div></div></div><div class=\"sk-serial\"><div class=\"sk-item\"><div class=\"sk-estimator sk-toggleable\"><input class=\"sk-toggleable__control sk-hidden--visually\" id=\"sk-estimator-id-3\" type=\"checkbox\" ><label for=\"sk-estimator-id-3\" class=\"sk-toggleable__label sk-toggleable__label-arrow\">RandomForestRegressor</label><div class=\"sk-toggleable__content\"><pre>RandomForestRegressor(n_estimators=500)</pre></div></div></div></div></div></div></div></div></div></div>"
      ],
      "text/plain": [
       "RFE(estimator=RandomForestRegressor(n_estimators=500), n_features_to_select=20)"
      ]
     },
     "execution_count": 9,
     "metadata": {},
     "output_type": "execute_result"
    }
   ],
   "source": [
    "rfe_select = RFE(RandomForestRegressor(n_estimators = 500), step = 1, \n",
    "                 n_features_to_select = 20)\n",
    "rfe_select.fit(X_train, y_train)"
   ]
  },
  {
   "cell_type": "code",
   "execution_count": 10,
   "metadata": {},
   "outputs": [
    {
     "data": {
      "image/png": "[encoded data removed]",
      "text/plain": [
       "<Figure size 1600x200 with 1 Axes>"
      ]
     },
     "metadata": {},
     "output_type": "display_data"
    }
   ],
   "source": [
    "#Визуализируем отобранные признаки\n",
    "mask = rfe_select.get_support()[:30]\n",
    "plt.matshow( mask.reshape(1,-1), cmap = 'gray_r', aspect=0.2)\n",
    "plt.yticks([])\n",
    "plt.gca().xaxis.set_major_locator(plt.MultipleLocator(1))\n",
    "plt.xlabel(\"Индекс признака\");\n",
    "\n",
    "X_train_im = X_train[X_train.columns[mask]]\n",
    "df_test_im = df_test[X_train.columns[mask]]\n",
    "features_im = X_train.columns[mask]"
   ]
  },
  {
   "cell_type": "code",
   "execution_count": 11,
   "metadata": {},
   "outputs": [
    {
     "data": {
      "text/plain": [
       "Index(['2', '3', '4', '6', '7', '10', '11', '12', '13', '14', '15', '16', '17',\n",
       "       '18', '19', '22', '23', '25', '26', '27'],\n",
       "      dtype='object')"
      ]
     },
     "execution_count": 11,
     "metadata": {},
     "output_type": "execute_result"
    }
   ],
   "source": [
    "#Вывод важных признаков\n",
    "features_im"
   ]
  },
  {
   "cell_type": "code",
   "execution_count": null,
   "metadata": {},
   "outputs": [],
   "source": []
  },
  {
   "cell_type": "code",
   "execution_count": 12,
   "metadata": {},
   "outputs": [],
   "source": [
    "# Блок предсказания с использованием тестового набора"
   ]
  },
  {
   "cell_type": "code",
   "execution_count": 13,
   "metadata": {},
   "outputs": [
    {
     "data": {
      "text/html": [
       "<style>#sk-container-id-2 {color: black;}#sk-container-id-2 pre{padding: 0;}#sk-container-id-2 div.sk-toggleable {background-color: white;}#sk-container-id-2 label.sk-toggleable__label {cursor: pointer;display: block;width: 100%;margin-bottom: 0;padding: 0.3em;box-sizing: border-box;text-align: center;}#sk-container-id-2 label.sk-toggleable__label-arrow:before {content: \"▸\";float: left;margin-right: 0.25em;color: #696969;}#sk-container-id-2 label.sk-toggleable__label-arrow:hover:before {color: black;}#sk-container-id-2 div.sk-estimator:hover label.sk-toggleable__label-arrow:before {color: black;}#sk-container-id-2 div.sk-toggleable__content {max-height: 0;max-width: 0;overflow: hidden;text-align: left;background-color: #f0f8ff;}#sk-container-id-2 div.sk-toggleable__content pre {margin: 0.2em;color: black;border-radius: 0.25em;background-color: #f0f8ff;}#sk-container-id-2 input.sk-toggleable__control:checked~div.sk-toggleable__content {max-height: 200px;max-width: 100%;overflow: auto;}#sk-container-id-2 input.sk-toggleable__control:checked~label.sk-toggleable__label-arrow:before {content: \"▾\";}#sk-container-id-2 div.sk-estimator input.sk-toggleable__control:checked~label.sk-toggleable__label {background-color: #d4ebff;}#sk-container-id-2 div.sk-label input.sk-toggleable__control:checked~label.sk-toggleable__label {background-color: #d4ebff;}#sk-container-id-2 input.sk-hidden--visually {border: 0;clip: rect(1px 1px 1px 1px);clip: rect(1px, 1px, 1px, 1px);height: 1px;margin: -1px;overflow: hidden;padding: 0;position: absolute;width: 1px;}#sk-container-id-2 div.sk-estimator {font-family: monospace;background-color: #f0f8ff;border: 1px dotted black;border-radius: 0.25em;box-sizing: border-box;margin-bottom: 0.5em;}#sk-container-id-2 div.sk-estimator:hover {background-color: #d4ebff;}#sk-container-id-2 div.sk-parallel-item::after {content: \"\";width: 100%;border-bottom: 1px solid gray;flex-grow: 1;}#sk-container-id-2 div.sk-label:hover label.sk-toggleable__label {background-color: #d4ebff;}#sk-container-id-2 div.sk-serial::before {content: \"\";position: absolute;border-left: 1px solid gray;box-sizing: border-box;top: 0;bottom: 0;left: 50%;z-index: 0;}#sk-container-id-2 div.sk-serial {display: flex;flex-direction: column;align-items: center;background-color: white;padding-right: 0.2em;padding-left: 0.2em;position: relative;}#sk-container-id-2 div.sk-item {position: relative;z-index: 1;}#sk-container-id-2 div.sk-parallel {display: flex;align-items: stretch;justify-content: center;background-color: white;position: relative;}#sk-container-id-2 div.sk-item::before, #sk-container-id-2 div.sk-parallel-item::before {content: \"\";position: absolute;border-left: 1px solid gray;box-sizing: border-box;top: 0;bottom: 0;left: 50%;z-index: -1;}#sk-container-id-2 div.sk-parallel-item {display: flex;flex-direction: column;z-index: 1;position: relative;background-color: white;}#sk-container-id-2 div.sk-parallel-item:first-child::after {align-self: flex-end;width: 50%;}#sk-container-id-2 div.sk-parallel-item:last-child::after {align-self: flex-start;width: 50%;}#sk-container-id-2 div.sk-parallel-item:only-child::after {width: 0;}#sk-container-id-2 div.sk-dashed-wrapped {border: 1px dashed gray;margin: 0 0.4em 0.5em 0.4em;box-sizing: border-box;padding-bottom: 0.4em;background-color: white;}#sk-container-id-2 div.sk-label label {font-family: monospace;font-weight: bold;display: inline-block;line-height: 1.2em;}#sk-container-id-2 div.sk-label-container {text-align: center;}#sk-container-id-2 div.sk-container {/* jupyter's `normalize.less` sets `[hidden] { display: none; }` but bootstrap.min.css set `[hidden] { display: none !important; }` so we also need the `!important` here to be able to override the default hidden behavior on the sphinx rendered scikit-learn.org. See: https://github.com/scikit-learn/scikit-learn/issues/21755 */display: inline-block !important;position: relative;}#sk-container-id-2 div.sk-text-repr-fallback {display: none;}</style><div id=\"sk-container-id-2\" class=\"sk-top-container\"><div class=\"sk-text-repr-fallback\"><pre>GradientBoostingRegressor()</pre><b>In a Jupyter environment, please rerun this cell to show the HTML representation or trust the notebook. <br />On GitHub, the HTML representation is unable to render, please try loading this page with nbviewer.org.</b></div><div class=\"sk-container\" hidden><div class=\"sk-item\"><div class=\"sk-estimator sk-toggleable\"><input class=\"sk-toggleable__control sk-hidden--visually\" id=\"sk-estimator-id-4\" type=\"checkbox\" checked><label for=\"sk-estimator-id-4\" class=\"sk-toggleable__label sk-toggleable__label-arrow\">GradientBoostingRegressor</label><div class=\"sk-toggleable__content\"><pre>GradientBoostingRegressor()</pre></div></div></div></div></div>"
      ],
      "text/plain": [
       "GradientBoostingRegressor()"
      ]
     },
     "execution_count": 13,
     "metadata": {},
     "output_type": "execute_result"
    }
   ],
   "source": [
    "gb = GradientBoostingRegressor(learning_rate = 0.1)\n",
    "gb.fit(X_train[list(features_im)], y_train)"
   ]
  },
  {
   "cell_type": "code",
   "execution_count": 14,
   "metadata": {},
   "outputs": [],
   "source": [
    "m = list(features_im)\n",
    "df_test = df_test[m]"
   ]
  },
  {
   "cell_type": "code",
   "execution_count": 15,
   "metadata": {},
   "outputs": [],
   "source": [
    "y_predict = gb.predict(df_test)"
   ]
  },
  {
   "cell_type": "code",
   "execution_count": 16,
   "metadata": {},
   "outputs": [
    {
     "data": {
      "text/plain": [
       "array([5976520.56749987, 6335985.39802056, 3396493.68303685,\n",
       "       4749721.70503784, 4312585.72253464, 4107272.21646561,\n",
       "       7243447.64762433, 7135442.28920773, 3257601.15551968,\n",
       "       7057563.54290586, 9137990.75423625, 3069366.0880395 ,\n",
       "       4785113.69506652, 4296593.69796474, 3602631.06310768,\n",
       "       6639859.58189109, 6113506.33032474, 6481098.64296317,\n",
       "       4746936.48936929, 6438550.04947743, 3562722.90766217,\n",
       "       3402500.01373081, 4977061.83906994, 4330451.31444765,\n",
       "       6436141.95115847, 4342292.35347432, 5402478.50771885,\n",
       "       3405819.89548323, 2918949.6713755 , 4740890.27917925,\n",
       "       2852934.34098092, 7268525.05771133, 4663754.57079666,\n",
       "       4796691.84315162, 5324120.46007622, 3255205.04228533,\n",
       "       4402018.72434443, 3866465.38785044, 4553361.42803831,\n",
       "       5445979.46853085, 6568857.4655709 , 5118354.0418202 ,\n",
       "       9199904.46495268, 4610420.20422613, 3274274.01550533,\n",
       "       6517660.44357575, 5081115.01375488, 2913927.42417145,\n",
       "       4609524.32227391, 3246807.24117689, 4816501.24134843,\n",
       "       2957918.66470459, 5894548.54901633, 5226202.64335067,\n",
       "       3221944.36655486, 5003467.84459493, 5809195.96596531,\n",
       "       4300948.45684616, 2103850.72207244, 6498708.67098168,\n",
       "       6848525.7349252 , 4239872.73350493, 3280195.6252626 ,\n",
       "       4822206.80899432, 7104531.304872  , 5375078.53410119,\n",
       "       3820000.57809456, 3636629.56612407, 3198968.15146147,\n",
       "       8134329.59114173, 4311288.30859322, 6202563.69919727,\n",
       "       3734478.74479662, 8410496.31083926, 7815463.04921409,\n",
       "       5501253.21584215, 5405001.73648049, 7832028.58526953,\n",
       "       6304659.88084108, 4207475.34879058, 3960307.50303113,\n",
       "       4934452.27421586, 7365945.01787466, 5715585.57582851,\n",
       "       4879219.60582168, 3194362.08640433, 5507490.90752291,\n",
       "       4242305.35347878, 3334228.90992765, 3569882.25042213,\n",
       "       6547098.47898057, 3384847.53821996, 4331461.69987733,\n",
       "       6548916.97584302, 6034546.51562567, 5887911.09649487,\n",
       "       5218775.27467467, 5879793.9426416 , 6170249.41340808,\n",
       "       4493362.96973862, 7862307.83454203, 3463249.97147857,\n",
       "       7731292.47822321, 4135001.46653522, 3368707.90955032,\n",
       "       4507789.2458013 , 3237341.49450184, 3489544.32561245,\n",
       "       3663080.4252779 , 5088167.08521822, 6519278.83623905,\n",
       "       4626469.81174   , 6502763.80650768, 4026843.95087208,\n",
       "       5281231.57008659, 3218003.39018149, 5026086.32324572,\n",
       "       4563250.84483112, 2589000.97042197, 3778023.23792645,\n",
       "       6549520.76244756, 5965071.81384646, 3616780.93410823,\n",
       "       4303770.63327263, 3361671.34501161, 3483063.21903798,\n",
       "       7034327.19845843, 4300904.27748145, 3454651.85740274,\n",
       "       6276282.36940702, 4153371.84396403, 4879124.3390918 ,\n",
       "       7052292.94072919, 3790776.18086632, 3463003.45548405,\n",
       "       5775338.61986397, 3695514.33632601])"
      ]
     },
     "execution_count": 16,
     "metadata": {},
     "output_type": "execute_result"
    }
   ],
   "source": [
    "# Название вектора предсказанных значений  y_predict полученого на основании тестового набора\n",
    "y_predict"
   ]
  },
  {
   "cell_type": "code",
   "execution_count": 17,
   "metadata": {},
   "outputs": [
    {
     "name": "stdout",
     "output_type": "stream",
     "text": [
      "(137,) (137,)\n",
      "Отрицательные цены -  0\n",
      "Max Error: 6,079,751\n",
      " \n",
      "----------------------\n",
      "   MAPE Error: 21.98\n",
      "----------------------\n"
     ]
    },
    {
     "data": {
      "image/png": "[encoded data removed]",
      "text/plain": [
       "<Figure size 1500x500 with 2 Axes>"
      ]
     },
     "metadata": {},
     "output_type": "display_data"
    }
   ],
   "source": [
    "from sklearn.metrics import mean_absolute_percentage_error\n",
    "import matplotlib.pyplot as plt\n",
    "import matplotlib.pyplot as plt\n",
    "\n",
    "y_true = pd.read_csv(\"test_Y_true_house_A.csv\").values.reshape(-1)\n",
    "print(y_predict.shape, y_true.shape)\n",
    "print('Отрицательные цены - ', sum(y_predict<0))\n",
    "\n",
    "def plot_2_error(y_true, y_predicted):\n",
    "    residuals = y_true - y_predicted\n",
    "    max_error = max(residuals) if abs(max(residuals)) > abs(min(residuals)) else min(residuals)\n",
    "    max_idx = list(residuals).index(max(residuals)) if abs(max(residuals)) > abs(min(residuals)) else list(residuals).index(min(residuals))\n",
    "    max_true, max_pred = y_true[max_idx], y_predicted[max_idx]\n",
    "    mape = mean_absolute_percentage_error(y_true, y_predict)\n",
    "    print(\"Max Error:\", \"{:,.0f}\".format(max_error))\n",
    "    print(' ')\n",
    "    print('----------------------')\n",
    "    print(\"   MAPE Error:\", \"{:,.2f}\".format(mape*100))\n",
    "    print('----------------------')\n",
    "\n",
    "    ## Plot predicted vs true\n",
    "    fig, ax = plt.subplots(nrows=1, ncols=2, figsize=(15,5))\n",
    "    from statsmodels.graphics.api import abline_plot\n",
    "    ax[0].scatter(y_predicted, y_true, color=\"black\")\n",
    "    abline_plot(intercept=0, slope=1, color=\"red\", ax=ax[0])\n",
    "    ax[0].vlines(x=max_pred, ymin=max_true, ymax=max_true-max_error, color='red', linestyle='--', alpha=0.7, label=\"max error\")\n",
    "    ax[0].grid(True)\n",
    "    ax[0].set(xlabel=\"Predicted\", ylabel=\"True\", title=\"Predicted vs True\")\n",
    "    ax[0].legend()\n",
    "\n",
    "    ## Plot predicted vs residuals\n",
    "    ax[1].scatter(y_predicted, residuals, color=\"red\")\n",
    "    ax[1].vlines(x=max_pred, ymin=0, ymax=max_error, color='black', linestyle='--', alpha=0.7, label=\"max error\")\n",
    "    ax[1].grid(True)\n",
    "    ax[1].set(xlabel=\"Predicted\", ylabel=\"Residuals\", title=\"Predicted vs Residuals\")\n",
    "    ax[1].hlines(y=0, xmin=np.min(y_predicted), xmax=np.max(y_predicted))\n",
    "    ax[1].legend()\n",
    "    plt.show()\n",
    "\n",
    "plot_2_error(y_true, y_predict)"
   ]
  },
  {
   "cell_type": "code",
   "execution_count": 19,
   "metadata": {},
   "outputs": [
    {
     "data": {
      "text/html": [
       "<style type=\"text/css\">\n",
       "#T_e7735_row1_col0, #T_e7735_row1_col1, #T_e7735_row2_col0, #T_e7735_row2_col1, #T_e7735_row3_col0, #T_e7735_row3_col1, #T_e7735_row4_col0, #T_e7735_row4_col1, #T_e7735_row5_col0, #T_e7735_row5_col1, #T_e7735_row7_col0, #T_e7735_row7_col1, #T_e7735_row12_col0, #T_e7735_row12_col1, #T_e7735_row14_col0, #T_e7735_row14_col1, #T_e7735_row15_col0, #T_e7735_row15_col1, #T_e7735_row16_col0, #T_e7735_row16_col1, #T_e7735_row17_col0, #T_e7735_row17_col1, #T_e7735_row19_col0, #T_e7735_row19_col1, #T_e7735_row21_col0, #T_e7735_row21_col1, #T_e7735_row22_col0, #T_e7735_row22_col1, #T_e7735_row23_col0, #T_e7735_row23_col1, #T_e7735_row24_col0, #T_e7735_row24_col1, #T_e7735_row25_col0, #T_e7735_row25_col1, #T_e7735_row26_col0, #T_e7735_row26_col1, #T_e7735_row27_col0, #T_e7735_row27_col1, #T_e7735_row28_col0, #T_e7735_row28_col1 {\n",
       "  background-color: yellow;\n",
       "}\n",
       "</style>\n",
       "<table id=\"T_e7735\">\n",
       "  <thead>\n",
       "    <tr>\n",
       "      <th class=\"blank level0\" >&nbsp;</th>\n",
       "      <th id=\"T_e7735_level0_col0\" class=\"col_heading level0 col0\" >index</th>\n",
       "      <th id=\"T_e7735_level0_col1\" class=\"col_heading level0 col1\" >0</th>\n",
       "    </tr>\n",
       "  </thead>\n",
       "  <tbody>\n",
       "    <tr>\n",
       "      <th id=\"T_e7735_level0_row0\" class=\"row_heading level0 row0\" >0</th>\n",
       "      <td id=\"T_e7735_row0_col0\" class=\"data row0 col0\" >1</td>\n",
       "      <td id=\"T_e7735_row0_col1\" class=\"data row0 col1\" >1</td>\n",
       "    </tr>\n",
       "    <tr>\n",
       "      <th id=\"T_e7735_level0_row1\" class=\"row_heading level0 row1\" >1</th>\n",
       "      <td id=\"T_e7735_row1_col0\" class=\"data row1 col0\" >16</td>\n",
       "      <td id=\"T_e7735_row1_col1\" class=\"data row1 col1\" >airconditioning</td>\n",
       "    </tr>\n",
       "    <tr>\n",
       "      <th id=\"T_e7735_level0_row2\" class=\"row_heading level0 row2\" >2</th>\n",
       "      <td id=\"T_e7735_row2_col0\" class=\"data row2 col0\" >6</td>\n",
       "      <td id=\"T_e7735_row2_col1\" class=\"data row2 col1\" >area</td>\n",
       "    </tr>\n",
       "    <tr>\n",
       "      <th id=\"T_e7735_level0_row3\" class=\"row_heading level0 row3\" >3</th>\n",
       "      <td id=\"T_e7735_row3_col0\" class=\"data row3 col0\" >4</td>\n",
       "      <td id=\"T_e7735_row3_col1\" class=\"data row3 col1\" >area bathrooms</td>\n",
       "    </tr>\n",
       "    <tr>\n",
       "      <th id=\"T_e7735_level0_row4\" class=\"row_heading level0 row4\" >4</th>\n",
       "      <td id=\"T_e7735_row4_col0\" class=\"data row4 col0\" >25</td>\n",
       "      <td id=\"T_e7735_row4_col1\" class=\"data row4 col1\" >area bedrooms</td>\n",
       "    </tr>\n",
       "    <tr>\n",
       "      <th id=\"T_e7735_level0_row5\" class=\"row_heading level0 row5\" >5</th>\n",
       "      <td id=\"T_e7735_row5_col0\" class=\"data row5 col0\" >10</td>\n",
       "      <td id=\"T_e7735_row5_col1\" class=\"data row5 col1\" >area stories</td>\n",
       "    </tr>\n",
       "    <tr>\n",
       "      <th id=\"T_e7735_level0_row6\" class=\"row_heading level0 row6\" >6</th>\n",
       "      <td id=\"T_e7735_row6_col0\" class=\"data row6 col0\" >5</td>\n",
       "      <td id=\"T_e7735_row6_col1\" class=\"data row6 col1\" >basement</td>\n",
       "    </tr>\n",
       "    <tr>\n",
       "      <th id=\"T_e7735_level0_row7\" class=\"row_heading level0 row7\" >7</th>\n",
       "      <td id=\"T_e7735_row7_col0\" class=\"data row7 col0\" >7</td>\n",
       "      <td id=\"T_e7735_row7_col1\" class=\"data row7 col1\" >bathrooms</td>\n",
       "    </tr>\n",
       "    <tr>\n",
       "      <th id=\"T_e7735_level0_row8\" class=\"row_heading level0 row8\" >8</th>\n",
       "      <td id=\"T_e7735_row8_col0\" class=\"data row8 col0\" >28</td>\n",
       "      <td id=\"T_e7735_row8_col1\" class=\"data row8 col1\" >bathrooms stories</td>\n",
       "    </tr>\n",
       "    <tr>\n",
       "      <th id=\"T_e7735_level0_row9\" class=\"row_heading level0 row9\" >9</th>\n",
       "      <td id=\"T_e7735_row9_col0\" class=\"data row9 col0\" >21</td>\n",
       "      <td id=\"T_e7735_row9_col1\" class=\"data row9 col1\" >bedrooms</td>\n",
       "    </tr>\n",
       "    <tr>\n",
       "      <th id=\"T_e7735_level0_row10\" class=\"row_heading level0 row10\" >10</th>\n",
       "      <td id=\"T_e7735_row10_col0\" class=\"data row10 col0\" >20</td>\n",
       "      <td id=\"T_e7735_row10_col1\" class=\"data row10 col1\" >bedrooms bathrooms</td>\n",
       "    </tr>\n",
       "    <tr>\n",
       "      <th id=\"T_e7735_level0_row11\" class=\"row_heading level0 row11\" >11</th>\n",
       "      <td id=\"T_e7735_row11_col0\" class=\"data row11 col0\" >8</td>\n",
       "      <td id=\"T_e7735_row11_col1\" class=\"data row11 col1\" >bedrooms stories</td>\n",
       "    </tr>\n",
       "    <tr>\n",
       "      <th id=\"T_e7735_level0_row12\" class=\"row_heading level0 row12\" >12</th>\n",
       "      <td id=\"T_e7735_row12_col0\" class=\"data row12 col0\" >22</td>\n",
       "      <td id=\"T_e7735_row12_col1\" class=\"data row12 col1\" >furnishingstatus</td>\n",
       "    </tr>\n",
       "    <tr>\n",
       "      <th id=\"T_e7735_level0_row13\" class=\"row_heading level0 row13\" >13</th>\n",
       "      <td id=\"T_e7735_row13_col0\" class=\"data row13 col0\" >9</td>\n",
       "      <td id=\"T_e7735_row13_col1\" class=\"data row13 col1\" >guestroom</td>\n",
       "    </tr>\n",
       "    <tr>\n",
       "      <th id=\"T_e7735_level0_row14\" class=\"row_heading level0 row14\" >14</th>\n",
       "      <td id=\"T_e7735_row14_col0\" class=\"data row14 col0\" >23</td>\n",
       "      <td id=\"T_e7735_row14_col1\" class=\"data row14 col1\" >hotwaterheating</td>\n",
       "    </tr>\n",
       "    <tr>\n",
       "      <th id=\"T_e7735_level0_row15\" class=\"row_heading level0 row15\" >15</th>\n",
       "      <td id=\"T_e7735_row15_col0\" class=\"data row15 col0\" >18</td>\n",
       "      <td id=\"T_e7735_row15_col1\" class=\"data row15 col1\" >log_rnd_1</td>\n",
       "    </tr>\n",
       "    <tr>\n",
       "      <th id=\"T_e7735_level0_row16\" class=\"row_heading level0 row16\" >16</th>\n",
       "      <td id=\"T_e7735_row16_col0\" class=\"data row16 col0\" >2</td>\n",
       "      <td id=\"T_e7735_row16_col1\" class=\"data row16 col1\" >log_rnd_2</td>\n",
       "    </tr>\n",
       "    <tr>\n",
       "      <th id=\"T_e7735_level0_row17\" class=\"row_heading level0 row17\" >17</th>\n",
       "      <td id=\"T_e7735_row17_col0\" class=\"data row17 col0\" >14</td>\n",
       "      <td id=\"T_e7735_row17_col1\" class=\"data row17 col1\" >log_rnd_3</td>\n",
       "    </tr>\n",
       "    <tr>\n",
       "      <th id=\"T_e7735_level0_row18\" class=\"row_heading level0 row18\" >18</th>\n",
       "      <td id=\"T_e7735_row18_col0\" class=\"data row18 col0\" >0</td>\n",
       "      <td id=\"T_e7735_row18_col1\" class=\"data row18 col1\" >mainroad</td>\n",
       "    </tr>\n",
       "    <tr>\n",
       "      <th id=\"T_e7735_level0_row19\" class=\"row_heading level0 row19\" >19</th>\n",
       "      <td id=\"T_e7735_row19_col0\" class=\"data row19 col0\" >13</td>\n",
       "      <td id=\"T_e7735_row19_col1\" class=\"data row19 col1\" >parking</td>\n",
       "    </tr>\n",
       "    <tr>\n",
       "      <th id=\"T_e7735_level0_row20\" class=\"row_heading level0 row20\" >20</th>\n",
       "      <td id=\"T_e7735_row20_col0\" class=\"data row20 col0\" >24</td>\n",
       "      <td id=\"T_e7735_row20_col1\" class=\"data row20 col1\" >prefarea</td>\n",
       "    </tr>\n",
       "    <tr>\n",
       "      <th id=\"T_e7735_level0_row21\" class=\"row_heading level0 row21\" >21</th>\n",
       "      <td id=\"T_e7735_row21_col0\" class=\"data row21 col0\" >27</td>\n",
       "      <td id=\"T_e7735_row21_col1\" class=\"data row21 col1\" >rnd_1</td>\n",
       "    </tr>\n",
       "    <tr>\n",
       "      <th id=\"T_e7735_level0_row22\" class=\"row_heading level0 row22\" >22</th>\n",
       "      <td id=\"T_e7735_row22_col0\" class=\"data row22 col0\" >3</td>\n",
       "      <td id=\"T_e7735_row22_col1\" class=\"data row22 col1\" >rnd_2</td>\n",
       "    </tr>\n",
       "    <tr>\n",
       "      <th id=\"T_e7735_level0_row23\" class=\"row_heading level0 row23\" >23</th>\n",
       "      <td id=\"T_e7735_row23_col0\" class=\"data row23 col0\" >19</td>\n",
       "      <td id=\"T_e7735_row23_col1\" class=\"data row23 col1\" >rnd_3</td>\n",
       "    </tr>\n",
       "    <tr>\n",
       "      <th id=\"T_e7735_level0_row24\" class=\"row_heading level0 row24\" >24</th>\n",
       "      <td id=\"T_e7735_row24_col0\" class=\"data row24 col0\" >11</td>\n",
       "      <td id=\"T_e7735_row24_col1\" class=\"data row24 col1\" >rnd_4</td>\n",
       "    </tr>\n",
       "    <tr>\n",
       "      <th id=\"T_e7735_level0_row25\" class=\"row_heading level0 row25\" >25</th>\n",
       "      <td id=\"T_e7735_row25_col0\" class=\"data row25 col0\" >15</td>\n",
       "      <td id=\"T_e7735_row25_col1\" class=\"data row25 col1\" >rnd_5</td>\n",
       "    </tr>\n",
       "    <tr>\n",
       "      <th id=\"T_e7735_level0_row26\" class=\"row_heading level0 row26\" >26</th>\n",
       "      <td id=\"T_e7735_row26_col0\" class=\"data row26 col0\" >26</td>\n",
       "      <td id=\"T_e7735_row26_col1\" class=\"data row26 col1\" >rnd_6</td>\n",
       "    </tr>\n",
       "    <tr>\n",
       "      <th id=\"T_e7735_level0_row27\" class=\"row_heading level0 row27\" >27</th>\n",
       "      <td id=\"T_e7735_row27_col0\" class=\"data row27 col0\" >17</td>\n",
       "      <td id=\"T_e7735_row27_col1\" class=\"data row27 col1\" >rnd_7</td>\n",
       "    </tr>\n",
       "    <tr>\n",
       "      <th id=\"T_e7735_level0_row28\" class=\"row_heading level0 row28\" >28</th>\n",
       "      <td id=\"T_e7735_row28_col0\" class=\"data row28 col0\" >12</td>\n",
       "      <td id=\"T_e7735_row28_col1\" class=\"data row28 col1\" >stories</td>\n",
       "    </tr>\n",
       "  </tbody>\n",
       "</table>\n"
      ],
      "text/plain": [
       "<pandas.io.formats.style.Styler at 0x7fb7438c5000>"
      ]
     },
     "execution_count": 19,
     "metadata": {},
     "output_type": "execute_result"
    }
   ],
   "source": [
    "mask = features_im\n",
    "\n",
    "import pickle\n",
    "with open('saved_dictionary_a.pkl', 'rb') as f:\n",
    "    loaded_dict = pickle.load(f)\n",
    "\n",
    "color_dict = pd.Series(loaded_dict).to_frame().reset_index().sort_values(by=0).reset_index(drop=True)\n",
    "color = (color_dict['index'].isin(mask)).map({True: 'background-color: yellow', False: ''})\n",
    "color_dict.style.apply(lambda s: color)"
   ]
  },
  {
   "cell_type": "code",
   "execution_count": null,
   "metadata": {},
   "outputs": [],
   "source": []
  }
 ],
 "metadata": {
  "kernelspec": {
   "display_name": "Python 3 (ipykernel)",
   "language": "python",
   "name": "python3"
  },
  "language_info": {
   "codemirror_mode": {
    "name": "ipython",
    "version": 3
   },
   "file_extension": ".py",
   "mimetype": "text/x-python",
   "name": "python",
   "nbconvert_exporter": "python",
   "pygments_lexer": "ipython3",
   "version": "3.10.13"
  }
 },
 "nbformat": 4,
 "nbformat_minor": 2
}
