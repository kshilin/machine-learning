{
 "cells": [
  {
   "cell_type": "code",
   "execution_count": 1,
   "metadata": {},
   "outputs": [],
   "source": [
    "# Внимание!!! Важно, что бы файлы с данными и исполняемый файл находились в одной папке, \n",
    "# тогда пути к тестовым и тренировочным наборам будут содержать только имена файлов.\n",
    "# \n",
    "# В пути к тренировочным и тестовым данным запрежается использовать абсалютную адресацию, \n",
    "# то есть адресацию, в которой присутствуют имена папок. Путь должен содержать только имя файла.\n",
    "#\n",
    "# Напоминание: под моделью машинного обучения понимаются все действия с исходными данными, \n",
    "# которые необходимо произвести, что бы сопоставить признаки целевому значению."
   ]
  },
  {
   "cell_type": "markdown",
   "metadata": {},
   "source": [
    "### Область работы 1 (библиотеки)"
   ]
  },
  {
   "cell_type": "code",
   "execution_count": 2,
   "metadata": {},
   "outputs": [],
   "source": [
    "# Данный блок в области 1 выполняется преподавателем\n",
    "# \n",
    "# данный блок предназначен только для подключения необходимых библиотек\n",
    "# запрещается подключать библиотеки в других блоках\n",
    "# запрещается скрывать предупреждения системы\n",
    "# установка дополнительных библиотек размещается прямо здесь (обязательно закоментированы)\n",
    "# pip install"
   ]
  },
  {
   "cell_type": "code",
   "execution_count": 3,
   "metadata": {},
   "outputs": [],
   "source": [
    "import numpy as np\n",
    "import pandas as pd\n",
    "import matplotlib.pyplot as plt\n",
    "import seaborn as sns\n",
    "import time\n",
    "\n",
    "from IPython.display import display\n",
    "\n",
    "from sklearn.preprocessing import MinMaxScaler, PolynomialFeatures, StandardScaler, OneHotEncoder, RobustScaler\n",
    "from sklearn.preprocessing import LabelEncoder, QuantileTransformer, FunctionTransformer\n",
    "from sklearn.model_selection import train_test_split, cross_validate, KFold, GridSearchCV, StratifiedShuffleSplit\n",
    "from sklearn.neighbors import KNeighborsRegressor \n",
    "\n",
    "from sklearn.linear_model import ElasticNet, Ridge, Lasso, Lars, LinearRegression\n",
    "from sklearn.compose import ColumnTransformer, make_column_transformer, TransformedTargetRegressor\n",
    "from sklearn.pipeline import Pipeline, make_pipeline\n",
    "\n",
    "from sklearn.ensemble import RandomForestRegressor, GradientBoostingRegressor, VotingRegressor\n",
    "\n",
    "# pip install category-encoders\n",
    "\n",
    "import category_encoders as ce\n",
    "\n",
    "from sklearn.experimental import enable_iterative_imputer\n",
    "from sklearn.impute import SimpleImputer, IterativeImputer, KNNImputer\n",
    "\n",
    "from sklearn.metrics import classification_report, mean_absolute_percentage_error\n",
    "\n",
    "from sklearn.cluster import DBSCAN\n",
    "\n",
    "from sklearn.svm import SVR\n",
    "\n",
    "from sklearn.inspection import permutation_importance"
   ]
  },
  {
   "cell_type": "markdown",
   "metadata": {},
   "source": [
    "### Область работы 2 (выполнение лучшей модели)"
   ]
  },
  {
   "cell_type": "code",
   "execution_count": 4,
   "metadata": {},
   "outputs": [],
   "source": [
    "# Данный блок(и) в области 2 выполняется преподавателем\n",
    "#\n",
    "# В области находится одна, единственная, итоговая модель машинного обучения с однозначными, \n",
    "# зафиксированными параметрами\n",
    "#\n",
    "# В данной области категорически запрещается искать, выбирать, улучшать, оптимизировать, \n",
    "# тюниговать и т.д. модель машинного обучения"
   ]
  },
  {
   "cell_type": "code",
   "execution_count": 5,
   "metadata": {},
   "outputs": [],
   "source": [
    "# Путь к тренировочному набору\n",
    "path_train = 'train_house_B.csv' # содержит только имя файла, без имен папок\n",
    "# Путь к тестовому набору\n",
    "path_test  = 'test_house_B.csv' # содержит только имя файла, без имен папок"
   ]
  },
  {
   "cell_type": "code",
   "execution_count": 6,
   "metadata": {},
   "outputs": [],
   "source": [
    "# Блок(и) обучения и поверки модели"
   ]
  },
  {
   "cell_type": "code",
   "execution_count": 7,
   "metadata": {},
   "outputs": [],
   "source": [
    "train = pd.read_csv(path_train)\n",
    "test = pd.read_csv(path_test)"
   ]
  },
  {
   "cell_type": "code",
   "execution_count": 8,
   "metadata": {},
   "outputs": [],
   "source": [
    "y = np.array(train.price)\n",
    "X = train.drop(columns=['price'])"
   ]
  },
  {
   "cell_type": "code",
   "execution_count": 9,
   "metadata": {},
   "outputs": [
    {
     "data": {
      "text/html": [
       "<style>#sk-container-id-1 {color: black;}#sk-container-id-1 pre{padding: 0;}#sk-container-id-1 div.sk-toggleable {background-color: white;}#sk-container-id-1 label.sk-toggleable__label {cursor: pointer;display: block;width: 100%;margin-bottom: 0;padding: 0.3em;box-sizing: border-box;text-align: center;}#sk-container-id-1 label.sk-toggleable__label-arrow:before {content: \"▸\";float: left;margin-right: 0.25em;color: #696969;}#sk-container-id-1 label.sk-toggleable__label-arrow:hover:before {color: black;}#sk-container-id-1 div.sk-estimator:hover label.sk-toggleable__label-arrow:before {color: black;}#sk-container-id-1 div.sk-toggleable__content {max-height: 0;max-width: 0;overflow: hidden;text-align: left;background-color: #f0f8ff;}#sk-container-id-1 div.sk-toggleable__content pre {margin: 0.2em;color: black;border-radius: 0.25em;background-color: #f0f8ff;}#sk-container-id-1 input.sk-toggleable__control:checked~div.sk-toggleable__content {max-height: 200px;max-width: 100%;overflow: auto;}#sk-container-id-1 input.sk-toggleable__control:checked~label.sk-toggleable__label-arrow:before {content: \"▾\";}#sk-container-id-1 div.sk-estimator input.sk-toggleable__control:checked~label.sk-toggleable__label {background-color: #d4ebff;}#sk-container-id-1 div.sk-label input.sk-toggleable__control:checked~label.sk-toggleable__label {background-color: #d4ebff;}#sk-container-id-1 input.sk-hidden--visually {border: 0;clip: rect(1px 1px 1px 1px);clip: rect(1px, 1px, 1px, 1px);height: 1px;margin: -1px;overflow: hidden;padding: 0;position: absolute;width: 1px;}#sk-container-id-1 div.sk-estimator {font-family: monospace;background-color: #f0f8ff;border: 1px dotted black;border-radius: 0.25em;box-sizing: border-box;margin-bottom: 0.5em;}#sk-container-id-1 div.sk-estimator:hover {background-color: #d4ebff;}#sk-container-id-1 div.sk-parallel-item::after {content: \"\";width: 100%;border-bottom: 1px solid gray;flex-grow: 1;}#sk-container-id-1 div.sk-label:hover label.sk-toggleable__label {background-color: #d4ebff;}#sk-container-id-1 div.sk-serial::before {content: \"\";position: absolute;border-left: 1px solid gray;box-sizing: border-box;top: 0;bottom: 0;left: 50%;z-index: 0;}#sk-container-id-1 div.sk-serial {display: flex;flex-direction: column;align-items: center;background-color: white;padding-right: 0.2em;padding-left: 0.2em;position: relative;}#sk-container-id-1 div.sk-item {position: relative;z-index: 1;}#sk-container-id-1 div.sk-parallel {display: flex;align-items: stretch;justify-content: center;background-color: white;position: relative;}#sk-container-id-1 div.sk-item::before, #sk-container-id-1 div.sk-parallel-item::before {content: \"\";position: absolute;border-left: 1px solid gray;box-sizing: border-box;top: 0;bottom: 0;left: 50%;z-index: -1;}#sk-container-id-1 div.sk-parallel-item {display: flex;flex-direction: column;z-index: 1;position: relative;background-color: white;}#sk-container-id-1 div.sk-parallel-item:first-child::after {align-self: flex-end;width: 50%;}#sk-container-id-1 div.sk-parallel-item:last-child::after {align-self: flex-start;width: 50%;}#sk-container-id-1 div.sk-parallel-item:only-child::after {width: 0;}#sk-container-id-1 div.sk-dashed-wrapped {border: 1px dashed gray;margin: 0 0.4em 0.5em 0.4em;box-sizing: border-box;padding-bottom: 0.4em;background-color: white;}#sk-container-id-1 div.sk-label label {font-family: monospace;font-weight: bold;display: inline-block;line-height: 1.2em;}#sk-container-id-1 div.sk-label-container {text-align: center;}#sk-container-id-1 div.sk-container {/* jupyter's `normalize.less` sets `[hidden] { display: none; }` but bootstrap.min.css set `[hidden] { display: none !important; }` so we also need the `!important` here to be able to override the default hidden behavior on the sphinx rendered scikit-learn.org. See: https://github.com/scikit-learn/scikit-learn/issues/21755 */display: inline-block !important;position: relative;}#sk-container-id-1 div.sk-text-repr-fallback {display: none;}</style><div id=\"sk-container-id-1\" class=\"sk-top-container\"><div class=\"sk-text-repr-fallback\"><pre>ElasticNet(alpha=1, l1_ratio=0.7)</pre><b>In a Jupyter environment, please rerun this cell to show the HTML representation or trust the notebook. <br />On GitHub, the HTML representation is unable to render, please try loading this page with nbviewer.org.</b></div><div class=\"sk-container\" hidden><div class=\"sk-item\"><div class=\"sk-estimator sk-toggleable\"><input class=\"sk-toggleable__control sk-hidden--visually\" id=\"sk-estimator-id-1\" type=\"checkbox\" checked><label for=\"sk-estimator-id-1\" class=\"sk-toggleable__label sk-toggleable__label-arrow\">ElasticNet</label><div class=\"sk-toggleable__content\"><pre>ElasticNet(alpha=1, l1_ratio=0.7)</pre></div></div></div></div></div>"
      ],
      "text/plain": [
       "ElasticNet(alpha=1, l1_ratio=0.7)"
      ]
     },
     "execution_count": 9,
     "metadata": {},
     "output_type": "execute_result"
    }
   ],
   "source": [
    "en = ElasticNet(alpha = 1, l1_ratio = 0.7)\n",
    "en.fit(X, y)"
   ]
  },
  {
   "cell_type": "code",
   "execution_count": 10,
   "metadata": {},
   "outputs": [
    {
     "data": {
      "text/plain": [
       "Index(['0', '2', '12', '15', '20', '22', '24', '25', '27'], dtype='object')"
      ]
     },
     "execution_count": 10,
     "metadata": {},
     "output_type": "execute_result"
    }
   ],
   "source": [
    "threshold = 0.02\n",
    "result = permutation_importance(en, X, y, n_repeats=10, random_state=42)\n",
    "feature_importances = result.importances_mean\n",
    "selected_features = X.columns[feature_importances > threshold]\n",
    "selected_features"
   ]
  },
  {
   "cell_type": "code",
   "execution_count": 11,
   "metadata": {},
   "outputs": [],
   "source": [
    "def features_selection_en(data):\n",
    "    selected_features = data.columns[result.importances_mean > threshold]\n",
    "    df_filtered = data.loc[:, selected_features]\n",
    "    return df_filtered\n",
    "\n",
    "features_transformer_en = FunctionTransformer(features_selection_en, validate=False)\n",
    "\n",
    "features_selection_transformer = Pipeline(steps = [\n",
    "    ('features_selection_transformer', features_transformer_en),\n",
    "    ('scaler', StandardScaler())\n",
    "    ])"
   ]
  },
  {
   "cell_type": "code",
   "execution_count": 12,
   "metadata": {},
   "outputs": [],
   "source": [
    "col = X.columns"
   ]
  },
  {
   "cell_type": "code",
   "execution_count": 13,
   "metadata": {},
   "outputs": [
    {
     "data": {
      "text/html": [
       "<style>#sk-container-id-2 {color: black;}#sk-container-id-2 pre{padding: 0;}#sk-container-id-2 div.sk-toggleable {background-color: white;}#sk-container-id-2 label.sk-toggleable__label {cursor: pointer;display: block;width: 100%;margin-bottom: 0;padding: 0.3em;box-sizing: border-box;text-align: center;}#sk-container-id-2 label.sk-toggleable__label-arrow:before {content: \"▸\";float: left;margin-right: 0.25em;color: #696969;}#sk-container-id-2 label.sk-toggleable__label-arrow:hover:before {color: black;}#sk-container-id-2 div.sk-estimator:hover label.sk-toggleable__label-arrow:before {color: black;}#sk-container-id-2 div.sk-toggleable__content {max-height: 0;max-width: 0;overflow: hidden;text-align: left;background-color: #f0f8ff;}#sk-container-id-2 div.sk-toggleable__content pre {margin: 0.2em;color: black;border-radius: 0.25em;background-color: #f0f8ff;}#sk-container-id-2 input.sk-toggleable__control:checked~div.sk-toggleable__content {max-height: 200px;max-width: 100%;overflow: auto;}#sk-container-id-2 input.sk-toggleable__control:checked~label.sk-toggleable__label-arrow:before {content: \"▾\";}#sk-container-id-2 div.sk-estimator input.sk-toggleable__control:checked~label.sk-toggleable__label {background-color: #d4ebff;}#sk-container-id-2 div.sk-label input.sk-toggleable__control:checked~label.sk-toggleable__label {background-color: #d4ebff;}#sk-container-id-2 input.sk-hidden--visually {border: 0;clip: rect(1px 1px 1px 1px);clip: rect(1px, 1px, 1px, 1px);height: 1px;margin: -1px;overflow: hidden;padding: 0;position: absolute;width: 1px;}#sk-container-id-2 div.sk-estimator {font-family: monospace;background-color: #f0f8ff;border: 1px dotted black;border-radius: 0.25em;box-sizing: border-box;margin-bottom: 0.5em;}#sk-container-id-2 div.sk-estimator:hover {background-color: #d4ebff;}#sk-container-id-2 div.sk-parallel-item::after {content: \"\";width: 100%;border-bottom: 1px solid gray;flex-grow: 1;}#sk-container-id-2 div.sk-label:hover label.sk-toggleable__label {background-color: #d4ebff;}#sk-container-id-2 div.sk-serial::before {content: \"\";position: absolute;border-left: 1px solid gray;box-sizing: border-box;top: 0;bottom: 0;left: 50%;z-index: 0;}#sk-container-id-2 div.sk-serial {display: flex;flex-direction: column;align-items: center;background-color: white;padding-right: 0.2em;padding-left: 0.2em;position: relative;}#sk-container-id-2 div.sk-item {position: relative;z-index: 1;}#sk-container-id-2 div.sk-parallel {display: flex;align-items: stretch;justify-content: center;background-color: white;position: relative;}#sk-container-id-2 div.sk-item::before, #sk-container-id-2 div.sk-parallel-item::before {content: \"\";position: absolute;border-left: 1px solid gray;box-sizing: border-box;top: 0;bottom: 0;left: 50%;z-index: -1;}#sk-container-id-2 div.sk-parallel-item {display: flex;flex-direction: column;z-index: 1;position: relative;background-color: white;}#sk-container-id-2 div.sk-parallel-item:first-child::after {align-self: flex-end;width: 50%;}#sk-container-id-2 div.sk-parallel-item:last-child::after {align-self: flex-start;width: 50%;}#sk-container-id-2 div.sk-parallel-item:only-child::after {width: 0;}#sk-container-id-2 div.sk-dashed-wrapped {border: 1px dashed gray;margin: 0 0.4em 0.5em 0.4em;box-sizing: border-box;padding-bottom: 0.4em;background-color: white;}#sk-container-id-2 div.sk-label label {font-family: monospace;font-weight: bold;display: inline-block;line-height: 1.2em;}#sk-container-id-2 div.sk-label-container {text-align: center;}#sk-container-id-2 div.sk-container {/* jupyter's `normalize.less` sets `[hidden] { display: none; }` but bootstrap.min.css set `[hidden] { display: none !important; }` so we also need the `!important` here to be able to override the default hidden behavior on the sphinx rendered scikit-learn.org. See: https://github.com/scikit-learn/scikit-learn/issues/21755 */display: inline-block !important;position: relative;}#sk-container-id-2 div.sk-text-repr-fallback {display: none;}</style><div id=\"sk-container-id-2\" class=\"sk-top-container\"><div class=\"sk-text-repr-fallback\"><pre>ColumnTransformer(transformers=[(&#x27;features_selection_transformer&#x27;,\n",
       "                                 Pipeline(steps=[(&#x27;features_selection_transformer&#x27;,\n",
       "                                                  FunctionTransformer(func=&lt;function features_selection_en at 0x7ff65e71b2e0&gt;)),\n",
       "                                                 (&#x27;scaler&#x27;, StandardScaler())]),\n",
       "                                 Index([&#x27;0&#x27;, &#x27;1&#x27;, &#x27;2&#x27;, &#x27;3&#x27;, &#x27;4&#x27;, &#x27;5&#x27;, &#x27;6&#x27;, &#x27;7&#x27;, &#x27;8&#x27;, &#x27;9&#x27;, &#x27;10&#x27;, &#x27;11&#x27;, &#x27;12&#x27;,\n",
       "       &#x27;13&#x27;, &#x27;14&#x27;, &#x27;15&#x27;, &#x27;16&#x27;, &#x27;17&#x27;, &#x27;18&#x27;, &#x27;19&#x27;, &#x27;20&#x27;, &#x27;21&#x27;, &#x27;22&#x27;, &#x27;23&#x27;, &#x27;24&#x27;,\n",
       "       &#x27;25&#x27;, &#x27;26&#x27;, &#x27;27&#x27;, &#x27;28&#x27;],\n",
       "      dtype=&#x27;object&#x27;))])</pre><b>In a Jupyter environment, please rerun this cell to show the HTML representation or trust the notebook. <br />On GitHub, the HTML representation is unable to render, please try loading this page with nbviewer.org.</b></div><div class=\"sk-container\" hidden><div class=\"sk-item sk-dashed-wrapped\"><div class=\"sk-label-container\"><div class=\"sk-label sk-toggleable\"><input class=\"sk-toggleable__control sk-hidden--visually\" id=\"sk-estimator-id-2\" type=\"checkbox\" ><label for=\"sk-estimator-id-2\" class=\"sk-toggleable__label sk-toggleable__label-arrow\">ColumnTransformer</label><div class=\"sk-toggleable__content\"><pre>ColumnTransformer(transformers=[(&#x27;features_selection_transformer&#x27;,\n",
       "                                 Pipeline(steps=[(&#x27;features_selection_transformer&#x27;,\n",
       "                                                  FunctionTransformer(func=&lt;function features_selection_en at 0x7ff65e71b2e0&gt;)),\n",
       "                                                 (&#x27;scaler&#x27;, StandardScaler())]),\n",
       "                                 Index([&#x27;0&#x27;, &#x27;1&#x27;, &#x27;2&#x27;, &#x27;3&#x27;, &#x27;4&#x27;, &#x27;5&#x27;, &#x27;6&#x27;, &#x27;7&#x27;, &#x27;8&#x27;, &#x27;9&#x27;, &#x27;10&#x27;, &#x27;11&#x27;, &#x27;12&#x27;,\n",
       "       &#x27;13&#x27;, &#x27;14&#x27;, &#x27;15&#x27;, &#x27;16&#x27;, &#x27;17&#x27;, &#x27;18&#x27;, &#x27;19&#x27;, &#x27;20&#x27;, &#x27;21&#x27;, &#x27;22&#x27;, &#x27;23&#x27;, &#x27;24&#x27;,\n",
       "       &#x27;25&#x27;, &#x27;26&#x27;, &#x27;27&#x27;, &#x27;28&#x27;],\n",
       "      dtype=&#x27;object&#x27;))])</pre></div></div></div><div class=\"sk-parallel\"><div class=\"sk-parallel-item\"><div class=\"sk-item\"><div class=\"sk-label-container\"><div class=\"sk-label sk-toggleable\"><input class=\"sk-toggleable__control sk-hidden--visually\" id=\"sk-estimator-id-3\" type=\"checkbox\" ><label for=\"sk-estimator-id-3\" class=\"sk-toggleable__label sk-toggleable__label-arrow\">features_selection_transformer</label><div class=\"sk-toggleable__content\"><pre>Index([&#x27;0&#x27;, &#x27;1&#x27;, &#x27;2&#x27;, &#x27;3&#x27;, &#x27;4&#x27;, &#x27;5&#x27;, &#x27;6&#x27;, &#x27;7&#x27;, &#x27;8&#x27;, &#x27;9&#x27;, &#x27;10&#x27;, &#x27;11&#x27;, &#x27;12&#x27;,\n",
       "       &#x27;13&#x27;, &#x27;14&#x27;, &#x27;15&#x27;, &#x27;16&#x27;, &#x27;17&#x27;, &#x27;18&#x27;, &#x27;19&#x27;, &#x27;20&#x27;, &#x27;21&#x27;, &#x27;22&#x27;, &#x27;23&#x27;, &#x27;24&#x27;,\n",
       "       &#x27;25&#x27;, &#x27;26&#x27;, &#x27;27&#x27;, &#x27;28&#x27;],\n",
       "      dtype=&#x27;object&#x27;)</pre></div></div></div><div class=\"sk-serial\"><div class=\"sk-item\"><div class=\"sk-serial\"><div class=\"sk-item\"><div class=\"sk-estimator sk-toggleable\"><input class=\"sk-toggleable__control sk-hidden--visually\" id=\"sk-estimator-id-4\" type=\"checkbox\" ><label for=\"sk-estimator-id-4\" class=\"sk-toggleable__label sk-toggleable__label-arrow\">FunctionTransformer</label><div class=\"sk-toggleable__content\"><pre>FunctionTransformer(func=&lt;function features_selection_en at 0x7ff65e71b2e0&gt;)</pre></div></div></div><div class=\"sk-item\"><div class=\"sk-estimator sk-toggleable\"><input class=\"sk-toggleable__control sk-hidden--visually\" id=\"sk-estimator-id-5\" type=\"checkbox\" ><label for=\"sk-estimator-id-5\" class=\"sk-toggleable__label sk-toggleable__label-arrow\">StandardScaler</label><div class=\"sk-toggleable__content\"><pre>StandardScaler()</pre></div></div></div></div></div></div></div></div></div></div></div></div>"
      ],
      "text/plain": [
       "ColumnTransformer(transformers=[('features_selection_transformer',\n",
       "                                 Pipeline(steps=[('features_selection_transformer',\n",
       "                                                  FunctionTransformer(func=<function features_selection_en at 0x7ff65e71b2e0>)),\n",
       "                                                 ('scaler', StandardScaler())]),\n",
       "                                 Index(['0', '1', '2', '3', '4', '5', '6', '7', '8', '9', '10', '11', '12',\n",
       "       '13', '14', '15', '16', '17', '18', '19', '20', '21', '22', '23', '24',\n",
       "       '25', '26', '27', '28'],\n",
       "      dtype='object'))])"
      ]
     },
     "metadata": {},
     "output_type": "display_data"
    },
    {
     "name": "stderr",
     "output_type": "stream",
     "text": [
      "/Users/macbook2019/anaconda3/lib/python3.10/site-packages/sklearn/preprocessing/_function_transformer.py:345: UserWarning: With transform=\"pandas\", `func` should return a DataFrame to follow the set_output API.\n",
      "  warnings.warn(\n"
     ]
    },
    {
     "data": {
      "text/html": [
       "<div>\n",
       "<style scoped>\n",
       "    .dataframe tbody tr th:only-of-type {\n",
       "        vertical-align: middle;\n",
       "    }\n",
       "\n",
       "    .dataframe tbody tr th {\n",
       "        vertical-align: top;\n",
       "    }\n",
       "\n",
       "    .dataframe thead th {\n",
       "        text-align: right;\n",
       "    }\n",
       "</style>\n",
       "<table border=\"1\" class=\"dataframe\">\n",
       "  <thead>\n",
       "    <tr style=\"text-align: right;\">\n",
       "      <th></th>\n",
       "      <th>features_selection_transformer__0</th>\n",
       "      <th>features_selection_transformer__2</th>\n",
       "      <th>features_selection_transformer__12</th>\n",
       "      <th>features_selection_transformer__15</th>\n",
       "      <th>features_selection_transformer__20</th>\n",
       "      <th>features_selection_transformer__22</th>\n",
       "      <th>features_selection_transformer__24</th>\n",
       "      <th>features_selection_transformer__25</th>\n",
       "      <th>features_selection_transformer__27</th>\n",
       "    </tr>\n",
       "  </thead>\n",
       "  <tbody>\n",
       "    <tr>\n",
       "      <th>0</th>\n",
       "      <td>1.212375</td>\n",
       "      <td>-1.046070</td>\n",
       "      <td>-0.219844</td>\n",
       "      <td>-0.703211</td>\n",
       "      <td>-0.520604</td>\n",
       "      <td>-0.547798</td>\n",
       "      <td>-0.768230</td>\n",
       "      <td>-0.962697</td>\n",
       "      <td>-0.679975</td>\n",
       "    </tr>\n",
       "    <tr>\n",
       "      <th>1</th>\n",
       "      <td>-0.113762</td>\n",
       "      <td>-0.486372</td>\n",
       "      <td>-0.219844</td>\n",
       "      <td>1.422049</td>\n",
       "      <td>-0.520604</td>\n",
       "      <td>-0.547798</td>\n",
       "      <td>-0.768230</td>\n",
       "      <td>0.185784</td>\n",
       "      <td>1.470643</td>\n",
       "    </tr>\n",
       "    <tr>\n",
       "      <th>2</th>\n",
       "      <td>1.212375</td>\n",
       "      <td>0.359078</td>\n",
       "      <td>-0.219844</td>\n",
       "      <td>-0.703211</td>\n",
       "      <td>-0.520604</td>\n",
       "      <td>-0.547798</td>\n",
       "      <td>0.388367</td>\n",
       "      <td>-0.962697</td>\n",
       "      <td>1.470643</td>\n",
       "    </tr>\n",
       "    <tr>\n",
       "      <th>3</th>\n",
       "      <td>1.212375</td>\n",
       "      <td>-0.701277</td>\n",
       "      <td>-0.219844</td>\n",
       "      <td>1.422049</td>\n",
       "      <td>-0.520604</td>\n",
       "      <td>-0.547798</td>\n",
       "      <td>-0.768230</td>\n",
       "      <td>0.185784</td>\n",
       "      <td>-0.679975</td>\n",
       "    </tr>\n",
       "    <tr>\n",
       "      <th>4</th>\n",
       "      <td>-1.439899</td>\n",
       "      <td>-1.071575</td>\n",
       "      <td>-0.219844</td>\n",
       "      <td>-0.703211</td>\n",
       "      <td>1.920848</td>\n",
       "      <td>-0.547798</td>\n",
       "      <td>-0.768230</td>\n",
       "      <td>1.334264</td>\n",
       "      <td>-0.679975</td>\n",
       "    </tr>\n",
       "  </tbody>\n",
       "</table>\n",
       "</div>"
      ],
      "text/plain": [
       "   features_selection_transformer__0  features_selection_transformer__2  \\\n",
       "0                           1.212375                          -1.046070   \n",
       "1                          -0.113762                          -0.486372   \n",
       "2                           1.212375                           0.359078   \n",
       "3                           1.212375                          -0.701277   \n",
       "4                          -1.439899                          -1.071575   \n",
       "\n",
       "   features_selection_transformer__12  features_selection_transformer__15  \\\n",
       "0                           -0.219844                           -0.703211   \n",
       "1                           -0.219844                            1.422049   \n",
       "2                           -0.219844                           -0.703211   \n",
       "3                           -0.219844                            1.422049   \n",
       "4                           -0.219844                           -0.703211   \n",
       "\n",
       "   features_selection_transformer__20  features_selection_transformer__22  \\\n",
       "0                           -0.520604                           -0.547798   \n",
       "1                           -0.520604                           -0.547798   \n",
       "2                           -0.520604                           -0.547798   \n",
       "3                           -0.520604                           -0.547798   \n",
       "4                            1.920848                           -0.547798   \n",
       "\n",
       "   features_selection_transformer__24  features_selection_transformer__25  \\\n",
       "0                           -0.768230                           -0.962697   \n",
       "1                           -0.768230                            0.185784   \n",
       "2                            0.388367                           -0.962697   \n",
       "3                           -0.768230                            0.185784   \n",
       "4                           -0.768230                            1.334264   \n",
       "\n",
       "   features_selection_transformer__27  \n",
       "0                           -0.679975  \n",
       "1                            1.470643  \n",
       "2                            1.470643  \n",
       "3                           -0.679975  \n",
       "4                           -0.679975  "
      ]
     },
     "execution_count": 13,
     "metadata": {},
     "output_type": "execute_result"
    }
   ],
   "source": [
    "CT = ColumnTransformer([\n",
    "        (\"features_selection_transformer\", features_selection_transformer, col),\n",
    "        ]\n",
    "    ,remainder='drop'\n",
    ")\n",
    "\n",
    "display(CT)\n",
    "CT.set_output(transform ='pandas')\n",
    "res_ct = pd.DataFrame(CT.fit_transform(X))\n",
    "res_ct.head()"
   ]
  },
  {
   "cell_type": "code",
   "execution_count": 14,
   "metadata": {},
   "outputs": [
    {
     "data": {
      "text/html": [
       "<style>#sk-container-id-3 {color: black;}#sk-container-id-3 pre{padding: 0;}#sk-container-id-3 div.sk-toggleable {background-color: white;}#sk-container-id-3 label.sk-toggleable__label {cursor: pointer;display: block;width: 100%;margin-bottom: 0;padding: 0.3em;box-sizing: border-box;text-align: center;}#sk-container-id-3 label.sk-toggleable__label-arrow:before {content: \"▸\";float: left;margin-right: 0.25em;color: #696969;}#sk-container-id-3 label.sk-toggleable__label-arrow:hover:before {color: black;}#sk-container-id-3 div.sk-estimator:hover label.sk-toggleable__label-arrow:before {color: black;}#sk-container-id-3 div.sk-toggleable__content {max-height: 0;max-width: 0;overflow: hidden;text-align: left;background-color: #f0f8ff;}#sk-container-id-3 div.sk-toggleable__content pre {margin: 0.2em;color: black;border-radius: 0.25em;background-color: #f0f8ff;}#sk-container-id-3 input.sk-toggleable__control:checked~div.sk-toggleable__content {max-height: 200px;max-width: 100%;overflow: auto;}#sk-container-id-3 input.sk-toggleable__control:checked~label.sk-toggleable__label-arrow:before {content: \"▾\";}#sk-container-id-3 div.sk-estimator input.sk-toggleable__control:checked~label.sk-toggleable__label {background-color: #d4ebff;}#sk-container-id-3 div.sk-label input.sk-toggleable__control:checked~label.sk-toggleable__label {background-color: #d4ebff;}#sk-container-id-3 input.sk-hidden--visually {border: 0;clip: rect(1px 1px 1px 1px);clip: rect(1px, 1px, 1px, 1px);height: 1px;margin: -1px;overflow: hidden;padding: 0;position: absolute;width: 1px;}#sk-container-id-3 div.sk-estimator {font-family: monospace;background-color: #f0f8ff;border: 1px dotted black;border-radius: 0.25em;box-sizing: border-box;margin-bottom: 0.5em;}#sk-container-id-3 div.sk-estimator:hover {background-color: #d4ebff;}#sk-container-id-3 div.sk-parallel-item::after {content: \"\";width: 100%;border-bottom: 1px solid gray;flex-grow: 1;}#sk-container-id-3 div.sk-label:hover label.sk-toggleable__label {background-color: #d4ebff;}#sk-container-id-3 div.sk-serial::before {content: \"\";position: absolute;border-left: 1px solid gray;box-sizing: border-box;top: 0;bottom: 0;left: 50%;z-index: 0;}#sk-container-id-3 div.sk-serial {display: flex;flex-direction: column;align-items: center;background-color: white;padding-right: 0.2em;padding-left: 0.2em;position: relative;}#sk-container-id-3 div.sk-item {position: relative;z-index: 1;}#sk-container-id-3 div.sk-parallel {display: flex;align-items: stretch;justify-content: center;background-color: white;position: relative;}#sk-container-id-3 div.sk-item::before, #sk-container-id-3 div.sk-parallel-item::before {content: \"\";position: absolute;border-left: 1px solid gray;box-sizing: border-box;top: 0;bottom: 0;left: 50%;z-index: -1;}#sk-container-id-3 div.sk-parallel-item {display: flex;flex-direction: column;z-index: 1;position: relative;background-color: white;}#sk-container-id-3 div.sk-parallel-item:first-child::after {align-self: flex-end;width: 50%;}#sk-container-id-3 div.sk-parallel-item:last-child::after {align-self: flex-start;width: 50%;}#sk-container-id-3 div.sk-parallel-item:only-child::after {width: 0;}#sk-container-id-3 div.sk-dashed-wrapped {border: 1px dashed gray;margin: 0 0.4em 0.5em 0.4em;box-sizing: border-box;padding-bottom: 0.4em;background-color: white;}#sk-container-id-3 div.sk-label label {font-family: monospace;font-weight: bold;display: inline-block;line-height: 1.2em;}#sk-container-id-3 div.sk-label-container {text-align: center;}#sk-container-id-3 div.sk-container {/* jupyter's `normalize.less` sets `[hidden] { display: none; }` but bootstrap.min.css set `[hidden] { display: none !important; }` so we also need the `!important` here to be able to override the default hidden behavior on the sphinx rendered scikit-learn.org. See: https://github.com/scikit-learn/scikit-learn/issues/21755 */display: inline-block !important;position: relative;}#sk-container-id-3 div.sk-text-repr-fallback {display: none;}</style><div id=\"sk-container-id-3\" class=\"sk-top-container\"><div class=\"sk-text-repr-fallback\"><pre>Pipeline(steps=[(&#x27;preproc&#x27;,\n",
       "                 ColumnTransformer(transformers=[(&#x27;features_selection_transformer&#x27;,\n",
       "                                                  Pipeline(steps=[(&#x27;features_selection_transformer&#x27;,\n",
       "                                                                   FunctionTransformer(func=&lt;function features_selection_en at 0x7ff65e71b2e0&gt;)),\n",
       "                                                                  (&#x27;scaler&#x27;,\n",
       "                                                                   StandardScaler())]),\n",
       "                                                  Index([&#x27;0&#x27;, &#x27;1&#x27;, &#x27;2&#x27;, &#x27;3&#x27;, &#x27;4&#x27;, &#x27;5&#x27;, &#x27;6&#x27;, &#x27;7&#x27;, &#x27;8&#x27;, &#x27;9&#x27;, &#x27;10&#x27;, &#x27;11&#x27;, &#x27;12&#x27;,\n",
       "       &#x27;13&#x27;, &#x27;14&#x27;, &#x27;15&#x27;, &#x27;16&#x27;, &#x27;17&#x27;, &#x27;18&#x27;, &#x27;19&#x27;, &#x27;20&#x27;, &#x27;21&#x27;, &#x27;22&#x27;, &#x27;23&#x27;, &#x27;24&#x27;,\n",
       "       &#x27;25&#x27;, &#x27;26&#x27;, &#x27;27&#x27;, &#x27;28&#x27;],\n",
       "      dtype=&#x27;object&#x27;))])),\n",
       "                (&#x27;estimator&#x27;, ElasticNet(alpha=0.1, l1_ratio=0.1))])</pre><b>In a Jupyter environment, please rerun this cell to show the HTML representation or trust the notebook. <br />On GitHub, the HTML representation is unable to render, please try loading this page with nbviewer.org.</b></div><div class=\"sk-container\" hidden><div class=\"sk-item sk-dashed-wrapped\"><div class=\"sk-label-container\"><div class=\"sk-label sk-toggleable\"><input class=\"sk-toggleable__control sk-hidden--visually\" id=\"sk-estimator-id-6\" type=\"checkbox\" ><label for=\"sk-estimator-id-6\" class=\"sk-toggleable__label sk-toggleable__label-arrow\">Pipeline</label><div class=\"sk-toggleable__content\"><pre>Pipeline(steps=[(&#x27;preproc&#x27;,\n",
       "                 ColumnTransformer(transformers=[(&#x27;features_selection_transformer&#x27;,\n",
       "                                                  Pipeline(steps=[(&#x27;features_selection_transformer&#x27;,\n",
       "                                                                   FunctionTransformer(func=&lt;function features_selection_en at 0x7ff65e71b2e0&gt;)),\n",
       "                                                                  (&#x27;scaler&#x27;,\n",
       "                                                                   StandardScaler())]),\n",
       "                                                  Index([&#x27;0&#x27;, &#x27;1&#x27;, &#x27;2&#x27;, &#x27;3&#x27;, &#x27;4&#x27;, &#x27;5&#x27;, &#x27;6&#x27;, &#x27;7&#x27;, &#x27;8&#x27;, &#x27;9&#x27;, &#x27;10&#x27;, &#x27;11&#x27;, &#x27;12&#x27;,\n",
       "       &#x27;13&#x27;, &#x27;14&#x27;, &#x27;15&#x27;, &#x27;16&#x27;, &#x27;17&#x27;, &#x27;18&#x27;, &#x27;19&#x27;, &#x27;20&#x27;, &#x27;21&#x27;, &#x27;22&#x27;, &#x27;23&#x27;, &#x27;24&#x27;,\n",
       "       &#x27;25&#x27;, &#x27;26&#x27;, &#x27;27&#x27;, &#x27;28&#x27;],\n",
       "      dtype=&#x27;object&#x27;))])),\n",
       "                (&#x27;estimator&#x27;, ElasticNet(alpha=0.1, l1_ratio=0.1))])</pre></div></div></div><div class=\"sk-serial\"><div class=\"sk-item sk-dashed-wrapped\"><div class=\"sk-label-container\"><div class=\"sk-label sk-toggleable\"><input class=\"sk-toggleable__control sk-hidden--visually\" id=\"sk-estimator-id-7\" type=\"checkbox\" ><label for=\"sk-estimator-id-7\" class=\"sk-toggleable__label sk-toggleable__label-arrow\">preproc: ColumnTransformer</label><div class=\"sk-toggleable__content\"><pre>ColumnTransformer(transformers=[(&#x27;features_selection_transformer&#x27;,\n",
       "                                 Pipeline(steps=[(&#x27;features_selection_transformer&#x27;,\n",
       "                                                  FunctionTransformer(func=&lt;function features_selection_en at 0x7ff65e71b2e0&gt;)),\n",
       "                                                 (&#x27;scaler&#x27;, StandardScaler())]),\n",
       "                                 Index([&#x27;0&#x27;, &#x27;1&#x27;, &#x27;2&#x27;, &#x27;3&#x27;, &#x27;4&#x27;, &#x27;5&#x27;, &#x27;6&#x27;, &#x27;7&#x27;, &#x27;8&#x27;, &#x27;9&#x27;, &#x27;10&#x27;, &#x27;11&#x27;, &#x27;12&#x27;,\n",
       "       &#x27;13&#x27;, &#x27;14&#x27;, &#x27;15&#x27;, &#x27;16&#x27;, &#x27;17&#x27;, &#x27;18&#x27;, &#x27;19&#x27;, &#x27;20&#x27;, &#x27;21&#x27;, &#x27;22&#x27;, &#x27;23&#x27;, &#x27;24&#x27;,\n",
       "       &#x27;25&#x27;, &#x27;26&#x27;, &#x27;27&#x27;, &#x27;28&#x27;],\n",
       "      dtype=&#x27;object&#x27;))])</pre></div></div></div><div class=\"sk-parallel\"><div class=\"sk-parallel-item\"><div class=\"sk-item\"><div class=\"sk-label-container\"><div class=\"sk-label sk-toggleable\"><input class=\"sk-toggleable__control sk-hidden--visually\" id=\"sk-estimator-id-8\" type=\"checkbox\" ><label for=\"sk-estimator-id-8\" class=\"sk-toggleable__label sk-toggleable__label-arrow\">features_selection_transformer</label><div class=\"sk-toggleable__content\"><pre>Index([&#x27;0&#x27;, &#x27;1&#x27;, &#x27;2&#x27;, &#x27;3&#x27;, &#x27;4&#x27;, &#x27;5&#x27;, &#x27;6&#x27;, &#x27;7&#x27;, &#x27;8&#x27;, &#x27;9&#x27;, &#x27;10&#x27;, &#x27;11&#x27;, &#x27;12&#x27;,\n",
       "       &#x27;13&#x27;, &#x27;14&#x27;, &#x27;15&#x27;, &#x27;16&#x27;, &#x27;17&#x27;, &#x27;18&#x27;, &#x27;19&#x27;, &#x27;20&#x27;, &#x27;21&#x27;, &#x27;22&#x27;, &#x27;23&#x27;, &#x27;24&#x27;,\n",
       "       &#x27;25&#x27;, &#x27;26&#x27;, &#x27;27&#x27;, &#x27;28&#x27;],\n",
       "      dtype=&#x27;object&#x27;)</pre></div></div></div><div class=\"sk-serial\"><div class=\"sk-item\"><div class=\"sk-serial\"><div class=\"sk-item\"><div class=\"sk-estimator sk-toggleable\"><input class=\"sk-toggleable__control sk-hidden--visually\" id=\"sk-estimator-id-9\" type=\"checkbox\" ><label for=\"sk-estimator-id-9\" class=\"sk-toggleable__label sk-toggleable__label-arrow\">FunctionTransformer</label><div class=\"sk-toggleable__content\"><pre>FunctionTransformer(func=&lt;function features_selection_en at 0x7ff65e71b2e0&gt;)</pre></div></div></div><div class=\"sk-item\"><div class=\"sk-estimator sk-toggleable\"><input class=\"sk-toggleable__control sk-hidden--visually\" id=\"sk-estimator-id-10\" type=\"checkbox\" ><label for=\"sk-estimator-id-10\" class=\"sk-toggleable__label sk-toggleable__label-arrow\">StandardScaler</label><div class=\"sk-toggleable__content\"><pre>StandardScaler()</pre></div></div></div></div></div></div></div></div></div></div><div class=\"sk-item\"><div class=\"sk-estimator sk-toggleable\"><input class=\"sk-toggleable__control sk-hidden--visually\" id=\"sk-estimator-id-11\" type=\"checkbox\" ><label for=\"sk-estimator-id-11\" class=\"sk-toggleable__label sk-toggleable__label-arrow\">ElasticNet</label><div class=\"sk-toggleable__content\"><pre>ElasticNet(alpha=0.1, l1_ratio=0.1)</pre></div></div></div></div></div></div></div>"
      ],
      "text/plain": [
       "Pipeline(steps=[('preproc',\n",
       "                 ColumnTransformer(transformers=[('features_selection_transformer',\n",
       "                                                  Pipeline(steps=[('features_selection_transformer',\n",
       "                                                                   FunctionTransformer(func=<function features_selection_en at 0x7ff65e71b2e0>)),\n",
       "                                                                  ('scaler',\n",
       "                                                                   StandardScaler())]),\n",
       "                                                  Index(['0', '1', '2', '3', '4', '5', '6', '7', '8', '9', '10', '11', '12',\n",
       "       '13', '14', '15', '16', '17', '18', '19', '20', '21', '22', '23', '24',\n",
       "       '25', '26', '27', '28'],\n",
       "      dtype='object'))])),\n",
       "                ('estimator', ElasticNet(alpha=0.1, l1_ratio=0.1))])"
      ]
     },
     "execution_count": 14,
     "metadata": {},
     "output_type": "execute_result"
    }
   ],
   "source": [
    "best_pipe = Pipeline(steps = [\n",
    "                            ('preproc',CT),\n",
    "                            ('estimator',ElasticNet(alpha = 0.1, l1_ratio = 0.1))\n",
    "                        ])\n",
    "\n",
    "best_pipe.fit(X, y)"
   ]
  },
  {
   "cell_type": "code",
   "execution_count": 15,
   "metadata": {},
   "outputs": [],
   "source": [
    "# Блок предсказания с использованием тестового набора"
   ]
  },
  {
   "cell_type": "code",
   "execution_count": 16,
   "metadata": {},
   "outputs": [],
   "source": [
    "y_pred_best = best_pipe.predict(test)"
   ]
  },
  {
   "cell_type": "code",
   "execution_count": 17,
   "metadata": {},
   "outputs": [
    {
     "name": "stdout",
     "output_type": "stream",
     "text": [
      "Колонки которые использовались для обучения модели: \n",
      " [['0']\n",
      " ['2']\n",
      " ['12']\n",
      " ['15']\n",
      " ['20']\n",
      " ['22']\n",
      " ['24']\n",
      " ['25']\n",
      " ['27']]\n"
     ]
    }
   ],
   "source": [
    "print('Колонки которые использовались для обучения модели:', '\\n', res_ct.columns.str.extract(r'(\\d+)$').values)"
   ]
  },
  {
   "cell_type": "code",
   "execution_count": 18,
   "metadata": {},
   "outputs": [],
   "source": [
    "# Название вектора предсказанных значений  y_predict полученого на основании тестового набора\n",
    "y_predict = y_pred_best"
   ]
  },
  {
   "cell_type": "code",
   "execution_count": 19,
   "metadata": {},
   "outputs": [
    {
     "name": "stdout",
     "output_type": "stream",
     "text": [
      "(137,) (137,)\n",
      "Отрицательные цены -  0\n",
      "Max Error: 5,048,610\n",
      " \n",
      "----------------------\n",
      "   MAPE Error: 17.33\n",
      "----------------------\n"
     ]
    },
    {
     "data": {
      "image/png": "[encoded data removed]",
      "text/plain": [
       "<Figure size 1500x500 with 2 Axes>"
      ]
     },
     "metadata": {},
     "output_type": "display_data"
    }
   ],
   "source": [
    "from sklearn.metrics import mean_absolute_percentage_error\n",
    "import matplotlib.pyplot as plt\n",
    "import matplotlib.pyplot as plt\n",
    "\n",
    "y_true = pd.read_csv(\"test_Y_true_house_B.csv\").values.reshape(-1)\n",
    "print(y_predict.shape, y_true.shape)\n",
    "print('Отрицательные цены - ', sum(y_predict<0))\n",
    "\n",
    "def plot_2_error(y_true, y_predicted):\n",
    "    residuals = y_true - y_predicted\n",
    "    max_error = max(residuals) if abs(max(residuals)) > abs(min(residuals)) else min(residuals)\n",
    "    max_idx = list(residuals).index(max(residuals)) if abs(max(residuals)) > abs(min(residuals)) else list(residuals).index(min(residuals))\n",
    "    max_true, max_pred = y_true[max_idx], y_predicted[max_idx]\n",
    "    mape = mean_absolute_percentage_error(y_true, y_predict)\n",
    "    print(\"Max Error:\", \"{:,.0f}\".format(max_error))\n",
    "    print(' ')\n",
    "    print('----------------------')\n",
    "    print(\"   MAPE Error:\", \"{:,.2f}\".format(mape*100))\n",
    "    print('----------------------')\n",
    "\n",
    "    ## Plot predicted vs true\n",
    "    fig, ax = plt.subplots(nrows=1, ncols=2, figsize=(15,5))\n",
    "    from statsmodels.graphics.api import abline_plot\n",
    "    ax[0].scatter(y_predicted, y_true, color=\"black\")\n",
    "    abline_plot(intercept=0, slope=1, color=\"red\", ax=ax[0])\n",
    "    ax[0].vlines(x=max_pred, ymin=max_true, ymax=max_true-max_error, color='red', linestyle='--', alpha=0.7, label=\"max error\")\n",
    "    ax[0].grid(True)\n",
    "    ax[0].set(xlabel=\"Predicted\", ylabel=\"True\", title=\"Predicted vs True\")\n",
    "    ax[0].legend()\n",
    "\n",
    "    ## Plot predicted vs residuals\n",
    "    ax[1].scatter(y_predicted, residuals, color=\"red\")\n",
    "    ax[1].vlines(x=max_pred, ymin=0, ymax=max_error, color='black', linestyle='--', alpha=0.7, label=\"max error\")\n",
    "    ax[1].grid(True)\n",
    "    ax[1].set(xlabel=\"Predicted\", ylabel=\"Residuals\", title=\"Predicted vs Residuals\")\n",
    "    ax[1].hlines(y=0, xmin=np.min(y_predicted), xmax=np.max(y_predicted))\n",
    "    ax[1].legend()\n",
    "    plt.show()\n",
    "\n",
    "plot_2_error(y_true, y_predict)"
   ]
  },
  {
   "cell_type": "code",
   "execution_count": 20,
   "metadata": {},
   "outputs": [
    {
     "data": {
      "text/html": [
       "<style type=\"text/css\">\n",
       "#T_a5029_row1_col0, #T_a5029_row1_col1, #T_a5029_row2_col0, #T_a5029_row2_col1, #T_a5029_row3_col0, #T_a5029_row3_col1, #T_a5029_row6_col0, #T_a5029_row6_col1, #T_a5029_row7_col0, #T_a5029_row7_col1, #T_a5029_row12_col0, #T_a5029_row12_col1, #T_a5029_row19_col0, #T_a5029_row19_col1, #T_a5029_row20_col0, #T_a5029_row20_col1, #T_a5029_row28_col0, #T_a5029_row28_col1 {\n",
       "  background-color: yellow;\n",
       "}\n",
       "</style>\n",
       "<table id=\"T_a5029\">\n",
       "  <thead>\n",
       "    <tr>\n",
       "      <th class=\"blank level0\" >&nbsp;</th>\n",
       "      <th id=\"T_a5029_level0_col0\" class=\"col_heading level0 col0\" >index</th>\n",
       "      <th id=\"T_a5029_level0_col1\" class=\"col_heading level0 col1\" >0</th>\n",
       "    </tr>\n",
       "  </thead>\n",
       "  <tbody>\n",
       "    <tr>\n",
       "      <th id=\"T_a5029_level0_row0\" class=\"row_heading level0 row0\" >0</th>\n",
       "      <td id=\"T_a5029_row0_col0\" class=\"data row0 col0\" >10</td>\n",
       "      <td id=\"T_a5029_row0_col1\" class=\"data row0 col1\" >1</td>\n",
       "    </tr>\n",
       "    <tr>\n",
       "      <th id=\"T_a5029_level0_row1\" class=\"row_heading level0 row1\" >1</th>\n",
       "      <td id=\"T_a5029_row1_col0\" class=\"data row1 col0\" >27</td>\n",
       "      <td id=\"T_a5029_row1_col1\" class=\"data row1 col1\" >airconditioning</td>\n",
       "    </tr>\n",
       "    <tr>\n",
       "      <th id=\"T_a5029_level0_row2\" class=\"row_heading level0 row2\" >2</th>\n",
       "      <td id=\"T_a5029_row2_col0\" class=\"data row2 col0\" >2</td>\n",
       "      <td id=\"T_a5029_row2_col1\" class=\"data row2 col1\" >area</td>\n",
       "    </tr>\n",
       "    <tr>\n",
       "      <th id=\"T_a5029_level0_row3\" class=\"row_heading level0 row3\" >3</th>\n",
       "      <td id=\"T_a5029_row3_col0\" class=\"data row3 col0\" >12</td>\n",
       "      <td id=\"T_a5029_row3_col1\" class=\"data row3 col1\" >area bathrooms</td>\n",
       "    </tr>\n",
       "    <tr>\n",
       "      <th id=\"T_a5029_level0_row4\" class=\"row_heading level0 row4\" >4</th>\n",
       "      <td id=\"T_a5029_row4_col0\" class=\"data row4 col0\" >4</td>\n",
       "      <td id=\"T_a5029_row4_col1\" class=\"data row4 col1\" >area bedrooms</td>\n",
       "    </tr>\n",
       "    <tr>\n",
       "      <th id=\"T_a5029_level0_row5\" class=\"row_heading level0 row5\" >5</th>\n",
       "      <td id=\"T_a5029_row5_col0\" class=\"data row5 col0\" >5</td>\n",
       "      <td id=\"T_a5029_row5_col1\" class=\"data row5 col1\" >area stories</td>\n",
       "    </tr>\n",
       "    <tr>\n",
       "      <th id=\"T_a5029_level0_row6\" class=\"row_heading level0 row6\" >6</th>\n",
       "      <td id=\"T_a5029_row6_col0\" class=\"data row6 col0\" >15</td>\n",
       "      <td id=\"T_a5029_row6_col1\" class=\"data row6 col1\" >basement</td>\n",
       "    </tr>\n",
       "    <tr>\n",
       "      <th id=\"T_a5029_level0_row7\" class=\"row_heading level0 row7\" >7</th>\n",
       "      <td id=\"T_a5029_row7_col0\" class=\"data row7 col0\" >22</td>\n",
       "      <td id=\"T_a5029_row7_col1\" class=\"data row7 col1\" >bathrooms</td>\n",
       "    </tr>\n",
       "    <tr>\n",
       "      <th id=\"T_a5029_level0_row8\" class=\"row_heading level0 row8\" >8</th>\n",
       "      <td id=\"T_a5029_row8_col0\" class=\"data row8 col0\" >19</td>\n",
       "      <td id=\"T_a5029_row8_col1\" class=\"data row8 col1\" >bathrooms stories</td>\n",
       "    </tr>\n",
       "    <tr>\n",
       "      <th id=\"T_a5029_level0_row9\" class=\"row_heading level0 row9\" >9</th>\n",
       "      <td id=\"T_a5029_row9_col0\" class=\"data row9 col0\" >21</td>\n",
       "      <td id=\"T_a5029_row9_col1\" class=\"data row9 col1\" >bedrooms</td>\n",
       "    </tr>\n",
       "    <tr>\n",
       "      <th id=\"T_a5029_level0_row10\" class=\"row_heading level0 row10\" >10</th>\n",
       "      <td id=\"T_a5029_row10_col0\" class=\"data row10 col0\" >18</td>\n",
       "      <td id=\"T_a5029_row10_col1\" class=\"data row10 col1\" >bedrooms bathrooms</td>\n",
       "    </tr>\n",
       "    <tr>\n",
       "      <th id=\"T_a5029_level0_row11\" class=\"row_heading level0 row11\" >11</th>\n",
       "      <td id=\"T_a5029_row11_col0\" class=\"data row11 col0\" >28</td>\n",
       "      <td id=\"T_a5029_row11_col1\" class=\"data row11 col1\" >bedrooms stories</td>\n",
       "    </tr>\n",
       "    <tr>\n",
       "      <th id=\"T_a5029_level0_row12\" class=\"row_heading level0 row12\" >12</th>\n",
       "      <td id=\"T_a5029_row12_col0\" class=\"data row12 col0\" >0</td>\n",
       "      <td id=\"T_a5029_row12_col1\" class=\"data row12 col1\" >furnishingstatus</td>\n",
       "    </tr>\n",
       "    <tr>\n",
       "      <th id=\"T_a5029_level0_row13\" class=\"row_heading level0 row13\" >13</th>\n",
       "      <td id=\"T_a5029_row13_col0\" class=\"data row13 col0\" >16</td>\n",
       "      <td id=\"T_a5029_row13_col1\" class=\"data row13 col1\" >guestroom</td>\n",
       "    </tr>\n",
       "    <tr>\n",
       "      <th id=\"T_a5029_level0_row14\" class=\"row_heading level0 row14\" >14</th>\n",
       "      <td id=\"T_a5029_row14_col0\" class=\"data row14 col0\" >17</td>\n",
       "      <td id=\"T_a5029_row14_col1\" class=\"data row14 col1\" >hotwaterheating</td>\n",
       "    </tr>\n",
       "    <tr>\n",
       "      <th id=\"T_a5029_level0_row15\" class=\"row_heading level0 row15\" >15</th>\n",
       "      <td id=\"T_a5029_row15_col0\" class=\"data row15 col0\" >23</td>\n",
       "      <td id=\"T_a5029_row15_col1\" class=\"data row15 col1\" >log_rnd_1</td>\n",
       "    </tr>\n",
       "    <tr>\n",
       "      <th id=\"T_a5029_level0_row16\" class=\"row_heading level0 row16\" >16</th>\n",
       "      <td id=\"T_a5029_row16_col0\" class=\"data row16 col0\" >14</td>\n",
       "      <td id=\"T_a5029_row16_col1\" class=\"data row16 col1\" >log_rnd_2</td>\n",
       "    </tr>\n",
       "    <tr>\n",
       "      <th id=\"T_a5029_level0_row17\" class=\"row_heading level0 row17\" >17</th>\n",
       "      <td id=\"T_a5029_row17_col0\" class=\"data row17 col0\" >13</td>\n",
       "      <td id=\"T_a5029_row17_col1\" class=\"data row17 col1\" >log_rnd_3</td>\n",
       "    </tr>\n",
       "    <tr>\n",
       "      <th id=\"T_a5029_level0_row18\" class=\"row_heading level0 row18\" >18</th>\n",
       "      <td id=\"T_a5029_row18_col0\" class=\"data row18 col0\" >3</td>\n",
       "      <td id=\"T_a5029_row18_col1\" class=\"data row18 col1\" >mainroad</td>\n",
       "    </tr>\n",
       "    <tr>\n",
       "      <th id=\"T_a5029_level0_row19\" class=\"row_heading level0 row19\" >19</th>\n",
       "      <td id=\"T_a5029_row19_col0\" class=\"data row19 col0\" >24</td>\n",
       "      <td id=\"T_a5029_row19_col1\" class=\"data row19 col1\" >parking</td>\n",
       "    </tr>\n",
       "    <tr>\n",
       "      <th id=\"T_a5029_level0_row20\" class=\"row_heading level0 row20\" >20</th>\n",
       "      <td id=\"T_a5029_row20_col0\" class=\"data row20 col0\" >20</td>\n",
       "      <td id=\"T_a5029_row20_col1\" class=\"data row20 col1\" >prefarea</td>\n",
       "    </tr>\n",
       "    <tr>\n",
       "      <th id=\"T_a5029_level0_row21\" class=\"row_heading level0 row21\" >21</th>\n",
       "      <td id=\"T_a5029_row21_col0\" class=\"data row21 col0\" >11</td>\n",
       "      <td id=\"T_a5029_row21_col1\" class=\"data row21 col1\" >rnd_1</td>\n",
       "    </tr>\n",
       "    <tr>\n",
       "      <th id=\"T_a5029_level0_row22\" class=\"row_heading level0 row22\" >22</th>\n",
       "      <td id=\"T_a5029_row22_col0\" class=\"data row22 col0\" >7</td>\n",
       "      <td id=\"T_a5029_row22_col1\" class=\"data row22 col1\" >rnd_2</td>\n",
       "    </tr>\n",
       "    <tr>\n",
       "      <th id=\"T_a5029_level0_row23\" class=\"row_heading level0 row23\" >23</th>\n",
       "      <td id=\"T_a5029_row23_col0\" class=\"data row23 col0\" >1</td>\n",
       "      <td id=\"T_a5029_row23_col1\" class=\"data row23 col1\" >rnd_3</td>\n",
       "    </tr>\n",
       "    <tr>\n",
       "      <th id=\"T_a5029_level0_row24\" class=\"row_heading level0 row24\" >24</th>\n",
       "      <td id=\"T_a5029_row24_col0\" class=\"data row24 col0\" >6</td>\n",
       "      <td id=\"T_a5029_row24_col1\" class=\"data row24 col1\" >rnd_4</td>\n",
       "    </tr>\n",
       "    <tr>\n",
       "      <th id=\"T_a5029_level0_row25\" class=\"row_heading level0 row25\" >25</th>\n",
       "      <td id=\"T_a5029_row25_col0\" class=\"data row25 col0\" >8</td>\n",
       "      <td id=\"T_a5029_row25_col1\" class=\"data row25 col1\" >rnd_5</td>\n",
       "    </tr>\n",
       "    <tr>\n",
       "      <th id=\"T_a5029_level0_row26\" class=\"row_heading level0 row26\" >26</th>\n",
       "      <td id=\"T_a5029_row26_col0\" class=\"data row26 col0\" >26</td>\n",
       "      <td id=\"T_a5029_row26_col1\" class=\"data row26 col1\" >rnd_6</td>\n",
       "    </tr>\n",
       "    <tr>\n",
       "      <th id=\"T_a5029_level0_row27\" class=\"row_heading level0 row27\" >27</th>\n",
       "      <td id=\"T_a5029_row27_col0\" class=\"data row27 col0\" >9</td>\n",
       "      <td id=\"T_a5029_row27_col1\" class=\"data row27 col1\" >rnd_7</td>\n",
       "    </tr>\n",
       "    <tr>\n",
       "      <th id=\"T_a5029_level0_row28\" class=\"row_heading level0 row28\" >28</th>\n",
       "      <td id=\"T_a5029_row28_col0\" class=\"data row28 col0\" >25</td>\n",
       "      <td id=\"T_a5029_row28_col1\" class=\"data row28 col1\" >stories</td>\n",
       "    </tr>\n",
       "  </tbody>\n",
       "</table>\n"
      ],
      "text/plain": [
       "<pandas.io.formats.style.Styler at 0x7ff65e7f1cf0>"
      ]
     },
     "execution_count": 20,
     "metadata": {},
     "output_type": "execute_result"
    }
   ],
   "source": [
    "mask = selected_features\n",
    "\n",
    "import pickle\n",
    "with open('saved_dictionary_b.pkl', 'rb') as f:\n",
    "    loaded_dict = pickle.load(f)\n",
    "\n",
    "color_dict = pd.Series(loaded_dict).to_frame().reset_index().sort_values(by=0).reset_index(drop=True)\n",
    "color = (color_dict['index'].isin(mask)).map({True: 'background-color: yellow', False: ''})\n",
    "color_dict.style.apply(lambda s: color)"
   ]
  },
  {
   "cell_type": "code",
   "execution_count": null,
   "metadata": {},
   "outputs": [],
   "source": []
  }
 ],
 "metadata": {
  "kernelspec": {
   "display_name": "Python 3 (ipykernel)",
   "language": "python",
   "name": "python3"
  },
  "language_info": {
   "codemirror_mode": {
    "name": "ipython",
    "version": 3
   },
   "file_extension": ".py",
   "mimetype": "text/x-python",
   "name": "python",
   "nbconvert_exporter": "python",
   "pygments_lexer": "ipython3",
   "version": "3.10.13"
  }
 },
 "nbformat": 4,
 "nbformat_minor": 2
}
