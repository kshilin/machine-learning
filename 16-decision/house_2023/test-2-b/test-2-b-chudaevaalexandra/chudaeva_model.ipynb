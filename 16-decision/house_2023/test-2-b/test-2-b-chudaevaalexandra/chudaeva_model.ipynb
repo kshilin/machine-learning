{
 "cells": [
  {
   "cell_type": "markdown",
   "metadata": {},
   "source": [
    "### Библиотеки"
   ]
  },
  {
   "cell_type": "code",
   "execution_count": 1,
   "metadata": {},
   "outputs": [],
   "source": [
    "import numpy as np\n",
    "import pandas as pd\n",
    "\n",
    "from sklearn.svm import SVR\n",
    "from sklearn.metrics import mean_absolute_percentage_error\n",
    "from sklearn.pipeline import make_pipeline, FunctionTransformer"
   ]
  },
  {
   "cell_type": "markdown",
   "metadata": {},
   "source": [
    "### Выполнение лучшей модели"
   ]
  },
  {
   "cell_type": "code",
   "execution_count": 2,
   "metadata": {},
   "outputs": [],
   "source": [
    "path_train = 'train_house_B.csv'\n",
    "path_test  = 'test_house_B.csv'"
   ]
  },
  {
   "cell_type": "code",
   "execution_count": 3,
   "metadata": {},
   "outputs": [],
   "source": [
    "data_train = pd.read_csv(path_train)\n",
    "data_test = pd.read_csv(path_test)"
   ]
  },
  {
   "cell_type": "code",
   "execution_count": 4,
   "metadata": {},
   "outputs": [
    {
     "data": {
      "text/plain": [
       "0"
      ]
     },
     "execution_count": 4,
     "metadata": {},
     "output_type": "execute_result"
    }
   ],
   "source": [
    "data_test.duplicated().sum()"
   ]
  },
  {
   "cell_type": "code",
   "execution_count": 5,
   "metadata": {},
   "outputs": [],
   "source": [
    "X = data_train.drop(columns = ['price'])\n",
    "y = data_train.loc[:,'price'].values"
   ]
  },
  {
   "cell_type": "code",
   "execution_count": 6,
   "metadata": {},
   "outputs": [],
   "source": [
    "#выбранные признаки\n",
    "mask = ['0', '3', '15', '16', '18', '19', '20', '21', '22', '24', '25', '27', '28']"
   ]
  },
  {
   "cell_type": "code",
   "execution_count": 7,
   "metadata": {},
   "outputs": [],
   "source": [
    "#обучение модели на всем наборе данных\n",
    "\n",
    "pipe = make_pipeline(FunctionTransformer(lambda x: x[mask]),\n",
    "                     SVR(kernel = 'linear', C = 10000, gamma = 0.1))\n",
    "\n",
    "pipe.fit(X, y);"
   ]
  },
  {
   "cell_type": "code",
   "execution_count": 8,
   "metadata": {},
   "outputs": [
    {
     "data": {
      "text/html": [
       "<div>\n",
       "<style scoped>\n",
       "    .dataframe tbody tr th:only-of-type {\n",
       "        vertical-align: middle;\n",
       "    }\n",
       "\n",
       "    .dataframe tbody tr th {\n",
       "        vertical-align: top;\n",
       "    }\n",
       "\n",
       "    .dataframe thead th {\n",
       "        text-align: right;\n",
       "    }\n",
       "</style>\n",
       "<table border=\"1\" class=\"dataframe\">\n",
       "  <thead>\n",
       "    <tr style=\"text-align: right;\">\n",
       "      <th></th>\n",
       "      <th>0</th>\n",
       "      <th>3</th>\n",
       "      <th>15</th>\n",
       "      <th>16</th>\n",
       "      <th>18</th>\n",
       "      <th>19</th>\n",
       "      <th>20</th>\n",
       "      <th>21</th>\n",
       "      <th>22</th>\n",
       "      <th>24</th>\n",
       "      <th>25</th>\n",
       "      <th>27</th>\n",
       "      <th>28</th>\n",
       "    </tr>\n",
       "  </thead>\n",
       "  <tbody>\n",
       "    <tr>\n",
       "      <th>0</th>\n",
       "      <td>-0.091662</td>\n",
       "      <td>0.405623</td>\n",
       "      <td>-0.734539</td>\n",
       "      <td>-0.465315</td>\n",
       "      <td>-0.263991</td>\n",
       "      <td>-0.141322</td>\n",
       "      <td>-0.554035</td>\n",
       "      <td>0.047278</td>\n",
       "      <td>1.421812</td>\n",
       "      <td>0.355976</td>\n",
       "      <td>0.224410</td>\n",
       "      <td>-0.679063</td>\n",
       "      <td>-0.478408</td>\n",
       "    </tr>\n",
       "    <tr>\n",
       "      <th>1</th>\n",
       "      <td>-0.091662</td>\n",
       "      <td>0.405623</td>\n",
       "      <td>1.361397</td>\n",
       "      <td>-0.465315</td>\n",
       "      <td>-0.263991</td>\n",
       "      <td>-0.141322</td>\n",
       "      <td>-0.554035</td>\n",
       "      <td>-1.308863</td>\n",
       "      <td>-0.570187</td>\n",
       "      <td>0.355976</td>\n",
       "      <td>-0.929397</td>\n",
       "      <td>-0.679063</td>\n",
       "      <td>1.307431</td>\n",
       "    </tr>\n",
       "    <tr>\n",
       "      <th>2</th>\n",
       "      <td>-1.406286</td>\n",
       "      <td>0.405623</td>\n",
       "      <td>-0.734539</td>\n",
       "      <td>-0.465315</td>\n",
       "      <td>-0.263991</td>\n",
       "      <td>3.136137</td>\n",
       "      <td>-0.554035</td>\n",
       "      <td>0.047278</td>\n",
       "      <td>1.421812</td>\n",
       "      <td>1.517692</td>\n",
       "      <td>2.532024</td>\n",
       "      <td>1.472618</td>\n",
       "      <td>-0.478408</td>\n",
       "    </tr>\n",
       "  </tbody>\n",
       "</table>\n",
       "</div>"
      ],
      "text/plain": [
       "          0         3        15        16        18        19        20  \\\n",
       "0 -0.091662  0.405623 -0.734539 -0.465315 -0.263991 -0.141322 -0.554035   \n",
       "1 -0.091662  0.405623  1.361397 -0.465315 -0.263991 -0.141322 -0.554035   \n",
       "2 -1.406286  0.405623 -0.734539 -0.465315 -0.263991  3.136137 -0.554035   \n",
       "\n",
       "         21        22        24        25        27        28  \n",
       "0  0.047278  1.421812  0.355976  0.224410 -0.679063 -0.478408  \n",
       "1 -1.308863 -0.570187  0.355976 -0.929397 -0.679063  1.307431  \n",
       "2  0.047278  1.421812  1.517692  2.532024  1.472618 -0.478408  "
      ]
     },
     "execution_count": 8,
     "metadata": {},
     "output_type": "execute_result"
    }
   ],
   "source": [
    "pipe['functiontransformer'].transform(data_test).head(3)"
   ]
  },
  {
   "cell_type": "code",
   "execution_count": 9,
   "metadata": {},
   "outputs": [
    {
     "name": "stdout",
     "output_type": "stream",
     "text": [
      "выбранные признаки:\n",
      "'0', '3', '15', '16', '18', '19', '20', '21', '22', '24', '25', '27', '28'\n",
      "\n"
     ]
    }
   ],
   "source": [
    "print(f\"выбранные признаки:\\n{pipe['svr'].feature_names_in_.tolist()}\\n\".replace(\"[\", \"\").replace(\"]\", \"\"))"
   ]
  },
  {
   "cell_type": "code",
   "execution_count": 15,
   "metadata": {},
   "outputs": [],
   "source": [
    "#предсказание\n",
    "y_predict = pipe.predict(data_test)"
   ]
  },
  {
   "cell_type": "code",
   "execution_count": 16,
   "metadata": {},
   "outputs": [
    {
     "name": "stdout",
     "output_type": "stream",
     "text": [
      "(137,) (137, 29)\n"
     ]
    }
   ],
   "source": [
    "print(y_predict.shape, data_test.shape)"
   ]
  },
  {
   "cell_type": "code",
   "execution_count": 17,
   "metadata": {},
   "outputs": [
    {
     "data": {
      "text/plain": [
       "array([4710410.74009051, 3902427.83133191, 7089087.39554766,\n",
       "       6969494.81114073, 6911702.42992649, 4385096.57938105,\n",
       "       4518374.54381044, 4697870.33917131, 3454832.26903878,\n",
       "       3857331.29703087, 5799736.02364964, 4665167.67002591,\n",
       "       4091042.22167299, 4450672.78840117, 4951321.99455835,\n",
       "       6352036.0628411 , 3499928.80333982, 3072667.79086152,\n",
       "       6399457.86894383, 4727353.4725167 , 3632667.74558222,\n",
       "       4415616.31179602, 5123471.03283217, 2692163.5436293 ,\n",
       "       3590264.40338779, 3174832.29167844, 6049327.01473765,\n",
       "       3252163.49834999, 4912365.22079606, 5560902.98802249,\n",
       "       4004663.64180797, 4004663.64180797, 6613878.56706437,\n",
       "       2660000.09304553, 2884663.64449418, 4685447.61933245,\n",
       "       3763620.43820992, 5033206.74244335, 3072667.79086152,\n",
       "       5495071.17604017, 5113302.36300827, 6153304.09026189,\n",
       "       3352667.76822187, 5189047.24185229, 3780000.09035931,\n",
       "       5023264.12312461, 7416365.95873549, 3636597.37067317,\n",
       "       5336877.07563956, 5123471.03283217, 4554423.70491801,\n",
       "       5249412.50497807, 3632667.74558222, 6930000.05311912,\n",
       "       4645924.42829117, 5300712.7781781 , 3352667.76822187,\n",
       "       2747499.96954099, 3219928.82597948, 7537278.5936673 ,\n",
       "       2467499.99218065, 3500000.11299897, 6578822.09045922,\n",
       "       3297331.34231018, 3825096.62466036, 3072667.79086152,\n",
       "       8275653.04711842, 4268283.96701892, 3072667.79086152,\n",
       "       5452675.00686437, 3724326.36789349, 4975616.26651671,\n",
       "       5748918.58444497, 5098044.00748931, 5327897.72970771,\n",
       "       5057965.93709658, 5468918.60708462, 3265167.8917264 ,\n",
       "       4256457.65970834, 3168026.82966649, 6032591.18074261,\n",
       "       6240170.80110276, 2467499.99218065, 5212646.48440364,\n",
       "       6864423.84409901, 4590588.00237948, 4105096.6020207 ,\n",
       "       4954215.02057973, 5654158.51846871, 3037739.73000976,\n",
       "       5337965.91445692, 3158452.63952904, 3500000.11299897,\n",
       "       7754158.31731007, 6007549.77368141, 4182427.80869226,\n",
       "       4664050.37771315, 2692163.5436293 , 4023340.46626372,\n",
       "       6903918.60212061, 5411456.743286  , 4219313.46065337,\n",
       "       5260170.80320056, 3072667.79086152, 3027499.94690134,\n",
       "       3968499.34434651, 4452869.44807484, 4509327.17061697,\n",
       "       5491041.9999725 , 5363915.68778024, 3072667.79086152,\n",
       "       5979255.0301301 , 3072667.79086152, 5814423.68018057,\n",
       "       4935074.29153917, 5488230.09827978, 4315705.77312165,\n",
       "       3418243.97724198, 5403542.12347704, 5149494.98965971,\n",
       "       5768230.07564013, 3724663.66444762, 3352667.76822187,\n",
       "       4818044.03012896, 6445413.33402675, 4885280.75434114,\n",
       "       5579591.458908  , 4035705.7957613 , 6558542.14115268,\n",
       "       5535842.27174257, 7388374.5292099 , 4518374.54381044,\n",
       "       4732869.42543519, 3072667.79086152, 5010616.28687856,\n",
       "       4173653.4707908 , 3545167.86908675])"
      ]
     },
     "execution_count": 17,
     "metadata": {},
     "output_type": "execute_result"
    }
   ],
   "source": [
    "y_predict"
   ]
  },
  {
   "cell_type": "code",
   "execution_count": 18,
   "metadata": {},
   "outputs": [
    {
     "name": "stdout",
     "output_type": "stream",
     "text": [
      "(137,) (137,)\n",
      "Отрицательные цены -  0\n",
      "Max Error: 5,402,450\n",
      " \n",
      "----------------------\n",
      "   MAPE Error: 17.33\n",
      "----------------------\n"
     ]
    },
    {
     "data": {
      "image/png": "[encoded data removed]",
      "text/plain": [
       "<Figure size 1500x500 with 2 Axes>"
      ]
     },
     "metadata": {},
     "output_type": "display_data"
    }
   ],
   "source": [
    "from sklearn.metrics import mean_absolute_percentage_error\n",
    "import matplotlib.pyplot as plt\n",
    "import matplotlib.pyplot as plt\n",
    "\n",
    "y_true = pd.read_csv(\"test_Y_true_house_B.csv\").values.reshape(-1)\n",
    "print(y_predict.shape, y_true.shape)\n",
    "print('Отрицательные цены - ', sum(y_predict<0))\n",
    "\n",
    "def plot_2_error(y_true, y_predicted):\n",
    "    residuals = y_true - y_predicted\n",
    "    max_error = max(residuals) if abs(max(residuals)) > abs(min(residuals)) else min(residuals)\n",
    "    max_idx = list(residuals).index(max(residuals)) if abs(max(residuals)) > abs(min(residuals)) else list(residuals).index(min(residuals))\n",
    "    max_true, max_pred = y_true[max_idx], y_predicted[max_idx]\n",
    "    mape = mean_absolute_percentage_error(y_true, y_predict)\n",
    "    print(\"Max Error:\", \"{:,.0f}\".format(max_error))\n",
    "    print(' ')\n",
    "    print('----------------------')\n",
    "    print(\"   MAPE Error:\", \"{:,.2f}\".format(mape*100))\n",
    "    print('----------------------')\n",
    "\n",
    "    ## Plot predicted vs true\n",
    "    fig, ax = plt.subplots(nrows=1, ncols=2, figsize=(15,5))\n",
    "    from statsmodels.graphics.api import abline_plot\n",
    "    ax[0].scatter(y_predicted, y_true, color=\"black\")\n",
    "    abline_plot(intercept=0, slope=1, color=\"red\", ax=ax[0])\n",
    "    ax[0].vlines(x=max_pred, ymin=max_true, ymax=max_true-max_error, color='red', linestyle='--', alpha=0.7, label=\"max error\")\n",
    "    ax[0].grid(True)\n",
    "    ax[0].set(xlabel=\"Predicted\", ylabel=\"True\", title=\"Predicted vs True\")\n",
    "    ax[0].legend()\n",
    "\n",
    "    ## Plot predicted vs residuals\n",
    "    ax[1].scatter(y_predicted, residuals, color=\"red\")\n",
    "    ax[1].vlines(x=max_pred, ymin=0, ymax=max_error, color='black', linestyle='--', alpha=0.7, label=\"max error\")\n",
    "    ax[1].grid(True)\n",
    "    ax[1].set(xlabel=\"Predicted\", ylabel=\"Residuals\", title=\"Predicted vs Residuals\")\n",
    "    ax[1].hlines(y=0, xmin=np.min(y_predicted), xmax=np.max(y_predicted))\n",
    "    ax[1].legend()\n",
    "    plt.show()\n",
    "\n",
    "plot_2_error(y_true, y_predict)"
   ]
  },
  {
   "cell_type": "code",
   "execution_count": null,
   "metadata": {},
   "outputs": [],
   "source": []
  },
  {
   "cell_type": "code",
   "execution_count": null,
   "metadata": {},
   "outputs": [],
   "source": []
  },
  {
   "cell_type": "code",
   "execution_count": 19,
   "metadata": {},
   "outputs": [
    {
     "data": {
      "text/html": [
       "<style type=\"text/css\">\n",
       "#T_d2f52_row1_col0, #T_d2f52_row1_col1, #T_d2f52_row6_col0, #T_d2f52_row6_col1, #T_d2f52_row7_col0, #T_d2f52_row7_col1, #T_d2f52_row8_col0, #T_d2f52_row8_col1, #T_d2f52_row9_col0, #T_d2f52_row9_col1, #T_d2f52_row10_col0, #T_d2f52_row10_col1, #T_d2f52_row11_col0, #T_d2f52_row11_col1, #T_d2f52_row12_col0, #T_d2f52_row12_col1, #T_d2f52_row13_col0, #T_d2f52_row13_col1, #T_d2f52_row18_col0, #T_d2f52_row18_col1, #T_d2f52_row19_col0, #T_d2f52_row19_col1, #T_d2f52_row20_col0, #T_d2f52_row20_col1, #T_d2f52_row28_col0, #T_d2f52_row28_col1 {\n",
       "  background-color: yellow;\n",
       "}\n",
       "</style>\n",
       "<table id=\"T_d2f52\">\n",
       "  <thead>\n",
       "    <tr>\n",
       "      <th class=\"blank level0\" >&nbsp;</th>\n",
       "      <th id=\"T_d2f52_level0_col0\" class=\"col_heading level0 col0\" >index</th>\n",
       "      <th id=\"T_d2f52_level0_col1\" class=\"col_heading level0 col1\" >0</th>\n",
       "    </tr>\n",
       "  </thead>\n",
       "  <tbody>\n",
       "    <tr>\n",
       "      <th id=\"T_d2f52_level0_row0\" class=\"row_heading level0 row0\" >0</th>\n",
       "      <td id=\"T_d2f52_row0_col0\" class=\"data row0 col0\" >10</td>\n",
       "      <td id=\"T_d2f52_row0_col1\" class=\"data row0 col1\" >1</td>\n",
       "    </tr>\n",
       "    <tr>\n",
       "      <th id=\"T_d2f52_level0_row1\" class=\"row_heading level0 row1\" >1</th>\n",
       "      <td id=\"T_d2f52_row1_col0\" class=\"data row1 col0\" >27</td>\n",
       "      <td id=\"T_d2f52_row1_col1\" class=\"data row1 col1\" >airconditioning</td>\n",
       "    </tr>\n",
       "    <tr>\n",
       "      <th id=\"T_d2f52_level0_row2\" class=\"row_heading level0 row2\" >2</th>\n",
       "      <td id=\"T_d2f52_row2_col0\" class=\"data row2 col0\" >2</td>\n",
       "      <td id=\"T_d2f52_row2_col1\" class=\"data row2 col1\" >area</td>\n",
       "    </tr>\n",
       "    <tr>\n",
       "      <th id=\"T_d2f52_level0_row3\" class=\"row_heading level0 row3\" >3</th>\n",
       "      <td id=\"T_d2f52_row3_col0\" class=\"data row3 col0\" >12</td>\n",
       "      <td id=\"T_d2f52_row3_col1\" class=\"data row3 col1\" >area bathrooms</td>\n",
       "    </tr>\n",
       "    <tr>\n",
       "      <th id=\"T_d2f52_level0_row4\" class=\"row_heading level0 row4\" >4</th>\n",
       "      <td id=\"T_d2f52_row4_col0\" class=\"data row4 col0\" >4</td>\n",
       "      <td id=\"T_d2f52_row4_col1\" class=\"data row4 col1\" >area bedrooms</td>\n",
       "    </tr>\n",
       "    <tr>\n",
       "      <th id=\"T_d2f52_level0_row5\" class=\"row_heading level0 row5\" >5</th>\n",
       "      <td id=\"T_d2f52_row5_col0\" class=\"data row5 col0\" >5</td>\n",
       "      <td id=\"T_d2f52_row5_col1\" class=\"data row5 col1\" >area stories</td>\n",
       "    </tr>\n",
       "    <tr>\n",
       "      <th id=\"T_d2f52_level0_row6\" class=\"row_heading level0 row6\" >6</th>\n",
       "      <td id=\"T_d2f52_row6_col0\" class=\"data row6 col0\" >15</td>\n",
       "      <td id=\"T_d2f52_row6_col1\" class=\"data row6 col1\" >basement</td>\n",
       "    </tr>\n",
       "    <tr>\n",
       "      <th id=\"T_d2f52_level0_row7\" class=\"row_heading level0 row7\" >7</th>\n",
       "      <td id=\"T_d2f52_row7_col0\" class=\"data row7 col0\" >22</td>\n",
       "      <td id=\"T_d2f52_row7_col1\" class=\"data row7 col1\" >bathrooms</td>\n",
       "    </tr>\n",
       "    <tr>\n",
       "      <th id=\"T_d2f52_level0_row8\" class=\"row_heading level0 row8\" >8</th>\n",
       "      <td id=\"T_d2f52_row8_col0\" class=\"data row8 col0\" >19</td>\n",
       "      <td id=\"T_d2f52_row8_col1\" class=\"data row8 col1\" >bathrooms stories</td>\n",
       "    </tr>\n",
       "    <tr>\n",
       "      <th id=\"T_d2f52_level0_row9\" class=\"row_heading level0 row9\" >9</th>\n",
       "      <td id=\"T_d2f52_row9_col0\" class=\"data row9 col0\" >21</td>\n",
       "      <td id=\"T_d2f52_row9_col1\" class=\"data row9 col1\" >bedrooms</td>\n",
       "    </tr>\n",
       "    <tr>\n",
       "      <th id=\"T_d2f52_level0_row10\" class=\"row_heading level0 row10\" >10</th>\n",
       "      <td id=\"T_d2f52_row10_col0\" class=\"data row10 col0\" >18</td>\n",
       "      <td id=\"T_d2f52_row10_col1\" class=\"data row10 col1\" >bedrooms bathrooms</td>\n",
       "    </tr>\n",
       "    <tr>\n",
       "      <th id=\"T_d2f52_level0_row11\" class=\"row_heading level0 row11\" >11</th>\n",
       "      <td id=\"T_d2f52_row11_col0\" class=\"data row11 col0\" >28</td>\n",
       "      <td id=\"T_d2f52_row11_col1\" class=\"data row11 col1\" >bedrooms stories</td>\n",
       "    </tr>\n",
       "    <tr>\n",
       "      <th id=\"T_d2f52_level0_row12\" class=\"row_heading level0 row12\" >12</th>\n",
       "      <td id=\"T_d2f52_row12_col0\" class=\"data row12 col0\" >0</td>\n",
       "      <td id=\"T_d2f52_row12_col1\" class=\"data row12 col1\" >furnishingstatus</td>\n",
       "    </tr>\n",
       "    <tr>\n",
       "      <th id=\"T_d2f52_level0_row13\" class=\"row_heading level0 row13\" >13</th>\n",
       "      <td id=\"T_d2f52_row13_col0\" class=\"data row13 col0\" >16</td>\n",
       "      <td id=\"T_d2f52_row13_col1\" class=\"data row13 col1\" >guestroom</td>\n",
       "    </tr>\n",
       "    <tr>\n",
       "      <th id=\"T_d2f52_level0_row14\" class=\"row_heading level0 row14\" >14</th>\n",
       "      <td id=\"T_d2f52_row14_col0\" class=\"data row14 col0\" >17</td>\n",
       "      <td id=\"T_d2f52_row14_col1\" class=\"data row14 col1\" >hotwaterheating</td>\n",
       "    </tr>\n",
       "    <tr>\n",
       "      <th id=\"T_d2f52_level0_row15\" class=\"row_heading level0 row15\" >15</th>\n",
       "      <td id=\"T_d2f52_row15_col0\" class=\"data row15 col0\" >23</td>\n",
       "      <td id=\"T_d2f52_row15_col1\" class=\"data row15 col1\" >log_rnd_1</td>\n",
       "    </tr>\n",
       "    <tr>\n",
       "      <th id=\"T_d2f52_level0_row16\" class=\"row_heading level0 row16\" >16</th>\n",
       "      <td id=\"T_d2f52_row16_col0\" class=\"data row16 col0\" >14</td>\n",
       "      <td id=\"T_d2f52_row16_col1\" class=\"data row16 col1\" >log_rnd_2</td>\n",
       "    </tr>\n",
       "    <tr>\n",
       "      <th id=\"T_d2f52_level0_row17\" class=\"row_heading level0 row17\" >17</th>\n",
       "      <td id=\"T_d2f52_row17_col0\" class=\"data row17 col0\" >13</td>\n",
       "      <td id=\"T_d2f52_row17_col1\" class=\"data row17 col1\" >log_rnd_3</td>\n",
       "    </tr>\n",
       "    <tr>\n",
       "      <th id=\"T_d2f52_level0_row18\" class=\"row_heading level0 row18\" >18</th>\n",
       "      <td id=\"T_d2f52_row18_col0\" class=\"data row18 col0\" >3</td>\n",
       "      <td id=\"T_d2f52_row18_col1\" class=\"data row18 col1\" >mainroad</td>\n",
       "    </tr>\n",
       "    <tr>\n",
       "      <th id=\"T_d2f52_level0_row19\" class=\"row_heading level0 row19\" >19</th>\n",
       "      <td id=\"T_d2f52_row19_col0\" class=\"data row19 col0\" >24</td>\n",
       "      <td id=\"T_d2f52_row19_col1\" class=\"data row19 col1\" >parking</td>\n",
       "    </tr>\n",
       "    <tr>\n",
       "      <th id=\"T_d2f52_level0_row20\" class=\"row_heading level0 row20\" >20</th>\n",
       "      <td id=\"T_d2f52_row20_col0\" class=\"data row20 col0\" >20</td>\n",
       "      <td id=\"T_d2f52_row20_col1\" class=\"data row20 col1\" >prefarea</td>\n",
       "    </tr>\n",
       "    <tr>\n",
       "      <th id=\"T_d2f52_level0_row21\" class=\"row_heading level0 row21\" >21</th>\n",
       "      <td id=\"T_d2f52_row21_col0\" class=\"data row21 col0\" >11</td>\n",
       "      <td id=\"T_d2f52_row21_col1\" class=\"data row21 col1\" >rnd_1</td>\n",
       "    </tr>\n",
       "    <tr>\n",
       "      <th id=\"T_d2f52_level0_row22\" class=\"row_heading level0 row22\" >22</th>\n",
       "      <td id=\"T_d2f52_row22_col0\" class=\"data row22 col0\" >7</td>\n",
       "      <td id=\"T_d2f52_row22_col1\" class=\"data row22 col1\" >rnd_2</td>\n",
       "    </tr>\n",
       "    <tr>\n",
       "      <th id=\"T_d2f52_level0_row23\" class=\"row_heading level0 row23\" >23</th>\n",
       "      <td id=\"T_d2f52_row23_col0\" class=\"data row23 col0\" >1</td>\n",
       "      <td id=\"T_d2f52_row23_col1\" class=\"data row23 col1\" >rnd_3</td>\n",
       "    </tr>\n",
       "    <tr>\n",
       "      <th id=\"T_d2f52_level0_row24\" class=\"row_heading level0 row24\" >24</th>\n",
       "      <td id=\"T_d2f52_row24_col0\" class=\"data row24 col0\" >6</td>\n",
       "      <td id=\"T_d2f52_row24_col1\" class=\"data row24 col1\" >rnd_4</td>\n",
       "    </tr>\n",
       "    <tr>\n",
       "      <th id=\"T_d2f52_level0_row25\" class=\"row_heading level0 row25\" >25</th>\n",
       "      <td id=\"T_d2f52_row25_col0\" class=\"data row25 col0\" >8</td>\n",
       "      <td id=\"T_d2f52_row25_col1\" class=\"data row25 col1\" >rnd_5</td>\n",
       "    </tr>\n",
       "    <tr>\n",
       "      <th id=\"T_d2f52_level0_row26\" class=\"row_heading level0 row26\" >26</th>\n",
       "      <td id=\"T_d2f52_row26_col0\" class=\"data row26 col0\" >26</td>\n",
       "      <td id=\"T_d2f52_row26_col1\" class=\"data row26 col1\" >rnd_6</td>\n",
       "    </tr>\n",
       "    <tr>\n",
       "      <th id=\"T_d2f52_level0_row27\" class=\"row_heading level0 row27\" >27</th>\n",
       "      <td id=\"T_d2f52_row27_col0\" class=\"data row27 col0\" >9</td>\n",
       "      <td id=\"T_d2f52_row27_col1\" class=\"data row27 col1\" >rnd_7</td>\n",
       "    </tr>\n",
       "    <tr>\n",
       "      <th id=\"T_d2f52_level0_row28\" class=\"row_heading level0 row28\" >28</th>\n",
       "      <td id=\"T_d2f52_row28_col0\" class=\"data row28 col0\" >25</td>\n",
       "      <td id=\"T_d2f52_row28_col1\" class=\"data row28 col1\" >stories</td>\n",
       "    </tr>\n",
       "  </tbody>\n",
       "</table>\n"
      ],
      "text/plain": [
       "<pandas.io.formats.style.Styler at 0x7fafcf48e590>"
      ]
     },
     "execution_count": 19,
     "metadata": {},
     "output_type": "execute_result"
    }
   ],
   "source": [
    "mask = mask\n",
    "\n",
    "import pickle\n",
    "with open('saved_dictionary_b.pkl', 'rb') as f:\n",
    "    loaded_dict = pickle.load(f)\n",
    "\n",
    "color_dict = pd.Series(loaded_dict).to_frame().reset_index().sort_values(by=0).reset_index(drop=True)\n",
    "color = (color_dict['index'].isin(mask)).map({True: 'background-color: yellow', False: ''})\n",
    "color_dict.style.apply(lambda s: color)"
   ]
  },
  {
   "cell_type": "code",
   "execution_count": null,
   "metadata": {},
   "outputs": [],
   "source": []
  }
 ],
 "metadata": {
  "kernelspec": {
   "display_name": "Python 3 (ipykernel)",
   "language": "python",
   "name": "python3"
  },
  "language_info": {
   "codemirror_mode": {
    "name": "ipython",
    "version": 3
   },
   "file_extension": ".py",
   "mimetype": "text/x-python",
   "name": "python",
   "nbconvert_exporter": "python",
   "pygments_lexer": "ipython3",
   "version": "3.10.13"
  }
 },
 "nbformat": 4,
 "nbformat_minor": 2
}
