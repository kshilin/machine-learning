{
 "cells": [
  {
   "cell_type": "code",
   "execution_count": 1,
   "id": "533fb2b2-60ab-4712-9037-ec1093030ffb",
   "metadata": {
    "execution": {
     "iopub.execute_input": "2023-12-21T11:57:54.952858Z",
     "iopub.status.busy": "2023-12-21T11:57:54.952858Z",
     "iopub.status.idle": "2023-12-21T11:57:57.588582Z",
     "shell.execute_reply": "2023-12-21T11:57:57.587562Z",
     "shell.execute_reply.started": "2023-12-21T11:57:54.952858Z"
    }
   },
   "outputs": [],
   "source": [
    "import category_encoders as ce\n",
    "import numpy as np\n",
    "import matplotlib.pyplot as plt\n",
    "from sklearn.metrics import mean_absolute_percentage_error\n",
    "import pandas as pd\n",
    "from sklearn.model_selection import KFold, cross_val_score, train_test_split\n",
    "from sklearn.ensemble import RandomForestClassifier, GradientBoostingClassifier\n",
    "from sklearn.neighbors import KNeighborsRegressor\n",
    "from sklearn.compose import TransformedTargetRegressor\n",
    "import matplotlib.pyplot as plt\n",
    "from sklearn.preprocessing import OneHotEncoder, PowerTransformer\n",
    "from category_encoders import TargetEncoder\n",
    "import seaborn as sns\n",
    "from sklearn.metrics import recall_score, precision_score, f1_score\n",
    "from sklearn.model_selection import train_test_split, cross_val_score, GridSearchCV, KFold \n",
    "from sklearn.pipeline import Pipeline, make_pipeline\n",
    "from sklearn.preprocessing import MinMaxScaler, StandardScaler, RobustScaler, Normalizer\n",
    "from sklearn.neighbors import KNeighborsClassifier \n",
    "from sklearn.linear_model import LogisticRegression\n",
    "from sklearn.metrics import roc_auc_score\n",
    "from sklearn.metrics import classification_report\n",
    "from sklearn.naive_bayes import GaussianNB \n",
    "from sklearn.model_selection import cross_val_predict\n",
    "from sklearn.linear_model import Lasso\n",
    "from sklearn.model_selection import StratifiedKFold, cross_val_score\n",
    "import pandas as pd\n",
    "from sklearn.model_selection import train_test_split\n",
    "from sklearn.linear_model import Ridge\n",
    "from sklearn.svm import SVR\n",
    "from sklearn.preprocessing import KBinsDiscretizer\n",
    "from sklearn.metrics import mean_absolute_error\n",
    "from sklearn.compose import ColumnTransformer\n",
    "from sklearn.preprocessing import OneHotEncoder\n",
    "from sklearn.pipeline import Pipeline\n",
    "from sklearn.preprocessing import StandardScaler\n",
    "from sklearn.compose import ColumnTransformer\n",
    "from sklearn.linear_model import Ridge\n",
    "from sklearn.metrics import mean_squared_error\n",
    "from sklearn.preprocessing import PolynomialFeatures, StandardScaler, QuantileTransformer\n",
    "from sklearn.preprocessing import PowerTransformer\n",
    "from sklearn.metrics import mean_absolute_percentage_error\n",
    "from sklearn.tree import DecisionTreeRegressor\n",
    "from sklearn.ensemble import BaggingRegressor, GradientBoostingRegressor\n",
    "import matplotlib.pyplot as plt\n",
    "from sklearn.svm import SVC\n",
    "from sklearn.model_selection import StratifiedKFold\n",
    "from sklearn.feature_selection import RFECV\n",
    "from sklearn.datasets import make_classification\n",
    "\n",
    "from sklearn.model_selection import train_test_split\n",
    "from sklearn.ensemble import GradientBoostingClassifier, RandomForestClassifier,RandomForestRegressor\n",
    "from sklearn.inspection import permutation_importance\n",
    "from sklearn.metrics import accuracy_score\n",
    "from sklearn.metrics import confusion_matrix, ConfusionMatrixDisplay\n",
    "from IPython.display import display\n",
    "\n",
    "import matplotlib.pyplot as plt\n",
    "from sklearn.svm import SVC\n",
    "from sklearn.model_selection import StratifiedKFold\n",
    "from sklearn.feature_selection import RFECV\n",
    "from sklearn.datasets import make_classification\n",
    "\n",
    "from IPython.display import display\n",
    "from sklearn.feature_selection import RFECV\n",
    "from sklearn.model_selection import train_test_split\n",
    "from sklearn.linear_model import Ridge\n",
    "from sklearn.ensemble import RandomForestClassifier\n",
    "from sklearn.feature_selection import VarianceThreshold\n",
    "from sklearn.feature_selection import SelectPercentile\n",
    "\n",
    "from sklearn.preprocessing import PowerTransformer\n",
    "\n",
    "from sklearn.datasets import load_breast_cancer\n",
    "\n",
    "from sklearn.model_selection import GridSearchCV, KFold, StratifiedShuffleSplit"
   ]
  },
  {
   "cell_type": "code",
   "execution_count": 2,
   "id": "7a1e37fc-afce-4f68-a660-46db7181768b",
   "metadata": {
    "execution": {
     "iopub.execute_input": "2023-12-21T11:57:57.590584Z",
     "iopub.status.busy": "2023-12-21T11:57:57.590584Z",
     "iopub.status.idle": "2023-12-21T11:57:57.598718Z",
     "shell.execute_reply": "2023-12-21T11:57:57.597181Z",
     "shell.execute_reply.started": "2023-12-21T11:57:57.590584Z"
    }
   },
   "outputs": [],
   "source": [
    "# Внимание!!! Важно, что бы файлы с данными и исполняемый файл находились в одной папке,\n",
    "# тогда пути к тестовым и тренировочным наборам будут содержать только имена файлов.\n",
    "#\n",
    "# В пути к тренировочным и тестовым данным запрежается использовать абсалютную адресацию,\n",
    "# то есть адресацию, в которой присутствуют имена папок. Путь должен содержать только имя файла.\n",
    "#\n",
    "# Напоминание: под моделью машинного обучения понимаются все действия с исходными данными,\n",
    "# которые необходимо произвести, что бы сопоставить признаки целевому значению."
   ]
  },
  {
   "cell_type": "markdown",
   "id": "224014c9-cfff-4a2b-8322-c5e64bbf1eeb",
   "metadata": {},
   "source": [
    "### Область работы 1 (библиотеки)"
   ]
  },
  {
   "cell_type": "code",
   "execution_count": 3,
   "id": "68988ed3-3530-4541-b206-b8e74f2788f1",
   "metadata": {
    "execution": {
     "iopub.execute_input": "2023-12-21T11:57:57.601800Z",
     "iopub.status.busy": "2023-12-21T11:57:57.599774Z",
     "iopub.status.idle": "2023-12-21T11:57:57.608644Z",
     "shell.execute_reply": "2023-12-21T11:57:57.607627Z",
     "shell.execute_reply.started": "2023-12-21T11:57:57.601800Z"
    }
   },
   "outputs": [],
   "source": [
    "# Данный блок в области 1 выполняется преподавателем\n",
    "#\n",
    "# данный блок предназначен только для подключения необходимых библиотек\n",
    "# запрещается подключать библиотеки в других блоках\n",
    "# запрещается скрывать предупреждения системы\n",
    "# установка дополнительных библиотек размещается прямо здесь (обязательно закоментированы)\n",
    "# pip install"
   ]
  },
  {
   "cell_type": "code",
   "execution_count": 4,
   "id": "d67f21bf-99dd-4b6e-baf6-af0a58160638",
   "metadata": {
    "execution": {
     "iopub.execute_input": "2023-12-21T11:57:57.611653Z",
     "iopub.status.busy": "2023-12-21T11:57:57.610650Z",
     "iopub.status.idle": "2023-12-21T11:57:57.631394Z",
     "shell.execute_reply": "2023-12-21T11:57:57.630376Z",
     "shell.execute_reply.started": "2023-12-21T11:57:57.611653Z"
    }
   },
   "outputs": [],
   "source": [
    "import pandas as pd\n",
    "import category_encoders as ce\n",
    "import numpy as np\n",
    "import pandas as pd\n",
    "import plotly\n",
    "from sklearn.model_selection import KFold, cross_val_score, train_test_split\n",
    "from sklearn.ensemble import RandomForestClassifier, GradientBoostingClassifier\n",
    "from sklearn.neighbors import KNeighborsRegressor\n",
    "from sklearn.compose import TransformedTargetRegressor\n",
    "import matplotlib.pyplot as plt\n",
    "from category_encoders import TargetEncoder\n",
    "import seaborn as sns\n",
    "from sklearn import ensemble #ансамбл\n",
    "from sklearn.metrics import recall_score, precision_score, f1_score\n",
    "from sklearn.model_selection import train_test_split, cross_val_score, GridSearchCV, KFold \n",
    "from sklearn.pipeline import Pipeline, make_pipeline\n",
    "from sklearn.preprocessing import MinMaxScaler, StandardScaler, RobustScaler, Normalizer\n",
    "from sklearn.neighbors import KNeighborsClassifier \n",
    "from sklearn.linear_model import LogisticRegression\n",
    "from sklearn.metrics import roc_auc_score\n",
    "from sklearn.metrics import classification_report\n",
    "from sklearn.naive_bayes import GaussianNB \n",
    "from sklearn.model_selection import cross_val_predict\n",
    "from sklearn.linear_model import Lasso\n",
    "from sklearn.model_selection import StratifiedKFold, cross_val_score\n",
    "import pandas as pd\n",
    "from sklearn.model_selection import train_test_split\n",
    "from sklearn.linear_model import Ridge\n",
    "from sklearn.svm import SVR\n",
    "from sklearn.preprocessing import KBinsDiscretizer\n",
    "from sklearn.metrics import mean_absolute_error\n",
    "from sklearn.compose import ColumnTransformer\n",
    "from sklearn.preprocessing import OneHotEncoder\n",
    "from sklearn.pipeline import Pipeline\n",
    "from sklearn.preprocessing import StandardScaler\n",
    "from sklearn.compose import ColumnTransformer\n",
    "from sklearn.linear_model import Ridge\n",
    "from sklearn.metrics import mean_squared_error\n",
    "from sklearn.preprocessing import PolynomialFeatures, StandardScaler, QuantileTransformer\n",
    "from sklearn.preprocessing import PowerTransformer\n",
    "from sklearn.metrics import mean_absolute_percentage_error\n",
    "from sklearn.tree import DecisionTreeRegressor\n",
    "from sklearn.ensemble import BaggingRegressor, GradientBoostingRegressor\n",
    "from sklearn.model_selection import GridSearchCV, KFold, StratifiedShuffleSplit"
   ]
  },
  {
   "cell_type": "code",
   "execution_count": 5,
   "id": "14b263ae-5af6-44d3-8c1f-2ebc913dfd76",
   "metadata": {
    "execution": {
     "iopub.execute_input": "2023-12-21T11:57:58.077686Z",
     "iopub.status.busy": "2023-12-21T11:57:58.076686Z",
     "iopub.status.idle": "2023-12-21T11:57:58.083476Z",
     "shell.execute_reply": "2023-12-21T11:57:58.082848Z",
     "shell.execute_reply.started": "2023-12-21T11:57:58.077686Z"
    }
   },
   "outputs": [],
   "source": [
    "# Данный блок(и) в области 2 выполняется преподавателем\n",
    "#\n",
    "# В области находится одна, единственная, итоговая модель машинного обучения с однозначными,\n",
    "# зафиксированными параметрами\n",
    "#\n",
    "# В данной области категорически запрещается искать, выбирать, улучшать, оптимизировать,\n",
    "# тюниговать и т.д. модель машинного обучения"
   ]
  },
  {
   "cell_type": "code",
   "execution_count": 6,
   "id": "4fea4b9f-79d4-4c2f-b9e1-235d2b0a6478",
   "metadata": {
    "execution": {
     "iopub.execute_input": "2023-12-21T12:20:20.831513Z",
     "iopub.status.busy": "2023-12-21T12:20:20.830517Z",
     "iopub.status.idle": "2023-12-21T12:20:20.837371Z",
     "shell.execute_reply": "2023-12-21T12:20:20.836339Z",
     "shell.execute_reply.started": "2023-12-21T12:20:20.831513Z"
    }
   },
   "outputs": [],
   "source": [
    "# Путь к тренировочному набору\n",
    "path_train = \"train_house_B.csv\"  # содержит только имя файла, без имен папок\n",
    "# Путь к тестовому набору\n",
    "path_test = \"test_house_B.csv\"  # содержит только имя файла, без имен папок"
   ]
  },
  {
   "cell_type": "code",
   "execution_count": 7,
   "id": "23cdd79f-13d3-4046-909d-ffd9985c4e30",
   "metadata": {
    "execution": {
     "iopub.execute_input": "2023-12-21T12:20:21.250480Z",
     "iopub.status.busy": "2023-12-21T12:20:21.250480Z",
     "iopub.status.idle": "2023-12-21T12:20:21.271867Z",
     "shell.execute_reply": "2023-12-21T12:20:21.270856Z",
     "shell.execute_reply.started": "2023-12-21T12:20:21.250480Z"
    }
   },
   "outputs": [],
   "source": [
    "train = pd.read_csv(path_train)\n",
    "test = pd.read_csv(path_test)"
   ]
  },
  {
   "cell_type": "code",
   "execution_count": 8,
   "id": "acca063f-8b7d-4be6-9807-b32d2d5ad9f2",
   "metadata": {
    "execution": {
     "iopub.execute_input": "2023-12-21T12:20:23.462255Z",
     "iopub.status.busy": "2023-12-21T12:20:23.461256Z",
     "iopub.status.idle": "2023-12-21T12:20:23.477142Z",
     "shell.execute_reply": "2023-12-21T12:20:23.476121Z",
     "shell.execute_reply.started": "2023-12-21T12:20:23.462255Z"
    }
   },
   "outputs": [],
   "source": [
    "train = train[train['4'] >= train['4'].quantile(0.02)]\n",
    "train = train[train['4'] <= train['4'].quantile(0.98)]\n",
    "train = train[train['12'] >= train['12'].quantile(0.02)]\n",
    "train = train[train['12'] <= train['12'].quantile(0.98)]"
   ]
  },
  {
   "cell_type": "code",
   "execution_count": 9,
   "id": "2c50b537-6ab6-43a9-997f-ac66a3957250",
   "metadata": {
    "execution": {
     "iopub.execute_input": "2023-12-21T12:20:23.844159Z",
     "iopub.status.busy": "2023-12-21T12:20:23.843153Z",
     "iopub.status.idle": "2023-12-21T12:20:23.850261Z",
     "shell.execute_reply": "2023-12-21T12:20:23.849029Z",
     "shell.execute_reply.started": "2023-12-21T12:20:23.844159Z"
    }
   },
   "outputs": [],
   "source": [
    "y = train.price"
   ]
  },
  {
   "cell_type": "markdown",
   "id": "41cb0261-553a-48ba-a11d-5e855de8ed68",
   "metadata": {},
   "source": [
    "# Выбранные колонки : ['0', '2', '3', '4', '12', '13', '15', '16', '20', '22', '24', '25',  '27']"
   ]
  },
  {
   "cell_type": "code",
   "execution_count": 10,
   "id": "09ed912b-ccf5-4b26-ab3c-e995090a6a77",
   "metadata": {
    "execution": {
     "iopub.execute_input": "2023-12-21T12:20:25.257728Z",
     "iopub.status.busy": "2023-12-21T12:20:25.256743Z",
     "iopub.status.idle": "2023-12-21T12:20:25.263754Z",
     "shell.execute_reply": "2023-12-21T12:20:25.263255Z",
     "shell.execute_reply.started": "2023-12-21T12:20:25.257728Z"
    }
   },
   "outputs": [],
   "source": [
    "norm_columns = ['0', '2', '3', '4', '12', '13', '15', '16', '20', '22', '24', '25', '27']"
   ]
  },
  {
   "cell_type": "code",
   "execution_count": 11,
   "id": "6452980c-a34e-4d5c-aba9-6be2d83bc5a5",
   "metadata": {
    "execution": {
     "iopub.execute_input": "2023-12-21T12:20:25.598957Z",
     "iopub.status.busy": "2023-12-21T12:20:25.598957Z",
     "iopub.status.idle": "2023-12-21T12:20:25.608555Z",
     "shell.execute_reply": "2023-12-21T12:20:25.607539Z",
     "shell.execute_reply.started": "2023-12-21T12:20:25.598957Z"
    },
    "scrolled": true
   },
   "outputs": [],
   "source": [
    "train = train.loc[:,norm_columns]\n",
    "test = test.loc[:,norm_columns]"
   ]
  },
  {
   "cell_type": "code",
   "execution_count": 12,
   "id": "d385952c-6d2d-4f5c-ad36-3485537f4261",
   "metadata": {
    "execution": {
     "iopub.execute_input": "2023-12-21T12:20:25.908553Z",
     "iopub.status.busy": "2023-12-21T12:20:25.907553Z",
     "iopub.status.idle": "2023-12-21T12:20:25.917094Z",
     "shell.execute_reply": "2023-12-21T12:20:25.915958Z",
     "shell.execute_reply.started": "2023-12-21T12:20:25.908553Z"
    },
    "scrolled": true
   },
   "outputs": [],
   "source": [
    "model_2 = Ridge(alpha=23)\n",
    "\n",
    "model_ridge = model_2.fit(train, y)\n"
   ]
  },
  {
   "cell_type": "code",
   "execution_count": 13,
   "id": "57d9809f-7619-45ba-a068-2cf9b734ee14",
   "metadata": {
    "execution": {
     "iopub.execute_input": "2023-12-21T12:20:26.258137Z",
     "iopub.status.busy": "2023-12-21T12:20:26.257120Z",
     "iopub.status.idle": "2023-12-21T12:20:26.264212Z",
     "shell.execute_reply": "2023-12-21T12:20:26.264212Z",
     "shell.execute_reply.started": "2023-12-21T12:20:26.258137Z"
    }
   },
   "outputs": [],
   "source": [
    "y_pred = model_ridge.predict(test)"
   ]
  },
  {
   "cell_type": "code",
   "execution_count": 16,
   "id": "474e7a2b-034d-4f84-9039-9cf9454d2e82",
   "metadata": {
    "execution": {
     "iopub.execute_input": "2023-12-21T12:20:27.738659Z",
     "iopub.status.busy": "2023-12-21T12:20:27.738659Z",
     "iopub.status.idle": "2023-12-21T12:20:27.750867Z",
     "shell.execute_reply": "2023-12-21T12:20:27.748848Z",
     "shell.execute_reply.started": "2023-12-21T12:20:27.738659Z"
    },
    "scrolled": true
   },
   "outputs": [],
   "source": [
    "y_predict = y_pred"
   ]
  },
  {
   "cell_type": "code",
   "execution_count": 17,
   "id": "31473aff-7768-4ebd-9d48-62e41368bca0",
   "metadata": {},
   "outputs": [
    {
     "name": "stdout",
     "output_type": "stream",
     "text": [
      "(137,) (137,)\n",
      "Отрицательные цены -  0\n",
      "Max Error: 4,893,364\n",
      " \n",
      "----------------------\n",
      "   MAPE Error: 17.05\n",
      "----------------------\n"
     ]
    },
    {
     "data": {
      "image/png": "[encoded data removed]",
      "text/plain": [
       "<Figure size 1500x500 with 2 Axes>"
      ]
     },
     "metadata": {},
     "output_type": "display_data"
    }
   ],
   "source": [
    "from sklearn.metrics import mean_absolute_percentage_error\n",
    "import matplotlib.pyplot as plt\n",
    "import matplotlib.pyplot as plt\n",
    "\n",
    "y_true = pd.read_csv(\"test_Y_true_house_B.csv\").values.reshape(-1)\n",
    "print(y_predict.shape, y_true.shape)\n",
    "print('Отрицательные цены - ', sum(y_predict<0))\n",
    "\n",
    "def plot_2_error(y_true, y_predicted):\n",
    "    residuals = y_true - y_predicted\n",
    "    max_error = max(residuals) if abs(max(residuals)) > abs(min(residuals)) else min(residuals)\n",
    "    max_idx = list(residuals).index(max(residuals)) if abs(max(residuals)) > abs(min(residuals)) else list(residuals).index(min(residuals))\n",
    "    max_true, max_pred = y_true[max_idx], y_predicted[max_idx]\n",
    "    mape = mean_absolute_percentage_error(y_true, y_predict)\n",
    "    print(\"Max Error:\", \"{:,.0f}\".format(max_error))\n",
    "    print(' ')\n",
    "    print('----------------------')\n",
    "    print(\"   MAPE Error:\", \"{:,.2f}\".format(mape*100))\n",
    "    print('----------------------')\n",
    "\n",
    "    ## Plot predicted vs true\n",
    "    fig, ax = plt.subplots(nrows=1, ncols=2, figsize=(15,5))\n",
    "    from statsmodels.graphics.api import abline_plot\n",
    "    ax[0].scatter(y_predicted, y_true, color=\"black\")\n",
    "    abline_plot(intercept=0, slope=1, color=\"red\", ax=ax[0])\n",
    "    ax[0].vlines(x=max_pred, ymin=max_true, ymax=max_true-max_error, color='red', linestyle='--', alpha=0.7, label=\"max error\")\n",
    "    ax[0].grid(True)\n",
    "    ax[0].set(xlabel=\"Predicted\", ylabel=\"True\", title=\"Predicted vs True\")\n",
    "    ax[0].legend()\n",
    "\n",
    "    ## Plot predicted vs residuals\n",
    "    ax[1].scatter(y_predicted, residuals, color=\"red\")\n",
    "    ax[1].vlines(x=max_pred, ymin=0, ymax=max_error, color='black', linestyle='--', alpha=0.7, label=\"max error\")\n",
    "    ax[1].grid(True)\n",
    "    ax[1].set(xlabel=\"Predicted\", ylabel=\"Residuals\", title=\"Predicted vs Residuals\")\n",
    "    ax[1].hlines(y=0, xmin=np.min(y_predicted), xmax=np.max(y_predicted))\n",
    "    ax[1].legend()\n",
    "    plt.show()\n",
    "\n",
    "plot_2_error(y_true, y_predict)"
   ]
  },
  {
   "cell_type": "code",
   "execution_count": 18,
   "id": "443d088e",
   "metadata": {},
   "outputs": [
    {
     "data": {
      "text/html": [
       "<style type=\"text/css\">\n",
       "#T_b7182_row1_col0, #T_b7182_row1_col1, #T_b7182_row2_col0, #T_b7182_row2_col1, #T_b7182_row3_col0, #T_b7182_row3_col1, #T_b7182_row4_col0, #T_b7182_row4_col1, #T_b7182_row6_col0, #T_b7182_row6_col1, #T_b7182_row7_col0, #T_b7182_row7_col1, #T_b7182_row12_col0, #T_b7182_row12_col1, #T_b7182_row13_col0, #T_b7182_row13_col1, #T_b7182_row17_col0, #T_b7182_row17_col1, #T_b7182_row18_col0, #T_b7182_row18_col1, #T_b7182_row19_col0, #T_b7182_row19_col1, #T_b7182_row20_col0, #T_b7182_row20_col1, #T_b7182_row28_col0, #T_b7182_row28_col1 {\n",
       "  background-color: yellow;\n",
       "}\n",
       "</style>\n",
       "<table id=\"T_b7182\">\n",
       "  <thead>\n",
       "    <tr>\n",
       "      <th class=\"blank level0\" >&nbsp;</th>\n",
       "      <th id=\"T_b7182_level0_col0\" class=\"col_heading level0 col0\" >index</th>\n",
       "      <th id=\"T_b7182_level0_col1\" class=\"col_heading level0 col1\" >0</th>\n",
       "    </tr>\n",
       "  </thead>\n",
       "  <tbody>\n",
       "    <tr>\n",
       "      <th id=\"T_b7182_level0_row0\" class=\"row_heading level0 row0\" >0</th>\n",
       "      <td id=\"T_b7182_row0_col0\" class=\"data row0 col0\" >10</td>\n",
       "      <td id=\"T_b7182_row0_col1\" class=\"data row0 col1\" >1</td>\n",
       "    </tr>\n",
       "    <tr>\n",
       "      <th id=\"T_b7182_level0_row1\" class=\"row_heading level0 row1\" >1</th>\n",
       "      <td id=\"T_b7182_row1_col0\" class=\"data row1 col0\" >27</td>\n",
       "      <td id=\"T_b7182_row1_col1\" class=\"data row1 col1\" >airconditioning</td>\n",
       "    </tr>\n",
       "    <tr>\n",
       "      <th id=\"T_b7182_level0_row2\" class=\"row_heading level0 row2\" >2</th>\n",
       "      <td id=\"T_b7182_row2_col0\" class=\"data row2 col0\" >2</td>\n",
       "      <td id=\"T_b7182_row2_col1\" class=\"data row2 col1\" >area</td>\n",
       "    </tr>\n",
       "    <tr>\n",
       "      <th id=\"T_b7182_level0_row3\" class=\"row_heading level0 row3\" >3</th>\n",
       "      <td id=\"T_b7182_row3_col0\" class=\"data row3 col0\" >12</td>\n",
       "      <td id=\"T_b7182_row3_col1\" class=\"data row3 col1\" >area bathrooms</td>\n",
       "    </tr>\n",
       "    <tr>\n",
       "      <th id=\"T_b7182_level0_row4\" class=\"row_heading level0 row4\" >4</th>\n",
       "      <td id=\"T_b7182_row4_col0\" class=\"data row4 col0\" >4</td>\n",
       "      <td id=\"T_b7182_row4_col1\" class=\"data row4 col1\" >area bedrooms</td>\n",
       "    </tr>\n",
       "    <tr>\n",
       "      <th id=\"T_b7182_level0_row5\" class=\"row_heading level0 row5\" >5</th>\n",
       "      <td id=\"T_b7182_row5_col0\" class=\"data row5 col0\" >5</td>\n",
       "      <td id=\"T_b7182_row5_col1\" class=\"data row5 col1\" >area stories</td>\n",
       "    </tr>\n",
       "    <tr>\n",
       "      <th id=\"T_b7182_level0_row6\" class=\"row_heading level0 row6\" >6</th>\n",
       "      <td id=\"T_b7182_row6_col0\" class=\"data row6 col0\" >15</td>\n",
       "      <td id=\"T_b7182_row6_col1\" class=\"data row6 col1\" >basement</td>\n",
       "    </tr>\n",
       "    <tr>\n",
       "      <th id=\"T_b7182_level0_row7\" class=\"row_heading level0 row7\" >7</th>\n",
       "      <td id=\"T_b7182_row7_col0\" class=\"data row7 col0\" >22</td>\n",
       "      <td id=\"T_b7182_row7_col1\" class=\"data row7 col1\" >bathrooms</td>\n",
       "    </tr>\n",
       "    <tr>\n",
       "      <th id=\"T_b7182_level0_row8\" class=\"row_heading level0 row8\" >8</th>\n",
       "      <td id=\"T_b7182_row8_col0\" class=\"data row8 col0\" >19</td>\n",
       "      <td id=\"T_b7182_row8_col1\" class=\"data row8 col1\" >bathrooms stories</td>\n",
       "    </tr>\n",
       "    <tr>\n",
       "      <th id=\"T_b7182_level0_row9\" class=\"row_heading level0 row9\" >9</th>\n",
       "      <td id=\"T_b7182_row9_col0\" class=\"data row9 col0\" >21</td>\n",
       "      <td id=\"T_b7182_row9_col1\" class=\"data row9 col1\" >bedrooms</td>\n",
       "    </tr>\n",
       "    <tr>\n",
       "      <th id=\"T_b7182_level0_row10\" class=\"row_heading level0 row10\" >10</th>\n",
       "      <td id=\"T_b7182_row10_col0\" class=\"data row10 col0\" >18</td>\n",
       "      <td id=\"T_b7182_row10_col1\" class=\"data row10 col1\" >bedrooms bathrooms</td>\n",
       "    </tr>\n",
       "    <tr>\n",
       "      <th id=\"T_b7182_level0_row11\" class=\"row_heading level0 row11\" >11</th>\n",
       "      <td id=\"T_b7182_row11_col0\" class=\"data row11 col0\" >28</td>\n",
       "      <td id=\"T_b7182_row11_col1\" class=\"data row11 col1\" >bedrooms stories</td>\n",
       "    </tr>\n",
       "    <tr>\n",
       "      <th id=\"T_b7182_level0_row12\" class=\"row_heading level0 row12\" >12</th>\n",
       "      <td id=\"T_b7182_row12_col0\" class=\"data row12 col0\" >0</td>\n",
       "      <td id=\"T_b7182_row12_col1\" class=\"data row12 col1\" >furnishingstatus</td>\n",
       "    </tr>\n",
       "    <tr>\n",
       "      <th id=\"T_b7182_level0_row13\" class=\"row_heading level0 row13\" >13</th>\n",
       "      <td id=\"T_b7182_row13_col0\" class=\"data row13 col0\" >16</td>\n",
       "      <td id=\"T_b7182_row13_col1\" class=\"data row13 col1\" >guestroom</td>\n",
       "    </tr>\n",
       "    <tr>\n",
       "      <th id=\"T_b7182_level0_row14\" class=\"row_heading level0 row14\" >14</th>\n",
       "      <td id=\"T_b7182_row14_col0\" class=\"data row14 col0\" >17</td>\n",
       "      <td id=\"T_b7182_row14_col1\" class=\"data row14 col1\" >hotwaterheating</td>\n",
       "    </tr>\n",
       "    <tr>\n",
       "      <th id=\"T_b7182_level0_row15\" class=\"row_heading level0 row15\" >15</th>\n",
       "      <td id=\"T_b7182_row15_col0\" class=\"data row15 col0\" >23</td>\n",
       "      <td id=\"T_b7182_row15_col1\" class=\"data row15 col1\" >log_rnd_1</td>\n",
       "    </tr>\n",
       "    <tr>\n",
       "      <th id=\"T_b7182_level0_row16\" class=\"row_heading level0 row16\" >16</th>\n",
       "      <td id=\"T_b7182_row16_col0\" class=\"data row16 col0\" >14</td>\n",
       "      <td id=\"T_b7182_row16_col1\" class=\"data row16 col1\" >log_rnd_2</td>\n",
       "    </tr>\n",
       "    <tr>\n",
       "      <th id=\"T_b7182_level0_row17\" class=\"row_heading level0 row17\" >17</th>\n",
       "      <td id=\"T_b7182_row17_col0\" class=\"data row17 col0\" >13</td>\n",
       "      <td id=\"T_b7182_row17_col1\" class=\"data row17 col1\" >log_rnd_3</td>\n",
       "    </tr>\n",
       "    <tr>\n",
       "      <th id=\"T_b7182_level0_row18\" class=\"row_heading level0 row18\" >18</th>\n",
       "      <td id=\"T_b7182_row18_col0\" class=\"data row18 col0\" >3</td>\n",
       "      <td id=\"T_b7182_row18_col1\" class=\"data row18 col1\" >mainroad</td>\n",
       "    </tr>\n",
       "    <tr>\n",
       "      <th id=\"T_b7182_level0_row19\" class=\"row_heading level0 row19\" >19</th>\n",
       "      <td id=\"T_b7182_row19_col0\" class=\"data row19 col0\" >24</td>\n",
       "      <td id=\"T_b7182_row19_col1\" class=\"data row19 col1\" >parking</td>\n",
       "    </tr>\n",
       "    <tr>\n",
       "      <th id=\"T_b7182_level0_row20\" class=\"row_heading level0 row20\" >20</th>\n",
       "      <td id=\"T_b7182_row20_col0\" class=\"data row20 col0\" >20</td>\n",
       "      <td id=\"T_b7182_row20_col1\" class=\"data row20 col1\" >prefarea</td>\n",
       "    </tr>\n",
       "    <tr>\n",
       "      <th id=\"T_b7182_level0_row21\" class=\"row_heading level0 row21\" >21</th>\n",
       "      <td id=\"T_b7182_row21_col0\" class=\"data row21 col0\" >11</td>\n",
       "      <td id=\"T_b7182_row21_col1\" class=\"data row21 col1\" >rnd_1</td>\n",
       "    </tr>\n",
       "    <tr>\n",
       "      <th id=\"T_b7182_level0_row22\" class=\"row_heading level0 row22\" >22</th>\n",
       "      <td id=\"T_b7182_row22_col0\" class=\"data row22 col0\" >7</td>\n",
       "      <td id=\"T_b7182_row22_col1\" class=\"data row22 col1\" >rnd_2</td>\n",
       "    </tr>\n",
       "    <tr>\n",
       "      <th id=\"T_b7182_level0_row23\" class=\"row_heading level0 row23\" >23</th>\n",
       "      <td id=\"T_b7182_row23_col0\" class=\"data row23 col0\" >1</td>\n",
       "      <td id=\"T_b7182_row23_col1\" class=\"data row23 col1\" >rnd_3</td>\n",
       "    </tr>\n",
       "    <tr>\n",
       "      <th id=\"T_b7182_level0_row24\" class=\"row_heading level0 row24\" >24</th>\n",
       "      <td id=\"T_b7182_row24_col0\" class=\"data row24 col0\" >6</td>\n",
       "      <td id=\"T_b7182_row24_col1\" class=\"data row24 col1\" >rnd_4</td>\n",
       "    </tr>\n",
       "    <tr>\n",
       "      <th id=\"T_b7182_level0_row25\" class=\"row_heading level0 row25\" >25</th>\n",
       "      <td id=\"T_b7182_row25_col0\" class=\"data row25 col0\" >8</td>\n",
       "      <td id=\"T_b7182_row25_col1\" class=\"data row25 col1\" >rnd_5</td>\n",
       "    </tr>\n",
       "    <tr>\n",
       "      <th id=\"T_b7182_level0_row26\" class=\"row_heading level0 row26\" >26</th>\n",
       "      <td id=\"T_b7182_row26_col0\" class=\"data row26 col0\" >26</td>\n",
       "      <td id=\"T_b7182_row26_col1\" class=\"data row26 col1\" >rnd_6</td>\n",
       "    </tr>\n",
       "    <tr>\n",
       "      <th id=\"T_b7182_level0_row27\" class=\"row_heading level0 row27\" >27</th>\n",
       "      <td id=\"T_b7182_row27_col0\" class=\"data row27 col0\" >9</td>\n",
       "      <td id=\"T_b7182_row27_col1\" class=\"data row27 col1\" >rnd_7</td>\n",
       "    </tr>\n",
       "    <tr>\n",
       "      <th id=\"T_b7182_level0_row28\" class=\"row_heading level0 row28\" >28</th>\n",
       "      <td id=\"T_b7182_row28_col0\" class=\"data row28 col0\" >25</td>\n",
       "      <td id=\"T_b7182_row28_col1\" class=\"data row28 col1\" >stories</td>\n",
       "    </tr>\n",
       "  </tbody>\n",
       "</table>\n"
      ],
      "text/plain": [
       "<pandas.io.formats.style.Styler at 0x7fe67ec9e2f0>"
      ]
     },
     "execution_count": 18,
     "metadata": {},
     "output_type": "execute_result"
    }
   ],
   "source": [
    "mask = norm_columns\n",
    "\n",
    "import pickle\n",
    "with open('saved_dictionary_b.pkl', 'rb') as f:\n",
    "    loaded_dict = pickle.load(f)\n",
    "\n",
    "color_dict = pd.Series(loaded_dict).to_frame().reset_index().sort_values(by=0).reset_index(drop=True)\n",
    "color = (color_dict['index'].isin(mask)).map({True: 'background-color: yellow', False: ''})\n",
    "color_dict.style.apply(lambda s: color)"
   ]
  },
  {
   "cell_type": "code",
   "execution_count": null,
   "id": "09d6383c",
   "metadata": {},
   "outputs": [],
   "source": []
  }
 ],
 "metadata": {
  "kernelspec": {
   "display_name": "Python 3 (ipykernel)",
   "language": "python",
   "name": "python3"
  },
  "language_info": {
   "codemirror_mode": {
    "name": "ipython",
    "version": 3
   },
   "file_extension": ".py",
   "mimetype": "text/x-python",
   "name": "python",
   "nbconvert_exporter": "python",
   "pygments_lexer": "ipython3",
   "version": "3.10.13"
  }
 },
 "nbformat": 4,
 "nbformat_minor": 5
}
