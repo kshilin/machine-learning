{
 "cells": [
  {
   "cell_type": "code",
   "execution_count": null,
   "metadata": {},
   "outputs": [],
   "source": [
    "# Внимание!!! Важно, что бы файлы с данными и исполняемый файл находились в одной папке, \n",
    "# тогда пути к тестовым и тренировочным наборам будут содержать только имена файлов.\n",
    "# \n",
    "# В пути к тренировочным и тестовым данным запрежается использовать абсалютную адресацию, \n",
    "# то есть адресацию, в которой присутствуют имена папок. Путь должен содержать только имя файла.\n",
    "#\n",
    "# Напоминание: под моделью машинного обучения понимаются все действия с исходными данными, \n",
    "# которые необходимо произвести, что бы сопоставить признаки целевому значению."
   ]
  },
  {
   "cell_type": "markdown",
   "metadata": {},
   "source": [
    "### Область работы 1 (библиотеки)"
   ]
  },
  {
   "cell_type": "code",
   "execution_count": null,
   "metadata": {},
   "outputs": [],
   "source": [
    "# Данный блок в области 1 НЕ выполняется преподавателем\n",
    "# \n",
    "# данный блок предназначен только для подключения необходимых библиотек\n",
    "# запрещается подключать библиотеки в других блоках\n",
    "# запрещается скрывать предупреждения системы\n",
    "# установка дополнительных библиотек размещается прямо здесь (обязательно закоментированы)\n",
    "# pip install"
   ]
  },
  {
   "cell_type": "code",
   "execution_count": null,
   "metadata": {},
   "outputs": [],
   "source": [
    "import numpy as np\n",
    "import pandas as pd\n",
    "import matplotlib.pyplot as plt\n",
    "import seaborn as sns\n",
    "\n",
    "from sklearn.model_selection import train_test_split\n",
    "from sklearn.model_selection import GridSearchCV\n",
    "from sklearn.model_selection import StratifiedKFold\n",
    "from sklearn.pipeline import Pipeline\n",
    "from sklearn.compose import ColumnTransformer\n",
    "from sklearn.preprocessing import PowerTransformer\n",
    "\n",
    "from sklearn.feature_selection import VarianceThreshold\n",
    "from sklearn.feature_selection import SelectPercentile\n",
    "from sklearn.feature_selection  import RFE\n",
    "from sklearn.inspection import permutation_importance\n",
    "from sklearn.feature_selection import RFECV\n",
    "\n",
    "from sklearn.ensemble import RandomForestRegressor\n",
    "from sklearn.ensemble import GradientBoostingRegressor\n",
    "from sklearn.linear_model import Ridge, Lasso, ElasticNet, LinearRegression\n",
    "from sklearn.svm import SVR\n",
    "from sklearn.neighbors import KNeighborsRegressor\n",
    "\n",
    "from sklearn.compose import TransformedTargetRegressor\n",
    "\n",
    "from sklearn.metrics import mean_absolute_percentage_error"
   ]
  },
  {
   "cell_type": "markdown",
   "metadata": {},
   "source": [
    "### Область работы 2 (поиск  модели .... )"
   ]
  },
  {
   "cell_type": "code",
   "execution_count": null,
   "metadata": {},
   "outputs": [],
   "source": [
    "# Данный блок(и) НЕ выполняются преподавателем в области 2\n",
    "# блок(и) предназначены для поиска лучшей модели \n",
    "# должен быть понятен и очевиден отбор параметров модели\n",
    "# оставляйте свои комментарии и разъяснения\n",
    "# \n",
    "# Запрещается размещать данные блоки за пределами обасти 2\n",
    "# Все блоки данной области должны быть выполнены\n",
    "#\n",
    "# ЗАПРЕЩАЕТСЯ ИСПОЛЬЗОВАТЬ ТЕСТОВЫЙ НАБОР\n",
    "#\n",
    "# Путь к тренировочному набору\n",
    "# \n",
    "\n",
    "path_train = 'train_house_B.csv' # содержит только имя файла, без имен папок !!!\n",
    "train = pd.read_csv(path_train)\n",
    "train.head()"
   ]
  },
  {
   "cell_type": "code",
   "execution_count": null,
   "metadata": {},
   "outputs": [],
   "source": [
    "# train.info()"
   ]
  },
  {
   "cell_type": "code",
   "execution_count": null,
   "metadata": {},
   "outputs": [],
   "source": [
    "# train.isnull().sum()"
   ]
  },
  {
   "cell_type": "code",
   "execution_count": null,
   "metadata": {},
   "outputs": [],
   "source": [
    "# train.describe()"
   ]
  },
  {
   "cell_type": "code",
   "execution_count": null,
   "metadata": {},
   "outputs": [],
   "source": [
    "len(train) - len(train.drop_duplicates())"
   ]
  },
  {
   "cell_type": "code",
   "execution_count": null,
   "metadata": {},
   "outputs": [],
   "source": [
    "# correlation_matrix = train.corr()\n",
    "# mask = np.triu(np.ones_like(correlation_matrix, dtype = bool))\n",
    "\n",
    "# plt.figure(figsize = (16, 14))\n",
    "\n",
    "# sns.heatmap(correlation_matrix, mask = mask, cmap = 'coolwarm', annot = True, fmt = \".2f\",\n",
    "#             cbar_kws = {\"shrink\": 0.7}, annot_kws = {\"size\": 7})\n",
    "\n",
    "# plt.xticks(rotation = 45, ha = \"right\")\n",
    "# plt.title(\"Correlation Heatmap\")\n",
    "\n",
    "# plt.show()"
   ]
  },
  {
   "cell_type": "code",
   "execution_count": null,
   "metadata": {},
   "outputs": [],
   "source": [
    "data = train.drop(columns = ['price'])\n",
    "target = np.array(train.price)"
   ]
  },
  {
   "cell_type": "code",
   "execution_count": null,
   "metadata": {},
   "outputs": [],
   "source": [
    "th = 0.8\n",
    "transform_threshold = VarianceThreshold(threshold = (th * (1 - th)))\n",
    "transform_threshold.fit_transform(data)\n",
    "mask_1 = transform_threshold.get_support()\n",
    "\n",
    "plt.matshow(mask_1.reshape(1, -1), cmap = 'gray_r', aspect = 0.5);\n",
    "plt.gca().xaxis.set_major_locator(plt.MultipleLocator(1))\n",
    "plt.yticks([])\n",
    "plt.xlabel(\"Индекс признака\")\n",
    "transform_threshold.get_support().sum()\n",
    "transform_threshold.get_feature_names_out()"
   ]
  },
  {
   "cell_type": "code",
   "execution_count": null,
   "metadata": {},
   "outputs": [],
   "source": [
    "X_train, X_test, y_train, y_test = train_test_split(data, target, test_size = 0.2, random_state = 42)\n",
    "\n",
    "rng = np.random.RandomState(42)\n",
    "noise = rng.normal(size = (len(data), 50))\n",
    "X_w_noise = np.hstack([data, noise])\n",
    "\n",
    "select_pct = SelectPercentile(percentile = 50)\n",
    "select_pct.fit(X_train, y_train)\n",
    "\n",
    "X_train_selected = select_pct.transform(X_train)\n",
    "\n",
    "# print(\"форма массива X_train: {}\".format(X_train.shape))\n",
    "# print(\"форма массива X_train_selected: {}\".format(X_train_selected.shape))\n",
    "\n",
    "mask_2 = select_pct.get_support()\n",
    "plt.matshow(mask_2.reshape(1, -1), cmap = 'gray_r', aspect = 0.5)\n",
    "# plt.gca().xaxis.set_major_locator(plt.MultipleLocator(1))\n",
    "plt.yticks([])\n",
    "plt.xlabel(\"Индекс признака\");\n",
    "select_pct.get_feature_names_out()"
   ]
  },
  {
   "cell_type": "code",
   "execution_count": null,
   "metadata": {},
   "outputs": [],
   "source": [
    "data_clean = data[['0', '1', '2', '4', '12', '13', '16', '18', '19', '20', '22', '24', '25', '27']]"
   ]
  },
  {
   "cell_type": "code",
   "execution_count": null,
   "metadata": {},
   "outputs": [],
   "source": [
    "X_train, X_test, y_train, y_test = train_test_split(data_clean, target, test_size = 0.2, random_state = 42)"
   ]
  },
  {
   "cell_type": "code",
   "execution_count": null,
   "metadata": {},
   "outputs": [],
   "source": [
    "model_target = TransformedTargetRegressor(regressor = Pipeline(steps = [('estimator', LinearRegression())]),\n",
    "                                          transformer = PowerTransformer(),\n",
    "                                          check_inverse = False\n",
    "                                         )\n",
    "\n",
    "model_target.fit(X_train, y_train)"
   ]
  },
  {
   "cell_type": "code",
   "execution_count": null,
   "metadata": {},
   "outputs": [],
   "source": [
    "param_grid = [{'regressor__estimator': [RandomForestRegressor()],\n",
    "               'regressor__estimator__max_depth': [None, 10, 20, 30],\n",
    "               'regressor__estimator__min_samples_split': [2, 5, 10],\n",
    "               'regressor__estimator__min_samples_leaf': [1, 2, 4],\n",
    "               'transformer': [PowerTransformer()]},\n",
    "              \n",
    "              {'regressor__estimator': [GradientBoostingRegressor()],\n",
    "               'regressor__estimator__learning_rate': [0.01, 0.1, 0.2],\n",
    "               'regressor__estimator__max_depth': [3, 5, 7],\n",
    "               'regressor__estimator__min_samples_split': [2, 5, 10],\n",
    "               'regressor__estimator__min_samples_leaf': [1, 2, 4],\n",
    "               'transformer': [PowerTransformer()]},\n",
    "              \n",
    "              {'regressor__estimator': [LinearRegression()],\n",
    "               'transformer': [PowerTransformer()]\n",
    "              }]\n",
    "\n",
    "\n",
    "scores = 'neg_mean_absolute_percentage_error'\n",
    "grid_search = GridSearchCV(model_target, n_jobs = -1, param_grid = param_grid, scoring = scores)\n",
    "\n",
    "grid_search.fit(X_train, y_train)"
   ]
  },
  {
   "cell_type": "code",
   "execution_count": null,
   "metadata": {},
   "outputs": [],
   "source": [
    "grid_result = pd.DataFrame(grid_search.cv_results_).sort_values(by = ['rank_test_score', 'std_test_score']).T\n",
    "display(grid_result, grid_search.best_params_)"
   ]
  },
  {
   "cell_type": "code",
   "execution_count": null,
   "metadata": {},
   "outputs": [],
   "source": [
    "pt = PowerTransformer(standardize = False)\n",
    "X_train_pt = pt.fit_transform(X_train)\n",
    "X_test_pt  = pt.transform(X_test)"
   ]
  },
  {
   "cell_type": "code",
   "execution_count": null,
   "metadata": {},
   "outputs": [],
   "source": [
    "# lr = LinearRegression(fit_intercept = False)\n",
    "# lr = LinearRegression()\n",
    "# lr.fit(X_train, y_train)"
   ]
  },
  {
   "cell_type": "code",
   "execution_count": null,
   "metadata": {},
   "outputs": [],
   "source": [
    "gb = GradientBoostingRegressor(max_depth = 3,\n",
    "                               min_samples_leaf = 2,\n",
    "                               min_samples_split = 5,\n",
    "                               learning_rate = 0.1,\n",
    "                               random_state = 42)\n",
    "\n",
    "# gb.fit(X_train, y_train)\n",
    "\n",
    "# y_pred_gb_train = gb.predict(X_train)\n",
    "# y_pred_gb_test = gb.predict(X_test)\n",
    "\n",
    "# print(\"MAPE on train data: {:.3f}\".format(mean_absolute_percentage_error(y_pred_gb_train, y_train)))\n",
    "# print(\"MAPE on test data: {:.3f}\".format(mean_absolute_percentage_error(y_pred_gb_test, y_test)))\n",
    "\n",
    "# print(y_pred_gb_test.shape, y_test.shape)\n",
    "# print('Отрицательные цены - ', sum(y_pred_gb_test < 0))\n",
    "\n",
    "# plot_2_error(y_test, y_pred_gb_test)"
   ]
  },
  {
   "cell_type": "code",
   "execution_count": null,
   "metadata": {},
   "outputs": [],
   "source": [
    "rf = RandomForestRegressor(max_depth = 30,\n",
    "                           min_samples_leaf = 1,\n",
    "                           min_samples_split = 2)"
   ]
  },
  {
   "cell_type": "code",
   "execution_count": null,
   "metadata": {},
   "outputs": [],
   "source": [
    "min_features_to_select = 1\n",
    "\n",
    "rfecv = RFECV(estimator = gb,\n",
    "              step = 1,\n",
    "              #cv = StratifiedKFold(2),\n",
    "              cv = 5,\n",
    "              scoring = \"neg_mean_absolute_percentage_error\",\n",
    "              min_features_to_select = min_features_to_select\n",
    "             )\n",
    "\n",
    "rfecv.fit(X_train, y_train)\n",
    "\n",
    "print(\"Оптимально : %d\" % rfecv.n_features_)\n",
    "\n",
    "plt.figure()\n",
    "plt.xlabel(\"Number of features selected\")\n",
    "plt.ylabel(\"Cross validation score (NMAPE)\")\n",
    "filtered = pd.DataFrame(rfecv.cv_results_).filter(regex = 'split') #[s for s in rfecv.cv_results_.keys() if 'split' in s]\n",
    "plt.plot(\n",
    "    range(min_features_to_select, len(filtered) + min_features_to_select),\n",
    "    filtered\n",
    ")\n",
    "\n",
    "plt.show()"
   ]
  },
  {
   "cell_type": "code",
   "execution_count": null,
   "metadata": {},
   "outputs": [],
   "source": [
    "mask_3 = rfecv.get_support()\n",
    "plt.matshow(mask_3.reshape(1,-1), cmap = 'gray_r', aspect = 0.5)\n",
    "# plt.gca().xaxis.set_major_locator(plt.MultipleLocator(1))\n",
    "plt.yticks([])\n",
    "plt.xlabel(\"Индекс признака\");\n",
    "rfecv.get_feature_names_out()"
   ]
  },
  {
   "cell_type": "code",
   "execution_count": null,
   "metadata": {},
   "outputs": [],
   "source": [
    "# data_itog_lr = data_clean[['0', '2', '4', '12', '13', '16', '18', '20', '22', '24', '25', '27']]\n",
    "data_itog_gb = data_clean[['0', '1', '2', '4', '12', '13', '16', '18', '20', '22', '24', '25', '27']]\n",
    "# data_itog_fr = data_clean[['0', '1', '2', '4', '12', '13', '16', '18', '19', '20', '22', '24', '25', '27']]"
   ]
  },
  {
   "cell_type": "code",
   "execution_count": null,
   "metadata": {},
   "outputs": [],
   "source": [
    "# X_train, X_test, y_train, y_test = train_test_split(data_itog_lr, target, test_size = 0.2, random_state = 42)\n",
    "X_train, X_test, y_train, y_test = train_test_split(data_itog_gb, target, test_size = 0.2, random_state = 42)\n",
    "# X_train, X_test, y_train, y_test = train_test_split(data_itog_fr, target, test_size = 0.2, random_state = 42)"
   ]
  },
  {
   "cell_type": "code",
   "execution_count": null,
   "metadata": {},
   "outputs": [],
   "source": [
    "# model_lr_itog = TransformedTargetRegressor(regressor = Pipeline(steps = [('estimator', LinearRegression())]),\n",
    "#                                           transformer = PowerTransformer(),\n",
    "#                                           check_inverse = False\n",
    "#                                          )\n",
    "\n",
    "# model_lr_itog.fit(X_train, y_train)\n",
    "\n",
    "# y_pred_lr = model_lr_itog.predict(X_test)"
   ]
  },
  {
   "cell_type": "code",
   "execution_count": null,
   "metadata": {},
   "outputs": [],
   "source": [
    "model_gb_itog = TransformedTargetRegressor(regressor = \n",
    "                                           Pipeline(steps = [('estimator', GradientBoostingRegressor(max_depth = 3,\n",
    "                                                                                                     min_samples_leaf = 2,\n",
    "                                                                                                     min_samples_split = 5,\n",
    "                                                                                                     learning_rate = 0.1,\n",
    "                                                                                                     random_state = 42))]),\n",
    "                                           transformer = PowerTransformer(),\n",
    "                                           check_inverse = False\n",
    "                                          )\n",
    "\n",
    "model_gb_itog.fit(X_train, y_train)\n",
    "\n",
    "y_pred_gb = model_gb_itog.predict(X_test)"
   ]
  },
  {
   "cell_type": "code",
   "execution_count": null,
   "metadata": {},
   "outputs": [],
   "source": [
    "# model_fr_itog = TransformedTargetRegressor(regressor = \n",
    "#                                            Pipeline(steps = [('estimator', RandomForestRegressor(max_depth = 30,\n",
    "#                                                                                                  min_samples_leaf = 1,\n",
    "#                                                                                                  min_samples_split = 2))]),\n",
    "#                                            transformer = PowerTransformer(),\n",
    "#                                            check_inverse = False\n",
    "#                                           )\n",
    "\n",
    "# model_fr_itog.fit(X_train, y_train)\n",
    "\n",
    "# y_pred_fr = model_fr_itog.predict(X_test)"
   ]
  },
  {
   "cell_type": "code",
   "execution_count": null,
   "metadata": {},
   "outputs": [],
   "source": [
    "# print('Отрицательные цены - ', sum(y_pred_lr < 0))\n",
    "# print('Отрицательные цены - ', sum(y_pred_gb < 0))\n",
    "print('Отрицательные цены - ', sum(y_pred_fr < 0))\n",
    "\n",
    "def plot_2_error(y_true, y_predicted):\n",
    "    residuals = (y_true - y_predicted)/y_true\n",
    "    max_error = max(residuals) if abs(max(residuals)) > abs(min(residuals)) else min(residuals)\n",
    "    max_idx = list(residuals).index(max(residuals)) if abs(max(residuals)) > abs(min(residuals)) else list(residuals).index(min(residuals))\n",
    "    max_true, max_pred = y_true[max_idx], y_predicted[max_idx]\n",
    "    mape = mean_absolute_percentage_error(y_true, y_predicted)\n",
    "    print(\"Max Error:\", \"{:,.0f}\".format(max_error))\n",
    "    print(' ')\n",
    "    print('----------------------')\n",
    "    print(\"   MAPE Error:\", \"{:,.2f}\".format(mape*100))\n",
    "    print('----------------------')\n",
    "\n",
    "    ## Plot predicted vs true\n",
    "    fig, ax = plt.subplots(nrows = 1, ncols = 2, figsize = (15, 5))\n",
    "    from statsmodels.graphics.api import abline_plot\n",
    "    ax[0].scatter(y_predicted, y_true, color = \"black\")\n",
    "    abline_plot(intercept = 0, slope = 1, color = \"red\", ax = ax[0])\n",
    "    ax[0].vlines(x = max_pred, ymin = max_true, ymax = max_true-max_error, color = 'red', linestyle = '--', alpha = 0.7, label = \"max error\")\n",
    "    ax[0].grid(True)\n",
    "    ax[0].set(xlabel = \"Predicted\", ylabel = \"True\", title = \"Predicted vs True\")\n",
    "    ax[0].legend()\n",
    "\n",
    "    ## Plot predicted vs residuals\n",
    "    ax[1].scatter(y_predicted, residuals, color = \"red\")\n",
    "    ax[1].vlines(x = max_pred, ymin = 0, ymax = max_error, color = 'black', linestyle = '--', alpha = 0.7, label = \"max error\")\n",
    "    ax[1].grid(True)\n",
    "    ax[1].set(xlabel = \"Predicted\", ylabel = \"Residuals\", title = \"Predicted vs Residuals\")\n",
    "    ax[1].hlines(y = 0, xmin = np.min(y_predicted), xmax = np.max(y_predicted))\n",
    "    ax[1].legend()\n",
    "    plt.show()\n",
    "\n",
    "# plot_2_error(y_test, y_pred_lr) # 18.27\n",
    "# plot_2_error(y_test, y_pred_gb) # 17.23\n",
    "# plot_2_error(y_test, y_pred_fr) # 19.14"
   ]
  },
  {
   "cell_type": "code",
   "execution_count": null,
   "metadata": {},
   "outputs": [],
   "source": []
  }
 ],
 "metadata": {
  "kernelspec": {
   "display_name": "Python 3 (ipykernel)",
   "language": "python",
   "name": "python3"
  },
  "language_info": {
   "codemirror_mode": {
    "name": "ipython",
    "version": 3
   },
   "file_extension": ".py",
   "mimetype": "text/x-python",
   "name": "python",
   "nbconvert_exporter": "python",
   "pygments_lexer": "ipython3",
   "version": "3.9.13"
  }
 },
 "nbformat": 4,
 "nbformat_minor": 2
}
