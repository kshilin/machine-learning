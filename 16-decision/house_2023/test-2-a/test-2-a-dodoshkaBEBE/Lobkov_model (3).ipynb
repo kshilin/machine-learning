{
 "cells": [
  {
   "cell_type": "code",
   "execution_count": 1,
   "id": "44a020f4-5cdb-472f-b637-c4bfdf784357",
   "metadata": {
    "execution": {
     "iopub.execute_input": "2023-12-21T10:37:34.649889Z",
     "iopub.status.busy": "2023-12-21T10:37:34.649010Z",
     "iopub.status.idle": "2023-12-21T10:37:34.685546Z",
     "shell.execute_reply": "2023-12-21T10:37:34.684797Z",
     "shell.execute_reply.started": "2023-12-21T10:37:34.649829Z"
    },
    "tags": []
   },
   "outputs": [],
   "source": [
    "# Внимание!!! Важно, что бы файлы с данными и исполняемый файл находились в одной папке, \n",
    "# тогда пути к тестовым и тренировочным наборам будут содержать только имена файлов.\n",
    "# \n",
    "# В пути к тренировочным и тестовым данным запрежается использовать абсалютную адресацию, \n",
    "# то есть адресацию, в которой присутствуют имена папок. Путь должен содержать только имя файла.\n",
    "#\n",
    "# Напоминание: под моделью машинного обучения понимаются все действия с исходными данными, \n",
    "# которые необходимо произвести, что бы сопоставить признаки целевому значению."
   ]
  },
  {
   "cell_type": "markdown",
   "id": "3b30c099-f6c4-425b-8b18-3d9636a264d1",
   "metadata": {},
   "source": [
    "### Область работы 1 (библиотеки)"
   ]
  },
  {
   "cell_type": "code",
   "execution_count": 2,
   "id": "24a06430-2042-4c9f-9241-888d84316777",
   "metadata": {
    "execution": {
     "iopub.execute_input": "2023-12-21T10:37:35.012494Z",
     "iopub.status.busy": "2023-12-21T10:37:35.011744Z",
     "iopub.status.idle": "2023-12-21T10:37:35.026115Z",
     "shell.execute_reply": "2023-12-21T10:37:35.025350Z",
     "shell.execute_reply.started": "2023-12-21T10:37:35.012451Z"
    },
    "tags": []
   },
   "outputs": [],
   "source": [
    "# Данный блок в области 1 выполняется преподавателем\n",
    "# \n",
    "# данный блок предназначен только для подключения необходимых библиотек\n",
    "# запрещается подключать библиотеки в других блоках\n",
    "# запрещается скрывать предупреждения системы\n",
    "# установка дополнительных библиотек размещается прямо здесь (обязательно закоментированы)\n",
    "# pip install"
   ]
  },
  {
   "cell_type": "code",
   "execution_count": 3,
   "id": "b1396cf1-1f8b-4294-ac45-293e1d294275",
   "metadata": {
    "execution": {
     "iopub.execute_input": "2023-12-21T10:37:35.171730Z",
     "iopub.status.busy": "2023-12-21T10:37:35.171206Z",
     "iopub.status.idle": "2023-12-21T10:37:35.198684Z",
     "shell.execute_reply": "2023-12-21T10:37:35.198065Z",
     "shell.execute_reply.started": "2023-12-21T10:37:35.171697Z"
    },
    "tags": []
   },
   "outputs": [],
   "source": [
    "import numpy as np\n",
    "import matplotlib.pyplot as plt\n",
    "import seaborn as sns\n",
    "import pandas as pd\n",
    "import pandas.plotting as pd_plt\n",
    "import matplotlib.colors as plt_colors\n",
    "import seaborn as sns\n",
    "import matplotlib.pyplot as plt\n",
    "from IPython.display import display\n",
    "from statsmodels.graphics.gofplots import qqplot\n",
    "from statsmodels.stats.proportion import proportions_ztest\n",
    "from tqdm.notebook import tqdm\n",
    "#Пропущенные данные\n",
    "from sklearn.experimental import enable_iterative_imputer\n",
    "from sklearn.impute import IterativeImputer,SimpleImputer\n",
    "#Препроцессинг\n",
    "from sklearn.preprocessing import MinMaxScaler, StandardScaler, RobustScaler, Normalizer\n",
    "from sklearn.model_selection import train_test_split, cross_val_score, GridSearchCV, KFold \n",
    "from sklearn.linear_model import ElasticNet, BayesianRidge, Ridge, Lasso\n",
    "from sklearn.preprocessing import PolynomialFeatures\n",
    "from sklearn.preprocessing import OneHotEncoder\n",
    "from sklearn.compose import ColumnTransformer, make_column_transformer\n",
    "from sklearn.pipeline import Pipeline\n",
    "# import category_encoders as ce\n",
    "from sklearn.preprocessing import LabelEncoder\n",
    "from sklearn.preprocessing import KBinsDiscretizer\n",
    "from sklearn.preprocessing import PowerTransformer\n",
    "from sklearn.compose import TransformedTargetRegressor\n",
    "from sklearn.preprocessing import QuantileTransformer\n",
    "\n",
    "from sklearn.linear_model import ElasticNet, BayesianRidge, Ridge, Lasso\n",
    "from sklearn.ensemble import RandomForestRegressor\n",
    "from sklearn.ensemble import GradientBoostingRegressor\n",
    "from sklearn.svm import SVR\n",
    "from sklearn.ensemble import VotingClassifier\n",
    "from sklearn.metrics import mean_absolute_percentage_error"
   ]
  },
  {
   "cell_type": "markdown",
   "id": "213ccb98-a418-43bb-8a76-a652d3d17388",
   "metadata": {},
   "source": [
    "### Область работы 2 (выполнение лучшей модели)"
   ]
  },
  {
   "cell_type": "code",
   "execution_count": 4,
   "id": "bad1e88c-43cd-444b-8bad-1f468eb25e2c",
   "metadata": {
    "execution": {
     "iopub.execute_input": "2023-12-21T10:37:35.505010Z",
     "iopub.status.busy": "2023-12-21T10:37:35.504204Z",
     "iopub.status.idle": "2023-12-21T10:37:35.527780Z",
     "shell.execute_reply": "2023-12-21T10:37:35.526948Z",
     "shell.execute_reply.started": "2023-12-21T10:37:35.504972Z"
    },
    "tags": []
   },
   "outputs": [],
   "source": [
    "# Путь к тренировочному набору\n",
    "path_train = 'train_house_A.csv' # содержит только имя файла, без имен папок\n",
    "# Путь к тестовому набору\n",
    "path_test  = 'test_house_A.csv' # содержит только имя файла, без имен папок"
   ]
  },
  {
   "cell_type": "code",
   "execution_count": 5,
   "id": "2dcc5f50-9de7-4fda-b856-0650b9a653a5",
   "metadata": {
    "execution": {
     "iopub.execute_input": "2023-12-21T10:37:35.673171Z",
     "iopub.status.busy": "2023-12-21T10:37:35.672322Z",
     "iopub.status.idle": "2023-12-21T10:37:35.683121Z",
     "shell.execute_reply": "2023-12-21T10:37:35.682569Z",
     "shell.execute_reply.started": "2023-12-21T10:37:35.673136Z"
    },
    "tags": []
   },
   "outputs": [],
   "source": [
    "# Блок(и) обучения и поверки модели"
   ]
  },
  {
   "cell_type": "code",
   "execution_count": 6,
   "id": "f6b99a07-0af2-4fe7-8cc7-67fe506ecaaa",
   "metadata": {
    "execution": {
     "iopub.execute_input": "2023-12-21T10:37:35.908863Z",
     "iopub.status.busy": "2023-12-21T10:37:35.907963Z",
     "iopub.status.idle": "2023-12-21T10:37:50.675447Z",
     "shell.execute_reply": "2023-12-21T10:37:50.674769Z",
     "shell.execute_reply.started": "2023-12-21T10:37:35.908819Z"
    },
    "tags": []
   },
   "outputs": [
    {
     "name": "stdout",
     "output_type": "stream",
     "text": [
      "будем использовать Index(['price', '2', '3', '4', '5', '6', '7', '10', '11', '13', '14', '15',\n",
      "       '16', '17', '18', '19', '21', '22', '23', '24', '25', '26', '27'],\n",
      "      dtype='object')\n"
     ]
    },
    {
     "data": {
      "text/plain": [
       "0.17819115716220646"
      ]
     },
     "execution_count": 6,
     "metadata": {},
     "output_type": "execute_result"
    }
   ],
   "source": [
    "df = pd.read_csv(path_train)\n",
    "df2 = pd.read_csv(path_test)\n",
    "to_dropp = ['0', '1', '12', '20', '28', '8', '9']\n",
    "\n",
    "df = df.drop(columns = to_dropp)\n",
    "df2 = df2.drop(columns = to_dropp)\n",
    "col = df.columns\n",
    "print('будем использовать', col)\n",
    "\n",
    "\n",
    "pipe = Pipeline(steps=[\n",
    "    ('preproc', StandardScaler()),\n",
    "    ('estimator', RandomForestRegressor(n_estimators= 10000,n_jobs = -1, warm_start = True, max_features = 'sqrt', random_state = 42))\n",
    "    ])\n",
    "\n",
    "\n",
    "\n",
    "\n",
    "y = df.price\n",
    "X = df.drop(columns =['price'])\n",
    "X_train, X_test, y_train, y_test = train_test_split(X,y, test_size=0.1, random_state=42)\n",
    "\n",
    "pipe.fit(X_train,y_train)\n",
    "mean_absolute_percentage_error(y_test, pipe.predict(X_test))"
   ]
  },
  {
   "cell_type": "code",
   "execution_count": 7,
   "id": "5c72cddc-a646-46ff-870e-d08f9f9fa5b0",
   "metadata": {
    "execution": {
     "iopub.execute_input": "2023-12-21T10:37:50.677147Z",
     "iopub.status.busy": "2023-12-21T10:37:50.676700Z",
     "iopub.status.idle": "2023-12-21T10:37:50.707547Z",
     "shell.execute_reply": "2023-12-21T10:37:50.706896Z",
     "shell.execute_reply.started": "2023-12-21T10:37:50.677115Z"
    },
    "tags": []
   },
   "outputs": [],
   "source": [
    "# Блок предсказания с использованием тестового набора"
   ]
  },
  {
   "cell_type": "code",
   "execution_count": 8,
   "id": "67897b5b-d59d-472c-a331-b00bc5fbdafb",
   "metadata": {
    "execution": {
     "iopub.execute_input": "2023-12-21T10:37:50.709263Z",
     "iopub.status.busy": "2023-12-21T10:37:50.708666Z",
     "iopub.status.idle": "2023-12-21T10:37:52.109159Z",
     "shell.execute_reply": "2023-12-21T10:37:52.108529Z",
     "shell.execute_reply.started": "2023-12-21T10:37:50.709232Z"
    },
    "tags": []
   },
   "outputs": [
    {
     "name": "stderr",
     "output_type": "stream",
     "text": [
      "/Users/macbook2019/anaconda3/lib/python3.10/site-packages/sklearn/ensemble/_forest.py:435: UserWarning: Warm-start fitting without increasing n_estimators does not fit new trees.\n",
      "  warn(\n"
     ]
    },
    {
     "data": {
      "text/plain": [
       "array([5572182.847, 6423710.496, 3541599.88 , 4944472.75 , 4117767.395,\n",
       "       3768673.65 , 7694137.374, 7217044.828, 3901978.094, 6865793.13 ,\n",
       "       7357537.95 , 3850974.365, 4222327.074, 4134327.624, 3916248.735,\n",
       "       7656131.973, 5126418.934, 5616934.316, 4577560.855, 6910409.506,\n",
       "       3552747.345, 4374721.351, 5332793.48 , 4356183.825, 3943027.165,\n",
       "       3975737.255, 5374247.438, 3606758.015, 3041225.845, 4607577.415,\n",
       "       3570612.115, 6679510.495, 4937520.98 , 4555176.059, 5259751.602,\n",
       "       3298901.55 , 4088664.86 , 3643769.101, 5129808.005, 5662509.944,\n",
       "       5578584.858, 4206230.364, 7099409.786, 4024746.432, 3255375.69 ,\n",
       "       5764259.984, 4831520.309, 3179110.865, 5161555.308, 3106617.654,\n",
       "       4684440.362, 3063345.67 , 6156389.197, 4955547.842, 3219766.095,\n",
       "       5450233.278, 5816241.312, 4642148.21 , 3362250.549, 6495573.798,\n",
       "       7220658.382, 4197352.53 , 3641202.299, 4662866.355, 6526257.171,\n",
       "       5548217.738, 4008335.765, 3948442.715, 3509658.18 , 7264458.586,\n",
       "       4119120.418, 5738775.924, 4025802.529, 6667910.34 , 7071106.798,\n",
       "       5215687.316, 5991951.504, 6685965.139, 5996129.916, 4633365.268,\n",
       "       4073600.412, 5356467.718, 7154683.144, 6115108.965, 4872694.827,\n",
       "       3460327.745, 5173340.578, 4432001.217, 3325654.15 , 3707598.86 ,\n",
       "       5560301.516, 3939734.785, 4005079.995, 6155367.666, 5635328.678,\n",
       "       5847932.622, 4580982.196, 6433991.004, 6940135.454, 4469910.55 ,\n",
       "       7340988.284, 3984874.355, 6796014.323, 4699967.594, 3080166.005,\n",
       "       5330096.8  , 3679928.665, 3815324.275, 3808723.66 , 4935762.461,\n",
       "       5971101.738, 4603992.722, 5765285.89 , 4011805.665, 4906343.75 ,\n",
       "       3472103.39 , 6081959.716, 5058726.302, 3057074.874, 4366541.746,\n",
       "       6519623.215, 6479284.763, 3473245.3  , 3959533.2  , 3410545.215,\n",
       "       3732785.7  , 6914517.316, 4315866.8  , 3710862.225, 6009540.95 ,\n",
       "       4797099.146, 3987843.125, 6589924.145, 3648325.415, 3837904.826,\n",
       "       4549586.16 , 3604550.32 ])"
      ]
     },
     "execution_count": 8,
     "metadata": {},
     "output_type": "execute_result"
    }
   ],
   "source": [
    "pipe.fit(X,y)\n",
    "pipe.predict(df2)"
   ]
  },
  {
   "cell_type": "code",
   "execution_count": 9,
   "id": "d3c45a7f-774d-4c90-9f53-cb633e74db2e",
   "metadata": {
    "execution": {
     "iopub.execute_input": "2023-12-21T10:37:52.110894Z",
     "iopub.status.busy": "2023-12-21T10:37:52.110179Z",
     "iopub.status.idle": "2023-12-21T10:37:53.509962Z",
     "shell.execute_reply": "2023-12-21T10:37:53.509152Z",
     "shell.execute_reply.started": "2023-12-21T10:37:52.110862Z"
    },
    "tags": []
   },
   "outputs": [
    {
     "name": "stdout",
     "output_type": "stream",
     "text": [
      "(137,) (137, 22)\n"
     ]
    }
   ],
   "source": [
    "# Название вектора предсказанных значений  y_predict полученого на основании тестового набора\n",
    "y_predict = pipe.predict(df2)\n",
    "print(y_predict.shape,df2.shape)"
   ]
  },
  {
   "cell_type": "code",
   "execution_count": 10,
   "id": "26a9cb7b-7eb9-414c-9edd-66323cea956a",
   "metadata": {},
   "outputs": [
    {
     "name": "stdout",
     "output_type": "stream",
     "text": [
      "(137,) (137,)\n",
      "Отрицательные цены -  0\n",
      "Max Error: 5,959,012\n",
      " \n",
      "----------------------\n",
      "   MAPE Error: 19.35\n",
      "----------------------\n"
     ]
    },
    {
     "data": {
      "image/png": "[encoded data removed]",
      "text/plain": [
       "<Figure size 1500x500 with 2 Axes>"
      ]
     },
     "metadata": {},
     "output_type": "display_data"
    }
   ],
   "source": [
    "from sklearn.metrics import mean_absolute_percentage_error\n",
    "import matplotlib.pyplot as plt\n",
    "import matplotlib.pyplot as plt\n",
    "\n",
    "y_true = pd.read_csv(\"test_Y_true_house_A.csv\").values.reshape(-1)\n",
    "print(y_predict.shape, y_true.shape)\n",
    "print('Отрицательные цены - ', sum(y_predict<0))\n",
    "\n",
    "def plot_2_error(y_true, y_predicted):\n",
    "    residuals = y_true - y_predicted\n",
    "    max_error = max(residuals) if abs(max(residuals)) > abs(min(residuals)) else min(residuals)\n",
    "    max_idx = list(residuals).index(max(residuals)) if abs(max(residuals)) > abs(min(residuals)) else list(residuals).index(min(residuals))\n",
    "    max_true, max_pred = y_true[max_idx], y_predicted[max_idx]\n",
    "    mape = mean_absolute_percentage_error(y_true, y_predict)\n",
    "    print(\"Max Error:\", \"{:,.0f}\".format(max_error))\n",
    "    print(' ')\n",
    "    print('----------------------')\n",
    "    print(\"   MAPE Error:\", \"{:,.2f}\".format(mape*100))\n",
    "    print('----------------------')\n",
    "\n",
    "    ## Plot predicted vs true\n",
    "    fig, ax = plt.subplots(nrows=1, ncols=2, figsize=(15,5))\n",
    "    from statsmodels.graphics.api import abline_plot\n",
    "    ax[0].scatter(y_predicted, y_true, color=\"black\")\n",
    "    abline_plot(intercept=0, slope=1, color=\"red\", ax=ax[0])\n",
    "    ax[0].vlines(x=max_pred, ymin=max_true, ymax=max_true-max_error, color='red', linestyle='--', alpha=0.7, label=\"max error\")\n",
    "    ax[0].grid(True)\n",
    "    ax[0].set(xlabel=\"Predicted\", ylabel=\"True\", title=\"Predicted vs True\")\n",
    "    ax[0].legend()\n",
    "\n",
    "    ## Plot predicted vs residuals\n",
    "    ax[1].scatter(y_predicted, residuals, color=\"red\")\n",
    "    ax[1].vlines(x=max_pred, ymin=0, ymax=max_error, color='black', linestyle='--', alpha=0.7, label=\"max error\")\n",
    "    ax[1].grid(True)\n",
    "    ax[1].set(xlabel=\"Predicted\", ylabel=\"Residuals\", title=\"Predicted vs Residuals\")\n",
    "    ax[1].hlines(y=0, xmin=np.min(y_predicted), xmax=np.max(y_predicted))\n",
    "    ax[1].legend()\n",
    "    plt.show()\n",
    "\n",
    "plot_2_error(y_true, y_predict)"
   ]
  },
  {
   "cell_type": "code",
   "execution_count": 11,
   "id": "dea45eec-0170-49a8-b4d3-82f18fadf245",
   "metadata": {},
   "outputs": [
    {
     "data": {
      "text/html": [
       "<style type=\"text/css\">\n",
       "#T_495ad_row1_col0, #T_495ad_row1_col1, #T_495ad_row2_col0, #T_495ad_row2_col1, #T_495ad_row3_col0, #T_495ad_row3_col1, #T_495ad_row4_col0, #T_495ad_row4_col1, #T_495ad_row5_col0, #T_495ad_row5_col1, #T_495ad_row6_col0, #T_495ad_row6_col1, #T_495ad_row7_col0, #T_495ad_row7_col1, #T_495ad_row9_col0, #T_495ad_row9_col1, #T_495ad_row12_col0, #T_495ad_row12_col1, #T_495ad_row14_col0, #T_495ad_row14_col1, #T_495ad_row15_col0, #T_495ad_row15_col1, #T_495ad_row16_col0, #T_495ad_row16_col1, #T_495ad_row17_col0, #T_495ad_row17_col1, #T_495ad_row19_col0, #T_495ad_row19_col1, #T_495ad_row20_col0, #T_495ad_row20_col1, #T_495ad_row21_col0, #T_495ad_row21_col1, #T_495ad_row22_col0, #T_495ad_row22_col1, #T_495ad_row23_col0, #T_495ad_row23_col1, #T_495ad_row24_col0, #T_495ad_row24_col1, #T_495ad_row25_col0, #T_495ad_row25_col1, #T_495ad_row26_col0, #T_495ad_row26_col1, #T_495ad_row27_col0, #T_495ad_row27_col1 {\n",
       "  background-color: yellow;\n",
       "}\n",
       "</style>\n",
       "<table id=\"T_495ad\">\n",
       "  <thead>\n",
       "    <tr>\n",
       "      <th class=\"blank level0\" >&nbsp;</th>\n",
       "      <th id=\"T_495ad_level0_col0\" class=\"col_heading level0 col0\" >index</th>\n",
       "      <th id=\"T_495ad_level0_col1\" class=\"col_heading level0 col1\" >0</th>\n",
       "    </tr>\n",
       "  </thead>\n",
       "  <tbody>\n",
       "    <tr>\n",
       "      <th id=\"T_495ad_level0_row0\" class=\"row_heading level0 row0\" >0</th>\n",
       "      <td id=\"T_495ad_row0_col0\" class=\"data row0 col0\" >1</td>\n",
       "      <td id=\"T_495ad_row0_col1\" class=\"data row0 col1\" >1</td>\n",
       "    </tr>\n",
       "    <tr>\n",
       "      <th id=\"T_495ad_level0_row1\" class=\"row_heading level0 row1\" >1</th>\n",
       "      <td id=\"T_495ad_row1_col0\" class=\"data row1 col0\" >16</td>\n",
       "      <td id=\"T_495ad_row1_col1\" class=\"data row1 col1\" >airconditioning</td>\n",
       "    </tr>\n",
       "    <tr>\n",
       "      <th id=\"T_495ad_level0_row2\" class=\"row_heading level0 row2\" >2</th>\n",
       "      <td id=\"T_495ad_row2_col0\" class=\"data row2 col0\" >6</td>\n",
       "      <td id=\"T_495ad_row2_col1\" class=\"data row2 col1\" >area</td>\n",
       "    </tr>\n",
       "    <tr>\n",
       "      <th id=\"T_495ad_level0_row3\" class=\"row_heading level0 row3\" >3</th>\n",
       "      <td id=\"T_495ad_row3_col0\" class=\"data row3 col0\" >4</td>\n",
       "      <td id=\"T_495ad_row3_col1\" class=\"data row3 col1\" >area bathrooms</td>\n",
       "    </tr>\n",
       "    <tr>\n",
       "      <th id=\"T_495ad_level0_row4\" class=\"row_heading level0 row4\" >4</th>\n",
       "      <td id=\"T_495ad_row4_col0\" class=\"data row4 col0\" >25</td>\n",
       "      <td id=\"T_495ad_row4_col1\" class=\"data row4 col1\" >area bedrooms</td>\n",
       "    </tr>\n",
       "    <tr>\n",
       "      <th id=\"T_495ad_level0_row5\" class=\"row_heading level0 row5\" >5</th>\n",
       "      <td id=\"T_495ad_row5_col0\" class=\"data row5 col0\" >10</td>\n",
       "      <td id=\"T_495ad_row5_col1\" class=\"data row5 col1\" >area stories</td>\n",
       "    </tr>\n",
       "    <tr>\n",
       "      <th id=\"T_495ad_level0_row6\" class=\"row_heading level0 row6\" >6</th>\n",
       "      <td id=\"T_495ad_row6_col0\" class=\"data row6 col0\" >5</td>\n",
       "      <td id=\"T_495ad_row6_col1\" class=\"data row6 col1\" >basement</td>\n",
       "    </tr>\n",
       "    <tr>\n",
       "      <th id=\"T_495ad_level0_row7\" class=\"row_heading level0 row7\" >7</th>\n",
       "      <td id=\"T_495ad_row7_col0\" class=\"data row7 col0\" >7</td>\n",
       "      <td id=\"T_495ad_row7_col1\" class=\"data row7 col1\" >bathrooms</td>\n",
       "    </tr>\n",
       "    <tr>\n",
       "      <th id=\"T_495ad_level0_row8\" class=\"row_heading level0 row8\" >8</th>\n",
       "      <td id=\"T_495ad_row8_col0\" class=\"data row8 col0\" >28</td>\n",
       "      <td id=\"T_495ad_row8_col1\" class=\"data row8 col1\" >bathrooms stories</td>\n",
       "    </tr>\n",
       "    <tr>\n",
       "      <th id=\"T_495ad_level0_row9\" class=\"row_heading level0 row9\" >9</th>\n",
       "      <td id=\"T_495ad_row9_col0\" class=\"data row9 col0\" >21</td>\n",
       "      <td id=\"T_495ad_row9_col1\" class=\"data row9 col1\" >bedrooms</td>\n",
       "    </tr>\n",
       "    <tr>\n",
       "      <th id=\"T_495ad_level0_row10\" class=\"row_heading level0 row10\" >10</th>\n",
       "      <td id=\"T_495ad_row10_col0\" class=\"data row10 col0\" >20</td>\n",
       "      <td id=\"T_495ad_row10_col1\" class=\"data row10 col1\" >bedrooms bathrooms</td>\n",
       "    </tr>\n",
       "    <tr>\n",
       "      <th id=\"T_495ad_level0_row11\" class=\"row_heading level0 row11\" >11</th>\n",
       "      <td id=\"T_495ad_row11_col0\" class=\"data row11 col0\" >8</td>\n",
       "      <td id=\"T_495ad_row11_col1\" class=\"data row11 col1\" >bedrooms stories</td>\n",
       "    </tr>\n",
       "    <tr>\n",
       "      <th id=\"T_495ad_level0_row12\" class=\"row_heading level0 row12\" >12</th>\n",
       "      <td id=\"T_495ad_row12_col0\" class=\"data row12 col0\" >22</td>\n",
       "      <td id=\"T_495ad_row12_col1\" class=\"data row12 col1\" >furnishingstatus</td>\n",
       "    </tr>\n",
       "    <tr>\n",
       "      <th id=\"T_495ad_level0_row13\" class=\"row_heading level0 row13\" >13</th>\n",
       "      <td id=\"T_495ad_row13_col0\" class=\"data row13 col0\" >9</td>\n",
       "      <td id=\"T_495ad_row13_col1\" class=\"data row13 col1\" >guestroom</td>\n",
       "    </tr>\n",
       "    <tr>\n",
       "      <th id=\"T_495ad_level0_row14\" class=\"row_heading level0 row14\" >14</th>\n",
       "      <td id=\"T_495ad_row14_col0\" class=\"data row14 col0\" >23</td>\n",
       "      <td id=\"T_495ad_row14_col1\" class=\"data row14 col1\" >hotwaterheating</td>\n",
       "    </tr>\n",
       "    <tr>\n",
       "      <th id=\"T_495ad_level0_row15\" class=\"row_heading level0 row15\" >15</th>\n",
       "      <td id=\"T_495ad_row15_col0\" class=\"data row15 col0\" >18</td>\n",
       "      <td id=\"T_495ad_row15_col1\" class=\"data row15 col1\" >log_rnd_1</td>\n",
       "    </tr>\n",
       "    <tr>\n",
       "      <th id=\"T_495ad_level0_row16\" class=\"row_heading level0 row16\" >16</th>\n",
       "      <td id=\"T_495ad_row16_col0\" class=\"data row16 col0\" >2</td>\n",
       "      <td id=\"T_495ad_row16_col1\" class=\"data row16 col1\" >log_rnd_2</td>\n",
       "    </tr>\n",
       "    <tr>\n",
       "      <th id=\"T_495ad_level0_row17\" class=\"row_heading level0 row17\" >17</th>\n",
       "      <td id=\"T_495ad_row17_col0\" class=\"data row17 col0\" >14</td>\n",
       "      <td id=\"T_495ad_row17_col1\" class=\"data row17 col1\" >log_rnd_3</td>\n",
       "    </tr>\n",
       "    <tr>\n",
       "      <th id=\"T_495ad_level0_row18\" class=\"row_heading level0 row18\" >18</th>\n",
       "      <td id=\"T_495ad_row18_col0\" class=\"data row18 col0\" >0</td>\n",
       "      <td id=\"T_495ad_row18_col1\" class=\"data row18 col1\" >mainroad</td>\n",
       "    </tr>\n",
       "    <tr>\n",
       "      <th id=\"T_495ad_level0_row19\" class=\"row_heading level0 row19\" >19</th>\n",
       "      <td id=\"T_495ad_row19_col0\" class=\"data row19 col0\" >13</td>\n",
       "      <td id=\"T_495ad_row19_col1\" class=\"data row19 col1\" >parking</td>\n",
       "    </tr>\n",
       "    <tr>\n",
       "      <th id=\"T_495ad_level0_row20\" class=\"row_heading level0 row20\" >20</th>\n",
       "      <td id=\"T_495ad_row20_col0\" class=\"data row20 col0\" >24</td>\n",
       "      <td id=\"T_495ad_row20_col1\" class=\"data row20 col1\" >prefarea</td>\n",
       "    </tr>\n",
       "    <tr>\n",
       "      <th id=\"T_495ad_level0_row21\" class=\"row_heading level0 row21\" >21</th>\n",
       "      <td id=\"T_495ad_row21_col0\" class=\"data row21 col0\" >27</td>\n",
       "      <td id=\"T_495ad_row21_col1\" class=\"data row21 col1\" >rnd_1</td>\n",
       "    </tr>\n",
       "    <tr>\n",
       "      <th id=\"T_495ad_level0_row22\" class=\"row_heading level0 row22\" >22</th>\n",
       "      <td id=\"T_495ad_row22_col0\" class=\"data row22 col0\" >3</td>\n",
       "      <td id=\"T_495ad_row22_col1\" class=\"data row22 col1\" >rnd_2</td>\n",
       "    </tr>\n",
       "    <tr>\n",
       "      <th id=\"T_495ad_level0_row23\" class=\"row_heading level0 row23\" >23</th>\n",
       "      <td id=\"T_495ad_row23_col0\" class=\"data row23 col0\" >19</td>\n",
       "      <td id=\"T_495ad_row23_col1\" class=\"data row23 col1\" >rnd_3</td>\n",
       "    </tr>\n",
       "    <tr>\n",
       "      <th id=\"T_495ad_level0_row24\" class=\"row_heading level0 row24\" >24</th>\n",
       "      <td id=\"T_495ad_row24_col0\" class=\"data row24 col0\" >11</td>\n",
       "      <td id=\"T_495ad_row24_col1\" class=\"data row24 col1\" >rnd_4</td>\n",
       "    </tr>\n",
       "    <tr>\n",
       "      <th id=\"T_495ad_level0_row25\" class=\"row_heading level0 row25\" >25</th>\n",
       "      <td id=\"T_495ad_row25_col0\" class=\"data row25 col0\" >15</td>\n",
       "      <td id=\"T_495ad_row25_col1\" class=\"data row25 col1\" >rnd_5</td>\n",
       "    </tr>\n",
       "    <tr>\n",
       "      <th id=\"T_495ad_level0_row26\" class=\"row_heading level0 row26\" >26</th>\n",
       "      <td id=\"T_495ad_row26_col0\" class=\"data row26 col0\" >26</td>\n",
       "      <td id=\"T_495ad_row26_col1\" class=\"data row26 col1\" >rnd_6</td>\n",
       "    </tr>\n",
       "    <tr>\n",
       "      <th id=\"T_495ad_level0_row27\" class=\"row_heading level0 row27\" >27</th>\n",
       "      <td id=\"T_495ad_row27_col0\" class=\"data row27 col0\" >17</td>\n",
       "      <td id=\"T_495ad_row27_col1\" class=\"data row27 col1\" >rnd_7</td>\n",
       "    </tr>\n",
       "    <tr>\n",
       "      <th id=\"T_495ad_level0_row28\" class=\"row_heading level0 row28\" >28</th>\n",
       "      <td id=\"T_495ad_row28_col0\" class=\"data row28 col0\" >12</td>\n",
       "      <td id=\"T_495ad_row28_col1\" class=\"data row28 col1\" >stories</td>\n",
       "    </tr>\n",
       "  </tbody>\n",
       "</table>\n"
      ],
      "text/plain": [
       "<pandas.io.formats.style.Styler at 0x7ff18a7d8c10>"
      ]
     },
     "execution_count": 11,
     "metadata": {},
     "output_type": "execute_result"
    }
   ],
   "source": [
    "mask = df2.columns.values\n",
    "\n",
    "import pickle\n",
    "with open('saved_dictionary_a.pkl', 'rb') as f:\n",
    "    loaded_dict = pickle.load(f)\n",
    "\n",
    "color_dict = pd.Series(loaded_dict).to_frame().reset_index().sort_values(by=0).reset_index(drop=True)\n",
    "color = (color_dict['index'].isin(mask)).map({True: 'background-color: yellow', False: ''})\n",
    "color_dict.style.apply(lambda s: color)"
   ]
  },
  {
   "cell_type": "code",
   "execution_count": 12,
   "id": "62fb7f1b",
   "metadata": {},
   "outputs": [
    {
     "data": {
      "text/plain": [
       "array(['2', '3', '4', '5', '6', '7', '10', '11', '13', '14', '15', '16',\n",
       "       '17', '18', '19', '21', '22', '23', '24', '25', '26', '27'],\n",
       "      dtype=object)"
      ]
     },
     "execution_count": 12,
     "metadata": {},
     "output_type": "execute_result"
    }
   ],
   "source": [
    "df2.columns.values"
   ]
  },
  {
   "cell_type": "code",
   "execution_count": null,
   "id": "c5954fe5",
   "metadata": {},
   "outputs": [],
   "source": []
  }
 ],
 "metadata": {
  "kernelspec": {
   "display_name": "Python 3 (ipykernel)",
   "language": "python",
   "name": "python3"
  },
  "language_info": {
   "codemirror_mode": {
    "name": "ipython",
    "version": 3
   },
   "file_extension": ".py",
   "mimetype": "text/x-python",
   "name": "python",
   "nbconvert_exporter": "python",
   "pygments_lexer": "ipython3",
   "version": "3.10.13"
  }
 },
 "nbformat": 4,
 "nbformat_minor": 5
}
