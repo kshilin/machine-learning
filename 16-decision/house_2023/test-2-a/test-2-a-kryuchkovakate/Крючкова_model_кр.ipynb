{
 "cells": [
  {
   "cell_type": "code",
   "execution_count": 1,
   "metadata": {
    "execution": {
     "iopub.execute_input": "2023-12-21T10:45:34.657910Z",
     "iopub.status.busy": "2023-12-21T10:45:34.657196Z",
     "iopub.status.idle": "2023-12-21T10:45:34.688300Z",
     "shell.execute_reply": "2023-12-21T10:45:34.687676Z",
     "shell.execute_reply.started": "2023-12-21T10:45:34.657871Z"
    }
   },
   "outputs": [],
   "source": [
    "# Внимание!!! Важно, что бы файлы с данными и исполняемый файл находились в одной папке, \n",
    "# тогда пути к тестовым и тренировочным наборам будут содержать только имена файлов.\n",
    "# \n",
    "# В пути к тренировочным и тестовым данным запрежается использовать абсалютную адресацию, \n",
    "# то есть адресацию, в которой присутствуют имена папок. Путь должен содержать только имя файла.\n",
    "#\n",
    "# Напоминание: под моделью машинного обучения понимаются все действия с исходными данными, \n",
    "# которые необходимо произвести, что бы сопоставить признаки целевому значению."
   ]
  },
  {
   "cell_type": "markdown",
   "metadata": {},
   "source": [
    "### Область работы 1 (библиотеки)"
   ]
  },
  {
   "cell_type": "code",
   "execution_count": 2,
   "metadata": {
    "execution": {
     "iopub.execute_input": "2023-12-21T10:45:34.773384Z",
     "iopub.status.busy": "2023-12-21T10:45:34.772681Z",
     "iopub.status.idle": "2023-12-21T10:45:35.253086Z",
     "shell.execute_reply": "2023-12-21T10:45:35.252326Z",
     "shell.execute_reply.started": "2023-12-21T10:45:34.773331Z"
    }
   },
   "outputs": [],
   "source": [
    "import numpy as np\n",
    "import pandas as pd\n",
    "import matplotlib.pyplot as plt\n",
    "import seaborn as sns\n",
    "from sklearn.preprocessing import OrdinalEncoder,LabelEncoder, OneHotEncoder\n",
    "from sklearn.preprocessing import MinMaxScaler, StandardScaler, RobustScaler,Normalizer\n",
    "from sklearn.preprocessing import PolynomialFeatures, QuantileTransformer, PowerTransformer\n",
    "from sklearn.model_selection import train_test_split, cross_val_score, GridSearchCV, KFold, StratifiedShuffleSplit\n",
    "from sklearn.preprocessing import PolynomialFeatures\n",
    "from sklearn.compose import ColumnTransformer, make_column_transformer, TransformedTargetRegressor\\\n",
    "\n",
    "from sklearn.pipeline import Pipeline\n",
    "#import category_encoders as ce\n",
    "from sklearn.experimental import enable_iterative_imputer\n",
    "from sklearn.impute import SimpleImputer, IterativeImputer, KNNImputer\n",
    "from sklearn.model_selection import RandomizedSearchCV\n",
    "from sklearn.ensemble import RandomForestRegressor\n",
    "from sklearn.metrics import classification_report\n",
    "from sklearn.metrics import accuracy_score, log_loss, zero_one_loss\n",
    "from sklearn.metrics import precision_score\n",
    "from sklearn.linear_model import Ridge, Lasso\n",
    "from sklearn.neighbors import KNeighborsRegressor\n",
    "from sklearn.metrics import mean_absolute_percentage_error\n",
    "\n",
    "from sklearn.feature_selection import VarianceThreshold\n"
   ]
  },
  {
   "cell_type": "markdown",
   "metadata": {},
   "source": [
    "### Область работы 2 (выполнение лучшей модели)"
   ]
  },
  {
   "cell_type": "code",
   "execution_count": 3,
   "metadata": {
    "execution": {
     "iopub.execute_input": "2023-12-21T10:45:35.254710Z",
     "iopub.status.busy": "2023-12-21T10:45:35.254279Z",
     "iopub.status.idle": "2023-12-21T10:45:35.284195Z",
     "shell.execute_reply": "2023-12-21T10:45:35.283565Z",
     "shell.execute_reply.started": "2023-12-21T10:45:35.254676Z"
    },
    "tags": []
   },
   "outputs": [
    {
     "data": {
      "text/plain": [
       "0     False\n",
       "1     False\n",
       "2     False\n",
       "3     False\n",
       "4     False\n",
       "5     False\n",
       "6     False\n",
       "7     False\n",
       "8     False\n",
       "9     False\n",
       "10    False\n",
       "11    False\n",
       "12    False\n",
       "13    False\n",
       "14    False\n",
       "15    False\n",
       "16    False\n",
       "17    False\n",
       "18    False\n",
       "19    False\n",
       "20    False\n",
       "21    False\n",
       "22    False\n",
       "23    False\n",
       "24    False\n",
       "25    False\n",
       "26    False\n",
       "27    False\n",
       "28    False\n",
       "dtype: bool"
      ]
     },
     "execution_count": 3,
     "metadata": {},
     "output_type": "execute_result"
    }
   ],
   "source": [
    "path_train = 'train_house_A.csv' \n",
    "path_test='test_house_A.csv'\n",
    "df_train=pd.read_csv(path_train)\n",
    "df_test=pd.read_csv(path_test)\n",
    "df_test.isna().any()"
   ]
  },
  {
   "cell_type": "code",
   "execution_count": 4,
   "metadata": {
    "execution": {
     "iopub.execute_input": "2023-12-21T10:45:35.286168Z",
     "iopub.status.busy": "2023-12-21T10:45:35.285764Z",
     "iopub.status.idle": "2023-12-21T10:45:35.296957Z",
     "shell.execute_reply": "2023-12-21T10:45:35.296198Z",
     "shell.execute_reply.started": "2023-12-21T10:45:35.286138Z"
    }
   },
   "outputs": [],
   "source": [
    "# imputer = SimpleImputer(strategy='median',missing_values=np.nan)\n",
    "# column_to_impute = ['cat_bin']\n",
    "# df_test[column_to_impute] = imputer.fit_transform(df_test[column_to_impute])"
   ]
  },
  {
   "cell_type": "code",
   "execution_count": 5,
   "metadata": {
    "execution": {
     "iopub.execute_input": "2023-12-21T10:45:35.298521Z",
     "iopub.status.busy": "2023-12-21T10:45:35.298105Z",
     "iopub.status.idle": "2023-12-21T10:45:35.327735Z",
     "shell.execute_reply": "2023-12-21T10:45:35.327034Z",
     "shell.execute_reply.started": "2023-12-21T10:45:35.298492Z"
    }
   },
   "outputs": [
    {
     "data": {
      "text/plain": [
       "0     False\n",
       "1     False\n",
       "2     False\n",
       "3     False\n",
       "4     False\n",
       "5     False\n",
       "6     False\n",
       "7     False\n",
       "8     False\n",
       "9     False\n",
       "10    False\n",
       "11    False\n",
       "12    False\n",
       "13    False\n",
       "14    False\n",
       "15    False\n",
       "16    False\n",
       "17    False\n",
       "18    False\n",
       "19    False\n",
       "20    False\n",
       "21    False\n",
       "22    False\n",
       "23    False\n",
       "24    False\n",
       "25    False\n",
       "26    False\n",
       "27    False\n",
       "28    False\n",
       "dtype: bool"
      ]
     },
     "execution_count": 5,
     "metadata": {},
     "output_type": "execute_result"
    }
   ],
   "source": [
    "df_test.isna().any()"
   ]
  },
  {
   "cell_type": "code",
   "execution_count": 6,
   "metadata": {
    "execution": {
     "iopub.execute_input": "2023-12-21T10:45:35.329108Z",
     "iopub.status.busy": "2023-12-21T10:45:35.328742Z",
     "iopub.status.idle": "2023-12-21T10:45:35.342809Z",
     "shell.execute_reply": "2023-12-21T10:45:35.342185Z",
     "shell.execute_reply.started": "2023-12-21T10:45:35.329078Z"
    }
   },
   "outputs": [],
   "source": [
    "df_train.drop(['0', '11', '13', '15', '2', '21', '22', '23', '27', '3', '8'],axis=1,inplace=True)"
   ]
  },
  {
   "cell_type": "code",
   "execution_count": 7,
   "metadata": {
    "execution": {
     "iopub.execute_input": "2023-12-21T10:45:35.344493Z",
     "iopub.status.busy": "2023-12-21T10:45:35.343860Z",
     "iopub.status.idle": "2023-12-21T10:45:35.359348Z",
     "shell.execute_reply": "2023-12-21T10:45:35.358570Z",
     "shell.execute_reply.started": "2023-12-21T10:45:35.344459Z"
    },
    "tags": []
   },
   "outputs": [],
   "source": [
    "df_train.drop(['14', '17', '18', '19'],axis=1,inplace=True)\n",
    "df_train.drop(['5','25','26','5','28'],axis=1,inplace=True)\n"
   ]
  },
  {
   "cell_type": "code",
   "execution_count": 8,
   "metadata": {
    "execution": {
     "iopub.execute_input": "2023-12-21T10:45:35.384531Z",
     "iopub.status.busy": "2023-12-21T10:45:35.383908Z",
     "iopub.status.idle": "2023-12-21T10:45:35.411154Z",
     "shell.execute_reply": "2023-12-21T10:45:35.410337Z",
     "shell.execute_reply.started": "2023-12-21T10:45:35.384495Z"
    }
   },
   "outputs": [],
   "source": [
    "df_test.drop(['0', '11', '13', '15', '2', '21', '22', '23', '27', '3', '8'],axis=1,inplace=True)"
   ]
  },
  {
   "cell_type": "code",
   "execution_count": 9,
   "metadata": {
    "execution": {
     "iopub.execute_input": "2023-12-21T10:45:35.496614Z",
     "iopub.status.busy": "2023-12-21T10:45:35.495966Z",
     "iopub.status.idle": "2023-12-21T10:45:35.543911Z",
     "shell.execute_reply": "2023-12-21T10:45:35.543097Z",
     "shell.execute_reply.started": "2023-12-21T10:45:35.496576Z"
    }
   },
   "outputs": [],
   "source": [
    "df_test.drop(['14', '17', '18', '19'],axis=1,inplace=True)\n",
    "df_test.drop(['5','25','26','5','28'],axis=1,inplace=True)\n"
   ]
  },
  {
   "cell_type": "code",
   "execution_count": 10,
   "metadata": {
    "execution": {
     "iopub.execute_input": "2023-12-21T10:45:35.587833Z",
     "iopub.status.busy": "2023-12-21T10:45:35.587161Z",
     "iopub.status.idle": "2023-12-21T10:45:35.648904Z",
     "shell.execute_reply": "2023-12-21T10:45:35.648224Z",
     "shell.execute_reply.started": "2023-12-21T10:45:35.587794Z"
    }
   },
   "outputs": [
    {
     "data": {
      "text/html": [
       "<div>\n",
       "<style scoped>\n",
       "    .dataframe tbody tr th:only-of-type {\n",
       "        vertical-align: middle;\n",
       "    }\n",
       "\n",
       "    .dataframe tbody tr th {\n",
       "        vertical-align: top;\n",
       "    }\n",
       "\n",
       "    .dataframe thead th {\n",
       "        text-align: right;\n",
       "    }\n",
       "</style>\n",
       "<table border=\"1\" class=\"dataframe\">\n",
       "  <thead>\n",
       "    <tr style=\"text-align: right;\">\n",
       "      <th></th>\n",
       "      <th>1</th>\n",
       "      <th>4</th>\n",
       "      <th>6</th>\n",
       "      <th>7</th>\n",
       "      <th>9</th>\n",
       "      <th>10</th>\n",
       "      <th>12</th>\n",
       "      <th>16</th>\n",
       "      <th>20</th>\n",
       "      <th>24</th>\n",
       "    </tr>\n",
       "  </thead>\n",
       "  <tbody>\n",
       "    <tr>\n",
       "      <th>0</th>\n",
       "      <td>0.0</td>\n",
       "      <td>-0.223185</td>\n",
       "      <td>0.488647</td>\n",
       "      <td>-0.570187</td>\n",
       "      <td>2.149083</td>\n",
       "      <td>1.552470</td>\n",
       "      <td>2.532024</td>\n",
       "      <td>1.472618</td>\n",
       "      <td>-0.263991</td>\n",
       "      <td>-0.554035</td>\n",
       "    </tr>\n",
       "    <tr>\n",
       "      <th>1</th>\n",
       "      <td>0.0</td>\n",
       "      <td>1.472449</td>\n",
       "      <td>0.391790</td>\n",
       "      <td>3.413810</td>\n",
       "      <td>2.149083</td>\n",
       "      <td>-0.024866</td>\n",
       "      <td>0.224410</td>\n",
       "      <td>-0.679063</td>\n",
       "      <td>3.846729</td>\n",
       "      <td>-0.554035</td>\n",
       "    </tr>\n",
       "    <tr>\n",
       "      <th>2</th>\n",
       "      <td>0.0</td>\n",
       "      <td>-0.223185</td>\n",
       "      <td>-1.303204</td>\n",
       "      <td>-0.570187</td>\n",
       "      <td>-0.465315</td>\n",
       "      <td>-0.024866</td>\n",
       "      <td>0.224410</td>\n",
       "      <td>-0.679063</td>\n",
       "      <td>-0.263991</td>\n",
       "      <td>-0.554035</td>\n",
       "    </tr>\n",
       "    <tr>\n",
       "      <th>3</th>\n",
       "      <td>0.0</td>\n",
       "      <td>-0.223185</td>\n",
       "      <td>1.169412</td>\n",
       "      <td>-0.570187</td>\n",
       "      <td>2.149083</td>\n",
       "      <td>-1.536561</td>\n",
       "      <td>-0.929397</td>\n",
       "      <td>-0.679063</td>\n",
       "      <td>-0.263991</td>\n",
       "      <td>-0.554035</td>\n",
       "    </tr>\n",
       "    <tr>\n",
       "      <th>4</th>\n",
       "      <td>0.0</td>\n",
       "      <td>-0.223185</td>\n",
       "      <td>-0.486840</td>\n",
       "      <td>-0.570187</td>\n",
       "      <td>-0.465315</td>\n",
       "      <td>0.222511</td>\n",
       "      <td>-0.929397</td>\n",
       "      <td>-0.679063</td>\n",
       "      <td>-0.263991</td>\n",
       "      <td>-0.554035</td>\n",
       "    </tr>\n",
       "    <tr>\n",
       "      <th>...</th>\n",
       "      <td>...</td>\n",
       "      <td>...</td>\n",
       "      <td>...</td>\n",
       "      <td>...</td>\n",
       "      <td>...</td>\n",
       "      <td>...</td>\n",
       "      <td>...</td>\n",
       "      <td>...</td>\n",
       "      <td>...</td>\n",
       "      <td>...</td>\n",
       "    </tr>\n",
       "    <tr>\n",
       "      <th>132</th>\n",
       "      <td>0.0</td>\n",
       "      <td>0.624632</td>\n",
       "      <td>0.391790</td>\n",
       "      <td>1.421812</td>\n",
       "      <td>-0.465315</td>\n",
       "      <td>1.346730</td>\n",
       "      <td>2.532024</td>\n",
       "      <td>1.472618</td>\n",
       "      <td>1.791369</td>\n",
       "      <td>-0.554035</td>\n",
       "    </tr>\n",
       "    <tr>\n",
       "      <th>133</th>\n",
       "      <td>0.0</td>\n",
       "      <td>-0.223185</td>\n",
       "      <td>-0.341555</td>\n",
       "      <td>-0.570187</td>\n",
       "      <td>-0.465315</td>\n",
       "      <td>0.068207</td>\n",
       "      <td>-0.929397</td>\n",
       "      <td>-0.679063</td>\n",
       "      <td>-0.263991</td>\n",
       "      <td>-0.554035</td>\n",
       "    </tr>\n",
       "    <tr>\n",
       "      <th>134</th>\n",
       "      <td>0.0</td>\n",
       "      <td>-0.223185</td>\n",
       "      <td>0.336443</td>\n",
       "      <td>-0.570187</td>\n",
       "      <td>-0.465315</td>\n",
       "      <td>-0.651881</td>\n",
       "      <td>-0.929397</td>\n",
       "      <td>-0.679063</td>\n",
       "      <td>-0.263991</td>\n",
       "      <td>-0.554035</td>\n",
       "    </tr>\n",
       "    <tr>\n",
       "      <th>135</th>\n",
       "      <td>0.0</td>\n",
       "      <td>-0.223185</td>\n",
       "      <td>-0.300045</td>\n",
       "      <td>-0.570187</td>\n",
       "      <td>-0.465315</td>\n",
       "      <td>-0.024866</td>\n",
       "      <td>0.224410</td>\n",
       "      <td>-0.679063</td>\n",
       "      <td>-0.263991</td>\n",
       "      <td>-0.554035</td>\n",
       "    </tr>\n",
       "    <tr>\n",
       "      <th>136</th>\n",
       "      <td>0.0</td>\n",
       "      <td>-0.223185</td>\n",
       "      <td>-0.599839</td>\n",
       "      <td>-0.570187</td>\n",
       "      <td>-0.465315</td>\n",
       "      <td>0.342526</td>\n",
       "      <td>-0.929397</td>\n",
       "      <td>-0.679063</td>\n",
       "      <td>-0.263991</td>\n",
       "      <td>-0.554035</td>\n",
       "    </tr>\n",
       "  </tbody>\n",
       "</table>\n",
       "<p>137 rows × 10 columns</p>\n",
       "</div>"
      ],
      "text/plain": [
       "       1         4         6         7         9        10        12  \\\n",
       "0    0.0 -0.223185  0.488647 -0.570187  2.149083  1.552470  2.532024   \n",
       "1    0.0  1.472449  0.391790  3.413810  2.149083 -0.024866  0.224410   \n",
       "2    0.0 -0.223185 -1.303204 -0.570187 -0.465315 -0.024866  0.224410   \n",
       "3    0.0 -0.223185  1.169412 -0.570187  2.149083 -1.536561 -0.929397   \n",
       "4    0.0 -0.223185 -0.486840 -0.570187 -0.465315  0.222511 -0.929397   \n",
       "..   ...       ...       ...       ...       ...       ...       ...   \n",
       "132  0.0  0.624632  0.391790  1.421812 -0.465315  1.346730  2.532024   \n",
       "133  0.0 -0.223185 -0.341555 -0.570187 -0.465315  0.068207 -0.929397   \n",
       "134  0.0 -0.223185  0.336443 -0.570187 -0.465315 -0.651881 -0.929397   \n",
       "135  0.0 -0.223185 -0.300045 -0.570187 -0.465315 -0.024866  0.224410   \n",
       "136  0.0 -0.223185 -0.599839 -0.570187 -0.465315  0.342526 -0.929397   \n",
       "\n",
       "           16        20        24  \n",
       "0    1.472618 -0.263991 -0.554035  \n",
       "1   -0.679063  3.846729 -0.554035  \n",
       "2   -0.679063 -0.263991 -0.554035  \n",
       "3   -0.679063 -0.263991 -0.554035  \n",
       "4   -0.679063 -0.263991 -0.554035  \n",
       "..        ...       ...       ...  \n",
       "132  1.472618  1.791369 -0.554035  \n",
       "133 -0.679063 -0.263991 -0.554035  \n",
       "134 -0.679063 -0.263991 -0.554035  \n",
       "135 -0.679063 -0.263991 -0.554035  \n",
       "136 -0.679063 -0.263991 -0.554035  \n",
       "\n",
       "[137 rows x 10 columns]"
      ]
     },
     "execution_count": 10,
     "metadata": {},
     "output_type": "execute_result"
    }
   ],
   "source": [
    "df_test"
   ]
  },
  {
   "cell_type": "code",
   "execution_count": 11,
   "metadata": {
    "execution": {
     "iopub.execute_input": "2023-12-21T10:45:35.692345Z",
     "iopub.status.busy": "2023-12-21T10:45:35.691662Z",
     "iopub.status.idle": "2023-12-21T10:45:35.713280Z",
     "shell.execute_reply": "2023-12-21T10:45:35.712666Z",
     "shell.execute_reply.started": "2023-12-21T10:45:35.692305Z"
    },
    "tags": []
   },
   "outputs": [],
   "source": [
    "df_target=df_train['price']\n",
    "df_data=df_train.drop('price', axis=1)"
   ]
  },
  {
   "cell_type": "code",
   "execution_count": 12,
   "metadata": {
    "execution": {
     "iopub.execute_input": "2023-12-21T10:45:35.796837Z",
     "iopub.status.busy": "2023-12-21T10:45:35.796225Z",
     "iopub.status.idle": "2023-12-21T10:45:35.808247Z",
     "shell.execute_reply": "2023-12-21T10:45:35.807689Z",
     "shell.execute_reply.started": "2023-12-21T10:45:35.796799Z"
    }
   },
   "outputs": [],
   "source": [
    "X_train, X_test, y_train, y_test = train_test_split(df_data, df_target, random_state=53)"
   ]
  },
  {
   "cell_type": "code",
   "execution_count": 13,
   "metadata": {
    "execution": {
     "iopub.execute_input": "2023-12-21T10:45:35.911944Z",
     "iopub.status.busy": "2023-12-21T10:45:35.911106Z",
     "iopub.status.idle": "2023-12-21T10:45:35.964341Z",
     "shell.execute_reply": "2023-12-21T10:45:35.963685Z",
     "shell.execute_reply.started": "2023-12-21T10:45:35.911903Z"
    }
   },
   "outputs": [],
   "source": [
    "# Блок(и) обучения и поверки модели"
   ]
  },
  {
   "cell_type": "code",
   "execution_count": null,
   "metadata": {},
   "outputs": [],
   "source": []
  },
  {
   "cell_type": "code",
   "execution_count": 14,
   "metadata": {
    "execution": {
     "iopub.execute_input": "2023-12-21T10:45:36.007977Z",
     "iopub.status.busy": "2023-12-21T10:45:36.007450Z",
     "iopub.status.idle": "2023-12-21T10:45:36.038873Z",
     "shell.execute_reply": "2023-12-21T10:45:36.038218Z",
     "shell.execute_reply.started": "2023-12-21T10:45:36.007935Z"
    }
   },
   "outputs": [],
   "source": [
    "mode =  Pipeline([\n",
    "            ('preprocessing', StandardScaler()), \n",
    "            ('regressor',     KNeighborsRegressor(n_neighbors=20, p=1)) #пока эта модель из кнн самая лучшая\n",
    "            ])\n",
    "mode.fit(X_train, y_train)\n",
    "knn_pr = mode.predict(X_test)"
   ]
  },
  {
   "cell_type": "code",
   "execution_count": null,
   "metadata": {},
   "outputs": [],
   "source": []
  },
  {
   "cell_type": "code",
   "execution_count": 15,
   "metadata": {
    "execution": {
     "iopub.execute_input": "2023-12-21T10:45:36.122763Z",
     "iopub.status.busy": "2023-12-21T10:45:36.121931Z",
     "iopub.status.idle": "2023-12-21T10:45:36.170859Z",
     "shell.execute_reply": "2023-12-21T10:45:36.170179Z",
     "shell.execute_reply.started": "2023-12-21T10:45:36.122726Z"
    }
   },
   "outputs": [],
   "source": [
    "# Блок предсказания с использованием тестового набора"
   ]
  },
  {
   "cell_type": "code",
   "execution_count": 16,
   "metadata": {
    "execution": {
     "iopub.execute_input": "2023-12-21T10:45:36.214491Z",
     "iopub.status.busy": "2023-12-21T10:45:36.213733Z",
     "iopub.status.idle": "2023-12-21T10:45:36.293194Z",
     "shell.execute_reply": "2023-12-21T10:45:36.292506Z",
     "shell.execute_reply.started": "2023-12-21T10:45:36.214450Z"
    },
    "tags": []
   },
   "outputs": [],
   "source": [
    "prediction = mode.predict(df_test)"
   ]
  },
  {
   "cell_type": "code",
   "execution_count": 17,
   "metadata": {
    "execution": {
     "iopub.execute_input": "2023-12-21T10:45:36.317244Z",
     "iopub.status.busy": "2023-12-21T10:45:36.316597Z",
     "iopub.status.idle": "2023-12-21T10:45:36.459162Z",
     "shell.execute_reply": "2023-12-21T10:45:36.458466Z",
     "shell.execute_reply.started": "2023-12-21T10:45:36.317205Z"
    }
   },
   "outputs": [],
   "source": [
    "# Название вектора предсказанных значений  y_predict полученого на основании тестового набора\n",
    "y_predict = prediction"
   ]
  },
  {
   "cell_type": "code",
   "execution_count": 18,
   "metadata": {
    "execution": {
     "iopub.execute_input": "2023-12-21T10:45:36.461138Z",
     "iopub.status.busy": "2023-12-21T10:45:36.460350Z",
     "iopub.status.idle": "2023-12-21T10:45:36.506747Z",
     "shell.execute_reply": "2023-12-21T10:45:36.505962Z",
     "shell.execute_reply.started": "2023-12-21T10:45:36.461103Z"
    }
   },
   "outputs": [
    {
     "data": {
      "text/plain": [
       "array([6423900. , 4983300. , 3343900. , 4952850. , 3740100. , 3740100. ,\n",
       "       7698047. , 6752900. , 3626875. , 5988150. , 5712350. , 4615100. ,\n",
       "       4117750. , 3705100. , 3460100. , 7274547. , 3672550. , 5002725. ,\n",
       "       4674425. , 5619250. , 3540250. , 4480000. , 5712350. , 3362100. ,\n",
       "       3460100. , 3965150. , 5192775. , 3593100. , 3246600. , 3834250. ,\n",
       "       3233650. , 6067747. , 4683175. , 3963750. , 4577650. , 3316600. ,\n",
       "       3356500. , 2617807.5, 4363800. , 4946550. , 6423900. , 3741500. ,\n",
       "       6411447. , 5069925. , 3689000. , 5724600. , 4919425. , 3895325. ,\n",
       "       4577650. , 2772700. , 4710300. , 2637057.5, 6103797. , 4600400. ,\n",
       "       3540250. , 4500650. , 5070800. , 3973900. , 3105007.5, 5778150. ,\n",
       "       6156150. , 3707200. , 2772700. , 3973900. , 5919900. , 5741400. ,\n",
       "       3739750. , 3423350. , 3460100. , 6752900. , 3423350. , 4714150. ,\n",
       "       3460100. , 5751900. , 4716075. , 3973900. , 5421500. , 6926297. ,\n",
       "       5220250. , 4676000. , 4404575. , 6064100. , 6947297. , 6005972. ,\n",
       "       5251225. , 3202150. , 4497150. , 3705100. , 3460100. , 4457950. ,\n",
       "       6019797. , 4269825. , 3707200. , 6163297. , 4854675. , 6044850. ,\n",
       "       4603375. , 5517400. , 5940200. , 3834250. , 6863297. , 3963750. ,\n",
       "       6724697. , 4683175. , 2637057.5, 4932550. , 3062150. , 4195450. ,\n",
       "       3973900. , 4833150. , 4854675. , 4612300. , 5226025. , 3496850. ,\n",
       "       4258100. , 3724700. , 5262250. , 5154100. , 3249750. , 3496850. ,\n",
       "       6883947. , 6903197. , 3895325. , 3705100. , 3724700. , 3707200. ,\n",
       "       6183800. , 4597250. , 3626875. , 5720050. , 4056150. , 3997000. ,\n",
       "       6679547. , 3705100. , 3585750. , 3739750. , 3540250. ])"
      ]
     },
     "execution_count": 18,
     "metadata": {},
     "output_type": "execute_result"
    }
   ],
   "source": [
    "y_predict"
   ]
  },
  {
   "cell_type": "code",
   "execution_count": 19,
   "metadata": {
    "execution": {
     "iopub.execute_input": "2023-12-21T10:46:32.315402Z",
     "iopub.status.busy": "2023-12-21T10:46:32.314664Z",
     "iopub.status.idle": "2023-12-21T10:46:32.352338Z",
     "shell.execute_reply": "2023-12-21T10:46:32.351393Z",
     "shell.execute_reply.started": "2023-12-21T10:46:32.315359Z"
    }
   },
   "outputs": [
    {
     "name": "stdout",
     "output_type": "stream",
     "text": [
      "['1', '4', '6', '7', '9', '10', '12', '16', '20', '24']\n"
     ]
    }
   ],
   "source": [
    "column_names = df_test.columns.tolist()\n",
    "print(column_names)"
   ]
  },
  {
   "cell_type": "code",
   "execution_count": 20,
   "metadata": {},
   "outputs": [
    {
     "name": "stdout",
     "output_type": "stream",
     "text": [
      "(137,) (137,)\n",
      "Отрицательные цены -  0\n",
      "Max Error: 6,436,703\n",
      " \n",
      "----------------------\n",
      "   MAPE Error: 18.86\n",
      "----------------------\n"
     ]
    },
    {
     "data": {
      "image/png": "[encoded data removed]",
      "text/plain": [
       "<Figure size 1500x500 with 2 Axes>"
      ]
     },
     "metadata": {},
     "output_type": "display_data"
    }
   ],
   "source": [
    "from sklearn.metrics import mean_absolute_percentage_error\n",
    "import matplotlib.pyplot as plt\n",
    "import matplotlib.pyplot as plt\n",
    "\n",
    "y_true = pd.read_csv(\"test_Y_true_house_A.csv\").values.reshape(-1)\n",
    "print(y_predict.shape, y_true.shape)\n",
    "print('Отрицательные цены - ', sum(y_predict<0))\n",
    "\n",
    "def plot_2_error(y_true, y_predicted):\n",
    "    residuals = y_true - y_predicted\n",
    "    max_error = max(residuals) if abs(max(residuals)) > abs(min(residuals)) else min(residuals)\n",
    "    max_idx = list(residuals).index(max(residuals)) if abs(max(residuals)) > abs(min(residuals)) else list(residuals).index(min(residuals))\n",
    "    max_true, max_pred = y_true[max_idx], y_predicted[max_idx]\n",
    "    mape = mean_absolute_percentage_error(y_true, y_predict)\n",
    "    print(\"Max Error:\", \"{:,.0f}\".format(max_error))\n",
    "    print(' ')\n",
    "    print('----------------------')\n",
    "    print(\"   MAPE Error:\", \"{:,.2f}\".format(mape*100))\n",
    "    print('----------------------')\n",
    "\n",
    "    ## Plot predicted vs true\n",
    "    fig, ax = plt.subplots(nrows=1, ncols=2, figsize=(15,5))\n",
    "    from statsmodels.graphics.api import abline_plot\n",
    "    ax[0].scatter(y_predicted, y_true, color=\"black\")\n",
    "    abline_plot(intercept=0, slope=1, color=\"red\", ax=ax[0])\n",
    "    ax[0].vlines(x=max_pred, ymin=max_true, ymax=max_true-max_error, color='red', linestyle='--', alpha=0.7, label=\"max error\")\n",
    "    ax[0].grid(True)\n",
    "    ax[0].set(xlabel=\"Predicted\", ylabel=\"True\", title=\"Predicted vs True\")\n",
    "    ax[0].legend()\n",
    "\n",
    "    ## Plot predicted vs residuals\n",
    "    ax[1].scatter(y_predicted, residuals, color=\"red\")\n",
    "    ax[1].vlines(x=max_pred, ymin=0, ymax=max_error, color='black', linestyle='--', alpha=0.7, label=\"max error\")\n",
    "    ax[1].grid(True)\n",
    "    ax[1].set(xlabel=\"Predicted\", ylabel=\"Residuals\", title=\"Predicted vs Residuals\")\n",
    "    ax[1].hlines(y=0, xmin=np.min(y_predicted), xmax=np.max(y_predicted))\n",
    "    ax[1].legend()\n",
    "    plt.show()\n",
    "\n",
    "plot_2_error(y_true, y_predict)"
   ]
  },
  {
   "cell_type": "code",
   "execution_count": 21,
   "metadata": {},
   "outputs": [
    {
     "data": {
      "text/html": [
       "<style type=\"text/css\">\n",
       "#T_14275_row0_col0, #T_14275_row0_col1, #T_14275_row1_col0, #T_14275_row1_col1, #T_14275_row2_col0, #T_14275_row2_col1, #T_14275_row3_col0, #T_14275_row3_col1, #T_14275_row5_col0, #T_14275_row5_col1, #T_14275_row7_col0, #T_14275_row7_col1, #T_14275_row10_col0, #T_14275_row10_col1, #T_14275_row13_col0, #T_14275_row13_col1, #T_14275_row20_col0, #T_14275_row20_col1, #T_14275_row28_col0, #T_14275_row28_col1 {\n",
       "  background-color: yellow;\n",
       "}\n",
       "</style>\n",
       "<table id=\"T_14275\">\n",
       "  <thead>\n",
       "    <tr>\n",
       "      <th class=\"blank level0\" >&nbsp;</th>\n",
       "      <th id=\"T_14275_level0_col0\" class=\"col_heading level0 col0\" >index</th>\n",
       "      <th id=\"T_14275_level0_col1\" class=\"col_heading level0 col1\" >0</th>\n",
       "    </tr>\n",
       "  </thead>\n",
       "  <tbody>\n",
       "    <tr>\n",
       "      <th id=\"T_14275_level0_row0\" class=\"row_heading level0 row0\" >0</th>\n",
       "      <td id=\"T_14275_row0_col0\" class=\"data row0 col0\" >1</td>\n",
       "      <td id=\"T_14275_row0_col1\" class=\"data row0 col1\" >1</td>\n",
       "    </tr>\n",
       "    <tr>\n",
       "      <th id=\"T_14275_level0_row1\" class=\"row_heading level0 row1\" >1</th>\n",
       "      <td id=\"T_14275_row1_col0\" class=\"data row1 col0\" >16</td>\n",
       "      <td id=\"T_14275_row1_col1\" class=\"data row1 col1\" >airconditioning</td>\n",
       "    </tr>\n",
       "    <tr>\n",
       "      <th id=\"T_14275_level0_row2\" class=\"row_heading level0 row2\" >2</th>\n",
       "      <td id=\"T_14275_row2_col0\" class=\"data row2 col0\" >6</td>\n",
       "      <td id=\"T_14275_row2_col1\" class=\"data row2 col1\" >area</td>\n",
       "    </tr>\n",
       "    <tr>\n",
       "      <th id=\"T_14275_level0_row3\" class=\"row_heading level0 row3\" >3</th>\n",
       "      <td id=\"T_14275_row3_col0\" class=\"data row3 col0\" >4</td>\n",
       "      <td id=\"T_14275_row3_col1\" class=\"data row3 col1\" >area bathrooms</td>\n",
       "    </tr>\n",
       "    <tr>\n",
       "      <th id=\"T_14275_level0_row4\" class=\"row_heading level0 row4\" >4</th>\n",
       "      <td id=\"T_14275_row4_col0\" class=\"data row4 col0\" >25</td>\n",
       "      <td id=\"T_14275_row4_col1\" class=\"data row4 col1\" >area bedrooms</td>\n",
       "    </tr>\n",
       "    <tr>\n",
       "      <th id=\"T_14275_level0_row5\" class=\"row_heading level0 row5\" >5</th>\n",
       "      <td id=\"T_14275_row5_col0\" class=\"data row5 col0\" >10</td>\n",
       "      <td id=\"T_14275_row5_col1\" class=\"data row5 col1\" >area stories</td>\n",
       "    </tr>\n",
       "    <tr>\n",
       "      <th id=\"T_14275_level0_row6\" class=\"row_heading level0 row6\" >6</th>\n",
       "      <td id=\"T_14275_row6_col0\" class=\"data row6 col0\" >5</td>\n",
       "      <td id=\"T_14275_row6_col1\" class=\"data row6 col1\" >basement</td>\n",
       "    </tr>\n",
       "    <tr>\n",
       "      <th id=\"T_14275_level0_row7\" class=\"row_heading level0 row7\" >7</th>\n",
       "      <td id=\"T_14275_row7_col0\" class=\"data row7 col0\" >7</td>\n",
       "      <td id=\"T_14275_row7_col1\" class=\"data row7 col1\" >bathrooms</td>\n",
       "    </tr>\n",
       "    <tr>\n",
       "      <th id=\"T_14275_level0_row8\" class=\"row_heading level0 row8\" >8</th>\n",
       "      <td id=\"T_14275_row8_col0\" class=\"data row8 col0\" >28</td>\n",
       "      <td id=\"T_14275_row8_col1\" class=\"data row8 col1\" >bathrooms stories</td>\n",
       "    </tr>\n",
       "    <tr>\n",
       "      <th id=\"T_14275_level0_row9\" class=\"row_heading level0 row9\" >9</th>\n",
       "      <td id=\"T_14275_row9_col0\" class=\"data row9 col0\" >21</td>\n",
       "      <td id=\"T_14275_row9_col1\" class=\"data row9 col1\" >bedrooms</td>\n",
       "    </tr>\n",
       "    <tr>\n",
       "      <th id=\"T_14275_level0_row10\" class=\"row_heading level0 row10\" >10</th>\n",
       "      <td id=\"T_14275_row10_col0\" class=\"data row10 col0\" >20</td>\n",
       "      <td id=\"T_14275_row10_col1\" class=\"data row10 col1\" >bedrooms bathrooms</td>\n",
       "    </tr>\n",
       "    <tr>\n",
       "      <th id=\"T_14275_level0_row11\" class=\"row_heading level0 row11\" >11</th>\n",
       "      <td id=\"T_14275_row11_col0\" class=\"data row11 col0\" >8</td>\n",
       "      <td id=\"T_14275_row11_col1\" class=\"data row11 col1\" >bedrooms stories</td>\n",
       "    </tr>\n",
       "    <tr>\n",
       "      <th id=\"T_14275_level0_row12\" class=\"row_heading level0 row12\" >12</th>\n",
       "      <td id=\"T_14275_row12_col0\" class=\"data row12 col0\" >22</td>\n",
       "      <td id=\"T_14275_row12_col1\" class=\"data row12 col1\" >furnishingstatus</td>\n",
       "    </tr>\n",
       "    <tr>\n",
       "      <th id=\"T_14275_level0_row13\" class=\"row_heading level0 row13\" >13</th>\n",
       "      <td id=\"T_14275_row13_col0\" class=\"data row13 col0\" >9</td>\n",
       "      <td id=\"T_14275_row13_col1\" class=\"data row13 col1\" >guestroom</td>\n",
       "    </tr>\n",
       "    <tr>\n",
       "      <th id=\"T_14275_level0_row14\" class=\"row_heading level0 row14\" >14</th>\n",
       "      <td id=\"T_14275_row14_col0\" class=\"data row14 col0\" >23</td>\n",
       "      <td id=\"T_14275_row14_col1\" class=\"data row14 col1\" >hotwaterheating</td>\n",
       "    </tr>\n",
       "    <tr>\n",
       "      <th id=\"T_14275_level0_row15\" class=\"row_heading level0 row15\" >15</th>\n",
       "      <td id=\"T_14275_row15_col0\" class=\"data row15 col0\" >18</td>\n",
       "      <td id=\"T_14275_row15_col1\" class=\"data row15 col1\" >log_rnd_1</td>\n",
       "    </tr>\n",
       "    <tr>\n",
       "      <th id=\"T_14275_level0_row16\" class=\"row_heading level0 row16\" >16</th>\n",
       "      <td id=\"T_14275_row16_col0\" class=\"data row16 col0\" >2</td>\n",
       "      <td id=\"T_14275_row16_col1\" class=\"data row16 col1\" >log_rnd_2</td>\n",
       "    </tr>\n",
       "    <tr>\n",
       "      <th id=\"T_14275_level0_row17\" class=\"row_heading level0 row17\" >17</th>\n",
       "      <td id=\"T_14275_row17_col0\" class=\"data row17 col0\" >14</td>\n",
       "      <td id=\"T_14275_row17_col1\" class=\"data row17 col1\" >log_rnd_3</td>\n",
       "    </tr>\n",
       "    <tr>\n",
       "      <th id=\"T_14275_level0_row18\" class=\"row_heading level0 row18\" >18</th>\n",
       "      <td id=\"T_14275_row18_col0\" class=\"data row18 col0\" >0</td>\n",
       "      <td id=\"T_14275_row18_col1\" class=\"data row18 col1\" >mainroad</td>\n",
       "    </tr>\n",
       "    <tr>\n",
       "      <th id=\"T_14275_level0_row19\" class=\"row_heading level0 row19\" >19</th>\n",
       "      <td id=\"T_14275_row19_col0\" class=\"data row19 col0\" >13</td>\n",
       "      <td id=\"T_14275_row19_col1\" class=\"data row19 col1\" >parking</td>\n",
       "    </tr>\n",
       "    <tr>\n",
       "      <th id=\"T_14275_level0_row20\" class=\"row_heading level0 row20\" >20</th>\n",
       "      <td id=\"T_14275_row20_col0\" class=\"data row20 col0\" >24</td>\n",
       "      <td id=\"T_14275_row20_col1\" class=\"data row20 col1\" >prefarea</td>\n",
       "    </tr>\n",
       "    <tr>\n",
       "      <th id=\"T_14275_level0_row21\" class=\"row_heading level0 row21\" >21</th>\n",
       "      <td id=\"T_14275_row21_col0\" class=\"data row21 col0\" >27</td>\n",
       "      <td id=\"T_14275_row21_col1\" class=\"data row21 col1\" >rnd_1</td>\n",
       "    </tr>\n",
       "    <tr>\n",
       "      <th id=\"T_14275_level0_row22\" class=\"row_heading level0 row22\" >22</th>\n",
       "      <td id=\"T_14275_row22_col0\" class=\"data row22 col0\" >3</td>\n",
       "      <td id=\"T_14275_row22_col1\" class=\"data row22 col1\" >rnd_2</td>\n",
       "    </tr>\n",
       "    <tr>\n",
       "      <th id=\"T_14275_level0_row23\" class=\"row_heading level0 row23\" >23</th>\n",
       "      <td id=\"T_14275_row23_col0\" class=\"data row23 col0\" >19</td>\n",
       "      <td id=\"T_14275_row23_col1\" class=\"data row23 col1\" >rnd_3</td>\n",
       "    </tr>\n",
       "    <tr>\n",
       "      <th id=\"T_14275_level0_row24\" class=\"row_heading level0 row24\" >24</th>\n",
       "      <td id=\"T_14275_row24_col0\" class=\"data row24 col0\" >11</td>\n",
       "      <td id=\"T_14275_row24_col1\" class=\"data row24 col1\" >rnd_4</td>\n",
       "    </tr>\n",
       "    <tr>\n",
       "      <th id=\"T_14275_level0_row25\" class=\"row_heading level0 row25\" >25</th>\n",
       "      <td id=\"T_14275_row25_col0\" class=\"data row25 col0\" >15</td>\n",
       "      <td id=\"T_14275_row25_col1\" class=\"data row25 col1\" >rnd_5</td>\n",
       "    </tr>\n",
       "    <tr>\n",
       "      <th id=\"T_14275_level0_row26\" class=\"row_heading level0 row26\" >26</th>\n",
       "      <td id=\"T_14275_row26_col0\" class=\"data row26 col0\" >26</td>\n",
       "      <td id=\"T_14275_row26_col1\" class=\"data row26 col1\" >rnd_6</td>\n",
       "    </tr>\n",
       "    <tr>\n",
       "      <th id=\"T_14275_level0_row27\" class=\"row_heading level0 row27\" >27</th>\n",
       "      <td id=\"T_14275_row27_col0\" class=\"data row27 col0\" >17</td>\n",
       "      <td id=\"T_14275_row27_col1\" class=\"data row27 col1\" >rnd_7</td>\n",
       "    </tr>\n",
       "    <tr>\n",
       "      <th id=\"T_14275_level0_row28\" class=\"row_heading level0 row28\" >28</th>\n",
       "      <td id=\"T_14275_row28_col0\" class=\"data row28 col0\" >12</td>\n",
       "      <td id=\"T_14275_row28_col1\" class=\"data row28 col1\" >stories</td>\n",
       "    </tr>\n",
       "  </tbody>\n",
       "</table>\n"
      ],
      "text/plain": [
       "<pandas.io.formats.style.Styler at 0x7fe9c65e8370>"
      ]
     },
     "execution_count": 21,
     "metadata": {},
     "output_type": "execute_result"
    }
   ],
   "source": [
    "mask = column_names\n",
    "\n",
    "import pickle\n",
    "with open('saved_dictionary_a.pkl', 'rb') as f:\n",
    "    loaded_dict = pickle.load(f)\n",
    "\n",
    "color_dict = pd.Series(loaded_dict).to_frame().reset_index().sort_values(by=0).reset_index(drop=True)\n",
    "color = (color_dict['index'].isin(mask)).map({True: 'background-color: yellow', False: ''})\n",
    "color_dict.style.apply(lambda s: color)"
   ]
  },
  {
   "cell_type": "code",
   "execution_count": null,
   "metadata": {},
   "outputs": [],
   "source": []
  }
 ],
 "metadata": {
  "kernelspec": {
   "display_name": "Python 3 (ipykernel)",
   "language": "python",
   "name": "python3"
  },
  "language_info": {
   "codemirror_mode": {
    "name": "ipython",
    "version": 3
   },
   "file_extension": ".py",
   "mimetype": "text/x-python",
   "name": "python",
   "nbconvert_exporter": "python",
   "pygments_lexer": "ipython3",
   "version": "3.10.13"
  }
 },
 "nbformat": 4,
 "nbformat_minor": 4
}
