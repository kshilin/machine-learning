{
 "cells": [
  {
   "cell_type": "code",
   "execution_count": 1,
   "id": "9d01116d",
   "metadata": {},
   "outputs": [],
   "source": [
    "import numpy as np\n",
    "import pandas as pd\n",
    "import matplotlib.pyplot as plt\n",
    "import seaborn as sns\n",
    "\n",
    "\n",
    "from sklearn.model_selection import cross_val_score\n",
    "from sklearn.metrics import accuracy_score\n",
    "\n",
    "from sklearn.preprocessing import OrdinalEncoder,LabelEncoder, OneHotEncoder, TargetEncoder\n",
    "from sklearn.preprocessing import MinMaxScaler, StandardScaler, RobustScaler, Normalizer\n",
    "from sklearn.preprocessing import PolynomialFeatures, QuantileTransformer, PowerTransformer\n",
    "from sklearn.model_selection import train_test_split \n",
    "\n",
    "from sklearn.preprocessing import PolynomialFeatures\n",
    "\n",
    "from sklearn.compose import ColumnTransformer, make_column_transformer, TransformedTargetRegressor\\\n",
    "\n",
    "from sklearn.pipeline import Pipeline\n",
    "from sklearn.model_selection import GridSearchCV\n",
    "\n",
    "from sklearn.linear_model import Ridge, Lasso, ElasticNet, BayesianRidge, LinearRegression\n",
    "from sklearn.neighbors import KNeighborsRegressor\n",
    "\n",
    "import category_encoders as ce\n",
    "\n",
    "from sklearn.experimental import enable_iterative_imputer\n",
    "from sklearn.impute import SimpleImputer, IterativeImputer, KNNImputer\n",
    "\n",
    "from sklearn.metrics import mean_absolute_percentage_error\n",
    "from sklearn.preprocessing import OrdinalEncoder\n",
    "from sklearn.preprocessing import OneHotEncoder\n",
    "from sklearn.preprocessing import KBinsDiscretizer\n",
    "\n",
    "from sklearn.model_selection import StratifiedShuffleSplit\n",
    "from sklearn.model_selection import StratifiedKFold\n",
    "\n",
    "from sklearn.ensemble import RandomForestRegressor\n",
    "from sklearn.ensemble import GradientBoostingRegressor\n",
    "from sklearn.ensemble import BaggingRegressor\n",
    "from sklearn.tree import DecisionTreeRegressor\n",
    "from sklearn.ensemble import VotingRegressor\n",
    "from sklearn.ensemble import StackingRegressor\n",
    "from sklearn.metrics import f1_score\n",
    "from sklearn.metrics import confusion_matrix\n",
    "from sklearn.metrics import ConfusionMatrixDisplay\n",
    "\n",
    "from sklearn.manifold import TSNE\n",
    "from sklearn.decomposition import PCA\n",
    "\n",
    "\n",
    "from sklearn.feature_selection import VarianceThreshold\n",
    "from sklearn.feature_selection import SelectPercentile\n",
    "from sklearn.feature_selection  import RFE\n",
    "from sklearn.feature_selection import RFECV\n",
    "from sklearn.feature_selection import SelectFromModel\n",
    "from sklearn.feature_selection import SequentialFeatureSelector\n",
    "from sklearn.feature_selection import SelectKBest\n",
    "from sklearn.feature_selection import SelectFpr\n",
    "from sklearn.feature_selection import SelectFdr\n",
    "from sklearn.feature_selection import SelectFwe\n",
    "from sklearn.feature_selection import f_regression\n",
    "\n",
    "from sklearn.model_selection import KFold"
   ]
  },
  {
   "cell_type": "markdown",
   "id": "943ee749",
   "metadata": {},
   "source": [
    "### Обучение и выполнение лучшей модели"
   ]
  },
  {
   "cell_type": "code",
   "execution_count": 2,
   "id": "d1e6d35e",
   "metadata": {},
   "outputs": [],
   "source": [
    "# Путь к тренировочному набору\n",
    "path_train = 'train_house_A.csv' # содержит только имя файла, без имен папок\n",
    "# Путь к тестовому набору\n",
    "path_test = 'test_house_A.csv'# содержит только имя файла, без имен папок"
   ]
  },
  {
   "cell_type": "code",
   "execution_count": 3,
   "id": "d5482d35",
   "metadata": {},
   "outputs": [],
   "source": [
    "df_train = pd.read_csv(path_train)\n",
    "df_test = pd.read_csv(path_test)"
   ]
  },
  {
   "cell_type": "code",
   "execution_count": 4,
   "id": "67c93c06",
   "metadata": {},
   "outputs": [],
   "source": [
    "\n",
    "X = df_train.drop(columns = ['price'])\n",
    "y = df_train['price']"
   ]
  },
  {
   "cell_type": "markdown",
   "id": "2602f9fe",
   "metadata": {},
   "source": [
    "## Используемые признаки"
   ]
  },
  {
   "cell_type": "code",
   "execution_count": 5,
   "id": "3d70cbb4",
   "metadata": {},
   "outputs": [],
   "source": [
    "important_col = ['0', '4', '5', '6', '7', '8', '9', '12', '13', '16', '20', '21',\n",
    "       '22', '24', '28']"
   ]
  },
  {
   "cell_type": "code",
   "execution_count": 6,
   "id": "5251a1ff",
   "metadata": {},
   "outputs": [],
   "source": [
    "X = X.loc[:, important_col]"
   ]
  },
  {
   "cell_type": "code",
   "execution_count": 7,
   "id": "8d16ebe1",
   "metadata": {},
   "outputs": [
    {
     "data": {
      "text/html": [
       "<style>#sk-container-id-1 {color: black;}#sk-container-id-1 pre{padding: 0;}#sk-container-id-1 div.sk-toggleable {background-color: white;}#sk-container-id-1 label.sk-toggleable__label {cursor: pointer;display: block;width: 100%;margin-bottom: 0;padding: 0.3em;box-sizing: border-box;text-align: center;}#sk-container-id-1 label.sk-toggleable__label-arrow:before {content: \"▸\";float: left;margin-right: 0.25em;color: #696969;}#sk-container-id-1 label.sk-toggleable__label-arrow:hover:before {color: black;}#sk-container-id-1 div.sk-estimator:hover label.sk-toggleable__label-arrow:before {color: black;}#sk-container-id-1 div.sk-toggleable__content {max-height: 0;max-width: 0;overflow: hidden;text-align: left;background-color: #f0f8ff;}#sk-container-id-1 div.sk-toggleable__content pre {margin: 0.2em;color: black;border-radius: 0.25em;background-color: #f0f8ff;}#sk-container-id-1 input.sk-toggleable__control:checked~div.sk-toggleable__content {max-height: 200px;max-width: 100%;overflow: auto;}#sk-container-id-1 input.sk-toggleable__control:checked~label.sk-toggleable__label-arrow:before {content: \"▾\";}#sk-container-id-1 div.sk-estimator input.sk-toggleable__control:checked~label.sk-toggleable__label {background-color: #d4ebff;}#sk-container-id-1 div.sk-label input.sk-toggleable__control:checked~label.sk-toggleable__label {background-color: #d4ebff;}#sk-container-id-1 input.sk-hidden--visually {border: 0;clip: rect(1px 1px 1px 1px);clip: rect(1px, 1px, 1px, 1px);height: 1px;margin: -1px;overflow: hidden;padding: 0;position: absolute;width: 1px;}#sk-container-id-1 div.sk-estimator {font-family: monospace;background-color: #f0f8ff;border: 1px dotted black;border-radius: 0.25em;box-sizing: border-box;margin-bottom: 0.5em;}#sk-container-id-1 div.sk-estimator:hover {background-color: #d4ebff;}#sk-container-id-1 div.sk-parallel-item::after {content: \"\";width: 100%;border-bottom: 1px solid gray;flex-grow: 1;}#sk-container-id-1 div.sk-label:hover label.sk-toggleable__label {background-color: #d4ebff;}#sk-container-id-1 div.sk-serial::before {content: \"\";position: absolute;border-left: 1px solid gray;box-sizing: border-box;top: 0;bottom: 0;left: 50%;z-index: 0;}#sk-container-id-1 div.sk-serial {display: flex;flex-direction: column;align-items: center;background-color: white;padding-right: 0.2em;padding-left: 0.2em;position: relative;}#sk-container-id-1 div.sk-item {position: relative;z-index: 1;}#sk-container-id-1 div.sk-parallel {display: flex;align-items: stretch;justify-content: center;background-color: white;position: relative;}#sk-container-id-1 div.sk-item::before, #sk-container-id-1 div.sk-parallel-item::before {content: \"\";position: absolute;border-left: 1px solid gray;box-sizing: border-box;top: 0;bottom: 0;left: 50%;z-index: -1;}#sk-container-id-1 div.sk-parallel-item {display: flex;flex-direction: column;z-index: 1;position: relative;background-color: white;}#sk-container-id-1 div.sk-parallel-item:first-child::after {align-self: flex-end;width: 50%;}#sk-container-id-1 div.sk-parallel-item:last-child::after {align-self: flex-start;width: 50%;}#sk-container-id-1 div.sk-parallel-item:only-child::after {width: 0;}#sk-container-id-1 div.sk-dashed-wrapped {border: 1px dashed gray;margin: 0 0.4em 0.5em 0.4em;box-sizing: border-box;padding-bottom: 0.4em;background-color: white;}#sk-container-id-1 div.sk-label label {font-family: monospace;font-weight: bold;display: inline-block;line-height: 1.2em;}#sk-container-id-1 div.sk-label-container {text-align: center;}#sk-container-id-1 div.sk-container {/* jupyter's `normalize.less` sets `[hidden] { display: none; }` but bootstrap.min.css set `[hidden] { display: none !important; }` so we also need the `!important` here to be able to override the default hidden behavior on the sphinx rendered scikit-learn.org. See: https://github.com/scikit-learn/scikit-learn/issues/21755 */display: inline-block !important;position: relative;}#sk-container-id-1 div.sk-text-repr-fallback {display: none;}</style><div id=\"sk-container-id-1\" class=\"sk-top-container\"><div class=\"sk-text-repr-fallback\"><pre>TransformedTargetRegressor(check_inverse=False,\n",
       "                           regressor=Pipeline(steps=[(&#x27;estimator&#x27;,\n",
       "                                                      Ridge(alpha=2,\n",
       "                                                            solver=&#x27;lsqr&#x27;))]),\n",
       "                           transformer=PowerTransformer())</pre><b>In a Jupyter environment, please rerun this cell to show the HTML representation or trust the notebook. <br />On GitHub, the HTML representation is unable to render, please try loading this page with nbviewer.org.</b></div><div class=\"sk-container\" hidden><div class=\"sk-item sk-dashed-wrapped\"><div class=\"sk-label-container\"><div class=\"sk-label sk-toggleable\"><input class=\"sk-toggleable__control sk-hidden--visually\" id=\"sk-estimator-id-1\" type=\"checkbox\" ><label for=\"sk-estimator-id-1\" class=\"sk-toggleable__label sk-toggleable__label-arrow\">TransformedTargetRegressor</label><div class=\"sk-toggleable__content\"><pre>TransformedTargetRegressor(check_inverse=False,\n",
       "                           regressor=Pipeline(steps=[(&#x27;estimator&#x27;,\n",
       "                                                      Ridge(alpha=2,\n",
       "                                                            solver=&#x27;lsqr&#x27;))]),\n",
       "                           transformer=PowerTransformer())</pre></div></div></div><div class=\"sk-parallel\"><div class=\"sk-parallel-item\"><div class=\"sk-item\"><div class=\"sk-label-container\"><div class=\"sk-label sk-toggleable\"><input class=\"sk-toggleable__control sk-hidden--visually\" id=\"sk-estimator-id-2\" type=\"checkbox\" ><label for=\"sk-estimator-id-2\" class=\"sk-toggleable__label sk-toggleable__label-arrow\">regressor: Pipeline</label><div class=\"sk-toggleable__content\"><pre>Pipeline(steps=[(&#x27;estimator&#x27;, Ridge(alpha=2, solver=&#x27;lsqr&#x27;))])</pre></div></div></div><div class=\"sk-serial\"><div class=\"sk-item\"><div class=\"sk-serial\"><div class=\"sk-item\"><div class=\"sk-estimator sk-toggleable\"><input class=\"sk-toggleable__control sk-hidden--visually\" id=\"sk-estimator-id-3\" type=\"checkbox\" ><label for=\"sk-estimator-id-3\" class=\"sk-toggleable__label sk-toggleable__label-arrow\">Ridge</label><div class=\"sk-toggleable__content\"><pre>Ridge(alpha=2, solver=&#x27;lsqr&#x27;)</pre></div></div></div></div></div></div></div></div><div class=\"sk-parallel-item\"><div class=\"sk-item\"><div class=\"sk-label-container\"><div class=\"sk-label sk-toggleable\"><input class=\"sk-toggleable__control sk-hidden--visually\" id=\"sk-estimator-id-4\" type=\"checkbox\" ><label for=\"sk-estimator-id-4\" class=\"sk-toggleable__label sk-toggleable__label-arrow\">transformer: PowerTransformer</label><div class=\"sk-toggleable__content\"><pre>PowerTransformer()</pre></div></div></div><div class=\"sk-serial\"><div class=\"sk-item\"><div class=\"sk-estimator sk-toggleable\"><input class=\"sk-toggleable__control sk-hidden--visually\" id=\"sk-estimator-id-5\" type=\"checkbox\" ><label for=\"sk-estimator-id-5\" class=\"sk-toggleable__label sk-toggleable__label-arrow\">PowerTransformer</label><div class=\"sk-toggleable__content\"><pre>PowerTransformer()</pre></div></div></div></div></div></div></div></div></div></div>"
      ],
      "text/plain": [
       "TransformedTargetRegressor(check_inverse=False,\n",
       "                           regressor=Pipeline(steps=[('estimator',\n",
       "                                                      Ridge(alpha=2,\n",
       "                                                            solver='lsqr'))]),\n",
       "                           transformer=PowerTransformer())"
      ]
     },
     "execution_count": 7,
     "metadata": {},
     "output_type": "execute_result"
    }
   ],
   "source": [
    "model_target = TransformedTargetRegressor(\n",
    "               regressor = Pipeline(steps=[\n",
    "                                ('estimator', Ridge(alpha=2, solver='lsqr'))\n",
    "                            ]),\n",
    "                        transformer=PowerTransformer(),\n",
    "                        check_inverse = False\n",
    ")\n",
    "\n",
    "model_target.fit(X,y)"
   ]
  },
  {
   "cell_type": "code",
   "execution_count": 8,
   "id": "b54c2736",
   "metadata": {},
   "outputs": [],
   "source": [
    "# Блок предсказания с использованием тестового набора"
   ]
  },
  {
   "cell_type": "code",
   "execution_count": 9,
   "id": "98f36966",
   "metadata": {},
   "outputs": [
    {
     "name": "stdout",
     "output_type": "stream",
     "text": [
      "[ 6807891.42694204  7135295.65510876  2947001.97582967  4657304.49654667\n",
      "  3403565.52807894  3116661.61088413 10313467.33171726  8792394.14497599\n",
      "  3608934.34586572  6961944.30442902  8249101.92729342  4264688.70892025\n",
      "  4891232.51688109  3308237.17725742  3868497.06204674 12021771.50245432\n",
      "  4391862.02579912  5245632.52489497  4280345.56549022  6460048.69389375\n",
      "  3072764.72315156  4086777.83184875  6537552.07658539  3380600.99428929\n",
      "  3507849.6810657   3396242.52235344  6193004.95472467  3113178.43610236\n",
      "  2894711.34795018  4058597.7999867   3905785.27161229  6565676.96311733\n",
      "  4663160.0398179   3945984.48080304  5021740.13931988  3287745.93354869\n",
      "  3518189.31640621  2486843.10092799  4368582.65846079  5009086.95327\n",
      "  6437518.04269573  3845435.27904689  7996868.7050111   5070168.53412848\n",
      "  2945843.18211758  5914482.06810485  5595085.62048617  3411426.99361397\n",
      "  4730548.93870524  2827824.98465785  5815000.93488688  2864871.60938302\n",
      "  6058432.13693484  4920331.27687887  2936157.50583121  4667018.98489286\n",
      "  4884940.53997544  4328536.47192887  3294352.69274435  6755327.75382655\n",
      "  9036197.99314616  3971627.54445097  3780103.89334192  4255902.50527532\n",
      "  6112016.39505404  6844903.8696185   4037516.0674254   3261251.43575652\n",
      "  3211761.6963325   7563072.27513195  3401067.03584122  4726514.44695436\n",
      "  4042452.90482316  7029762.77717772  6157108.13000294  5072487.2886938\n",
      "  5431997.08788322  6348900.06731689  5174909.20761061  4844858.48407446\n",
      "  4461716.99794617  5780705.09104738  7237302.58004736  7891348.99252608\n",
      "  5870557.20147558  3042769.24870864  4930506.53789814  3889685.16963529\n",
      "  3310712.7253583   4236357.14013761  5819244.58679459  4227537.58988348\n",
      "  3603614.50378855  5903185.42756599  4480792.71863856  6715607.20441004\n",
      "  4728228.91453997  7325159.10654512  7637767.70609355  3930084.70125301\n",
      "  8378213.29759012  3827860.06529372  7619779.787074    4699501.34991253\n",
      "  2726426.22582004  4787649.61360172  3624112.99102682  4050972.68185261\n",
      "  3692543.16705769  4383397.53810462  5837433.15464625  4276326.44184893\n",
      "  9565600.15663501  3517699.34905969  4407185.30487722  3394784.73493036\n",
      "  6220285.4515419   5331768.52155501  2828049.89682981  4221816.3129602\n",
      "  6838366.098416    8375766.83052886  3046373.09033077  3371361.30182454\n",
      "  3394784.73493036  3573492.87313075  8583359.1653899   4125807.61319266\n",
      "  3485130.50231504  7419856.59709902  3864794.72816701  4156790.68847054\n",
      "  6865446.42969094  2793012.60310949  3236144.56542297  3703662.13950886\n",
      "  3081024.97064443]\n"
     ]
    }
   ],
   "source": [
    "mask = important_col\n",
    "X_test = pd.read_csv(path_test)[mask]\n",
    "\n",
    "y_pred = model_target.predict(X_test)\n",
    "print(y_pred)"
   ]
  },
  {
   "cell_type": "code",
   "execution_count": 10,
   "id": "b5261d16",
   "metadata": {},
   "outputs": [],
   "source": [
    "# Название вектора предсказанных значений  y_predict полученого на основании тестового набора"
   ]
  },
  {
   "cell_type": "code",
   "execution_count": 11,
   "id": "59a346fc",
   "metadata": {},
   "outputs": [],
   "source": [
    "y_predict = y_pred"
   ]
  },
  {
   "cell_type": "code",
   "execution_count": 12,
   "id": "7cb7e12e",
   "metadata": {},
   "outputs": [
    {
     "data": {
      "text/plain": [
       "array([ 6807891.42694204,  7135295.65510876,  2947001.97582967,\n",
       "        4657304.49654667,  3403565.52807894,  3116661.61088413,\n",
       "       10313467.33171726,  8792394.14497599,  3608934.34586572,\n",
       "        6961944.30442902,  8249101.92729342,  4264688.70892025,\n",
       "        4891232.51688109,  3308237.17725742,  3868497.06204674,\n",
       "       12021771.50245432,  4391862.02579912,  5245632.52489497,\n",
       "        4280345.56549022,  6460048.69389375,  3072764.72315156,\n",
       "        4086777.83184875,  6537552.07658539,  3380600.99428929,\n",
       "        3507849.6810657 ,  3396242.52235344,  6193004.95472467,\n",
       "        3113178.43610236,  2894711.34795018,  4058597.7999867 ,\n",
       "        3905785.27161229,  6565676.96311733,  4663160.0398179 ,\n",
       "        3945984.48080304,  5021740.13931988,  3287745.93354869,\n",
       "        3518189.31640621,  2486843.10092799,  4368582.65846079,\n",
       "        5009086.95327   ,  6437518.04269573,  3845435.27904689,\n",
       "        7996868.7050111 ,  5070168.53412848,  2945843.18211758,\n",
       "        5914482.06810485,  5595085.62048617,  3411426.99361397,\n",
       "        4730548.93870524,  2827824.98465785,  5815000.93488688,\n",
       "        2864871.60938302,  6058432.13693484,  4920331.27687887,\n",
       "        2936157.50583121,  4667018.98489286,  4884940.53997544,\n",
       "        4328536.47192887,  3294352.69274435,  6755327.75382655,\n",
       "        9036197.99314616,  3971627.54445097,  3780103.89334192,\n",
       "        4255902.50527532,  6112016.39505404,  6844903.8696185 ,\n",
       "        4037516.0674254 ,  3261251.43575652,  3211761.6963325 ,\n",
       "        7563072.27513195,  3401067.03584122,  4726514.44695436,\n",
       "        4042452.90482316,  7029762.77717772,  6157108.13000294,\n",
       "        5072487.2886938 ,  5431997.08788322,  6348900.06731689,\n",
       "        5174909.20761061,  4844858.48407446,  4461716.99794617,\n",
       "        5780705.09104738,  7237302.58004736,  7891348.99252608,\n",
       "        5870557.20147558,  3042769.24870864,  4930506.53789814,\n",
       "        3889685.16963529,  3310712.7253583 ,  4236357.14013761,\n",
       "        5819244.58679459,  4227537.58988348,  3603614.50378855,\n",
       "        5903185.42756599,  4480792.71863856,  6715607.20441004,\n",
       "        4728228.91453997,  7325159.10654512,  7637767.70609355,\n",
       "        3930084.70125301,  8378213.29759012,  3827860.06529372,\n",
       "        7619779.787074  ,  4699501.34991253,  2726426.22582004,\n",
       "        4787649.61360172,  3624112.99102682,  4050972.68185261,\n",
       "        3692543.16705769,  4383397.53810462,  5837433.15464625,\n",
       "        4276326.44184893,  9565600.15663501,  3517699.34905969,\n",
       "        4407185.30487722,  3394784.73493036,  6220285.4515419 ,\n",
       "        5331768.52155501,  2828049.89682981,  4221816.3129602 ,\n",
       "        6838366.098416  ,  8375766.83052886,  3046373.09033077,\n",
       "        3371361.30182454,  3394784.73493036,  3573492.87313075,\n",
       "        8583359.1653899 ,  4125807.61319266,  3485130.50231504,\n",
       "        7419856.59709902,  3864794.72816701,  4156790.68847054,\n",
       "        6865446.42969094,  2793012.60310949,  3236144.56542297,\n",
       "        3703662.13950886,  3081024.97064443])"
      ]
     },
     "execution_count": 12,
     "metadata": {},
     "output_type": "execute_result"
    }
   ],
   "source": [
    "y_predict"
   ]
  },
  {
   "cell_type": "code",
   "execution_count": null,
   "id": "0f942fbe",
   "metadata": {},
   "outputs": [],
   "source": []
  },
  {
   "cell_type": "code",
   "execution_count": 13,
   "id": "94a100f7",
   "metadata": {},
   "outputs": [
    {
     "name": "stdout",
     "output_type": "stream",
     "text": [
      "['0', '4', '5', '6', '7', '8', '9', '12', '13', '16', '20', '21', '22', '24', '28']\n"
     ]
    }
   ],
   "source": [
    "print(important_col)"
   ]
  },
  {
   "cell_type": "code",
   "execution_count": null,
   "id": "2a77e929",
   "metadata": {},
   "outputs": [],
   "source": []
  },
  {
   "cell_type": "code",
   "execution_count": 14,
   "id": "025cf7da",
   "metadata": {},
   "outputs": [
    {
     "name": "stdout",
     "output_type": "stream",
     "text": [
      "(137,) (137,)\n",
      "Отрицательные цены -  0\n",
      "Max Error: 4,921,787\n",
      " \n",
      "----------------------\n",
      "   MAPE Error: 16.77\n",
      "----------------------\n"
     ]
    },
    {
     "data": {
      "image/png": "[encoded data removed]",
      "text/plain": [
       "<Figure size 1500x500 with 2 Axes>"
      ]
     },
     "metadata": {},
     "output_type": "display_data"
    }
   ],
   "source": [
    "from sklearn.metrics import mean_absolute_percentage_error\n",
    "import matplotlib.pyplot as plt\n",
    "import matplotlib.pyplot as plt\n",
    "\n",
    "y_true = pd.read_csv(\"test_Y_true_house_A.csv\").values.reshape(-1)\n",
    "print(y_predict.shape, y_true.shape)\n",
    "print('Отрицательные цены - ', sum(y_predict<0))\n",
    "\n",
    "def plot_2_error(y_true, y_predicted):\n",
    "    residuals = y_true - y_predicted\n",
    "    max_error = max(residuals) if abs(max(residuals)) > abs(min(residuals)) else min(residuals)\n",
    "    max_idx = list(residuals).index(max(residuals)) if abs(max(residuals)) > abs(min(residuals)) else list(residuals).index(min(residuals))\n",
    "    max_true, max_pred = y_true[max_idx], y_predicted[max_idx]\n",
    "    mape = mean_absolute_percentage_error(y_true, y_predict)\n",
    "    print(\"Max Error:\", \"{:,.0f}\".format(max_error))\n",
    "    print(' ')\n",
    "    print('----------------------')\n",
    "    print(\"   MAPE Error:\", \"{:,.2f}\".format(mape*100))\n",
    "    print('----------------------')\n",
    "\n",
    "    ## Plot predicted vs true\n",
    "    fig, ax = plt.subplots(nrows=1, ncols=2, figsize=(15,5))\n",
    "    from statsmodels.graphics.api import abline_plot\n",
    "    ax[0].scatter(y_predicted, y_true, color=\"black\")\n",
    "    abline_plot(intercept=0, slope=1, color=\"red\", ax=ax[0])\n",
    "    ax[0].vlines(x=max_pred, ymin=max_true, ymax=max_true-max_error, color='red', linestyle='--', alpha=0.7, label=\"max error\")\n",
    "    ax[0].grid(True)\n",
    "    ax[0].set(xlabel=\"Predicted\", ylabel=\"True\", title=\"Predicted vs True\")\n",
    "    ax[0].legend()\n",
    "\n",
    "    ## Plot predicted vs residuals\n",
    "    ax[1].scatter(y_predicted, residuals, color=\"red\")\n",
    "    ax[1].vlines(x=max_pred, ymin=0, ymax=max_error, color='black', linestyle='--', alpha=0.7, label=\"max error\")\n",
    "    ax[1].grid(True)\n",
    "    ax[1].set(xlabel=\"Predicted\", ylabel=\"Residuals\", title=\"Predicted vs Residuals\")\n",
    "    ax[1].hlines(y=0, xmin=np.min(y_predicted), xmax=np.max(y_predicted))\n",
    "    ax[1].legend()\n",
    "    plt.show()\n",
    "\n",
    "plot_2_error(y_true, y_predict)"
   ]
  },
  {
   "cell_type": "code",
   "execution_count": 15,
   "id": "d617911b",
   "metadata": {},
   "outputs": [
    {
     "data": {
      "text/html": [
       "<style type=\"text/css\">\n",
       "#T_bba7f_row1_col0, #T_bba7f_row1_col1, #T_bba7f_row2_col0, #T_bba7f_row2_col1, #T_bba7f_row3_col0, #T_bba7f_row3_col1, #T_bba7f_row6_col0, #T_bba7f_row6_col1, #T_bba7f_row7_col0, #T_bba7f_row7_col1, #T_bba7f_row8_col0, #T_bba7f_row8_col1, #T_bba7f_row9_col0, #T_bba7f_row9_col1, #T_bba7f_row10_col0, #T_bba7f_row10_col1, #T_bba7f_row11_col0, #T_bba7f_row11_col1, #T_bba7f_row12_col0, #T_bba7f_row12_col1, #T_bba7f_row13_col0, #T_bba7f_row13_col1, #T_bba7f_row18_col0, #T_bba7f_row18_col1, #T_bba7f_row19_col0, #T_bba7f_row19_col1, #T_bba7f_row20_col0, #T_bba7f_row20_col1, #T_bba7f_row28_col0, #T_bba7f_row28_col1 {\n",
       "  background-color: yellow;\n",
       "}\n",
       "</style>\n",
       "<table id=\"T_bba7f\">\n",
       "  <thead>\n",
       "    <tr>\n",
       "      <th class=\"blank level0\" >&nbsp;</th>\n",
       "      <th id=\"T_bba7f_level0_col0\" class=\"col_heading level0 col0\" >index</th>\n",
       "      <th id=\"T_bba7f_level0_col1\" class=\"col_heading level0 col1\" >0</th>\n",
       "    </tr>\n",
       "  </thead>\n",
       "  <tbody>\n",
       "    <tr>\n",
       "      <th id=\"T_bba7f_level0_row0\" class=\"row_heading level0 row0\" >0</th>\n",
       "      <td id=\"T_bba7f_row0_col0\" class=\"data row0 col0\" >1</td>\n",
       "      <td id=\"T_bba7f_row0_col1\" class=\"data row0 col1\" >1</td>\n",
       "    </tr>\n",
       "    <tr>\n",
       "      <th id=\"T_bba7f_level0_row1\" class=\"row_heading level0 row1\" >1</th>\n",
       "      <td id=\"T_bba7f_row1_col0\" class=\"data row1 col0\" >16</td>\n",
       "      <td id=\"T_bba7f_row1_col1\" class=\"data row1 col1\" >airconditioning</td>\n",
       "    </tr>\n",
       "    <tr>\n",
       "      <th id=\"T_bba7f_level0_row2\" class=\"row_heading level0 row2\" >2</th>\n",
       "      <td id=\"T_bba7f_row2_col0\" class=\"data row2 col0\" >6</td>\n",
       "      <td id=\"T_bba7f_row2_col1\" class=\"data row2 col1\" >area</td>\n",
       "    </tr>\n",
       "    <tr>\n",
       "      <th id=\"T_bba7f_level0_row3\" class=\"row_heading level0 row3\" >3</th>\n",
       "      <td id=\"T_bba7f_row3_col0\" class=\"data row3 col0\" >4</td>\n",
       "      <td id=\"T_bba7f_row3_col1\" class=\"data row3 col1\" >area bathrooms</td>\n",
       "    </tr>\n",
       "    <tr>\n",
       "      <th id=\"T_bba7f_level0_row4\" class=\"row_heading level0 row4\" >4</th>\n",
       "      <td id=\"T_bba7f_row4_col0\" class=\"data row4 col0\" >25</td>\n",
       "      <td id=\"T_bba7f_row4_col1\" class=\"data row4 col1\" >area bedrooms</td>\n",
       "    </tr>\n",
       "    <tr>\n",
       "      <th id=\"T_bba7f_level0_row5\" class=\"row_heading level0 row5\" >5</th>\n",
       "      <td id=\"T_bba7f_row5_col0\" class=\"data row5 col0\" >10</td>\n",
       "      <td id=\"T_bba7f_row5_col1\" class=\"data row5 col1\" >area stories</td>\n",
       "    </tr>\n",
       "    <tr>\n",
       "      <th id=\"T_bba7f_level0_row6\" class=\"row_heading level0 row6\" >6</th>\n",
       "      <td id=\"T_bba7f_row6_col0\" class=\"data row6 col0\" >5</td>\n",
       "      <td id=\"T_bba7f_row6_col1\" class=\"data row6 col1\" >basement</td>\n",
       "    </tr>\n",
       "    <tr>\n",
       "      <th id=\"T_bba7f_level0_row7\" class=\"row_heading level0 row7\" >7</th>\n",
       "      <td id=\"T_bba7f_row7_col0\" class=\"data row7 col0\" >7</td>\n",
       "      <td id=\"T_bba7f_row7_col1\" class=\"data row7 col1\" >bathrooms</td>\n",
       "    </tr>\n",
       "    <tr>\n",
       "      <th id=\"T_bba7f_level0_row8\" class=\"row_heading level0 row8\" >8</th>\n",
       "      <td id=\"T_bba7f_row8_col0\" class=\"data row8 col0\" >28</td>\n",
       "      <td id=\"T_bba7f_row8_col1\" class=\"data row8 col1\" >bathrooms stories</td>\n",
       "    </tr>\n",
       "    <tr>\n",
       "      <th id=\"T_bba7f_level0_row9\" class=\"row_heading level0 row9\" >9</th>\n",
       "      <td id=\"T_bba7f_row9_col0\" class=\"data row9 col0\" >21</td>\n",
       "      <td id=\"T_bba7f_row9_col1\" class=\"data row9 col1\" >bedrooms</td>\n",
       "    </tr>\n",
       "    <tr>\n",
       "      <th id=\"T_bba7f_level0_row10\" class=\"row_heading level0 row10\" >10</th>\n",
       "      <td id=\"T_bba7f_row10_col0\" class=\"data row10 col0\" >20</td>\n",
       "      <td id=\"T_bba7f_row10_col1\" class=\"data row10 col1\" >bedrooms bathrooms</td>\n",
       "    </tr>\n",
       "    <tr>\n",
       "      <th id=\"T_bba7f_level0_row11\" class=\"row_heading level0 row11\" >11</th>\n",
       "      <td id=\"T_bba7f_row11_col0\" class=\"data row11 col0\" >8</td>\n",
       "      <td id=\"T_bba7f_row11_col1\" class=\"data row11 col1\" >bedrooms stories</td>\n",
       "    </tr>\n",
       "    <tr>\n",
       "      <th id=\"T_bba7f_level0_row12\" class=\"row_heading level0 row12\" >12</th>\n",
       "      <td id=\"T_bba7f_row12_col0\" class=\"data row12 col0\" >22</td>\n",
       "      <td id=\"T_bba7f_row12_col1\" class=\"data row12 col1\" >furnishingstatus</td>\n",
       "    </tr>\n",
       "    <tr>\n",
       "      <th id=\"T_bba7f_level0_row13\" class=\"row_heading level0 row13\" >13</th>\n",
       "      <td id=\"T_bba7f_row13_col0\" class=\"data row13 col0\" >9</td>\n",
       "      <td id=\"T_bba7f_row13_col1\" class=\"data row13 col1\" >guestroom</td>\n",
       "    </tr>\n",
       "    <tr>\n",
       "      <th id=\"T_bba7f_level0_row14\" class=\"row_heading level0 row14\" >14</th>\n",
       "      <td id=\"T_bba7f_row14_col0\" class=\"data row14 col0\" >23</td>\n",
       "      <td id=\"T_bba7f_row14_col1\" class=\"data row14 col1\" >hotwaterheating</td>\n",
       "    </tr>\n",
       "    <tr>\n",
       "      <th id=\"T_bba7f_level0_row15\" class=\"row_heading level0 row15\" >15</th>\n",
       "      <td id=\"T_bba7f_row15_col0\" class=\"data row15 col0\" >18</td>\n",
       "      <td id=\"T_bba7f_row15_col1\" class=\"data row15 col1\" >log_rnd_1</td>\n",
       "    </tr>\n",
       "    <tr>\n",
       "      <th id=\"T_bba7f_level0_row16\" class=\"row_heading level0 row16\" >16</th>\n",
       "      <td id=\"T_bba7f_row16_col0\" class=\"data row16 col0\" >2</td>\n",
       "      <td id=\"T_bba7f_row16_col1\" class=\"data row16 col1\" >log_rnd_2</td>\n",
       "    </tr>\n",
       "    <tr>\n",
       "      <th id=\"T_bba7f_level0_row17\" class=\"row_heading level0 row17\" >17</th>\n",
       "      <td id=\"T_bba7f_row17_col0\" class=\"data row17 col0\" >14</td>\n",
       "      <td id=\"T_bba7f_row17_col1\" class=\"data row17 col1\" >log_rnd_3</td>\n",
       "    </tr>\n",
       "    <tr>\n",
       "      <th id=\"T_bba7f_level0_row18\" class=\"row_heading level0 row18\" >18</th>\n",
       "      <td id=\"T_bba7f_row18_col0\" class=\"data row18 col0\" >0</td>\n",
       "      <td id=\"T_bba7f_row18_col1\" class=\"data row18 col1\" >mainroad</td>\n",
       "    </tr>\n",
       "    <tr>\n",
       "      <th id=\"T_bba7f_level0_row19\" class=\"row_heading level0 row19\" >19</th>\n",
       "      <td id=\"T_bba7f_row19_col0\" class=\"data row19 col0\" >13</td>\n",
       "      <td id=\"T_bba7f_row19_col1\" class=\"data row19 col1\" >parking</td>\n",
       "    </tr>\n",
       "    <tr>\n",
       "      <th id=\"T_bba7f_level0_row20\" class=\"row_heading level0 row20\" >20</th>\n",
       "      <td id=\"T_bba7f_row20_col0\" class=\"data row20 col0\" >24</td>\n",
       "      <td id=\"T_bba7f_row20_col1\" class=\"data row20 col1\" >prefarea</td>\n",
       "    </tr>\n",
       "    <tr>\n",
       "      <th id=\"T_bba7f_level0_row21\" class=\"row_heading level0 row21\" >21</th>\n",
       "      <td id=\"T_bba7f_row21_col0\" class=\"data row21 col0\" >27</td>\n",
       "      <td id=\"T_bba7f_row21_col1\" class=\"data row21 col1\" >rnd_1</td>\n",
       "    </tr>\n",
       "    <tr>\n",
       "      <th id=\"T_bba7f_level0_row22\" class=\"row_heading level0 row22\" >22</th>\n",
       "      <td id=\"T_bba7f_row22_col0\" class=\"data row22 col0\" >3</td>\n",
       "      <td id=\"T_bba7f_row22_col1\" class=\"data row22 col1\" >rnd_2</td>\n",
       "    </tr>\n",
       "    <tr>\n",
       "      <th id=\"T_bba7f_level0_row23\" class=\"row_heading level0 row23\" >23</th>\n",
       "      <td id=\"T_bba7f_row23_col0\" class=\"data row23 col0\" >19</td>\n",
       "      <td id=\"T_bba7f_row23_col1\" class=\"data row23 col1\" >rnd_3</td>\n",
       "    </tr>\n",
       "    <tr>\n",
       "      <th id=\"T_bba7f_level0_row24\" class=\"row_heading level0 row24\" >24</th>\n",
       "      <td id=\"T_bba7f_row24_col0\" class=\"data row24 col0\" >11</td>\n",
       "      <td id=\"T_bba7f_row24_col1\" class=\"data row24 col1\" >rnd_4</td>\n",
       "    </tr>\n",
       "    <tr>\n",
       "      <th id=\"T_bba7f_level0_row25\" class=\"row_heading level0 row25\" >25</th>\n",
       "      <td id=\"T_bba7f_row25_col0\" class=\"data row25 col0\" >15</td>\n",
       "      <td id=\"T_bba7f_row25_col1\" class=\"data row25 col1\" >rnd_5</td>\n",
       "    </tr>\n",
       "    <tr>\n",
       "      <th id=\"T_bba7f_level0_row26\" class=\"row_heading level0 row26\" >26</th>\n",
       "      <td id=\"T_bba7f_row26_col0\" class=\"data row26 col0\" >26</td>\n",
       "      <td id=\"T_bba7f_row26_col1\" class=\"data row26 col1\" >rnd_6</td>\n",
       "    </tr>\n",
       "    <tr>\n",
       "      <th id=\"T_bba7f_level0_row27\" class=\"row_heading level0 row27\" >27</th>\n",
       "      <td id=\"T_bba7f_row27_col0\" class=\"data row27 col0\" >17</td>\n",
       "      <td id=\"T_bba7f_row27_col1\" class=\"data row27 col1\" >rnd_7</td>\n",
       "    </tr>\n",
       "    <tr>\n",
       "      <th id=\"T_bba7f_level0_row28\" class=\"row_heading level0 row28\" >28</th>\n",
       "      <td id=\"T_bba7f_row28_col0\" class=\"data row28 col0\" >12</td>\n",
       "      <td id=\"T_bba7f_row28_col1\" class=\"data row28 col1\" >stories</td>\n",
       "    </tr>\n",
       "  </tbody>\n",
       "</table>\n"
      ],
      "text/plain": [
       "<pandas.io.formats.style.Styler at 0x7fcd724533a0>"
      ]
     },
     "execution_count": 15,
     "metadata": {},
     "output_type": "execute_result"
    }
   ],
   "source": [
    "mask = important_col\n",
    "\n",
    "import pickle\n",
    "with open('saved_dictionary_a.pkl', 'rb') as f:\n",
    "    loaded_dict = pickle.load(f)\n",
    "\n",
    "color_dict = pd.Series(loaded_dict).to_frame().reset_index().sort_values(by=0).reset_index(drop=True)\n",
    "color = (color_dict['index'].isin(mask)).map({True: 'background-color: yellow', False: ''})\n",
    "color_dict.style.apply(lambda s: color)"
   ]
  },
  {
   "cell_type": "code",
   "execution_count": null,
   "id": "bd809e58",
   "metadata": {},
   "outputs": [],
   "source": []
  }
 ],
 "metadata": {
  "kernelspec": {
   "display_name": "Python 3 (ipykernel)",
   "language": "python",
   "name": "python3"
  },
  "language_info": {
   "codemirror_mode": {
    "name": "ipython",
    "version": 3
   },
   "file_extension": ".py",
   "mimetype": "text/x-python",
   "name": "python",
   "nbconvert_exporter": "python",
   "pygments_lexer": "ipython3",
   "version": "3.10.13"
  }
 },
 "nbformat": 4,
 "nbformat_minor": 5
}
