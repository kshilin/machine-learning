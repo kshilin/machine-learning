{
 "cells": [
  {
   "cell_type": "code",
   "execution_count": null,
   "metadata": {},
   "outputs": [],
   "source": [
    "# Внимание!!! Важно, что бы файлы с данными и исполняемый файл находились в одной папке, \n",
    "# тогда пути к тестовым и тренировочным наборам будут содержать только имена файлов.\n",
    "# \n",
    "# В пути к тренировочным и тестовым данным запрежается использовать абсалютную адресацию, \n",
    "# то есть адресацию, в которой присутствуют имена папок. Путь должен содержать только имя файла.\n",
    "#\n",
    "# Напоминание: под моделью машинного обучения понимаются все действия с исходными данными, \n",
    "# которые необходимо произвести, что бы сопоставить признаки целевому значению."
   ]
  },
  {
   "cell_type": "markdown",
   "metadata": {},
   "source": [
    "### Область работы 1 (библиотеки)"
   ]
  },
  {
   "cell_type": "code",
   "execution_count": null,
   "metadata": {},
   "outputs": [],
   "source": [
    "# Данный блок в области 1 НЕ выполняется преподавателем\n",
    "# \n",
    "# данный блок предназначен только для подключения необходимых библиотек\n",
    "# запрещается подключать библиотеки в других блоках\n",
    "# запрещается скрывать предупреждения системы\n",
    "# установка дополнительных библиотек размещается прямо здесь (обязательно закоментированы)\n",
    "# pip install"
   ]
  },
  {
   "cell_type": "code",
   "execution_count": null,
   "metadata": {},
   "outputs": [],
   "source": [
    "import numpy as np\n",
    "import pandas as pd\n",
    "from IPython.display import display\n",
    "\n",
    "from sklearn.neighbors import KNeighborsClassifier\n",
    "from sklearn.naive_bayes import GaussianNB\n",
    "from sklearn.linear_model import LogisticRegression\n",
    "\n",
    "\n",
    "from sklearn.model_selection import train_test_split, GridSearchCV\n",
    "\n",
    "from sklearn.preprocessing import StandardScaler, RobustScaler, MinMaxScaler, Normalizer\n",
    "\n",
    "from sklearn.pipeline import Pipeline, make_pipeline\n",
    "\n",
    "from sklearn.metrics import classification_report"
   ]
  },
  {
   "cell_type": "markdown",
   "metadata": {},
   "source": [
    "### Область работы 2 (поиск  модели .... )"
   ]
  },
  {
   "cell_type": "code",
   "execution_count": null,
   "metadata": {},
   "outputs": [],
   "source": [
    "# Данный блок(и) НЕ выполняются преподавателем в области 2\n",
    "# блок(и) предназначены для поиска лучшей модели \n",
    "# должен быть понятен и очевиден отбор параметров модели\n",
    "# оставляйте свои комментарии и разъяснения\n",
    "# \n",
    "# Запрещается размещать данные блоки за пределами обасти 2\n",
    "# Все блоки данной области должны быть выполнены\n",
    "#\n",
    "# ЗАПРЕЩАЕТСЯ ИСПОЛЬЗОВАТЬ ТЕСТОВЫЙ НАБОР\n",
    "#\n",
    "# Путь к тренировочному набору\n",
    "# \n",
    "\n",
    "path_train = 'train.csv' # содержит только имя файла, без имен папок !!!\n",
    "wine_df = pd.read_csv(path_train)\n",
    "wine_df.head()"
   ]
  },
  {
   "cell_type": "code",
   "execution_count": null,
   "metadata": {},
   "outputs": [],
   "source": [
    "wine_df.describe()"
   ]
  },
  {
   "cell_type": "code",
   "execution_count": null,
   "metadata": {},
   "outputs": [],
   "source": [
    "wine_df.info()"
   ]
  },
  {
   "cell_type": "code",
   "execution_count": null,
   "metadata": {},
   "outputs": [],
   "source": [
    "# Проверка на дубликаты!\n",
    "\n",
    "wine_duplicate = wine_df[wine_df.duplicated()]\n",
    "wine_duplicate"
   ]
  },
  {
   "cell_type": "code",
   "execution_count": null,
   "metadata": {},
   "outputs": [],
   "source": [
    "wine_df['good quality'] = [0 if i < 7 else 1 for i in wine_df['quality']]\n",
    "wine_df.head()"
   ]
  },
  {
   "cell_type": "code",
   "execution_count": null,
   "metadata": {},
   "outputs": [],
   "source": [
    "X = wine_df.drop(['quality', 'good quality'], axis = 1)\n",
    "y = wine_df['good quality']\n",
    "display(X, y)"
   ]
  },
  {
   "cell_type": "code",
   "execution_count": null,
   "metadata": {},
   "outputs": [],
   "source": [
    "X_train, X_test, y_train, y_test = train_test_split(X, y, test_size = 0.2, random_state = 42, stratify = y)"
   ]
  },
  {
   "cell_type": "code",
   "execution_count": null,
   "metadata": {},
   "outputs": [],
   "source": [
    "scaling = [MinMaxScaler(), StandardScaler(), RobustScaler(), Normalizer()]"
   ]
  },
  {
   "cell_type": "code",
   "execution_count": null,
   "metadata": {},
   "outputs": [],
   "source": [
    "# Параметры для ближайших соседей \n",
    "\n",
    "n_neighbors = np.arange(5, 20)\n",
    "weights = ['uniform', 'distance']\n",
    "metric = ['euclidean', 'manhattan', 'cosine']\n",
    "p = np.arange(1, 3)"
   ]
  },
  {
   "cell_type": "code",
   "execution_count": null,
   "metadata": {},
   "outputs": [],
   "source": [
    "# Ближайшие соседи\n",
    "\n",
    "pipe_1 = Pipeline([('preprocessing', MinMaxScaler()),\n",
    "                   ('classifier', KNeighborsClassifier())])\n",
    "\n",
    "param_grid_1 = [{'preprocessing' : scaling,\n",
    "               'classifier' : [KNeighborsClassifier()],\n",
    "               'classifier__n_neighbors' : n_neighbors,\n",
    "               'classifier__weights' : weights,\n",
    "               'classifier__p' : p,\n",
    "                'classifier__metric' : metric}]\n",
    "\n",
    "grid_search_1 = GridSearchCV(pipe_1, param_grid_1, return_train_score = True)\n",
    "grid_search_1.fit(X_train, y_train)\n",
    "grid_search_1"
   ]
  },
  {
   "cell_type": "code",
   "execution_count": null,
   "metadata": {},
   "outputs": [],
   "source": [
    "grid_search_1_result = pd.DataFrame(grid_search_1.cv_results_).sort_values([\"rank_test_score\",'std_test_score']).T\n",
    "display(grid_search_1_result, grid_search_1.best_params_, grid_search_1.best_score_)"
   ]
  },
  {
   "cell_type": "code",
   "execution_count": null,
   "metadata": {},
   "outputs": [],
   "source": [
    "# Переобученные ближайшие соседи\n",
    "\n",
    "pipe_best_1 = make_pipeline(RobustScaler(), KNeighborsClassifier(n_neighbors = 10, p = 1, metric = 'cosine', weights = 'distance'))\n",
    "\n",
    "pipe_best_1.fit(X_train, y_train)\n",
    "\n",
    "y_pred_best_1 = pipe_best_1.predict(X_test)\n",
    "\n",
    "print(\"Тренировака:\", pipe_best_1.score(X_train, y_train), \"Тест:\", pipe_best_1.score(X_test, y_test))\n",
    "\n",
    "print(classification_report(y_test, y_pred_best_1))"
   ]
  },
  {
   "cell_type": "code",
   "execution_count": null,
   "metadata": {},
   "outputs": [],
   "source": [
    "grid_search_1_result[658]"
   ]
  },
  {
   "cell_type": "code",
   "execution_count": null,
   "metadata": {},
   "outputs": [],
   "source": [
    "# Непереобученные ближайшие соседи \n",
    "\n",
    "pipe_best_1_1 = make_pipeline(RobustScaler(), KNeighborsClassifier(n_neighbors = 16, p = 1, metric = 'cosine', weights = 'uniform'))\n",
    "\n",
    "pipe_best_1_1.fit(X_train, y_train)\n",
    "\n",
    "y_pred_best_1_1 = pipe_best_1.predict(X_test)\n",
    "\n",
    "print(\"Тренировака:\", pipe_best_1_1.score(X_train, y_train), \"Тест:\", pipe_best_1_1.score(X_test, y_test))\n",
    "\n",
    "print(classification_report(y_test, y_pred_best_1_1))"
   ]
  },
  {
   "cell_type": "code",
   "execution_count": null,
   "metadata": {},
   "outputs": [],
   "source": [
    "# Наивный байес\n",
    "\n",
    "pipe_2 = Pipeline([('preprocessing', StandardScaler()),\n",
    "                    ('classifier', GaussianNB())])\n",
    "\n",
    "param_grid_2 = [{'preprocessing' : scaling,\n",
    "                'classifier' : [GaussianNB()]}]\n",
    "\n",
    "grid_search_2 = GridSearchCV(pipe_2, param_grid_2, return_train_score = True)\n",
    "grid_search_2.fit(X_train, y_train)\n",
    "grid_search_2"
   ]
  },
  {
   "cell_type": "code",
   "execution_count": null,
   "metadata": {},
   "outputs": [],
   "source": [
    "grid_search_2_result = pd.DataFrame(grid_search_2.cv_results_).sort_values(['rank_test_score','std_test_score']).T\n",
    "display(grid_search_2_result, grid_search_2.best_params_, grid_search_2.best_score_)"
   ]
  },
  {
   "cell_type": "code",
   "execution_count": null,
   "metadata": {},
   "outputs": [],
   "source": [
    "pipe_best_2 = make_pipeline(MinMaxScaler(), GaussianNB())\n",
    "\n",
    "pipe_best_2.fit(X_train, y_train)\n",
    "\n",
    "y_pred_best_2 = pipe_best_2.predict(X_test)\n",
    "\n",
    "print(\"Тренировака:\", pipe_best_2.score(X_train, y_train), \"Тест:\", pipe_best_2.score(X_test, y_test))\n",
    "\n",
    "print(classification_report(y_test, y_pred_best_2))"
   ]
  },
  {
   "cell_type": "code",
   "execution_count": null,
   "metadata": {},
   "outputs": [],
   "source": [
    "# Логистическая регрессия\n",
    "\n",
    "pipe_3 = Pipeline([('preprocessing', StandardScaler()),\n",
    "                    ('classifier', LogisticRegression())])\n",
    "\n",
    "param_grid_3 = [{'preprocessing': scaling,\n",
    "                    'classifier__penalty': ['l2'],\n",
    "                    'classifier__solver': ['lbfgs', 'liblinear', 'newton-cg', 'newton-cholesky', 'sag', 'saga'],\n",
    "                    'classifier__class_weight' : ['balanced']},\n",
    "               {'preprocessing': scaling,\n",
    "                    'classifier__penalty': ['l1'],\n",
    "                    'classifier__solver': ['liblinear', 'saga'],\n",
    "                    'classifier__class_weight' : ['balanced']},\n",
    "               {'preprocessing': scaling,\n",
    "                    'classifier__penalty': ['None'],\n",
    "                    'classifier__solver': ['lbfgs','newton-cg', 'newton-cholesky', 'saga'],\n",
    "                    'classifier__class_weight' : ['balanced']},\n",
    "               {'preprocessing': scaling,\n",
    "                    'classifier__penalty' : ['elasticnet'],\n",
    "                    'classifier__solver' : ['saga'],\n",
    "                    'classifier__class_weight' : ['balanced']}]\n",
    "\n",
    "grid_search_3 = GridSearchCV(pipe_3, param_grid_3, return_train_score = True)\n",
    "grid_search_3.fit(X_train, y_train)\n",
    "grid_search_3"
   ]
  },
  {
   "cell_type": "code",
   "execution_count": null,
   "metadata": {},
   "outputs": [],
   "source": [
    "grid_search_3_result = pd.DataFrame(grid_search_3.cv_results_).sort_values([\"rank_test_score\",'std_test_score']).T\n",
    "display(grid_search_3_result, grid_search_3.best_params_, grid_search_3.best_score_)"
   ]
  },
  {
   "cell_type": "code",
   "execution_count": null,
   "metadata": {},
   "outputs": [],
   "source": [
    "pipe_best_3 = make_pipeline(RobustScaler(), LogisticRegression(penalty = 'l2', solver = 'sag', class_weight = 'balanced'))\n",
    "\n",
    "pipe_best_3.fit(X_train, y_train)\n",
    "\n",
    "y_pred_best_3 = pipe_best_3.predict(X_test)\n",
    "\n",
    "print(\"Тренировака:\", pipe_best_3.score(X_train, y_train), \"Тест:\", pipe_best_3.score(X_test, y_test))\n",
    "\n",
    "print(classification_report(y_test, y_pred_best_3))"
   ]
  },
  {
   "cell_type": "code",
   "execution_count": null,
   "metadata": {},
   "outputs": [],
   "source": []
  },
  {
   "cell_type": "code",
   "execution_count": null,
   "metadata": {},
   "outputs": [],
   "source": []
  },
  {
   "cell_type": "code",
   "execution_count": null,
   "metadata": {},
   "outputs": [],
   "source": []
  },
  {
   "cell_type": "code",
   "execution_count": null,
   "metadata": {},
   "outputs": [],
   "source": []
  },
  {
   "cell_type": "code",
   "execution_count": null,
   "metadata": {},
   "outputs": [],
   "source": []
  }
 ],
 "metadata": {
  "kernelspec": {
   "display_name": "Python 3 (ipykernel)",
   "language": "python",
   "name": "python3"
  },
  "language_info": {
   "codemirror_mode": {
    "name": "ipython",
    "version": 3
   },
   "file_extension": ".py",
   "mimetype": "text/x-python",
   "name": "python",
   "nbconvert_exporter": "python",
   "pygments_lexer": "ipython3",
   "version": "3.9.13"
  }
 },
 "nbformat": 4,
 "nbformat_minor": 2
}
