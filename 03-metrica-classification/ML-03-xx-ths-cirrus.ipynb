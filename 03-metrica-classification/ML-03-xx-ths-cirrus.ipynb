{
 "cells": [
  {
   "cell_type": "markdown",
   "metadata": {},
   "source": [
    "## Метрики моделей классификации "
   ]
  },
  {
   "cell_type": "code",
   "execution_count": 2,
   "metadata": {},
   "outputs": [
    {
     "data": {
      "text/plain": [
       "'1.6.1'"
      ]
     },
     "execution_count": 2,
     "metadata": {},
     "output_type": "execute_result"
    }
   ],
   "source": [
    "import numpy as np\n",
    "import pandas as pd\n",
    "import matplotlib.pyplot as plt\n",
    "import seaborn as sns\n",
    "\n",
    "from IPython.display import display\n",
    "from sklearn.datasets import load_iris\n",
    "\n",
    "from sklearn.pipeline import Pipeline, make_pipeline\n",
    "from sklearn.preprocessing import MinMaxScaler, StandardScaler, RobustScaler, Normalizer\n",
    "from sklearn.model_selection import train_test_split, cross_val_score, KFold \n",
    "\n",
    "from sklearn.experimental import enable_halving_search_cv \n",
    "from sklearn.model_selection import GridSearchCV, RandomizedSearchCV, HalvingGridSearchCV, HalvingRandomSearchCV\n",
    "\n",
    "from sklearn.neighbors import KNeighborsClassifier \n",
    "\n",
    "import sklearn\n",
    "# conda update scikit-learn\n",
    "# или\n",
    "# pip install --upgrade scikit-learn\n",
    "\n",
    "sklearn.__version__\n"
   ]
  },
  {
   "cell_type": "markdown",
   "metadata": {},
   "source": [
    "**Загрузим данные и сделаем задачу бинарной классификации**"
   ]
  },
  {
   "cell_type": "code",
   "execution_count": 4,
   "metadata": {},
   "outputs": [],
   "source": [
    "df = pd.read_csv('dataset_citrus/train.csv')\n",
    "X = df.drop(['name'],axis=1)\n",
    "y = np.where(df.name=='grapefruit',1,0)"
   ]
  },
  {
   "cell_type": "code",
   "execution_count": 5,
   "metadata": {},
   "outputs": [
    {
     "data": {
      "text/html": [
       "<div>\n",
       "<style scoped>\n",
       "    .dataframe tbody tr th:only-of-type {\n",
       "        vertical-align: middle;\n",
       "    }\n",
       "\n",
       "    .dataframe tbody tr th {\n",
       "        vertical-align: top;\n",
       "    }\n",
       "\n",
       "    .dataframe thead th {\n",
       "        text-align: right;\n",
       "    }\n",
       "</style>\n",
       "<table border=\"1\" class=\"dataframe\">\n",
       "  <thead>\n",
       "    <tr style=\"text-align: right;\">\n",
       "      <th></th>\n",
       "      <th>diameter</th>\n",
       "      <th>weight</th>\n",
       "      <th>red</th>\n",
       "      <th>green</th>\n",
       "      <th>blue</th>\n",
       "    </tr>\n",
       "  </thead>\n",
       "  <tbody>\n",
       "    <tr>\n",
       "      <th>count</th>\n",
       "      <td>7500.000000</td>\n",
       "      <td>7500.000000</td>\n",
       "      <td>7500.000000</td>\n",
       "      <td>7500.000000</td>\n",
       "      <td>7500.000000</td>\n",
       "    </tr>\n",
       "    <tr>\n",
       "      <th>mean</th>\n",
       "      <td>9.973384</td>\n",
       "      <td>175.019732</td>\n",
       "      <td>153.723867</td>\n",
       "      <td>76.039733</td>\n",
       "      <td>11.364933</td>\n",
       "    </tr>\n",
       "    <tr>\n",
       "      <th>std</th>\n",
       "      <td>1.944686</td>\n",
       "      <td>29.153906</td>\n",
       "      <td>10.346053</td>\n",
       "      <td>11.740608</td>\n",
       "      <td>9.036016</td>\n",
       "    </tr>\n",
       "    <tr>\n",
       "      <th>min</th>\n",
       "      <td>2.960000</td>\n",
       "      <td>86.760000</td>\n",
       "      <td>115.000000</td>\n",
       "      <td>31.000000</td>\n",
       "      <td>2.000000</td>\n",
       "    </tr>\n",
       "    <tr>\n",
       "      <th>25%</th>\n",
       "      <td>8.467500</td>\n",
       "      <td>152.375000</td>\n",
       "      <td>147.000000</td>\n",
       "      <td>68.000000</td>\n",
       "      <td>2.000000</td>\n",
       "    </tr>\n",
       "    <tr>\n",
       "      <th>50%</th>\n",
       "      <td>9.980000</td>\n",
       "      <td>175.000000</td>\n",
       "      <td>154.000000</td>\n",
       "      <td>76.000000</td>\n",
       "      <td>10.000000</td>\n",
       "    </tr>\n",
       "    <tr>\n",
       "      <th>75%</th>\n",
       "      <td>11.480000</td>\n",
       "      <td>197.722500</td>\n",
       "      <td>161.000000</td>\n",
       "      <td>84.000000</td>\n",
       "      <td>17.000000</td>\n",
       "    </tr>\n",
       "    <tr>\n",
       "      <th>max</th>\n",
       "      <td>16.450000</td>\n",
       "      <td>261.510000</td>\n",
       "      <td>192.000000</td>\n",
       "      <td>113.000000</td>\n",
       "      <td>56.000000</td>\n",
       "    </tr>\n",
       "  </tbody>\n",
       "</table>\n",
       "</div>"
      ],
      "text/plain": [
       "          diameter       weight          red        green         blue\n",
       "count  7500.000000  7500.000000  7500.000000  7500.000000  7500.000000\n",
       "mean      9.973384   175.019732   153.723867    76.039733    11.364933\n",
       "std       1.944686    29.153906    10.346053    11.740608     9.036016\n",
       "min       2.960000    86.760000   115.000000    31.000000     2.000000\n",
       "25%       8.467500   152.375000   147.000000    68.000000     2.000000\n",
       "50%       9.980000   175.000000   154.000000    76.000000    10.000000\n",
       "75%      11.480000   197.722500   161.000000    84.000000    17.000000\n",
       "max      16.450000   261.510000   192.000000   113.000000    56.000000"
      ]
     },
     "execution_count": 5,
     "metadata": {},
     "output_type": "execute_result"
    }
   ],
   "source": [
    "df.describe()"
   ]
  },
  {
   "cell_type": "code",
   "execution_count": 6,
   "metadata": {},
   "outputs": [
    {
     "data": {
      "text/html": [
       "<div>\n",
       "<style scoped>\n",
       "    .dataframe tbody tr th:only-of-type {\n",
       "        vertical-align: middle;\n",
       "    }\n",
       "\n",
       "    .dataframe tbody tr th {\n",
       "        vertical-align: top;\n",
       "    }\n",
       "\n",
       "    .dataframe thead th {\n",
       "        text-align: right;\n",
       "    }\n",
       "</style>\n",
       "<table border=\"1\" class=\"dataframe\">\n",
       "  <thead>\n",
       "    <tr style=\"text-align: right;\">\n",
       "      <th></th>\n",
       "      <th>name</th>\n",
       "      <th>diameter</th>\n",
       "      <th>weight</th>\n",
       "      <th>red</th>\n",
       "      <th>green</th>\n",
       "      <th>blue</th>\n",
       "    </tr>\n",
       "  </thead>\n",
       "  <tbody>\n",
       "    <tr>\n",
       "      <th>7495</th>\n",
       "      <td>grapefruit</td>\n",
       "      <td>11.63</td>\n",
       "      <td>199.94</td>\n",
       "      <td>162</td>\n",
       "      <td>100</td>\n",
       "      <td>11</td>\n",
       "    </tr>\n",
       "    <tr>\n",
       "      <th>7496</th>\n",
       "      <td>orange</td>\n",
       "      <td>7.85</td>\n",
       "      <td>143.15</td>\n",
       "      <td>168</td>\n",
       "      <td>71</td>\n",
       "      <td>7</td>\n",
       "    </tr>\n",
       "    <tr>\n",
       "      <th>7497</th>\n",
       "      <td>grapefruit</td>\n",
       "      <td>10.26</td>\n",
       "      <td>178.19</td>\n",
       "      <td>143</td>\n",
       "      <td>73</td>\n",
       "      <td>19</td>\n",
       "    </tr>\n",
       "    <tr>\n",
       "      <th>7498</th>\n",
       "      <td>orange</td>\n",
       "      <td>8.65</td>\n",
       "      <td>155.07</td>\n",
       "      <td>162</td>\n",
       "      <td>93</td>\n",
       "      <td>16</td>\n",
       "    </tr>\n",
       "    <tr>\n",
       "      <th>7499</th>\n",
       "      <td>grapefruit</td>\n",
       "      <td>12.61</td>\n",
       "      <td>215.05</td>\n",
       "      <td>145</td>\n",
       "      <td>66</td>\n",
       "      <td>15</td>\n",
       "    </tr>\n",
       "  </tbody>\n",
       "</table>\n",
       "</div>"
      ],
      "text/plain": [
       "            name  diameter  weight  red  green  blue\n",
       "7495  grapefruit     11.63  199.94  162    100    11\n",
       "7496      orange      7.85  143.15  168     71     7\n",
       "7497  grapefruit     10.26  178.19  143     73    19\n",
       "7498      orange      8.65  155.07  162     93    16\n",
       "7499  grapefruit     12.61  215.05  145     66    15"
      ]
     },
     "execution_count": 6,
     "metadata": {},
     "output_type": "execute_result"
    }
   ],
   "source": [
    "df.tail()"
   ]
  },
  {
   "cell_type": "code",
   "execution_count": 7,
   "metadata": {},
   "outputs": [
    {
     "data": {
      "text/html": [
       "<div>\n",
       "<style scoped>\n",
       "    .dataframe tbody tr th:only-of-type {\n",
       "        vertical-align: middle;\n",
       "    }\n",
       "\n",
       "    .dataframe tbody tr th {\n",
       "        vertical-align: top;\n",
       "    }\n",
       "\n",
       "    .dataframe thead th {\n",
       "        text-align: right;\n",
       "    }\n",
       "</style>\n",
       "<table border=\"1\" class=\"dataframe\">\n",
       "  <thead>\n",
       "    <tr style=\"text-align: right;\">\n",
       "      <th></th>\n",
       "      <th>name</th>\n",
       "      <th>diameter</th>\n",
       "      <th>weight</th>\n",
       "      <th>red</th>\n",
       "      <th>green</th>\n",
       "      <th>blue</th>\n",
       "    </tr>\n",
       "  </thead>\n",
       "  <tbody>\n",
       "    <tr>\n",
       "      <th>7495</th>\n",
       "      <td>grapefruit</td>\n",
       "      <td>11.63</td>\n",
       "      <td>199.94</td>\n",
       "      <td>162</td>\n",
       "      <td>100</td>\n",
       "      <td>11</td>\n",
       "    </tr>\n",
       "    <tr>\n",
       "      <th>7496</th>\n",
       "      <td>orange</td>\n",
       "      <td>7.85</td>\n",
       "      <td>143.15</td>\n",
       "      <td>168</td>\n",
       "      <td>71</td>\n",
       "      <td>7</td>\n",
       "    </tr>\n",
       "    <tr>\n",
       "      <th>7497</th>\n",
       "      <td>grapefruit</td>\n",
       "      <td>10.26</td>\n",
       "      <td>178.19</td>\n",
       "      <td>143</td>\n",
       "      <td>73</td>\n",
       "      <td>19</td>\n",
       "    </tr>\n",
       "    <tr>\n",
       "      <th>7498</th>\n",
       "      <td>orange</td>\n",
       "      <td>8.65</td>\n",
       "      <td>155.07</td>\n",
       "      <td>162</td>\n",
       "      <td>93</td>\n",
       "      <td>16</td>\n",
       "    </tr>\n",
       "    <tr>\n",
       "      <th>7499</th>\n",
       "      <td>grapefruit</td>\n",
       "      <td>12.61</td>\n",
       "      <td>215.05</td>\n",
       "      <td>145</td>\n",
       "      <td>66</td>\n",
       "      <td>15</td>\n",
       "    </tr>\n",
       "  </tbody>\n",
       "</table>\n",
       "</div>"
      ],
      "text/plain": [
       "            name  diameter  weight  red  green  blue\n",
       "7495  grapefruit     11.63  199.94  162    100    11\n",
       "7496      orange      7.85  143.15  168     71     7\n",
       "7497  grapefruit     10.26  178.19  143     73    19\n",
       "7498      orange      8.65  155.07  162     93    16\n",
       "7499  grapefruit     12.61  215.05  145     66    15"
      ]
     },
     "execution_count": 7,
     "metadata": {},
     "output_type": "execute_result"
    }
   ],
   "source": [
    "df.tail()"
   ]
  },
  {
   "cell_type": "markdown",
   "metadata": {},
   "source": [
    "Сплитуем данные и отложим тестовый набор. Так как данных мало стратифицируем."
   ]
  },
  {
   "cell_type": "code",
   "execution_count": 9,
   "metadata": {},
   "outputs": [],
   "source": [
    "X_train, X_test, y_train, y_test = train_test_split(X, y, random_state = 42, \n",
    "                                                     test_size=0.3, stratify=y)"
   ]
  },
  {
   "cell_type": "code",
   "execution_count": 10,
   "metadata": {},
   "outputs": [
    {
     "name": "stdout",
     "output_type": "stream",
     "text": [
      "0.5 0.5\n"
     ]
    }
   ],
   "source": [
    "print(np.mean(y_train), np.mean(y_test))"
   ]
  },
  {
   "cell_type": "markdown",
   "metadata": {},
   "source": [
    "## Контроль качества тренироваочного и тестового набора"
   ]
  },
  {
   "cell_type": "code",
   "execution_count": 12,
   "metadata": {},
   "outputs": [
    {
     "data": {
      "text/plain": [
       "array(['diameter', 'weight', 'red', 'green', 'blue'], dtype=object)"
      ]
     },
     "metadata": {},
     "output_type": "display_data"
    },
    {
     "data": {
      "image/png": "[encoded data removed]",
      "text/plain": [
       "<Figure size 2000x1000 with 6 Axes>"
      ]
     },
     "metadata": {},
     "output_type": "display_data"
    }
   ],
   "source": [
    "#list_columns_number = df.select_dtypes(exclude=['object']).columns\n",
    "list_columns_number = X_test.select_dtypes(include=['number']).columns.values\n",
    "display(list_columns_number)\n",
    "\n",
    "fig, ax = plt.subplots(3,2,figsize = (20,10))\n",
    "plt.subplots_adjust(hspace=0.5)\n",
    "for axi, name in zip(ax.flat, list_columns_number):\n",
    "    sns.kdeplot(df, x=name, ax=axi)\n",
    "    sns.kdeplot(X_train, x=name, ax=axi)\n",
    "    sns.kdeplot(X_test, x=name, ax=axi)"
   ]
  },
  {
   "cell_type": "markdown",
   "metadata": {},
   "source": [
    "## Подбор оптимальных параметров"
   ]
  },
  {
   "cell_type": "markdown",
   "metadata": {},
   "source": [
    "### Простая решетка"
   ]
  },
  {
   "cell_type": "code",
   "execution_count": 15,
   "metadata": {},
   "outputs": [
    {
     "ename": "NameError",
     "evalue": "name 'pipe' is not defined",
     "output_type": "error",
     "traceback": [
      "\u001b[0;31m---------------------------------------------------------------------------\u001b[0m",
      "\u001b[0;31mNameError\u001b[0m                                 Traceback (most recent call last)",
      "Cell \u001b[0;32mIn[15], line 21\u001b[0m\n\u001b[1;32m     10\u001b[0m param_grid \u001b[38;5;241m=\u001b[39m[\n\u001b[1;32m     11\u001b[0m     {\u001b[38;5;124m'\u001b[39m\u001b[38;5;124mpreprocessing\u001b[39m\u001b[38;5;124m'\u001b[39m: [MinMaxScaler(), StandardScaler(),RobustScaler(), Normalizer()], \n\u001b[1;32m     12\u001b[0m      \u001b[38;5;124m'\u001b[39m\u001b[38;5;124mclassifier\u001b[39m\u001b[38;5;124m'\u001b[39m: [KNeighborsClassifier()],\n\u001b[0;32m   (...)\u001b[0m\n\u001b[1;32m     16\u001b[0m      }\n\u001b[1;32m     17\u001b[0m ]\n\u001b[1;32m     19\u001b[0m cv \u001b[38;5;241m=\u001b[39m KFold(n_splits\u001b[38;5;241m=\u001b[39m\u001b[38;5;241m10\u001b[39m, shuffle\u001b[38;5;241m=\u001b[39m\u001b[38;5;28;01mTrue\u001b[39;00m, random_state\u001b[38;5;241m=\u001b[39m\u001b[38;5;241m42\u001b[39m)\n\u001b[0;32m---> 21\u001b[0m grid_scv \u001b[38;5;241m=\u001b[39m GridSearchCV(pipe, param_grid, cv\u001b[38;5;241m=\u001b[39mcv, return_train_score\u001b[38;5;241m=\u001b[39m\u001b[38;5;28;01mTrue\u001b[39;00m, n_jobs\u001b[38;5;241m=\u001b[39m\u001b[38;5;241m-\u001b[39m\u001b[38;5;241m1\u001b[39m)\n\u001b[1;32m     22\u001b[0m grid_scv\u001b[38;5;241m.\u001b[39mfit(X_train,y_train)\n",
      "\u001b[0;31mNameError\u001b[0m: name 'pipe' is not defined"
     ]
    }
   ],
   "source": [
    "pipe_grid = Pipeline([\n",
    "    ('preprocessing', MinMaxScaler()), \n",
    "    ('classifier', KNeighborsClassifier())\n",
    "])\n",
    "\n",
    "n_neighbors = np.arange(1,3,1)\n",
    "p = np.arange(1,3,1)\n",
    "weights=['uniform','distance']\n",
    "\n",
    "param_grid =[\n",
    "    {'preprocessing': [MinMaxScaler(), StandardScaler(),RobustScaler(), Normalizer()], \n",
    "     'classifier': [KNeighborsClassifier()],\n",
    "     'classifier__n_neighbors': n_neighbors,\n",
    "     'classifier__p': p,\n",
    "     'classifier__weights': weights\n",
    "     }\n",
    "]\n",
    "\n",
    "cv = KFold(n_splits=10, shuffle=True, random_state=42)\n",
    "\n",
    "grid_scv = GridSearchCV(pipe, param_grid, cv=cv, return_train_score=True, n_jobs=-1)\n",
    "grid_scv.fit(X_train,y_train)"
   ]
  },
  {
   "cell_type": "code",
   "execution_count": null,
   "metadata": {},
   "outputs": [],
   "source": [
    "gridresults = pd.DataFrame(grid_scv.cv_results_).sort_values([\"rank_test_score\", \"std_test_score\"], ascending=[True, False]).T\n",
    "display(gridresults)\n",
    "display(gridresults.shape)"
   ]
  },
  {
   "cell_type": "code",
   "execution_count": null,
   "metadata": {},
   "outputs": [],
   "source": [
    "mask = gridresults.index[gridresults.index.str.endswith(\"_test_score\")][:-3]\n",
    "gridresults.columns = gridresults.columns.values.astype(str)\n",
    "tabl = gridresults.loc[mask].iloc[:,:10]\n",
    "fig, (ax1, ax2) = plt.subplots(1, 2, figsize=(20,5))\n",
    "sns.violinplot(data=tabl, ax=ax1);\n",
    "sns.boxplot(data=tabl, ax=ax2);"
   ]
  },
  {
   "cell_type": "markdown",
   "metadata": {},
   "source": [
    "### Случайная решетка"
   ]
  },
  {
   "cell_type": "code",
   "execution_count": null,
   "metadata": {},
   "outputs": [],
   "source": [
    "grid_rscv = RandomizedSearchCV(pipe, param_grid, cv=cv, return_train_score=True, n_jobs=-1)\n",
    "grid_rscv.fit(X_train,y_train)"
   ]
  },
  {
   "cell_type": "code",
   "execution_count": null,
   "metadata": {},
   "outputs": [],
   "source": [
    "gridresults = pd.DataFrame(grid_rscv.cv_results_).sort_values([\"rank_test_score\", \"std_test_score\"], ascending=[True, False]).T\n",
    "display(gridresults)\n",
    "display(gridresults.shape)"
   ]
  },
  {
   "cell_type": "code",
   "execution_count": null,
   "metadata": {},
   "outputs": [],
   "source": [
    "mask = gridresults.index[gridresults.index.str.endswith(\"_test_score\")][:-3]\n",
    "gridresults.columns = gridresults.columns.values.astype(str)\n",
    "tabl = gridresults.loc[mask].iloc[:,:10]\n",
    "fig, (ax1, ax2) = plt.subplots(1, 2, figsize=(20,5))\n",
    "sns.violinplot(data=tabl, ax=ax1);\n",
    "sns.boxplot(data=tabl, ax=ax2);"
   ]
  },
  {
   "cell_type": "markdown",
   "metadata": {},
   "source": [
    "### Решетка с уполовинивонием на каждом шаге\n",
    "(по умолчанию в три раза ...)\n",
    "\n",
    "В первом раунде делается обычный поиск по сетке (grid search) для всех кандидатов, но на уменьшенной выборке (ее размер задает параметр min_resorces). На следующем раунде алгоритм уменьшает количество кандидатов в factor раз и увеличивает размер в выборки тоже в тоже число раз. Если все спланировать правильно, то на последней итерации будет использована (почти) вся выборка и число оставшихся кандидатов будет не больше кратности. Т.е. если кратность = 3, то в финале останется два или три кандидата.\n",
    "\n",
    "Важно! Исходный размер выборки и кратность должны быть увязаны друг с другом и с размером полной выборки, чтобы на последней итерации была использована вся выборка и число кандидатов было не больше кратности. Иначе может получиться так, что достигнут полный размер выборки, а число кандидатов все еще больше кратности. Это не так страшно, просто на последней итерации будет много кандидатов, т.е. время работы алгоритма сократится не так сильно, как могло бы. Может получиться и наоборот: на последней итерации число кандидатов будет оптимальным, но размер выборки будет в разы меньше полного, что гораздо хуже.\n",
    "\n",
    "Минимальный размер выборки можно и не задавать, например указав min_resources='smallest'. Тогда алгоритм сам подберет мин. размер так, чтобы на последней итерации получилось оптимальное сочетание."
   ]
  },
  {
   "cell_type": "code",
   "execution_count": null,
   "metadata": {},
   "outputs": [],
   "source": [
    "grid_hscv = HalvingGridSearchCV(pipe, param_grid, cv=cv, return_train_score=True, n_jobs=-1)\n",
    "grid_hscv.fit(X_train,y_train)"
   ]
  },
  {
   "cell_type": "code",
   "execution_count": null,
   "metadata": {},
   "outputs": [],
   "source": [
    "gridresults = pd.DataFrame(grid_hscv.cv_results_).sort_values([\"n_resources\",\"rank_test_score\", \"std_test_score\"], ascending=[False, True, False]).T\n",
    "display(gridresults)\n",
    "display(gridresults.shape)"
   ]
  },
  {
   "cell_type": "code",
   "execution_count": null,
   "metadata": {},
   "outputs": [],
   "source": [
    "print(grid_hscv.n_resources_)\n",
    "print(grid_hscv.n_candidates_)"
   ]
  },
  {
   "cell_type": "code",
   "execution_count": null,
   "metadata": {},
   "outputs": [],
   "source": [
    "grid_hscv.best_index_"
   ]
  },
  {
   "cell_type": "code",
   "execution_count": null,
   "metadata": {},
   "outputs": [],
   "source": [
    "grid_hscv.best_params_"
   ]
  },
  {
   "cell_type": "markdown",
   "metadata": {},
   "source": [
    "### Случайная решетка с уполовинивонием на каждом шаге"
   ]
  },
  {
   "cell_type": "code",
   "execution_count": null,
   "metadata": {},
   "outputs": [],
   "source": [
    "grid_hrscv = HalvingRandomSearchCV(pipe, param_grid, cv=cv, return_train_score=True, n_jobs=-1)\n",
    "grid_hrscv.fit(X_train,y_train)"
   ]
  },
  {
   "cell_type": "code",
   "execution_count": null,
   "metadata": {},
   "outputs": [],
   "source": [
    "grid_hrscv = HalvingRandomSearchCV(pipe, param_grid, cv=cv, return_train_score=True, n_jobs=-1, min_resources = 'exhaust', n_candidates = 18)\n",
    "grid_hrscv.fit(X_train,y_train)"
   ]
  },
  {
   "cell_type": "code",
   "execution_count": null,
   "metadata": {},
   "outputs": [],
   "source": [
    "print(grid_hrscv.n_resources_)\n",
    "print(grid_hrscv.n_candidates_)"
   ]
  },
  {
   "cell_type": "code",
   "execution_count": null,
   "metadata": {},
   "outputs": [],
   "source": [
    "grid_hrscv.best_index_"
   ]
  },
  {
   "cell_type": "code",
   "execution_count": null,
   "metadata": {},
   "outputs": [],
   "source": [
    "grid_hrscv.best_params_"
   ]
  },
  {
   "cell_type": "markdown",
   "metadata": {},
   "source": [
    "## построение ROC AUC\n",
    "\n",
    "Построения графика ROC-AUC возможно эстиматора(оценщика модели)-`from_estimator` или предсказания - `from_predictions`\n",
    "\n",
    "**Важное замечание!!!**\n",
    "Внимание `RocCurveDisplay.from_predictions` **нельзя** брать результат команды `predict`, только результат `decision_function` или `predict_proba`, если этого нет, то команда не приненима!"
   ]
  },
  {
   "cell_type": "code",
   "execution_count": null,
   "metadata": {},
   "outputs": [],
   "source": [
    "pipe = Pipeline([\n",
    "    ('preprocessing', Normalizer()), \n",
    "    ('classifier', KNeighborsClassifier(n_neighbors = 2, p = 2, weights = 'distance'))\n",
    "])\n",
    "\n",
    "pipe.fit(X_train, y_train)\n",
    "y_predict = pipe.predict(X_test)\n",
    "y_predict_proba = pipe.predict_proba(X_test)\n",
    "\n",
    "pipe.predict_proba(X_test)[:20] # decision_function в Knn нет"
   ]
  },
  {
   "cell_type": "code",
   "execution_count": null,
   "metadata": {},
   "outputs": [],
   "source": [
    "from sklearn.metrics import RocCurveDisplay\n",
    "fig, ax_roc = plt.subplots(1,1, figsize=(10, 5))\n",
    "\n",
    "RocCurveDisplay.from_estimator(pipe, X_train, y_train, ax = ax_roc, name = 'pipe corect est');\n",
    "RocCurveDisplay.from_estimator(pipe, X_test, y_test, ax = ax_roc, name = 'pipe corect est');\n",
    "RocCurveDisplay.from_predictions(y_test, pipe.predict_proba(X_test)[:,1], ax = ax_roc, name = 'pipe corect predict');\n",
    "RocCurveDisplay.from_predictions(y_test, y_predict, ax = ax_roc, name = 'ЭТО ОШИБКА')"
   ]
  },
  {
   "cell_type": "code",
   "execution_count": null,
   "metadata": {},
   "outputs": [],
   "source": [
    "from sklearn.metrics import RocCurveDisplay, DetCurveDisplay\n",
    "\n",
    "fig, [ax_roc, ax_det] = plt.subplots(1,2, figsize=(10, 5))\n",
    "\n",
    "RocCurveDisplay.from_estimator(pipe, X_train, y_train, ax = ax_roc, name = 'pipe train');\n",
    "RocCurveDisplay.from_estimator(pipe, X_test, y_test, ax = ax_roc, name = 'pipe test');\n",
    "DetCurveDisplay.from_estimator(pipe, X_train, y_train, ax = ax_det, name = 'pipe train');\n",
    "DetCurveDisplay.from_estimator(pipe, X_test, y_test, ax = ax_det, name = 'pipe test');\n"
   ]
  },
  {
   "cell_type": "markdown",
   "metadata": {},
   "source": [
    "# ВНИМАНИЕ для дальнейших экспериментов возьмем три НЕ ПЕРЕОБУЧЕННЫХ МОДЕЛИ, иначе будет непонятно ... "
   ]
  },
  {
   "cell_type": "code",
   "execution_count": null,
   "metadata": {},
   "outputs": [],
   "source": [
    "pipe_1 = make_pipeline(Normalizer(),     KNeighborsClassifier(n_neighbors = 24, p = 1))\n",
    "pipe_2 = make_pipeline(StandardScaler(), KNeighborsClassifier(n_neighbors = 30, p = 10))\n",
    "pipe_3 = make_pipeline(RobustScaler(),   KNeighborsClassifier(n_neighbors = 10, p = 20))\n",
    "\n",
    "pipe_1.fit(X_train,y_train)\n",
    "pipe_2.fit(X_train,y_train)\n",
    "pipe_3.fit(X_train,y_train)\n",
    "\n",
    "y_pred_1 = pipe_1.predict(X_test)\n",
    "y_pred_2 = pipe_2.predict(X_test)\n",
    "y_pred_3 = pipe_3.predict(X_test)\n",
    "\n",
    "print(\"По умолчанию мерикa accuracy\")\n",
    "print(\"Тренировака: \", pipe_1.score(X_train,y_train), \"   Тест : \", pipe_1.score(X_test,y_test))\n",
    "print(\"Тренировака: \", pipe_2.score(X_train,y_train), \"   Тест : \", pipe_2.score(X_test,y_test))\n",
    "print(\"Тренировака: \", pipe_3.score(X_train,y_train), \"   Тест : \", pipe_3.score(X_test,y_test))"
   ]
  },
  {
   "cell_type": "code",
   "execution_count": null,
   "metadata": {},
   "outputs": [],
   "source": [
    "from sklearn.metrics import PrecisionRecallDisplay\n",
    "fig, (ax1, ax2) = plt.subplots(1,2, figsize=(10, 5))\n",
    "\n",
    "RocCurveDisplay.from_estimator(pipe_1, X_test, y_test, ax = ax1, name = 'pipe_1');\n",
    "RocCurveDisplay.from_estimator(pipe_2, X_test, y_test, ax = ax1, name = 'pipe_2');\n",
    "RocCurveDisplay.from_estimator(pipe_3, X_test, y_test, ax = ax1, name = 'pipe_3');\n",
    "\n",
    "\n",
    "PrecisionRecallDisplay.from_estimator(pipe_1, X_test, y_test, ax = ax2, name = 'pipe_1');\n",
    "PrecisionRecallDisplay.from_estimator(pipe_2, X_test, y_test, ax = ax2, name = 'pipe_2');\n",
    "PrecisionRecallDisplay.from_estimator(pipe_3, X_test, y_test, ax = ax2, name = 'pipe_3');"
   ]
  },
  {
   "cell_type": "code",
   "execution_count": null,
   "metadata": {},
   "outputs": [],
   "source": [
    "from sklearn.model_selection import RepeatedStratifiedKFold\n",
    "from sklearn.model_selection import TunedThresholdClassifierCV, FixedThresholdClassifier\n",
    "\n",
    "score = \"accuracy\"\n",
    "cv = RepeatedStratifiedKFold(n_splits=7, n_repeats = 7, random_state=42)\n",
    "cv_ths = TunedThresholdClassifierCV(estimator = pipe_1, scoring=score, cv=cv).fit(X_train, y_train)\n",
    "cv_ths.best_threshold_"
   ]
  },
  {
   "cell_type": "code",
   "execution_count": null,
   "metadata": {},
   "outputs": [],
   "source": [
    "pipe_ths = FixedThresholdClassifier(pipe_1, threshold = 0.42424242424242425).fit(X_train, y_train)\n",
    "y_predict = pipe_1.predict(X_test)\n",
    "y_predict_ths = pipe_ths.predict(X_test)"
   ]
  },
  {
   "cell_type": "code",
   "execution_count": null,
   "metadata": {},
   "outputs": [],
   "source": [
    "from sklearn.metrics import classification_report\n",
    "from IPython.display import display_html, display\n",
    "\n",
    "df1 = pd.DataFrame(classification_report(y_test, y_predict, output_dict=True)).T\n",
    "df2 = pd.DataFrame(classification_report(y_test, y_predict_ths, output_dict=True)).T\n",
    "\n",
    "df1_styler = df1.style.set_table_attributes(\"style='display:inline'\").set_caption('origin')\n",
    "df2_styler = df2.style.set_table_attributes(\"style='display:inline'\").set_caption('thresholds')\n",
    "\n",
    "display_html(df1_styler._repr_html_() + df2_styler._repr_html_(), raw=True)"
   ]
  },
  {
   "cell_type": "code",
   "execution_count": null,
   "metadata": {},
   "outputs": [],
   "source": [
    "from sklearn.metrics import accuracy_score, roc_auc_score, precision_score, recall_score, make_scorer, confusion_matrix\n",
    "\n",
    "pos_label, neg_label = 1, 0\n",
    "\n",
    "def fpr_score(y, y_pred, neg_label, pos_label):\n",
    "    cm = confusion_matrix(y, y_pred, labels=[neg_label, pos_label])\n",
    "    tn, fp, _, _ = cm.ravel()\n",
    "    tnr = tn / (tn + fp)\n",
    "    return 1 - tnr\n",
    "\n",
    "tpr_score = recall_score  # TPR and recall are the same metric\n",
    "scoring = {\n",
    "    \"precision\": make_scorer(precision_score, pos_label=pos_label),\n",
    "    \"recall\": make_scorer(recall_score, pos_label=pos_label),\n",
    "    \"fpr\": make_scorer(fpr_score, neg_label=neg_label, pos_label=pos_label),\n",
    "    \"tpr\": make_scorer(tpr_score, pos_label=pos_label),\n",
    "}\n",
    "\n",
    "\n",
    "def plot_roc_pr_curves(vanilla_model, tuned_model, cv_model, *, title):\n",
    "    fig, axs = plt.subplots(nrows=1, ncols=3, figsize=(21, 6))\n",
    "    \n",
    "    linestyles = (\"dashed\", \"dotted\")\n",
    "    markerstyles = (\"o\", \">\")\n",
    "    colors = (\"tab:blue\", \"tab:orange\")\n",
    "    names = (\"Vanilla model\", \"Tuned model\")\n",
    "    for idx, (est, linestyle, marker, color, name) in enumerate(\n",
    "        zip((vanilla_model, tuned_model), linestyles, markerstyles, colors, names)\n",
    "    ):\n",
    "        decision_threshold = getattr(est, \"best_threshold_\", 0.5)\n",
    "        PrecisionRecallDisplay.from_estimator(\n",
    "            est,\n",
    "            X_test,\n",
    "            y_test,\n",
    "            pos_label=pos_label,\n",
    "            linestyle=linestyle,\n",
    "            color=color,\n",
    "            ax=axs[0],\n",
    "            name=name,\n",
    "        )\n",
    "        axs[0].plot(\n",
    "            scoring[\"recall\"](est, X_test, y_test),\n",
    "            scoring[\"precision\"](est, X_test, y_test),\n",
    "            marker,\n",
    "            markersize=10,\n",
    "            color=color,\n",
    "            label=f\"Cut-off point at probability of {decision_threshold:.2f}\",\n",
    "        )\n",
    "        RocCurveDisplay.from_estimator(\n",
    "            est,\n",
    "            X_test,\n",
    "            y_test,\n",
    "            pos_label=pos_label,\n",
    "            linestyle=linestyle,\n",
    "            color=color,\n",
    "            ax=axs[1],\n",
    "            name=name,\n",
    "            plot_chance_level=idx == 1,\n",
    "        )\n",
    "        axs[1].plot(\n",
    "            scoring[\"fpr\"](est, X_test, y_test),\n",
    "            scoring[\"tpr\"](est, X_test, y_test),\n",
    "            marker,\n",
    "            markersize=10,\n",
    "            color=color,\n",
    "            label=f\"Cut-off point at probability of {decision_threshold:.2f}\",\n",
    "        )\n",
    "\n",
    "    axs[0].set_title(\"Precision-Recall curve\")\n",
    "    axs[0].legend()\n",
    "    axs[1].set_title(\"ROC curve\")\n",
    "    axs[1].legend()\n",
    "\n",
    "    axs[2].plot(\n",
    "        cv_model.cv_results_[\"thresholds\"],\n",
    "        cv_model.cv_results_[\"scores\"],\n",
    "        color=\"tab:orange\",\n",
    "    )\n",
    "    axs[2].plot(\n",
    "        cv_model.best_threshold_,\n",
    "        cv_model.best_score_,\n",
    "        \"o\",\n",
    "        markersize=10,\n",
    "        color=\"tab:orange\",\n",
    "        label=\"Optimal cut-off point for the business metric\",\n",
    "    )\n",
    "    axs[2].legend()\n",
    "    axs[2].set_xlabel(\"Decision threshold (probability)\")\n",
    "    axs[2].set_ylabel(\"Objective score (using cost-matrix)\")\n",
    "    axs[2].set_title(\"Objective score as a function of the decision threshold\")\n",
    "    fig.suptitle(title)"
   ]
  },
  {
   "cell_type": "code",
   "execution_count": null,
   "metadata": {},
   "outputs": [],
   "source": [
    "title = \"Сравнение моделей до/после тюнинга порога\"\n",
    "\n",
    "\n",
    "cv_ths = TunedThresholdClassifierCV(estimator = pipe_1, scoring=score, store_cv_results=True, cv=cv).fit(X_train,y_train)\n",
    "print(cv_ths.best_threshold_)\n",
    "ths = 0.42424242424242425\n",
    "pipe_ths = FixedThresholdClassifier(pipe_1, threshold = ths).fit(X_train, y_train)\n",
    "\n",
    "plot_roc_pr_curves( vanilla_model = pipe_1, \n",
    "                    tuned_model = pipe_ths,\n",
    "                    cv_model = cv_ths,\n",
    "                    title = title)"
   ]
  },
  {
   "cell_type": "code",
   "execution_count": null,
   "metadata": {},
   "outputs": [],
   "source": []
  },
  {
   "cell_type": "code",
   "execution_count": null,
   "metadata": {},
   "outputs": [],
   "source": []
  }
 ],
 "metadata": {
  "kernelspec": {
   "display_name": "Python [conda env:base] *",
   "language": "python",
   "name": "conda-base-py"
  },
  "language_info": {
   "codemirror_mode": {
    "name": "ipython",
    "version": 3
   },
   "file_extension": ".py",
   "mimetype": "text/x-python",
   "name": "python",
   "nbconvert_exporter": "python",
   "pygments_lexer": "ipython3",
   "version": "3.12.2"
  }
 },
 "nbformat": 4,
 "nbformat_minor": 4
}
